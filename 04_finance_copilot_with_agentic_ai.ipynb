{
 "cells": [
  {
   "cell_type": "markdown",
   "id": "ca0d4e08-7701-44e9-9a9e-c7578a5ee258",
   "metadata": {},
   "source": [
    "# Finance Copilot - LangGraph Architecture"
   ]
  },
  {
   "cell_type": "code",
   "execution_count": 20,
   "id": "9dee900e-7a1c-48f2-b2b9-c45296e1f67e",
   "metadata": {
    "tags": []
   },
   "outputs": [],
   "source": [
    "import warnings\n",
    "warnings.filterwarnings(\"ignore\")\n",
    "from typing import Literal\n",
    "from typing import List, Sequence\n",
    "import random\n",
    "import numpy as np\n",
    "from bs4 import BeautifulSoup\n",
    "import functools, operator, requests, os, json\n",
    "from langchain.agents import AgentExecutor, create_openai_tools_agent\n",
    "from langchain_core.messages import BaseMessage, HumanMessage\n",
    "\n",
    "from langchain.output_parsers.openai_functions import JsonOutputFunctionsParser\n",
    "from langchain_core.prompts import ChatPromptTemplate, MessagesPlaceholder, PromptTemplate\n",
    "from langgraph.graph import StateGraph, END\n",
    "from langchain.tools import tool\n",
    "from typing import Annotated, Any, Dict, List, Optional, Sequence, TypedDict\n",
    "from IPython.display import Markdown, JSON\n",
    "\n",
    "from langchain.text_splitter import RecursiveCharacterTextSplitter\n",
    "from langchain_community.document_loaders import WebBaseLoader\n",
    "from langchain_community.vectorstores import Chroma\n",
    "from langchain_openai import OpenAIEmbeddings\n",
    "from langchain.tools.retriever import create_retriever_tool\n",
    "from langchain_community.utilities import BingSearchAPIWrapper\n",
    "from langchain.agents import Tool\n",
    "from langgraph.checkpoint.sqlite import SqliteSaver\n",
    "from langchain_community.callbacks import get_openai_callback\n",
    "\n",
    "from langchain_core.output_parsers import PydanticOutputParser\n",
    "from langchain_core.pydantic_v1 import BaseModel, Field, validator\n",
    "from langchain_core.output_parsers import JsonOutputParser\n",
    "import ast\n",
    "import re\n",
    "\n",
    "from prompts import *\n",
    "from utils import create_MVR, create_qa_agent, create_chat_agent"
   ]
  },
  {
   "cell_type": "markdown",
   "id": "7b0657c0-3356-40c1-a036-37989dc82268",
   "metadata": {},
   "source": [
    "#### Load environment variables"
   ]
  },
  {
   "cell_type": "code",
   "execution_count": 21,
   "id": "a86c9ff2-5905-49bb-ae97-d1f08d55af96",
   "metadata": {
    "tags": []
   },
   "outputs": [],
   "source": [
    "import os\n",
    "from dotenv import load_dotenv\n",
    "load_dotenv(dotenv_path=\".env\")\n",
    "\n",
    "EMBEDDING_DEPLOYMENT_NAME = os.getenv('EMBEDDING_3_DEPLOYMENT_NAME')\n",
    "EMBEDDING_API_KEY = os.getenv('EMBEDDING_3_API_KEY')\n",
    "EMBEDDING_API_BASE = os.getenv('EMBEDDING_3_API_BASE')\n",
    "\n",
    "GPT4_TURBO_DEPLOYMENT_NAME = os.getenv('GPT4_TURBO_DEPLOYMENT_NAME')\n",
    "GPT4_OMNI_DEPLOYMENT_NAME = os.getenv('GPT4o_DEPLOYMENT_NAME')\n",
    "\n",
    "API_KEY = os.getenv('sweden_API_KEY')\n",
    "API_BASE = os.getenv('sweden_API_BASE')\n",
    "API_TYPE = os.getenv('API_TYPE')\n",
    "API_VERSION = os.getenv('API_VERSION')"
   ]
  },
  {
   "cell_type": "markdown",
   "id": "9a70f67a-75f1-4510-a7c3-293d60c63e23",
   "metadata": {},
   "source": [
    "#### Define LLM"
   ]
  },
  {
   "cell_type": "code",
   "execution_count": 22,
   "id": "501ecc9a-5333-45d6-8f0a-99f5006b485e",
   "metadata": {
    "tags": []
   },
   "outputs": [],
   "source": [
    "from langchain.chat_models import AzureChatOpenAI\n",
    "from langchain_openai import AzureOpenAIEmbeddings\n",
    "\n",
    "embeddings = AzureOpenAIEmbeddings(\n",
    "    azure_deployment=EMBEDDING_DEPLOYMENT_NAME,\n",
    "    openai_api_key=EMBEDDING_API_KEY,\n",
    "    azure_endpoint=EMBEDDING_API_BASE,\n",
    "    openai_api_version=API_VERSION,\n",
    ")\n",
    "\n",
    "llm = AzureChatOpenAI(\n",
    "        openai_api_base=API_BASE,\n",
    "        openai_api_version=API_VERSION,\n",
    "        deployment_name=GPT4_OMNI_DEPLOYMENT_NAME,\n",
    "        openai_api_key=API_KEY,\n",
    "        openai_api_type=API_TYPE,\n",
    "        temperature=0)"
   ]
  },
  {
   "cell_type": "markdown",
   "id": "c6e31069-d8df-43f6-95d8-3b3ea79e872a",
   "metadata": {},
   "source": [
    "### Define Tools"
   ]
  },
  {
   "cell_type": "code",
   "execution_count": 23,
   "id": "188a96af-fcba-440c-9383-c800ef0f739d",
   "metadata": {
    "tags": []
   },
   "outputs": [],
   "source": [
    "## Retriever Creation\n",
    "\n",
    "_IFRS_ret = create_MVR('IFRS.pickle', embeddings, \"IFRS\", vectorstore_exists=True, k=7)\n",
    "\n",
    "_annual_reports_ret = create_MVR('annual_reports.pickle', embeddings, \"ANNUAL_REPORTS\", vectorstore_exists=True, k=7)\n",
    "\n",
    "## Tool Creation\n",
    "\n",
    "IFRS_tool = create_retriever_tool(retriever=_IFRS_ret, \n",
    "                                  name = 'IFRS_Retriever', \n",
    "                                  description=\"Use this tool to answer questions related to IFRS which is International Financial Reporting Standards.\")\n",
    "\n",
    "ANNUAL_REPORTS_tool = create_retriever_tool(retriever = _annual_reports_ret,\n",
    "                                        name = \"ANNUAL_REPORTS_RETRIEVER\", \n",
    "                                        description = \"Use this tool when you need to answer questions related to annual reports, 10K reports or 20F reports of Novartis and it's competitors ('Roche','GSK','Bayer','AstraZeneca','Sanofi', 'Amgen','Abbvie', 'BMS' - Bristol Myers Squibb, 'Gilead', 'Eli Lilly', 'Merck', 'Pfizer', 'Takeda','Johnson&Johnson', 'novo-nordisk'). If no specific year is mentioned in the question, always look for latest available year\")"
   ]
  },
  {
   "cell_type": "code",
   "execution_count": 106,
   "id": "9ca49edf-26a4-4019-80c1-4fe9b18152f8",
   "metadata": {
    "tags": []
   },
   "outputs": [],
   "source": [
    "class CheckNodeState(TypedDict):\n",
    "    \"\"\"\n",
    "    Represents the state of check nodes.\n",
    "\n",
    "    Attributes:\n",
    "        observation: observation found from the check node\n",
    "    \"\"\"\n",
    "    observation: str\n",
    "\n",
    "\n",
    "class SourceDetectNodeState(TypedDict):\n",
    "    \"\"\"\n",
    "    Represents the state of check nodes.\n",
    "\n",
    "    Attributes:\n",
    "        observation: observation found from the check node\n",
    "    \"\"\"\n",
    "    observation: List[str]\n",
    "\n",
    "\n",
    "        \n",
    "class ResponseNodeState(TypedDict):\n",
    "    \"\"\"\n",
    "    Represents the state of Response nodes.\n",
    "\n",
    "    Attributes:\n",
    "        answer: answer generated\n",
    "        metadata: metadata of the answer generated\n",
    "    \"\"\"\n",
    "\n",
    "    answer: str\n",
    "    metadata: Annotated[dict, operator.add]\n",
    "\n",
    "\n",
    "\n",
    "def topic_modelling_node(state):\n",
    "    \"\"\"Use this tool to run topic modelling module and update the database with Question and Topic\"\"\"\n",
    "    print(\"------ENTERING: TOPIC MODELLING NODE------\")\n",
    "    ## Write code here to get web answer\n",
    "    \n",
    "    print(\"============================================\")\n",
    "    print(state)\n",
    "    print(\"============================================\")\n",
    "    \n",
    "    topic = \"DUMMY TOPIC\"\n",
    "    print(f\"------OBSERVATION: {topic}------\")\n",
    "    return {\"topic\": topic}\n",
    "\n",
    "\n",
    "class FinanceCheck_class(BaseModel):\n",
    "    \"\"\"Binary score for finance check on the user question.\"\"\"  \n",
    "    binary_score: str = Field(description=\"Given a user question, return 'Yes' if is related to Finance/Accounting/Reporting else 'No'\")\n",
    "\n",
    "\n",
    "def get_finance_check(_llm, META_RESPONSE_PROMPT, state):\n",
    "    parser = PydanticOutputParser(pydantic_object=FinanceCheck_class)\n",
    "    prompt = PromptTemplate(template=META_RESPONSE_PROMPT,\n",
    "                            input_variables=[\"question\"],\n",
    "                            partial_variables={\"format_instructions\": parser.get_format_instructions()},\n",
    "                           )\n",
    "    prompt_and_model = prompt | llm\n",
    "    \n",
    "    with get_openai_callback() as cb:\n",
    "        output = prompt_and_model.invoke({\"question\": question})\n",
    "        result = parser.invoke(output)\n",
    "    return result.binary_score\n",
    "\n",
    "\n",
    "def finance_check_node(state):\n",
    "    \"\"\"Use this tool to check whether the user question is about finance or general greeting.\"\"\"\n",
    "    observation = get_finance_check(llm, META_RESPONSE_PROMPT_DETAILED, state['question']) # random.choice([\"Yes\", \"No\"])\n",
    "\n",
    "    print(\"------ENTERING: FINANCE CHECK NODE------\")\n",
    "    print(f\"------OBSERVATION: {observation}------\")\n",
    "    \n",
    "    finance_check: CheckNodeState = {\"observation\": observation}\n",
    "    \n",
    "    return {\"finance_check\": finance_check}\n",
    "\n",
    "\n",
    "def get_generic_answer(_llm, META_ANSWER_PROMPT, question):\n",
    "    with get_openai_callback() as cb:\n",
    "        response = _llm.invoke(META_ANSWER_PROMPT.format(question=question))\n",
    "    return response.content\n",
    "\n",
    "\n",
    "def generic_response_node(state):\n",
    "    \"\"\"Use this tool to answer user generic questions\"\"\"\n",
    "    print(\"------ENTERING: GENERIC RESPONSE NODE------\")\n",
    "\n",
    "    answer = get_generic_answer(llm, META_ANSWER_PROMPT, state['question'])\n",
    "    \n",
    "    generic_response: ResponseNodeState = {\"answer\": answer,\n",
    "                                            \"metadata\": []}\n",
    "\n",
    "    print(f\"------ANSWER: {generic_response}------\")\n",
    "    return {\"generic_response\": generic_responsec, \"final_answer\": answer}\n",
    "\n",
    "\n",
    "class RouteQuery_class(BaseModel):\n",
    "    \"\"\"Route a user query to the most relevant datasource.\"\"\"\n",
    "    datasource: Literal[\"FRA\", \"WEB\"] = Field(description=\"Given a user question choose to route it to WEB or FRA.\")\n",
    "\n",
    "def get_query_rerouter_check(llm, QUERY_REROUTER_PROMPT, state):    \n",
    "    parser = PydanticOutputParser(pydantic_object=RouteQuery_class)\n",
    "    \n",
    "    prompt = PromptTemplate(template=QUERY_REROUTER_PROMPT,\n",
    "                            input_variables=[\"question\"],\n",
    "                            partial_variables={\"format_instructions\": parser.get_format_instructions()},\n",
    "                           )\n",
    "    prompt_and_model = prompt | llm\n",
    "    \n",
    "    with get_openai_callback() as cb:\n",
    "        output = prompt_and_model.invoke({\"question\": question})\n",
    "        query_rerouter_check = parser.invoke(output)\n",
    "        \n",
    "    return query_rerouter_check.datasource\n",
    "\n",
    "\n",
    "def query_rerouter_node(state):\n",
    "    \"\"\"Use this tool to check whether the user question needs an internet search to answer\"\"\"\n",
    "    print(\"------ENTERING: QUERY REROUTER NODE------\")\n",
    "    observation = get_query_rerouter_check(llm, QUERY_REROUTER_PROMPT_DETAILED, state['question']) # random.choice([\"Yes\", \"No\"])\n",
    "\n",
    "    print(f\"------OBSERVATION: {observation}------\")\n",
    "    query_rerouter_check: CheckNodeState = {\"observation\": observation}\n",
    "    return {\"query_rerouter_check\": query_rerouter_check}\n",
    "\n",
    "\n",
    "# Create a tool to processes content from a webpage\n",
    "@tool(\"process_content\", return_direct=False)\n",
    "def process_content(url: str, chunk_size: int = 10000) -> str:\n",
    "    \"\"\"\n",
    "    Use this tool to extract content from HTML pages and chunk it recursively.\n",
    "\n",
    "    Args:\n",
    "      url (str): The URL of the HTML page to process.\n",
    "      chunk_size (int, optional): The maximum size of each text chunk. Defaults to 100000.\n",
    "\n",
    "    Returns:\n",
    "      str: The chunked text content extracted from the HTML page.\n",
    "    \"\"\"\n",
    "    response = requests.get(url)\n",
    "    soup = BeautifulSoup(response.content, 'html.parser',from_encoding=\"iso-8859-1\")\n",
    "    text = soup.get_text()\n",
    "\n",
    "    def chunk_text(text, chunk_size):\n",
    "        if len(text) <= chunk_size:\n",
    "            return text\n",
    "        else:\n",
    "            midpoint = len(text) // 2\n",
    "            left_chunk = chunk_text(text[:midpoint], chunk_size)\n",
    "            right_chunk = chunk_text(text[midpoint:], chunk_size)\n",
    "            return left_chunk + \"\\n\" + right_chunk\n",
    "\n",
    "        chunks = chunk_text(text, chunk_size)\n",
    "        return chunks\n",
    "    \n",
    "    \n",
    "@tool(\"bing_search\", return_direct=False)\n",
    "def bing_search(query: str) -> str:\n",
    "    \"\"\"Use this tool when you need to answer questions related to current events and latest happenings\"\"\"\n",
    "    bing_search = BingSearchAPIWrapper()\n",
    "    results = bing_search.results(query, 5)\n",
    "    return results if results else \"No results found.\"\n",
    "\n",
    "\n",
    "def get_web_search_answer(state):    \n",
    "    tools = [bing_search, process_content]\n",
    "\n",
    "    generate_prompt = \"\"\"You are a web searcher trained to retrieve the current events from the internet. Search the internet for information.\n",
    "                            Generate the best answer possible for the user's request with mandatory mention of the sources and the hyperlinks for the sources wherever it is possible. \n",
    "                            Think step by step. Breakdown the question if it has multiple asks and finally merge your results.\n",
    "                            Always crave for the best version of answer.\n",
    "                            - **Always** before giving the final answer, try another method.Then reflect on the answers of the two methods you did and ask yourself if it answers correctly the original question. If you are not sure, try another method.\n",
    "                            - If the methods tried do not give the same result, reflect and try again until you have two methods that have the same result.\n",
    "                            - If you are sure of the correct answer, create a beautiful and thorough response.\n",
    "                            ** DO NOT MAKE UP AN ANSWER OR USE YOUR PRIOR KNOWLEDGE, ONLY USE THE RESULTS OF THE CALCULATIONS YOU HAVE DONE **\n",
    "                            PLEASE NOTE THAT IF NO SPECIFIC YEAR MENTIONED IN THE QUESTION, ALWAYS LOOK FOR THE LATEST YEAR.\n",
    "                            \"\"\"\n",
    "    \n",
    "    generate_agent = create_qa_agent(llm, tools, generate_prompt, verbose=False)\n",
    "    with get_openai_callback() as cb:\n",
    "        answer = generate_agent.invoke({\"input\": state['question']})  \n",
    "    return answer['output']\n",
    "\n",
    "def web_search_node(state):\n",
    "    \"\"\"Use this tool when you need to answer questions related to current events and latest happenings\"\"\"\n",
    "    print(\"------ENTERING: WEB SEARCH NODE------\")\n",
    "    ## Write code here to get answer\n",
    "    response = get_web_search_answer(state)\n",
    "    print(f\"------WEB SEARCH ANSWER: {response}------\")\n",
    "    web_response: ResponseNodeState = {\"answer\": response,\n",
    "                                        \"metadata\": []}\n",
    "    return {\"web_response\": web_response, \"final_answer\": response}\n",
    " \n",
    "    \n",
    "    \n",
    "def get_source_detector_check(llm, SOURCE_DETECTOR_PROMPT, selected_source_list, question):\n",
    "    parser = JsonOutputParser()\n",
    "    prompt = PromptTemplate(template=SOURCE_DETECTOR_PROMPT,\n",
    "                            input_variables=[\"question\"],\n",
    "                            partial_variables={\"role_based_sources\": selected_source_list , \"format_instructions\": parser.get_format_instructions()},\n",
    "                           )\n",
    "    chain = prompt | llm | parser\n",
    "\n",
    "    with get_openai_callback() as cb:\n",
    "        source_detector_check = chain.invoke({\"question\": question})\n",
    "    return list(source_detector_check.values())[0]\n",
    "\n",
    "    \n",
    "\n",
    "def source_detector_node(state):\n",
    "    \"\"\"Use this tool to detect the sources needed for the question to answer\"\"\"\n",
    "    print(\"------ENTERING: SOURCE DETECTOR NODE------\")\n",
    "\n",
    "    selected_source_list = [\"ifrs_answer_node\", 'ifrs_query_expansion_answer_node' ,\"kpmg_answer_node\", \"ey_answer_node\", \"pwc_answer_node\", \"annual_reports_answer_node\", \"fm_answer_node\"]\n",
    "    sources_detected = get_source_detector_check(llm, SOURCE_DETECTOR_PROMPT_DETAILED, selected_source_list, state['question'])\n",
    "    external_sources = [\"ifrs_answer_node\", \"kpmg_answer_node\", \"ey_answer_node\", \"pwc_answer_node\", \"annual_reports_answer_node\"]\n",
    "    \n",
    "    if any(i in sources_detected for i in external_sources):\n",
    "        sources_detected.append(\"fm_answer_node\")\n",
    "    \n",
    "    print(f\"------SOURCES DETECTED: {list(set(sources_detected))}------\")\n",
    "    source_detector_check: SourceDetectNodeState = {\"observation\": list(set(sources_detected))}\n",
    "    return {\"source_detector_check\": source_detector_check}\n",
    "\n",
    "\n",
    "def ifrs_answer_node(state):\n",
    "    \"\"\"Use this tool to answer ifrs related questions\"\"\"\n",
    "    print(\"------ENTERING: IFRS ANSWER NODE------\")\n",
    "\n",
    "    tools = [IFRS_tool]\n",
    "    generate_agent = create_qa_agent(llm, tools, IFRS_di_prompt, verbose=False)\n",
    "    with get_openai_callback() as cb:\n",
    "        answer = generate_agent.invoke({\"input\":state['question']})\n",
    "    display(Markdown(f\"\"\"**IFRS ANSWER:** <font color=\"red\">{answer['output']}</font>\"\"\"))\n",
    "    ifrs_response: ResponseNodeState = {\"answer\": answer['output'],\n",
    "                                        \"metadata\": []}\n",
    "    return {\"ifrs_response\": ifrs_response}\n",
    "\n",
    "\n",
    "\n",
    "def annual_reports_answer_node(state):\n",
    "    \"\"\"Use this tool to answer annual reports related questions\"\"\"\n",
    "    print(\"------ENTERING: ANNUAL REPORTS ANSWER NODE------\")\n",
    "    all_competitors = ['Roche','GSK','Bayer','AstraZeneca','Sanofi', 'Amgen', 'Biogen', 'Abbvie', 'BMS/Bristol Myers Squibb', 'Gilead', 'Eli Lilly', 'Merck', 'Pfizer', 'Takeda','Johnson&Johnson', 'novo-nordisk']\n",
    "\n",
    "    competitors = ['Roche', 'Sanofi', 'Bayer', 'GSK', 'AstraZeneca']\n",
    "    web_tool = bing_search\n",
    "\n",
    "    tools = [ANNUAL_REPORTS_tool, web_tool]\n",
    "    generate_agent = create_qa_agent(llm, tools, AR_prompt, verbose=False)\n",
    "    with get_openai_callback() as cb:\n",
    "        answer = generate_agent.invoke({\"input\":state['question'], 'all_competitors':all_competitors, 'top5_competitors':competitors })\n",
    "    display(Markdown(f\"\"\"**ANNUAL REPORTS ANSWER:** <font color=\"red\">{answer['output']}</font>\"\"\"))\n",
    "    annual_reports_response: ResponseNodeState = {\"answer\": answer['output'],\n",
    "                                                    \"metadata\": []}\n",
    "    return {\"annual_reports_response\": annual_reports_response}\n",
    "\n",
    "\n",
    "def get_fm_response(_llm, FOUNDATIONAL_PROMPT, question):\n",
    "    with get_openai_callback() as cb:\n",
    "        fm_response = _llm.invoke(FOUNDATIONAL_PROMPT.format(question=question))\n",
    "    return fm_response.content\n",
    "\n",
    "\n",
    "def fm_answer_node(state):\n",
    "    \"\"\"Use this tool to answer user questions using foundational model\"\"\"\n",
    "    print(\"------ENTERING: FOUNDATIONAL ANSWER NODE------\")\n",
    "   \n",
    "    answer = get_fm_response(llm, FOUNDATIONAL_PROMPT, state['question'])\n",
    "    display(Markdown(f\"\"\"**FOUNDATIONAL ANSWER:** <font color=\"red\">{answer}</font>\"\"\"))\n",
    "    fm_response: ResponseNodeState = {\"answer\": answer,\n",
    "                                        \"metadata\": []}\n",
    "\n",
    "    return {\"fm_response\": fm_response}\n",
    "\n",
    "\n",
    "def get_unified_response(_llm, unified_response_prompt, all_answers):\n",
    "    with get_openai_callback() as cb:\n",
    "        unified_response = _llm.invoke(unified_response_prompt.format(all_answers=all_answers))\n",
    "    return unified_response.content\n",
    "\n",
    "\n",
    "def unified_answer_node(state):\n",
    "    \"\"\"Use this tool to consolidate and give a unified answer\"\"\"\n",
    "    print(\"------ENTERING: UNIFIED ANSWER NODE------\")\n",
    "    display(JSON(state))\n",
    "    all_answers = \"\"\n",
    "    node_response_dict = {\"ifrs_answer_node\": [\"### IFRS: \", \"ifrs_response\"],\n",
    "                             \"annual_reports_answer_node\": [\"### Annual Reports: \", \"annual_reports_response\"], \n",
    "                             \"fm_answer_node\": [\"### Foundational ChatGPT: \", \"fm_response\"]}\n",
    "\n",
    "    for source in node_response_dict.keys():\n",
    "        if source in state['source_detector_check']['observation']:\n",
    "            all_answers = (\n",
    "                    all_answers\n",
    "                    + node_response_dict[source][0]\n",
    "                    + \"\\n\"\n",
    "                    + state[node_response_dict[source][1]][\"answer\"]\n",
    "                    + \"\\n\\n\"\n",
    "                    + \"---\"\n",
    "                    + \"\\n\\n\"\n",
    "                )\n",
    "\n",
    "    answer = get_unified_response(llm, unified_response_prompt, all_answers)\n",
    "    display(Markdown(f\"\"\"**UNIFIED ANSWER:** <font color=\"red\">{answer}</font>\"\"\"))\n",
    "\n",
    "    unified_response: ResponseNodeState = {\"answer\": answer,\n",
    "                                            \"metadata\": []}\n",
    "        \n",
    "    all_answers = all_answers + \"### Unified Response\" +\"\\n\" +answer + \"\\n\\n\"\n",
    "        \n",
    "    return {\"unified_response\": unified_response, \"final_answer\": all_answers}\n",
    "\n",
    "\n",
    "\n",
    "def overall_status_check_node(state):\n",
    "    \"\"\"Use this tool to check the overall status and update the config settings\"\"\"\n",
    "    print(\"------ENTERING: OVERALL STATUS CHECK NODE------\")    \n",
    "    observation = \"Completed\"\n",
    "    overall_status_check: CheckNodeState = {\"observation\": observation}\n",
    "    print(\"-------------------------------- {} --------------------------------\".format(red(\"Final Answer\", ['bold'])))\n",
    "    display(Markdown(f\"\"\"**FINAL ANSWER:** <font color=\"red\">{state['final_answer']}</font>\"\"\"))\n",
    "\n",
    "    return {\"overall_status_check\": overall_status_check}"
   ]
  },
  {
   "cell_type": "code",
   "execution_count": 107,
   "id": "d13fac97-df76-44e4-b313-279bbc8f7a06",
   "metadata": {
    "tags": []
   },
   "outputs": [],
   "source": [
    "from langgraph.graph import StateGraph\n",
    "from typing_extensions import TypedDict\n",
    "from typing import Annotated, List\n",
    "from langchain_core.messages import AnyMessage\n",
    "import operator\n",
    "\n",
    "\n",
    "class GraphState(TypedDict):\n",
    "    \"\"\"\n",
    "    Represents the state of our graph.\n",
    "\n",
    "    Attributes:\n",
    "        question: question\n",
    "        finance_check: whether user question needs finance answer or generic answer\n",
    "        generic_response: generic answer\n",
    "        query_rerouter_check: whether user question needs web search or fra sources to answer\n",
    "        web_search: web answer\n",
    "        source_detector: List of fra sources applicable for answering the user question\n",
    "        ifrs_answer: ifrs answer\n",
    "        annual_reports_answer: annual reports answer\n",
    "        fm_answer: foundational model answer\n",
    "        unified_answer: consistency check and unified answer\n",
    "    \"\"\"\n",
    "\n",
    "    operation_id: int\n",
    "    user_id: str\n",
    "    question: str\n",
    "    topic: str\n",
    "    requested_datasources: List[str]\n",
    "    final_answer: Annotated[str, operator.add]\n",
    "\n",
    "    finance_check: CheckNodeState\n",
    "    query_rerouter_check: CheckNodeState\n",
    "    source_detector_check: SourceDetectNodeState\n",
    "    overall_status_check: CheckNodeState\n",
    "\n",
    "    generic_response: ResponseNodeState\n",
    "    web_response: ResponseNodeState\n",
    "    ifrs_response: ResponseNodeState\n",
    "    annual_reports_response: ResponseNodeState\n",
    "    fm_response: ResponseNodeState\n",
    "    unified_response: ResponseNodeState\n",
    "    intermediate_steps: Annotated[list[AnyMessage], operator.add]\n",
    "\n",
    "\n",
    "## Main Graph\n",
    "\n",
    "builder = StateGraph(GraphState)\n",
    "builder.add_node(\"topic_modelling_node\", topic_modelling_node)\n",
    "builder.add_node(\"finance_check_node\", finance_check_node)\n",
    "builder.add_node(\"generic_response_node\", generic_response_node)\n",
    "builder.add_node(\"query_rerouter_node\", query_rerouter_node)\n",
    "builder.add_node(\"web_search_node\", web_search_node)\n",
    "builder.add_node(\"source_detector_node\", source_detector_node)\n",
    "builder.add_node(\"ifrs_answer_node\", ifrs_answer_node)\n",
    "builder.add_node(\"annual_reports_answer_node\", annual_reports_answer_node)\n",
    "builder.add_node(\"fm_answer_node\", fm_answer_node)\n",
    "builder.add_node(\"unified_answer_node\", unified_answer_node)\n",
    "builder.add_node(\"overall_status_check_node\", overall_status_check_node)\n",
    "\n",
    "builder.set_entry_point(\"topic_modelling_node\")\n",
    "builder.add_edge(\"topic_modelling_node\", \"finance_check_node\")\n",
    "\n",
    "def finance_check_edge(state):\n",
    "    finance_check = state[\"finance_check\"]\n",
    "\n",
    "    if finance_check['observation'] == \"Yes\":\n",
    "        print(\"------DECISION: INVOKE QUERY REROUTER NODE------\")\n",
    "        return \"query_rerouter_node\"\n",
    "    else:\n",
    "        print(\"------DECISION: INVOKE GENERIC RESPONSE NODE------\")\n",
    "        return \"generic_response_node\"\n",
    "\n",
    "\n",
    "finance_check_possible_nodes = [\"query_rerouter_node\", \"generic_response_node\"]\n",
    "builder.add_conditional_edges(\"finance_check_node\", finance_check_edge, finance_check_possible_nodes)\n",
    "builder.add_edge(\"generic_response_node\", \"overall_status_check_node\")\n",
    "\n",
    "\n",
    "def query_rerouter_edge(state):\n",
    "    query_rerouter_check = state[\"query_rerouter_check\"]\n",
    "\n",
    "    if query_rerouter_check['observation'] == \"FRA\":\n",
    "        print(\"------DECISION: INVOKE SOURCE DETECTOR NODE------\")\n",
    "        return \"source_detector_node\"\n",
    "    else:\n",
    "        print(\"------DECISION: INVOKE WEB SEARCH NODE------\")\n",
    "        return \"web_search_node\"\n",
    "    \n",
    "\n",
    "query_rerouter_possible_nodes = [\"web_search_node\", \"source_detector_node\"]\n",
    "builder.add_conditional_edges(\"query_rerouter_node\", query_rerouter_edge, query_rerouter_possible_nodes)\n",
    "builder.add_edge(\"web_search_node\", \"overall_status_check_node\")\n",
    "\n",
    "   \n",
    "def source_detector_edge(state) -> list:\n",
    "    return state[\"source_detector_check\"]['observation']\n",
    "\n",
    "\n",
    "individual_answer_nodes = [\"ifrs_answer_node\", \"annual_reports_answer_node\",   \"fm_answer_node\"]\n",
    "builder.add_conditional_edges(\"source_detector_node\", source_detector_edge, individual_answer_nodes)\n",
    "\n",
    "for node in individual_answer_nodes:\n",
    "    builder.add_edge(node, \"unified_answer_node\")\n",
    "\n",
    "\n",
    "builder.add_edge(\"unified_answer_node\", \"overall_status_check_node\")\n",
    "builder.set_finish_point(\"overall_status_check_node\")\n",
    "\n",
    "memory = SqliteSaver.from_conn_string(\":memory:\")\n",
    "graph = builder.compile()"
   ]
  },
  {
   "cell_type": "code",
   "execution_count": 108,
   "id": "a04f9819-b5eb-4c89-9987-7907b712e951",
   "metadata": {
    "tags": []
   },
   "outputs": [
    {
     "data": {
      "image/jpeg": "[encoded data removed]",
      "text/plain": [
       "<IPython.core.display.Image object>"
      ]
     },
     "metadata": {},
     "output_type": "display_data"
    }
   ],
   "source": [
    "from IPython.display import Image, display\n",
    "\n",
    "display(Image(graph.get_graph().draw_mermaid_png()))"
   ]
  },
  {
   "cell_type": "code",
   "execution_count": null,
   "id": "c879abdf-be86-4482-ac1c-b29ff0b9a8bd",
   "metadata": {},
   "outputs": [],
   "source": [
    "# fm -> replace with auditor guidance(only kpmg)\n",
    "# consistency check and unified answer in sub graph -> consistency_unification_node"
   ]
  },
  {
   "cell_type": "code",
   "execution_count": 109,
   "id": "969ea3bb-4b84-45a5-b1e5-41f2225e365e",
   "metadata": {
    "tags": []
   },
   "outputs": [],
   "source": [
    "import time\n",
    "from simple_colors import *\n",
    "\n",
    "def run_answer(question, t):\n",
    "    inputs = {\"question\": question, \"operation_id\": 123456, \"user_id\":\"nalabsr1\"}\n",
    "    thread = {\"configurable\": {\"thread_id\": str(t)}}\n",
    "    start_time = time.time()\n",
    "    for output in graph.stream(inputs, thread, stream_mode='values'):\n",
    "        print(blue(output, ['bold']))\n",
    "    ex_time = time.time() - start_time\n",
    "    print(\"--------------------------------------------------------\")\n",
    "    print(red(f\"Total Time Taken - [{round(ex_time, 2)}]\", ['bold']))\n",
    "    print(\"--------------------------------------------------------\")\n",
    "    return"
   ]
  },
  {
   "cell_type": "code",
   "execution_count": 110,
   "id": "093f9654-f3f0-4378-9930-7f87f6889470",
   "metadata": {
    "tags": []
   },
   "outputs": [
    {
     "name": "stdout",
     "output_type": "stream",
     "text": [
      "\u001b[1;34m{'operation_id': 123456, 'user_id': 'nalabsr1', 'question': 'How to account for tax losses?', 'final_answer': '', 'intermediate_steps': []}\u001b[0m\n",
      "------ENTERING: TOPIC MODELLING NODE------\n",
      "============================================\n",
      "{'operation_id': 123456, 'user_id': 'nalabsr1', 'question': 'How to account for tax losses?', 'topic': None, 'requested_datasources': None, 'final_answer': '', 'finance_check': None, 'query_rerouter_check': None, 'source_detector_check': None, 'overall_status_check': None, 'generic_response': None, 'web_response': None, 'ifrs_response': None, 'annual_reports_response': None, 'fm_response': None, 'unified_response': None, 'intermediate_steps': []}\n",
      "============================================\n",
      "------OBSERVATION: DUMMY TOPIC------\n",
      "\u001b[1;34m{'operation_id': 123456, 'user_id': 'nalabsr1', 'question': 'How to account for tax losses?', 'topic': 'DUMMY TOPIC', 'final_answer': '', 'intermediate_steps': []}\u001b[0m\n"
     ]
    },
    {
     "data": {
      "text/markdown": [
       "**UNIFIED ANSWER:** <font color=\"red\">To account for tax losses, refer to IAS 12 \"Income Taxes.\" Key points include:\n",
       "\n",
       "1. **Recognition of Deferred Tax Assets**:\n",
       "   - Recognize a deferred tax asset for unused tax losses and credits if it is probable that future taxable profit will be available (IAS 12, paragraph 34).\n",
       "   - For entities with recent losses, recognize deferred tax assets only if there are sufficient taxable temporary differences or convincing evidence of future taxable profit (IAS 12, paragraph 35).\n",
       "\n",
       "2. **Assessment of Probability**:\n",
       "   - Consider sufficient taxable temporary differences, probability of future taxable profits, identifiable non-recurring causes of losses, and tax planning opportunities (IAS 12, paragraph 36).\n",
       "\n",
       "3. **Tax Loss Carryback**:\n",
       "   - Recognize the benefit of a tax loss that can be carried back to recover current tax of a previous period as an asset (IAS 12, paragraph 13).\n",
       "\n",
       "4. **Measurement and Recognition**:\n",
       "   - Recognize the benefit as an asset in the period the tax loss occurs if it is probable that the benefit will flow to the entity and can be reliably measured (IAS 12, paragraph 14).\n",
       "\n",
       "5. **Reassessment of Deferred Tax Assets**:\n",
       "   - Review the carrying amount of deferred tax assets at the end of each reporting period and adjust if it is no longer probable that sufficient taxable profit will be available (IAS 12, paragraph 37).\n",
       "\n",
       "6. **Disclosure Requirements**:\n",
       "   - Disclose the amount and expiry date of deductible temporary differences, unused tax losses, and unused tax credits for which no deferred tax asset is recognized (IAS 12, paragraph 81(e)).\n",
       "\n",
       "**Example from Competitors' Annual Reports**:\n",
       "- **Roche Holding AG**: Discloses tax losses carried forward and related deferred tax assets, assessing recoverability based on future taxable profits.\n",
       "- **Pfizer Inc.**: Includes notes on deferred tax assets from tax loss carryforwards, expected expiry periods, and assumptions for future taxable profits.\n",
       "\n",
       "**Sources**:\n",
       "- IAS 12 \"Income Taxes\"\n",
       "- Roche Holding AG Annual Report\n",
       "- Pfizer Inc. Annual Report</font>"
      ],
      "text/plain": [
       "<IPython.core.display.Markdown object>"
      ]
     },
     "metadata": {},
     "output_type": "display_data"
    },
    {
     "name": "stdout",
     "output_type": "stream",
     "text": [
      "------ENTERING: FINANCE CHECK NODE------\n",
      "------OBSERVATION: Yes------\n",
      "------DECISION: INVOKE QUERY REROUTER NODE------\n",
      "\u001b[1;34m{'operation_id': 123456, 'user_id': 'nalabsr1', 'question': 'How to account for tax losses?', 'topic': 'DUMMY TOPIC', 'final_answer': '', 'finance_check': {'observation': 'Yes'}, 'intermediate_steps': []}\u001b[0m\n",
      "------ENTERING: QUERY REROUTER NODE------\n",
      "------OBSERVATION: FRA------\n",
      "------DECISION: INVOKE SOURCE DETECTOR NODE------\n",
      "\u001b[1;34m{'operation_id': 123456, 'user_id': 'nalabsr1', 'question': 'How to account for tax losses?', 'topic': 'DUMMY TOPIC', 'final_answer': '', 'finance_check': {'observation': 'Yes'}, 'query_rerouter_check': {'observation': 'FRA'}, 'intermediate_steps': []}\u001b[0m\n",
      "------ENTERING: SOURCE DETECTOR NODE------\n",
      "------SOURCES DETECTED: ['annual_reports_answer_node', 'fm_answer_node', 'ifrs_answer_node']------\n",
      "\u001b[1;34m{'operation_id': 123456, 'user_id': 'nalabsr1', 'question': 'How to account for tax losses?', 'topic': 'DUMMY TOPIC', 'final_answer': '', 'finance_check': {'observation': 'Yes'}, 'query_rerouter_check': {'observation': 'FRA'}, 'source_detector_check': {'observation': ['annual_reports_answer_node', 'fm_answer_node', 'ifrs_answer_node']}, 'intermediate_steps': []}\u001b[0m\n",
      "------ENTERING: IFRS ANSWER NODE------\n",
      "------ENTERING: ANNUAL REPORTS ANSWER NODE------\n",
      "------ENTERING: FOUNDATIONAL ANSWER NODE------\n"
     ]
    },
    {
     "data": {
      "text/markdown": [
       "**ANNUAL REPORTS ANSWER:** <font color=\"red\">No sufficient information.</font>"
      ],
      "text/plain": [
       "<IPython.core.display.Markdown object>"
      ]
     },
     "metadata": {},
     "output_type": "display_data"
    },
    {
     "data": {
      "text/markdown": [
       "**FOUNDATIONAL ANSWER:** <font color=\"red\">To account for tax losses, you need to consider the guidance provided by IAS 12 \"Income Taxes.\" Here are the key points to address tax losses:\n",
       "\n",
       "1. **Recognition of Deferred Tax Assets**:\n",
       "   - According to IAS 12.34, a deferred tax asset should be recognized for the carryforward of unused tax losses and unused tax credits to the extent that it is probable that future taxable profit will be available against which the unused tax losses and unused tax credits can be utilized.\n",
       "   - The probability of future taxable profits should be assessed based on the entity's business plans, budgets, and forecasts.\n",
       "\n",
       "2. **Measurement of Deferred Tax Assets**:\n",
       "   - Per IAS 12.47, deferred tax assets and liabilities should be measured at the tax rates that are expected to apply to the period when the asset is realized or the liability is settled, based on tax rates (and tax laws) that have been enacted or substantively enacted by the end of the reporting period.\n",
       "\n",
       "3. **Reassessment of Deferred Tax Assets**:\n",
       "   - IAS 12.37 requires that the carrying amount of deferred tax assets should be reviewed at the end of each reporting period. If it is no longer probable that sufficient taxable profit will be available to allow the benefit of part or all of that deferred tax asset to be utilized, the carrying amount should be reduced accordingly.\n",
       "   - Conversely, if it becomes probable that sufficient taxable profit will be available, the previously unrecognized deferred tax asset should be recognized.\n",
       "\n",
       "4. **Disclosure Requirements**:\n",
       "   - IAS 12.81(g) mandates the disclosure of the amount and expiry date, if any, of deductible temporary differences, unused tax losses, and unused tax credits for which no deferred tax asset is recognized in the statement of financial position.\n",
       "   - Additionally, IAS 12.82 requires the disclosure of the nature of the evidence supporting the recognition of deferred tax assets when the utilization of the deferred tax assets is dependent on future taxable profits exceeding the profits arising from the reversal of existing taxable temporary differences.\n",
       "\n",
       "**Sources**:\n",
       "- IAS 12 \"Income Taxes\" paragraphs 34, 37, 47, 81(g), and 82.\n",
       "\n",
       "By following these guidelines, you can ensure that tax losses are accounted for accurately and in compliance with IFRS standards.</font>"
      ],
      "text/plain": [
       "<IPython.core.display.Markdown object>"
      ]
     },
     "metadata": {},
     "output_type": "display_data"
    },
    {
     "data": {
      "text/markdown": [
       "**IFRS ANSWER:** <font color=\"red\">As per IAS 12, the accounting for tax losses involves the following key points:\n",
       "\n",
       "- **Recognition of Deferred Tax Asset**: A deferred tax asset should be recognized for the carryforward of unused tax losses and unused tax credits to the extent that it is probable that future taxable profit will be available against which the unused tax losses and unused tax credits can be utilized (IAS 12, paragraph 34).\n",
       "\n",
       "- **Criteria for Recognition**: When an entity has a history of recent losses, it recognizes a deferred tax asset arising from unused tax losses or tax credits only to the extent that the entity has sufficient taxable temporary differences or there is convincing other evidence that sufficient taxable profit will be available against which the unused tax losses or unused tax credits can be utilized (IAS 12, paragraph 35).\n",
       "\n",
       "- **Assessment of Probability**: The entity should consider the following criteria in assessing the probability that taxable profit will be available:\n",
       "  - Sufficient taxable temporary differences relating to the same taxation authority and the same taxable entity.\n",
       "  - Probability of having taxable profits before the unused tax losses or unused tax credits expire.\n",
       "  - Whether the unused tax losses result from identifiable causes which are unlikely to recur.\n",
       "  - Availability of tax planning opportunities that will create taxable profit in the period in which the unused tax losses or unused tax credits can be utilized (IAS 12, paragraph 36).\n",
       "\n",
       "- **Tax Planning Opportunities**: Actions that the entity would take to create or increase taxable income in a particular period before the expiry of a tax loss or tax credit carryforward (IAS 12, paragraph 30).\n",
       "\n",
       "- **Recognition of Benefit**: The benefit relating to a tax loss that can be carried back to recover current tax of a previous period should be recognized as an asset (IAS 12, paragraph 13).\n",
       "\n",
       "- **Measurement and Disclosure**: The entity must disclose the amount of the deferred tax asset and the nature of the evidence supporting its recognition when there is a history of recent losses (IAS 12, paragraph 35).\n",
       "\n",
       "These guidelines ensure that tax losses are accounted for in a manner that reflects their potential future economic benefits.</font>"
      ],
      "text/plain": [
       "<IPython.core.display.Markdown object>"
      ]
     },
     "metadata": {},
     "output_type": "display_data"
    },
    {
     "name": "stdout",
     "output_type": "stream",
     "text": [
      "\u001b[1;34m{'operation_id': 123456, 'user_id': 'nalabsr1', 'question': 'How to account for tax losses?', 'topic': 'DUMMY TOPIC', 'final_answer': '', 'finance_check': {'observation': 'Yes'}, 'query_rerouter_check': {'observation': 'FRA'}, 'source_detector_check': {'observation': ['annual_reports_answer_node', 'fm_answer_node', 'ifrs_answer_node']}, 'ifrs_response': {'answer': 'As per IAS 12, the accounting for tax losses involves the following key points:\\n\\n- **Recognition of Deferred Tax Asset**: A deferred tax asset should be recognized for the carryforward of unused tax losses and unused tax credits to the extent that it is probable that future taxable profit will be available against which the unused tax losses and unused tax credits can be utilized (IAS 12, paragraph 34).\\n\\n- **Criteria for Recognition**: When an entity has a history of recent losses, it recognizes a deferred tax asset arising from unused tax losses or tax credits only to the extent that the entity has sufficient taxable temporary differences or there is convincing other evidence that sufficient taxable profit will be available against which the unused tax losses or unused tax credits can be utilized (IAS 12, paragraph 35).\\n\\n- **Assessment of Probability**: The entity should consider the following criteria in assessing the probability that taxable profit will be available:\\n  - Sufficient taxable temporary differences relating to the same taxation authority and the same taxable entity.\\n  - Probability of having taxable profits before the unused tax losses or unused tax credits expire.\\n  - Whether the unused tax losses result from identifiable causes which are unlikely to recur.\\n  - Availability of tax planning opportunities that will create taxable profit in the period in which the unused tax losses or unused tax credits can be utilized (IAS 12, paragraph 36).\\n\\n- **Tax Planning Opportunities**: Actions that the entity would take to create or increase taxable income in a particular period before the expiry of a tax loss or tax credit carryforward (IAS 12, paragraph 30).\\n\\n- **Recognition of Benefit**: The benefit relating to a tax loss that can be carried back to recover current tax of a previous period should be recognized as an asset (IAS 12, paragraph 13).\\n\\n- **Measurement and Disclosure**: The entity must disclose the amount of the deferred tax asset and the nature of the evidence supporting its recognition when there is a history of recent losses (IAS 12, paragraph 35).\\n\\nThese guidelines ensure that tax losses are accounted for in a manner that reflects their potential future economic benefits.', 'metadata': []}, 'annual_reports_response': {'answer': 'No sufficient information.', 'metadata': []}, 'fm_response': {'answer': 'To account for tax losses, you need to consider the guidance provided by IAS 12 \"Income Taxes.\" Here are the key points to address tax losses:\\n\\n1. **Recognition of Deferred Tax Assets**:\\n   - According to IAS 12.34, a deferred tax asset should be recognized for the carryforward of unused tax losses and unused tax credits to the extent that it is probable that future taxable profit will be available against which the unused tax losses and unused tax credits can be utilized.\\n   - The probability of future taxable profits should be assessed based on the entity\\'s business plans, budgets, and forecasts.\\n\\n2. **Measurement of Deferred Tax Assets**:\\n   - Per IAS 12.47, deferred tax assets and liabilities should be measured at the tax rates that are expected to apply to the period when the asset is realized or the liability is settled, based on tax rates (and tax laws) that have been enacted or substantively enacted by the end of the reporting period.\\n\\n3. **Reassessment of Deferred Tax Assets**:\\n   - IAS 12.37 requires that the carrying amount of deferred tax assets should be reviewed at the end of each reporting period. If it is no longer probable that sufficient taxable profit will be available to allow the benefit of part or all of that deferred tax asset to be utilized, the carrying amount should be reduced accordingly.\\n   - Conversely, if it becomes probable that sufficient taxable profit will be available, the previously unrecognized deferred tax asset should be recognized.\\n\\n4. **Disclosure Requirements**:\\n   - IAS 12.81(g) mandates the disclosure of the amount and expiry date, if any, of deductible temporary differences, unused tax losses, and unused tax credits for which no deferred tax asset is recognized in the statement of financial position.\\n   - Additionally, IAS 12.82 requires the disclosure of the nature of the evidence supporting the recognition of deferred tax assets when the utilization of the deferred tax assets is dependent on future taxable profits exceeding the profits arising from the reversal of existing taxable temporary differences.\\n\\n**Sources**:\\n- IAS 12 \"Income Taxes\" paragraphs 34, 37, 47, 81(g), and 82.\\n\\nBy following these guidelines, you can ensure that tax losses are accounted for accurately and in compliance with IFRS standards.', 'metadata': []}, 'intermediate_steps': []}\u001b[0m\n",
      "------ENTERING: UNIFIED ANSWER NODE------\n"
     ]
    },
    {
     "data": {
      "application/json": {
       "annual_reports_response": {
        "answer": "No sufficient information.",
        "metadata": []
       },
       "final_answer": "",
       "finance_check": {
        "observation": "Yes"
       },
       "fm_response": {
        "answer": "To account for tax losses, you need to consider the guidance provided by IAS 12 \"Income Taxes.\" Here are the key points to address tax losses:\n\n1. **Recognition of Deferred Tax Assets**:\n   - According to IAS 12.34, a deferred tax asset should be recognized for the carryforward of unused tax losses and unused tax credits to the extent that it is probable that future taxable profit will be available against which the unused tax losses and unused tax credits can be utilized.\n   - The probability of future taxable profits should be assessed based on the entity's business plans, budgets, and forecasts.\n\n2. **Measurement of Deferred Tax Assets**:\n   - Per IAS 12.47, deferred tax assets and liabilities should be measured at the tax rates that are expected to apply to the period when the asset is realized or the liability is settled, based on tax rates (and tax laws) that have been enacted or substantively enacted by the end of the reporting period.\n\n3. **Reassessment of Deferred Tax Assets**:\n   - IAS 12.37 requires that the carrying amount of deferred tax assets should be reviewed at the end of each reporting period. If it is no longer probable that sufficient taxable profit will be available to allow the benefit of part or all of that deferred tax asset to be utilized, the carrying amount should be reduced accordingly.\n   - Conversely, if it becomes probable that sufficient taxable profit will be available, the previously unrecognized deferred tax asset should be recognized.\n\n4. **Disclosure Requirements**:\n   - IAS 12.81(g) mandates the disclosure of the amount and expiry date, if any, of deductible temporary differences, unused tax losses, and unused tax credits for which no deferred tax asset is recognized in the statement of financial position.\n   - Additionally, IAS 12.82 requires the disclosure of the nature of the evidence supporting the recognition of deferred tax assets when the utilization of the deferred tax assets is dependent on future taxable profits exceeding the profits arising from the reversal of existing taxable temporary differences.\n\n**Sources**:\n- IAS 12 \"Income Taxes\" paragraphs 34, 37, 47, 81(g), and 82.\n\nBy following these guidelines, you can ensure that tax losses are accounted for accurately and in compliance with IFRS standards.",
        "metadata": []
       },
       "generic_response": null,
       "ifrs_response": {
        "answer": "As per IAS 12, the accounting for tax losses involves the following key points:\n\n- **Recognition of Deferred Tax Asset**: A deferred tax asset should be recognized for the carryforward of unused tax losses and unused tax credits to the extent that it is probable that future taxable profit will be available against which the unused tax losses and unused tax credits can be utilized (IAS 12, paragraph 34).\n\n- **Criteria for Recognition**: When an entity has a history of recent losses, it recognizes a deferred tax asset arising from unused tax losses or tax credits only to the extent that the entity has sufficient taxable temporary differences or there is convincing other evidence that sufficient taxable profit will be available against which the unused tax losses or unused tax credits can be utilized (IAS 12, paragraph 35).\n\n- **Assessment of Probability**: The entity should consider the following criteria in assessing the probability that taxable profit will be available:\n  - Sufficient taxable temporary differences relating to the same taxation authority and the same taxable entity.\n  - Probability of having taxable profits before the unused tax losses or unused tax credits expire.\n  - Whether the unused tax losses result from identifiable causes which are unlikely to recur.\n  - Availability of tax planning opportunities that will create taxable profit in the period in which the unused tax losses or unused tax credits can be utilized (IAS 12, paragraph 36).\n\n- **Tax Planning Opportunities**: Actions that the entity would take to create or increase taxable income in a particular period before the expiry of a tax loss or tax credit carryforward (IAS 12, paragraph 30).\n\n- **Recognition of Benefit**: The benefit relating to a tax loss that can be carried back to recover current tax of a previous period should be recognized as an asset (IAS 12, paragraph 13).\n\n- **Measurement and Disclosure**: The entity must disclose the amount of the deferred tax asset and the nature of the evidence supporting its recognition when there is a history of recent losses (IAS 12, paragraph 35).\n\nThese guidelines ensure that tax losses are accounted for in a manner that reflects their potential future economic benefits.",
        "metadata": []
       },
       "intermediate_steps": [],
       "operation_id": 123456,
       "overall_status_check": null,
       "query_rerouter_check": {
        "observation": "FRA"
       },
       "question": "How to account for tax losses?",
       "requested_datasources": null,
       "source_detector_check": {
        "observation": [
         "annual_reports_answer_node",
         "fm_answer_node",
         "ifrs_answer_node"
        ]
       },
       "topic": "DUMMY TOPIC",
       "unified_response": null,
       "user_id": "nalabsr1",
       "web_response": null
      },
      "text/plain": [
       "<IPython.core.display.JSON object>"
      ]
     },
     "metadata": {
      "application/json": {
       "expanded": false,
       "root": "root"
      }
     },
     "output_type": "display_data"
    },
    {
     "data": {
      "text/markdown": [
       "**UNIFIED ANSWER:** <font color=\"red\">To account for tax losses under IAS 12 \"Income Taxes,\" consider the following key points:\n",
       "\n",
       "1. **Recognition of Deferred Tax Assets**:\n",
       "   - A deferred tax asset should be recognized for the carryforward of unused tax losses and unused tax credits to the extent that it is probable that future taxable profit will be available against which the unused tax losses and unused tax credits can be utilized (IAS 12, paragraph 34).\n",
       "   - When an entity has a history of recent losses, it recognizes a deferred tax asset arising from unused tax losses or tax credits only to the extent that the entity has sufficient taxable temporary differences or there is convincing other evidence that sufficient taxable profit will be available (IAS 12, paragraph 35).\n",
       "\n",
       "2. **Assessment of Probability**:\n",
       "   - The entity should consider sufficient taxable temporary differences, the probability of having taxable profits before the unused tax losses or credits expire, whether the unused tax losses result from identifiable causes unlikely to recur, and the availability of tax planning opportunities (IAS 12, paragraph 36).\n",
       "\n",
       "3. **Tax Planning Opportunities**:\n",
       "   - Actions that the entity would take to create or increase taxable income in a particular period before the expiry of a tax loss or tax credit carryforward (IAS 12, paragraph 30).\n",
       "\n",
       "4. **Recognition of Benefit**:\n",
       "   - The benefit relating to a tax loss that can be carried back to recover current tax of a previous period should be recognized as an asset (IAS 12, paragraph 13).\n",
       "\n",
       "5. **Measurement and Disclosure**:\n",
       "   - Deferred tax assets and liabilities should be measured at the tax rates expected to apply to the period when the asset is realized or the liability is settled (IAS 12, paragraph 47).\n",
       "   - The entity must disclose the amount of the deferred tax asset and the nature of the evidence supporting its recognition when there is a history of recent losses (IAS 12, paragraph 35).\n",
       "   - Disclosure of the amount and expiry date of deductible temporary differences, unused tax losses, and unused tax credits for which no deferred tax asset is recognized is required (IAS 12, paragraph 81(g)).\n",
       "   - The nature of the evidence supporting the recognition of deferred tax assets should be disclosed when the utilization of the deferred tax assets is dependent on future taxable profits exceeding the profits arising from the reversal of existing taxable temporary differences (IAS 12, paragraph 82).\n",
       "\n",
       "By following these guidelines, tax losses are accounted for accurately and in compliance with IFRS standards.\n",
       "\n",
       "**Sources**:\n",
       "- IAS 12 \"Income Taxes\" paragraphs 13, 30, 34, 35, 36, 47, 81(g), and 82.</font>"
      ],
      "text/plain": [
       "<IPython.core.display.Markdown object>"
      ]
     },
     "metadata": {},
     "output_type": "display_data"
    },
    {
     "name": "stdout",
     "output_type": "stream",
     "text": [
      "\u001b[1;34m{'operation_id': 123456, 'user_id': 'nalabsr1', 'question': 'How to account for tax losses?', 'topic': 'DUMMY TOPIC', 'final_answer': '### IFRS: \\nAs per IAS 12, the accounting for tax losses involves the following key points:\\n\\n- **Recognition of Deferred Tax Asset**: A deferred tax asset should be recognized for the carryforward of unused tax losses and unused tax credits to the extent that it is probable that future taxable profit will be available against which the unused tax losses and unused tax credits can be utilized (IAS 12, paragraph 34).\\n\\n- **Criteria for Recognition**: When an entity has a history of recent losses, it recognizes a deferred tax asset arising from unused tax losses or tax credits only to the extent that the entity has sufficient taxable temporary differences or there is convincing other evidence that sufficient taxable profit will be available against which the unused tax losses or unused tax credits can be utilized (IAS 12, paragraph 35).\\n\\n- **Assessment of Probability**: The entity should consider the following criteria in assessing the probability that taxable profit will be available:\\n  - Sufficient taxable temporary differences relating to the same taxation authority and the same taxable entity.\\n  - Probability of having taxable profits before the unused tax losses or unused tax credits expire.\\n  - Whether the unused tax losses result from identifiable causes which are unlikely to recur.\\n  - Availability of tax planning opportunities that will create taxable profit in the period in which the unused tax losses or unused tax credits can be utilized (IAS 12, paragraph 36).\\n\\n- **Tax Planning Opportunities**: Actions that the entity would take to create or increase taxable income in a particular period before the expiry of a tax loss or tax credit carryforward (IAS 12, paragraph 30).\\n\\n- **Recognition of Benefit**: The benefit relating to a tax loss that can be carried back to recover current tax of a previous period should be recognized as an asset (IAS 12, paragraph 13).\\n\\n- **Measurement and Disclosure**: The entity must disclose the amount of the deferred tax asset and the nature of the evidence supporting its recognition when there is a history of recent losses (IAS 12, paragraph 35).\\n\\nThese guidelines ensure that tax losses are accounted for in a manner that reflects their potential future economic benefits.\\n\\n---\\n\\n### Annual Reports: \\nNo sufficient information.\\n\\n---\\n\\n### Foundational ChatGPT: \\nTo account for tax losses, you need to consider the guidance provided by IAS 12 \"Income Taxes.\" Here are the key points to address tax losses:\\n\\n1. **Recognition of Deferred Tax Assets**:\\n   - According to IAS 12.34, a deferred tax asset should be recognized for the carryforward of unused tax losses and unused tax credits to the extent that it is probable that future taxable profit will be available against which the unused tax losses and unused tax credits can be utilized.\\n   - The probability of future taxable profits should be assessed based on the entity\\'s business plans, budgets, and forecasts.\\n\\n2. **Measurement of Deferred Tax Assets**:\\n   - Per IAS 12.47, deferred tax assets and liabilities should be measured at the tax rates that are expected to apply to the period when the asset is realized or the liability is settled, based on tax rates (and tax laws) that have been enacted or substantively enacted by the end of the reporting period.\\n\\n3. **Reassessment of Deferred Tax Assets**:\\n   - IAS 12.37 requires that the carrying amount of deferred tax assets should be reviewed at the end of each reporting period. If it is no longer probable that sufficient taxable profit will be available to allow the benefit of part or all of that deferred tax asset to be utilized, the carrying amount should be reduced accordingly.\\n   - Conversely, if it becomes probable that sufficient taxable profit will be available, the previously unrecognized deferred tax asset should be recognized.\\n\\n4. **Disclosure Requirements**:\\n   - IAS 12.81(g) mandates the disclosure of the amount and expiry date, if any, of deductible temporary differences, unused tax losses, and unused tax credits for which no deferred tax asset is recognized in the statement of financial position.\\n   - Additionally, IAS 12.82 requires the disclosure of the nature of the evidence supporting the recognition of deferred tax assets when the utilization of the deferred tax assets is dependent on future taxable profits exceeding the profits arising from the reversal of existing taxable temporary differences.\\n\\n**Sources**:\\n- IAS 12 \"Income Taxes\" paragraphs 34, 37, 47, 81(g), and 82.\\n\\nBy following these guidelines, you can ensure that tax losses are accounted for accurately and in compliance with IFRS standards.\\n\\n---\\n\\n### Unified Response\\nTo account for tax losses under IAS 12 \"Income Taxes,\" consider the following key points:\\n\\n1. **Recognition of Deferred Tax Assets**:\\n   - A deferred tax asset should be recognized for the carryforward of unused tax losses and unused tax credits to the extent that it is probable that future taxable profit will be available against which the unused tax losses and unused tax credits can be utilized (IAS 12, paragraph 34).\\n   - When an entity has a history of recent losses, it recognizes a deferred tax asset arising from unused tax losses or tax credits only to the extent that the entity has sufficient taxable temporary differences or there is convincing other evidence that sufficient taxable profit will be available (IAS 12, paragraph 35).\\n\\n2. **Assessment of Probability**:\\n   - The entity should consider sufficient taxable temporary differences, the probability of having taxable profits before the unused tax losses or credits expire, whether the unused tax losses result from identifiable causes unlikely to recur, and the availability of tax planning opportunities (IAS 12, paragraph 36).\\n\\n3. **Tax Planning Opportunities**:\\n   - Actions that the entity would take to create or increase taxable income in a particular period before the expiry of a tax loss or tax credit carryforward (IAS 12, paragraph 30).\\n\\n4. **Recognition of Benefit**:\\n   - The benefit relating to a tax loss that can be carried back to recover current tax of a previous period should be recognized as an asset (IAS 12, paragraph 13).\\n\\n5. **Measurement and Disclosure**:\\n   - Deferred tax assets and liabilities should be measured at the tax rates expected to apply to the period when the asset is realized or the liability is settled (IAS 12, paragraph 47).\\n   - The entity must disclose the amount of the deferred tax asset and the nature of the evidence supporting its recognition when there is a history of recent losses (IAS 12, paragraph 35).\\n   - Disclosure of the amount and expiry date of deductible temporary differences, unused tax losses, and unused tax credits for which no deferred tax asset is recognized is required (IAS 12, paragraph 81(g)).\\n   - The nature of the evidence supporting the recognition of deferred tax assets should be disclosed when the utilization of the deferred tax assets is dependent on future taxable profits exceeding the profits arising from the reversal of existing taxable temporary differences (IAS 12, paragraph 82).\\n\\nBy following these guidelines, tax losses are accounted for accurately and in compliance with IFRS standards.\\n\\n**Sources**:\\n- IAS 12 \"Income Taxes\" paragraphs 13, 30, 34, 35, 36, 47, 81(g), and 82.\\n\\n', 'finance_check': {'observation': 'Yes'}, 'query_rerouter_check': {'observation': 'FRA'}, 'source_detector_check': {'observation': ['annual_reports_answer_node', 'fm_answer_node', 'ifrs_answer_node']}, 'ifrs_response': {'answer': 'As per IAS 12, the accounting for tax losses involves the following key points:\\n\\n- **Recognition of Deferred Tax Asset**: A deferred tax asset should be recognized for the carryforward of unused tax losses and unused tax credits to the extent that it is probable that future taxable profit will be available against which the unused tax losses and unused tax credits can be utilized (IAS 12, paragraph 34).\\n\\n- **Criteria for Recognition**: When an entity has a history of recent losses, it recognizes a deferred tax asset arising from unused tax losses or tax credits only to the extent that the entity has sufficient taxable temporary differences or there is convincing other evidence that sufficient taxable profit will be available against which the unused tax losses or unused tax credits can be utilized (IAS 12, paragraph 35).\\n\\n- **Assessment of Probability**: The entity should consider the following criteria in assessing the probability that taxable profit will be available:\\n  - Sufficient taxable temporary differences relating to the same taxation authority and the same taxable entity.\\n  - Probability of having taxable profits before the unused tax losses or unused tax credits expire.\\n  - Whether the unused tax losses result from identifiable causes which are unlikely to recur.\\n  - Availability of tax planning opportunities that will create taxable profit in the period in which the unused tax losses or unused tax credits can be utilized (IAS 12, paragraph 36).\\n\\n- **Tax Planning Opportunities**: Actions that the entity would take to create or increase taxable income in a particular period before the expiry of a tax loss or tax credit carryforward (IAS 12, paragraph 30).\\n\\n- **Recognition of Benefit**: The benefit relating to a tax loss that can be carried back to recover current tax of a previous period should be recognized as an asset (IAS 12, paragraph 13).\\n\\n- **Measurement and Disclosure**: The entity must disclose the amount of the deferred tax asset and the nature of the evidence supporting its recognition when there is a history of recent losses (IAS 12, paragraph 35).\\n\\nThese guidelines ensure that tax losses are accounted for in a manner that reflects their potential future economic benefits.', 'metadata': []}, 'annual_reports_response': {'answer': 'No sufficient information.', 'metadata': []}, 'fm_response': {'answer': 'To account for tax losses, you need to consider the guidance provided by IAS 12 \"Income Taxes.\" Here are the key points to address tax losses:\\n\\n1. **Recognition of Deferred Tax Assets**:\\n   - According to IAS 12.34, a deferred tax asset should be recognized for the carryforward of unused tax losses and unused tax credits to the extent that it is probable that future taxable profit will be available against which the unused tax losses and unused tax credits can be utilized.\\n   - The probability of future taxable profits should be assessed based on the entity\\'s business plans, budgets, and forecasts.\\n\\n2. **Measurement of Deferred Tax Assets**:\\n   - Per IAS 12.47, deferred tax assets and liabilities should be measured at the tax rates that are expected to apply to the period when the asset is realized or the liability is settled, based on tax rates (and tax laws) that have been enacted or substantively enacted by the end of the reporting period.\\n\\n3. **Reassessment of Deferred Tax Assets**:\\n   - IAS 12.37 requires that the carrying amount of deferred tax assets should be reviewed at the end of each reporting period. If it is no longer probable that sufficient taxable profit will be available to allow the benefit of part or all of that deferred tax asset to be utilized, the carrying amount should be reduced accordingly.\\n   - Conversely, if it becomes probable that sufficient taxable profit will be available, the previously unrecognized deferred tax asset should be recognized.\\n\\n4. **Disclosure Requirements**:\\n   - IAS 12.81(g) mandates the disclosure of the amount and expiry date, if any, of deductible temporary differences, unused tax losses, and unused tax credits for which no deferred tax asset is recognized in the statement of financial position.\\n   - Additionally, IAS 12.82 requires the disclosure of the nature of the evidence supporting the recognition of deferred tax assets when the utilization of the deferred tax assets is dependent on future taxable profits exceeding the profits arising from the reversal of existing taxable temporary differences.\\n\\n**Sources**:\\n- IAS 12 \"Income Taxes\" paragraphs 34, 37, 47, 81(g), and 82.\\n\\nBy following these guidelines, you can ensure that tax losses are accounted for accurately and in compliance with IFRS standards.', 'metadata': []}, 'unified_response': {'answer': 'To account for tax losses under IAS 12 \"Income Taxes,\" consider the following key points:\\n\\n1. **Recognition of Deferred Tax Assets**:\\n   - A deferred tax asset should be recognized for the carryforward of unused tax losses and unused tax credits to the extent that it is probable that future taxable profit will be available against which the unused tax losses and unused tax credits can be utilized (IAS 12, paragraph 34).\\n   - When an entity has a history of recent losses, it recognizes a deferred tax asset arising from unused tax losses or tax credits only to the extent that the entity has sufficient taxable temporary differences or there is convincing other evidence that sufficient taxable profit will be available (IAS 12, paragraph 35).\\n\\n2. **Assessment of Probability**:\\n   - The entity should consider sufficient taxable temporary differences, the probability of having taxable profits before the unused tax losses or credits expire, whether the unused tax losses result from identifiable causes unlikely to recur, and the availability of tax planning opportunities (IAS 12, paragraph 36).\\n\\n3. **Tax Planning Opportunities**:\\n   - Actions that the entity would take to create or increase taxable income in a particular period before the expiry of a tax loss or tax credit carryforward (IAS 12, paragraph 30).\\n\\n4. **Recognition of Benefit**:\\n   - The benefit relating to a tax loss that can be carried back to recover current tax of a previous period should be recognized as an asset (IAS 12, paragraph 13).\\n\\n5. **Measurement and Disclosure**:\\n   - Deferred tax assets and liabilities should be measured at the tax rates expected to apply to the period when the asset is realized or the liability is settled (IAS 12, paragraph 47).\\n   - The entity must disclose the amount of the deferred tax asset and the nature of the evidence supporting its recognition when there is a history of recent losses (IAS 12, paragraph 35).\\n   - Disclosure of the amount and expiry date of deductible temporary differences, unused tax losses, and unused tax credits for which no deferred tax asset is recognized is required (IAS 12, paragraph 81(g)).\\n   - The nature of the evidence supporting the recognition of deferred tax assets should be disclosed when the utilization of the deferred tax assets is dependent on future taxable profits exceeding the profits arising from the reversal of existing taxable temporary differences (IAS 12, paragraph 82).\\n\\nBy following these guidelines, tax losses are accounted for accurately and in compliance with IFRS standards.\\n\\n**Sources**:\\n- IAS 12 \"Income Taxes\" paragraphs 13, 30, 34, 35, 36, 47, 81(g), and 82.', 'metadata': []}, 'intermediate_steps': []}\u001b[0m\n",
      "------ENTERING: OVERALL STATUS CHECK NODE------\n",
      "-------------------------------- \u001b[1;31mFinal Answer\u001b[0m --------------------------------\n"
     ]
    },
    {
     "data": {
      "text/markdown": [
       "**FINAL ANSWER:** <font color=\"red\">### IFRS: \n",
       "As per IAS 12, the accounting for tax losses involves the following key points:\n",
       "\n",
       "- **Recognition of Deferred Tax Asset**: A deferred tax asset should be recognized for the carryforward of unused tax losses and unused tax credits to the extent that it is probable that future taxable profit will be available against which the unused tax losses and unused tax credits can be utilized (IAS 12, paragraph 34).\n",
       "\n",
       "- **Criteria for Recognition**: When an entity has a history of recent losses, it recognizes a deferred tax asset arising from unused tax losses or tax credits only to the extent that the entity has sufficient taxable temporary differences or there is convincing other evidence that sufficient taxable profit will be available against which the unused tax losses or unused tax credits can be utilized (IAS 12, paragraph 35).\n",
       "\n",
       "- **Assessment of Probability**: The entity should consider the following criteria in assessing the probability that taxable profit will be available:\n",
       "  - Sufficient taxable temporary differences relating to the same taxation authority and the same taxable entity.\n",
       "  - Probability of having taxable profits before the unused tax losses or unused tax credits expire.\n",
       "  - Whether the unused tax losses result from identifiable causes which are unlikely to recur.\n",
       "  - Availability of tax planning opportunities that will create taxable profit in the period in which the unused tax losses or unused tax credits can be utilized (IAS 12, paragraph 36).\n",
       "\n",
       "- **Tax Planning Opportunities**: Actions that the entity would take to create or increase taxable income in a particular period before the expiry of a tax loss or tax credit carryforward (IAS 12, paragraph 30).\n",
       "\n",
       "- **Recognition of Benefit**: The benefit relating to a tax loss that can be carried back to recover current tax of a previous period should be recognized as an asset (IAS 12, paragraph 13).\n",
       "\n",
       "- **Measurement and Disclosure**: The entity must disclose the amount of the deferred tax asset and the nature of the evidence supporting its recognition when there is a history of recent losses (IAS 12, paragraph 35).\n",
       "\n",
       "These guidelines ensure that tax losses are accounted for in a manner that reflects their potential future economic benefits.\n",
       "\n",
       "---\n",
       "\n",
       "### Annual Reports: \n",
       "No sufficient information.\n",
       "\n",
       "---\n",
       "\n",
       "### Foundational ChatGPT: \n",
       "To account for tax losses, you need to consider the guidance provided by IAS 12 \"Income Taxes.\" Here are the key points to address tax losses:\n",
       "\n",
       "1. **Recognition of Deferred Tax Assets**:\n",
       "   - According to IAS 12.34, a deferred tax asset should be recognized for the carryforward of unused tax losses and unused tax credits to the extent that it is probable that future taxable profit will be available against which the unused tax losses and unused tax credits can be utilized.\n",
       "   - The probability of future taxable profits should be assessed based on the entity's business plans, budgets, and forecasts.\n",
       "\n",
       "2. **Measurement of Deferred Tax Assets**:\n",
       "   - Per IAS 12.47, deferred tax assets and liabilities should be measured at the tax rates that are expected to apply to the period when the asset is realized or the liability is settled, based on tax rates (and tax laws) that have been enacted or substantively enacted by the end of the reporting period.\n",
       "\n",
       "3. **Reassessment of Deferred Tax Assets**:\n",
       "   - IAS 12.37 requires that the carrying amount of deferred tax assets should be reviewed at the end of each reporting period. If it is no longer probable that sufficient taxable profit will be available to allow the benefit of part or all of that deferred tax asset to be utilized, the carrying amount should be reduced accordingly.\n",
       "   - Conversely, if it becomes probable that sufficient taxable profit will be available, the previously unrecognized deferred tax asset should be recognized.\n",
       "\n",
       "4. **Disclosure Requirements**:\n",
       "   - IAS 12.81(g) mandates the disclosure of the amount and expiry date, if any, of deductible temporary differences, unused tax losses, and unused tax credits for which no deferred tax asset is recognized in the statement of financial position.\n",
       "   - Additionally, IAS 12.82 requires the disclosure of the nature of the evidence supporting the recognition of deferred tax assets when the utilization of the deferred tax assets is dependent on future taxable profits exceeding the profits arising from the reversal of existing taxable temporary differences.\n",
       "\n",
       "**Sources**:\n",
       "- IAS 12 \"Income Taxes\" paragraphs 34, 37, 47, 81(g), and 82.\n",
       "\n",
       "By following these guidelines, you can ensure that tax losses are accounted for accurately and in compliance with IFRS standards.\n",
       "\n",
       "---\n",
       "\n",
       "### Unified Response\n",
       "To account for tax losses under IAS 12 \"Income Taxes,\" consider the following key points:\n",
       "\n",
       "1. **Recognition of Deferred Tax Assets**:\n",
       "   - A deferred tax asset should be recognized for the carryforward of unused tax losses and unused tax credits to the extent that it is probable that future taxable profit will be available against which the unused tax losses and unused tax credits can be utilized (IAS 12, paragraph 34).\n",
       "   - When an entity has a history of recent losses, it recognizes a deferred tax asset arising from unused tax losses or tax credits only to the extent that the entity has sufficient taxable temporary differences or there is convincing other evidence that sufficient taxable profit will be available (IAS 12, paragraph 35).\n",
       "\n",
       "2. **Assessment of Probability**:\n",
       "   - The entity should consider sufficient taxable temporary differences, the probability of having taxable profits before the unused tax losses or credits expire, whether the unused tax losses result from identifiable causes unlikely to recur, and the availability of tax planning opportunities (IAS 12, paragraph 36).\n",
       "\n",
       "3. **Tax Planning Opportunities**:\n",
       "   - Actions that the entity would take to create or increase taxable income in a particular period before the expiry of a tax loss or tax credit carryforward (IAS 12, paragraph 30).\n",
       "\n",
       "4. **Recognition of Benefit**:\n",
       "   - The benefit relating to a tax loss that can be carried back to recover current tax of a previous period should be recognized as an asset (IAS 12, paragraph 13).\n",
       "\n",
       "5. **Measurement and Disclosure**:\n",
       "   - Deferred tax assets and liabilities should be measured at the tax rates expected to apply to the period when the asset is realized or the liability is settled (IAS 12, paragraph 47).\n",
       "   - The entity must disclose the amount of the deferred tax asset and the nature of the evidence supporting its recognition when there is a history of recent losses (IAS 12, paragraph 35).\n",
       "   - Disclosure of the amount and expiry date of deductible temporary differences, unused tax losses, and unused tax credits for which no deferred tax asset is recognized is required (IAS 12, paragraph 81(g)).\n",
       "   - The nature of the evidence supporting the recognition of deferred tax assets should be disclosed when the utilization of the deferred tax assets is dependent on future taxable profits exceeding the profits arising from the reversal of existing taxable temporary differences (IAS 12, paragraph 82).\n",
       "\n",
       "By following these guidelines, tax losses are accounted for accurately and in compliance with IFRS standards.\n",
       "\n",
       "**Sources**:\n",
       "- IAS 12 \"Income Taxes\" paragraphs 13, 30, 34, 35, 36, 47, 81(g), and 82.\n",
       "\n",
       "</font>"
      ],
      "text/plain": [
       "<IPython.core.display.Markdown object>"
      ]
     },
     "metadata": {},
     "output_type": "display_data"
    },
    {
     "name": "stdout",
     "output_type": "stream",
     "text": [
      "\u001b[1;34m{'operation_id': 123456, 'user_id': 'nalabsr1', 'question': 'How to account for tax losses?', 'topic': 'DUMMY TOPIC', 'final_answer': '### IFRS: \\nAs per IAS 12, the accounting for tax losses involves the following key points:\\n\\n- **Recognition of Deferred Tax Asset**: A deferred tax asset should be recognized for the carryforward of unused tax losses and unused tax credits to the extent that it is probable that future taxable profit will be available against which the unused tax losses and unused tax credits can be utilized (IAS 12, paragraph 34).\\n\\n- **Criteria for Recognition**: When an entity has a history of recent losses, it recognizes a deferred tax asset arising from unused tax losses or tax credits only to the extent that the entity has sufficient taxable temporary differences or there is convincing other evidence that sufficient taxable profit will be available against which the unused tax losses or unused tax credits can be utilized (IAS 12, paragraph 35).\\n\\n- **Assessment of Probability**: The entity should consider the following criteria in assessing the probability that taxable profit will be available:\\n  - Sufficient taxable temporary differences relating to the same taxation authority and the same taxable entity.\\n  - Probability of having taxable profits before the unused tax losses or unused tax credits expire.\\n  - Whether the unused tax losses result from identifiable causes which are unlikely to recur.\\n  - Availability of tax planning opportunities that will create taxable profit in the period in which the unused tax losses or unused tax credits can be utilized (IAS 12, paragraph 36).\\n\\n- **Tax Planning Opportunities**: Actions that the entity would take to create or increase taxable income in a particular period before the expiry of a tax loss or tax credit carryforward (IAS 12, paragraph 30).\\n\\n- **Recognition of Benefit**: The benefit relating to a tax loss that can be carried back to recover current tax of a previous period should be recognized as an asset (IAS 12, paragraph 13).\\n\\n- **Measurement and Disclosure**: The entity must disclose the amount of the deferred tax asset and the nature of the evidence supporting its recognition when there is a history of recent losses (IAS 12, paragraph 35).\\n\\nThese guidelines ensure that tax losses are accounted for in a manner that reflects their potential future economic benefits.\\n\\n---\\n\\n### Annual Reports: \\nNo sufficient information.\\n\\n---\\n\\n### Foundational ChatGPT: \\nTo account for tax losses, you need to consider the guidance provided by IAS 12 \"Income Taxes.\" Here are the key points to address tax losses:\\n\\n1. **Recognition of Deferred Tax Assets**:\\n   - According to IAS 12.34, a deferred tax asset should be recognized for the carryforward of unused tax losses and unused tax credits to the extent that it is probable that future taxable profit will be available against which the unused tax losses and unused tax credits can be utilized.\\n   - The probability of future taxable profits should be assessed based on the entity\\'s business plans, budgets, and forecasts.\\n\\n2. **Measurement of Deferred Tax Assets**:\\n   - Per IAS 12.47, deferred tax assets and liabilities should be measured at the tax rates that are expected to apply to the period when the asset is realized or the liability is settled, based on tax rates (and tax laws) that have been enacted or substantively enacted by the end of the reporting period.\\n\\n3. **Reassessment of Deferred Tax Assets**:\\n   - IAS 12.37 requires that the carrying amount of deferred tax assets should be reviewed at the end of each reporting period. If it is no longer probable that sufficient taxable profit will be available to allow the benefit of part or all of that deferred tax asset to be utilized, the carrying amount should be reduced accordingly.\\n   - Conversely, if it becomes probable that sufficient taxable profit will be available, the previously unrecognized deferred tax asset should be recognized.\\n\\n4. **Disclosure Requirements**:\\n   - IAS 12.81(g) mandates the disclosure of the amount and expiry date, if any, of deductible temporary differences, unused tax losses, and unused tax credits for which no deferred tax asset is recognized in the statement of financial position.\\n   - Additionally, IAS 12.82 requires the disclosure of the nature of the evidence supporting the recognition of deferred tax assets when the utilization of the deferred tax assets is dependent on future taxable profits exceeding the profits arising from the reversal of existing taxable temporary differences.\\n\\n**Sources**:\\n- IAS 12 \"Income Taxes\" paragraphs 34, 37, 47, 81(g), and 82.\\n\\nBy following these guidelines, you can ensure that tax losses are accounted for accurately and in compliance with IFRS standards.\\n\\n---\\n\\n### Unified Response\\nTo account for tax losses under IAS 12 \"Income Taxes,\" consider the following key points:\\n\\n1. **Recognition of Deferred Tax Assets**:\\n   - A deferred tax asset should be recognized for the carryforward of unused tax losses and unused tax credits to the extent that it is probable that future taxable profit will be available against which the unused tax losses and unused tax credits can be utilized (IAS 12, paragraph 34).\\n   - When an entity has a history of recent losses, it recognizes a deferred tax asset arising from unused tax losses or tax credits only to the extent that the entity has sufficient taxable temporary differences or there is convincing other evidence that sufficient taxable profit will be available (IAS 12, paragraph 35).\\n\\n2. **Assessment of Probability**:\\n   - The entity should consider sufficient taxable temporary differences, the probability of having taxable profits before the unused tax losses or credits expire, whether the unused tax losses result from identifiable causes unlikely to recur, and the availability of tax planning opportunities (IAS 12, paragraph 36).\\n\\n3. **Tax Planning Opportunities**:\\n   - Actions that the entity would take to create or increase taxable income in a particular period before the expiry of a tax loss or tax credit carryforward (IAS 12, paragraph 30).\\n\\n4. **Recognition of Benefit**:\\n   - The benefit relating to a tax loss that can be carried back to recover current tax of a previous period should be recognized as an asset (IAS 12, paragraph 13).\\n\\n5. **Measurement and Disclosure**:\\n   - Deferred tax assets and liabilities should be measured at the tax rates expected to apply to the period when the asset is realized or the liability is settled (IAS 12, paragraph 47).\\n   - The entity must disclose the amount of the deferred tax asset and the nature of the evidence supporting its recognition when there is a history of recent losses (IAS 12, paragraph 35).\\n   - Disclosure of the amount and expiry date of deductible temporary differences, unused tax losses, and unused tax credits for which no deferred tax asset is recognized is required (IAS 12, paragraph 81(g)).\\n   - The nature of the evidence supporting the recognition of deferred tax assets should be disclosed when the utilization of the deferred tax assets is dependent on future taxable profits exceeding the profits arising from the reversal of existing taxable temporary differences (IAS 12, paragraph 82).\\n\\nBy following these guidelines, tax losses are accounted for accurately and in compliance with IFRS standards.\\n\\n**Sources**:\\n- IAS 12 \"Income Taxes\" paragraphs 13, 30, 34, 35, 36, 47, 81(g), and 82.\\n\\n', 'finance_check': {'observation': 'Yes'}, 'query_rerouter_check': {'observation': 'FRA'}, 'source_detector_check': {'observation': ['annual_reports_answer_node', 'fm_answer_node', 'ifrs_answer_node']}, 'overall_status_check': {'observation': 'Completed'}, 'ifrs_response': {'answer': 'As per IAS 12, the accounting for tax losses involves the following key points:\\n\\n- **Recognition of Deferred Tax Asset**: A deferred tax asset should be recognized for the carryforward of unused tax losses and unused tax credits to the extent that it is probable that future taxable profit will be available against which the unused tax losses and unused tax credits can be utilized (IAS 12, paragraph 34).\\n\\n- **Criteria for Recognition**: When an entity has a history of recent losses, it recognizes a deferred tax asset arising from unused tax losses or tax credits only to the extent that the entity has sufficient taxable temporary differences or there is convincing other evidence that sufficient taxable profit will be available against which the unused tax losses or unused tax credits can be utilized (IAS 12, paragraph 35).\\n\\n- **Assessment of Probability**: The entity should consider the following criteria in assessing the probability that taxable profit will be available:\\n  - Sufficient taxable temporary differences relating to the same taxation authority and the same taxable entity.\\n  - Probability of having taxable profits before the unused tax losses or unused tax credits expire.\\n  - Whether the unused tax losses result from identifiable causes which are unlikely to recur.\\n  - Availability of tax planning opportunities that will create taxable profit in the period in which the unused tax losses or unused tax credits can be utilized (IAS 12, paragraph 36).\\n\\n- **Tax Planning Opportunities**: Actions that the entity would take to create or increase taxable income in a particular period before the expiry of a tax loss or tax credit carryforward (IAS 12, paragraph 30).\\n\\n- **Recognition of Benefit**: The benefit relating to a tax loss that can be carried back to recover current tax of a previous period should be recognized as an asset (IAS 12, paragraph 13).\\n\\n- **Measurement and Disclosure**: The entity must disclose the amount of the deferred tax asset and the nature of the evidence supporting its recognition when there is a history of recent losses (IAS 12, paragraph 35).\\n\\nThese guidelines ensure that tax losses are accounted for in a manner that reflects their potential future economic benefits.', 'metadata': []}, 'annual_reports_response': {'answer': 'No sufficient information.', 'metadata': []}, 'fm_response': {'answer': 'To account for tax losses, you need to consider the guidance provided by IAS 12 \"Income Taxes.\" Here are the key points to address tax losses:\\n\\n1. **Recognition of Deferred Tax Assets**:\\n   - According to IAS 12.34, a deferred tax asset should be recognized for the carryforward of unused tax losses and unused tax credits to the extent that it is probable that future taxable profit will be available against which the unused tax losses and unused tax credits can be utilized.\\n   - The probability of future taxable profits should be assessed based on the entity\\'s business plans, budgets, and forecasts.\\n\\n2. **Measurement of Deferred Tax Assets**:\\n   - Per IAS 12.47, deferred tax assets and liabilities should be measured at the tax rates that are expected to apply to the period when the asset is realized or the liability is settled, based on tax rates (and tax laws) that have been enacted or substantively enacted by the end of the reporting period.\\n\\n3. **Reassessment of Deferred Tax Assets**:\\n   - IAS 12.37 requires that the carrying amount of deferred tax assets should be reviewed at the end of each reporting period. If it is no longer probable that sufficient taxable profit will be available to allow the benefit of part or all of that deferred tax asset to be utilized, the carrying amount should be reduced accordingly.\\n   - Conversely, if it becomes probable that sufficient taxable profit will be available, the previously unrecognized deferred tax asset should be recognized.\\n\\n4. **Disclosure Requirements**:\\n   - IAS 12.81(g) mandates the disclosure of the amount and expiry date, if any, of deductible temporary differences, unused tax losses, and unused tax credits for which no deferred tax asset is recognized in the statement of financial position.\\n   - Additionally, IAS 12.82 requires the disclosure of the nature of the evidence supporting the recognition of deferred tax assets when the utilization of the deferred tax assets is dependent on future taxable profits exceeding the profits arising from the reversal of existing taxable temporary differences.\\n\\n**Sources**:\\n- IAS 12 \"Income Taxes\" paragraphs 34, 37, 47, 81(g), and 82.\\n\\nBy following these guidelines, you can ensure that tax losses are accounted for accurately and in compliance with IFRS standards.', 'metadata': []}, 'unified_response': {'answer': 'To account for tax losses under IAS 12 \"Income Taxes,\" consider the following key points:\\n\\n1. **Recognition of Deferred Tax Assets**:\\n   - A deferred tax asset should be recognized for the carryforward of unused tax losses and unused tax credits to the extent that it is probable that future taxable profit will be available against which the unused tax losses and unused tax credits can be utilized (IAS 12, paragraph 34).\\n   - When an entity has a history of recent losses, it recognizes a deferred tax asset arising from unused tax losses or tax credits only to the extent that the entity has sufficient taxable temporary differences or there is convincing other evidence that sufficient taxable profit will be available (IAS 12, paragraph 35).\\n\\n2. **Assessment of Probability**:\\n   - The entity should consider sufficient taxable temporary differences, the probability of having taxable profits before the unused tax losses or credits expire, whether the unused tax losses result from identifiable causes unlikely to recur, and the availability of tax planning opportunities (IAS 12, paragraph 36).\\n\\n3. **Tax Planning Opportunities**:\\n   - Actions that the entity would take to create or increase taxable income in a particular period before the expiry of a tax loss or tax credit carryforward (IAS 12, paragraph 30).\\n\\n4. **Recognition of Benefit**:\\n   - The benefit relating to a tax loss that can be carried back to recover current tax of a previous period should be recognized as an asset (IAS 12, paragraph 13).\\n\\n5. **Measurement and Disclosure**:\\n   - Deferred tax assets and liabilities should be measured at the tax rates expected to apply to the period when the asset is realized or the liability is settled (IAS 12, paragraph 47).\\n   - The entity must disclose the amount of the deferred tax asset and the nature of the evidence supporting its recognition when there is a history of recent losses (IAS 12, paragraph 35).\\n   - Disclosure of the amount and expiry date of deductible temporary differences, unused tax losses, and unused tax credits for which no deferred tax asset is recognized is required (IAS 12, paragraph 81(g)).\\n   - The nature of the evidence supporting the recognition of deferred tax assets should be disclosed when the utilization of the deferred tax assets is dependent on future taxable profits exceeding the profits arising from the reversal of existing taxable temporary differences (IAS 12, paragraph 82).\\n\\nBy following these guidelines, tax losses are accounted for accurately and in compliance with IFRS standards.\\n\\n**Sources**:\\n- IAS 12 \"Income Taxes\" paragraphs 13, 30, 34, 35, 36, 47, 81(g), and 82.', 'metadata': []}, 'intermediate_steps': []}\u001b[0m\n",
      "--------------------------------------------------------\n",
      "\u001b[1;31mTotal Time Taken - [33.31]\u001b[0m\n",
      "--------------------------------------------------------\n"
     ]
    }
   ],
   "source": [
    "question = \"How to account for tax losses?\"\n",
    "run_answer(question, 89)"
   ]
  },
  {
   "cell_type": "code",
   "execution_count": 111,
   "id": "b02e06eb-1327-43c3-9108-d8cb1471bc4b",
   "metadata": {
    "tags": []
   },
   "outputs": [
    {
     "name": "stdout",
     "output_type": "stream",
     "text": [
      "\u001b[1;34m{'operation_id': 123456, 'user_id': 'nalabsr1', 'question': 'what is the treatment for free goods connected to commercial sales?', 'final_answer': '', 'intermediate_steps': []}\u001b[0m\n",
      "------ENTERING: TOPIC MODELLING NODE------\n",
      "============================================\n",
      "{'operation_id': 123456, 'user_id': 'nalabsr1', 'question': 'what is the treatment for free goods connected to commercial sales?', 'topic': None, 'requested_datasources': None, 'final_answer': '', 'finance_check': None, 'query_rerouter_check': None, 'source_detector_check': None, 'overall_status_check': None, 'generic_response': None, 'web_response': None, 'ifrs_response': None, 'annual_reports_response': None, 'fm_response': None, 'unified_response': None, 'intermediate_steps': []}\n",
      "============================================\n",
      "------OBSERVATION: DUMMY TOPIC------\n",
      "\u001b[1;34m{'operation_id': 123456, 'user_id': 'nalabsr1', 'question': 'what is the treatment for free goods connected to commercial sales?', 'topic': 'DUMMY TOPIC', 'final_answer': '', 'intermediate_steps': []}\u001b[0m\n",
      "------ENTERING: FINANCE CHECK NODE------\n",
      "------OBSERVATION: Yes------\n",
      "------DECISION: INVOKE QUERY REROUTER NODE------\n",
      "\u001b[1;34m{'operation_id': 123456, 'user_id': 'nalabsr1', 'question': 'what is the treatment for free goods connected to commercial sales?', 'topic': 'DUMMY TOPIC', 'final_answer': '', 'finance_check': {'observation': 'Yes'}, 'intermediate_steps': []}\u001b[0m\n",
      "------ENTERING: QUERY REROUTER NODE------\n",
      "------OBSERVATION: FRA------\n",
      "------DECISION: INVOKE SOURCE DETECTOR NODE------\n",
      "\u001b[1;34m{'operation_id': 123456, 'user_id': 'nalabsr1', 'question': 'what is the treatment for free goods connected to commercial sales?', 'topic': 'DUMMY TOPIC', 'final_answer': '', 'finance_check': {'observation': 'Yes'}, 'query_rerouter_check': {'observation': 'FRA'}, 'intermediate_steps': []}\u001b[0m\n",
      "------ENTERING: SOURCE DETECTOR NODE------\n",
      "------SOURCES DETECTED: ['annual_reports_answer_node', 'fm_answer_node', 'ifrs_answer_node']------\n",
      "\u001b[1;34m{'operation_id': 123456, 'user_id': 'nalabsr1', 'question': 'what is the treatment for free goods connected to commercial sales?', 'topic': 'DUMMY TOPIC', 'final_answer': '', 'finance_check': {'observation': 'Yes'}, 'query_rerouter_check': {'observation': 'FRA'}, 'source_detector_check': {'observation': ['annual_reports_answer_node', 'fm_answer_node', 'ifrs_answer_node']}, 'intermediate_steps': []}\u001b[0m\n",
      "------ENTERING: IFRS ANSWER NODE------\n",
      "------ENTERING: ANNUAL REPORTS ANSWER NODE------\n",
      "------ENTERING: FOUNDATIONAL ANSWER NODE------\n"
     ]
    },
    {
     "data": {
      "text/markdown": [
       "**ANNUAL REPORTS ANSWER:** <font color=\"red\">No sufficient information.</font>"
      ],
      "text/plain": [
       "<IPython.core.display.Markdown object>"
      ]
     },
     "metadata": {},
     "output_type": "display_data"
    },
    {
     "data": {
      "text/markdown": [
       "**FOUNDATIONAL ANSWER:** <font color=\"red\">The treatment for free goods connected to commercial sales under IFRS is primarily governed by IFRS 15 \"Revenue from Contracts with Customers.\" According to IFRS 15, the key consideration is whether the free goods are considered a separate performance obligation within the contract.\n",
       "\n",
       "### Key Points from IFRS 15:\n",
       "\n",
       "1. **Identification of Performance Obligations (IFRS 15.22-30):**\n",
       "   - Determine if the free goods are distinct and if they provide a benefit to the customer on their own or together with other readily available resources. If the free goods are distinct, they should be treated as a separate performance obligation.\n",
       "\n",
       "2. **Transaction Price Allocation (IFRS 15.73-86):**\n",
       "   - Allocate the transaction price to each performance obligation based on the relative standalone selling prices. If the free goods are a separate performance obligation, a portion of the transaction price should be allocated to them.\n",
       "\n",
       "3. **Recognition of Revenue (IFRS 15.31-38):**\n",
       "   - Revenue should be recognized when (or as) the entity satisfies a performance obligation by transferring a promised good or service to a customer. If the free goods are a separate performance obligation, revenue related to them should be recognized when control of the goods is transferred to the customer.\n",
       "\n",
       "### Example:\n",
       "If Novartis provides free samples of a new drug along with a commercial sale, the treatment would depend on whether the free samples are considered a separate performance obligation. If they are distinct, part of the transaction price from the commercial sale should be allocated to the free samples, and revenue should be recognized when the samples are delivered to the customer.\n",
       "\n",
       "### Sources:\n",
       "- IFRS 15 \"Revenue from Contracts with Customers,\" paragraphs 22-30, 31-38, and 73-86.\n",
       "- Novartis Annual Reports and financial statements for practical application and consistency with industry practices.\n",
       "\n",
       "By following these guidelines, Novartis can ensure that the treatment of free goods connected to commercial sales is compliant with IFRS 15.</font>"
      ],
      "text/plain": [
       "<IPython.core.display.Markdown object>"
      ]
     },
     "metadata": {},
     "output_type": "display_data"
    },
    {
     "data": {
      "text/markdown": [
       "**IFRS ANSWER:** <font color=\"red\">As per IFRS 15, the treatment for free goods connected to commercial sales is as follows:\n",
       "\n",
       "- **Customer Options and Performance Obligations**: If a contract grants a customer the option to acquire additional goods or services for free or at a discount, this option gives rise to a performance obligation only if it provides a material right to the customer that it would not receive without entering into that contract (IFRS 15, B40).\n",
       "\n",
       "- **Material Right**: If the option provides a material right, the customer effectively pays the entity in advance for future goods or services. The entity recognizes revenue when those future goods or services are transferred or when the option expires (IFRS 15, B40).\n",
       "\n",
       "- **Revenue Recognition**: The entity must evaluate whether the free goods or services provide a material right and recognize revenue accordingly when the performance obligation is satisfied (IFRS 15, B40).\n",
       "\n",
       "This ensures that the free goods are accounted for as part of the overall transaction and revenue is recognized in line with the transfer of goods or services to the customer.</font>"
      ],
      "text/plain": [
       "<IPython.core.display.Markdown object>"
      ]
     },
     "metadata": {},
     "output_type": "display_data"
    },
    {
     "name": "stdout",
     "output_type": "stream",
     "text": [
      "\u001b[1;34m{'operation_id': 123456, 'user_id': 'nalabsr1', 'question': 'what is the treatment for free goods connected to commercial sales?', 'topic': 'DUMMY TOPIC', 'final_answer': '', 'finance_check': {'observation': 'Yes'}, 'query_rerouter_check': {'observation': 'FRA'}, 'source_detector_check': {'observation': ['annual_reports_answer_node', 'fm_answer_node', 'ifrs_answer_node']}, 'ifrs_response': {'answer': 'As per IFRS 15, the treatment for free goods connected to commercial sales is as follows:\\n\\n- **Customer Options and Performance Obligations**: If a contract grants a customer the option to acquire additional goods or services for free or at a discount, this option gives rise to a performance obligation only if it provides a material right to the customer that it would not receive without entering into that contract (IFRS 15, B40).\\n\\n- **Material Right**: If the option provides a material right, the customer effectively pays the entity in advance for future goods or services. The entity recognizes revenue when those future goods or services are transferred or when the option expires (IFRS 15, B40).\\n\\n- **Revenue Recognition**: The entity must evaluate whether the free goods or services provide a material right and recognize revenue accordingly when the performance obligation is satisfied (IFRS 15, B40).\\n\\nThis ensures that the free goods are accounted for as part of the overall transaction and revenue is recognized in line with the transfer of goods or services to the customer.', 'metadata': []}, 'annual_reports_response': {'answer': 'No sufficient information.', 'metadata': []}, 'fm_response': {'answer': 'The treatment for free goods connected to commercial sales under IFRS is primarily governed by IFRS 15 \"Revenue from Contracts with Customers.\" According to IFRS 15, the key consideration is whether the free goods are considered a separate performance obligation within the contract.\\n\\n### Key Points from IFRS 15:\\n\\n1. **Identification of Performance Obligations (IFRS 15.22-30):**\\n   - Determine if the free goods are distinct and if they provide a benefit to the customer on their own or together with other readily available resources. If the free goods are distinct, they should be treated as a separate performance obligation.\\n\\n2. **Transaction Price Allocation (IFRS 15.73-86):**\\n   - Allocate the transaction price to each performance obligation based on the relative standalone selling prices. If the free goods are a separate performance obligation, a portion of the transaction price should be allocated to them.\\n\\n3. **Recognition of Revenue (IFRS 15.31-38):**\\n   - Revenue should be recognized when (or as) the entity satisfies a performance obligation by transferring a promised good or service to a customer. If the free goods are a separate performance obligation, revenue related to them should be recognized when control of the goods is transferred to the customer.\\n\\n### Example:\\nIf Novartis provides free samples of a new drug along with a commercial sale, the treatment would depend on whether the free samples are considered a separate performance obligation. If they are distinct, part of the transaction price from the commercial sale should be allocated to the free samples, and revenue should be recognized when the samples are delivered to the customer.\\n\\n### Sources:\\n- IFRS 15 \"Revenue from Contracts with Customers,\" paragraphs 22-30, 31-38, and 73-86.\\n- Novartis Annual Reports and financial statements for practical application and consistency with industry practices.\\n\\nBy following these guidelines, Novartis can ensure that the treatment of free goods connected to commercial sales is compliant with IFRS 15.', 'metadata': []}, 'intermediate_steps': []}\u001b[0m\n",
      "------ENTERING: UNIFIED ANSWER NODE------\n"
     ]
    },
    {
     "data": {
      "application/json": {
       "annual_reports_response": {
        "answer": "No sufficient information.",
        "metadata": []
       },
       "final_answer": "",
       "finance_check": {
        "observation": "Yes"
       },
       "fm_response": {
        "answer": "The treatment for free goods connected to commercial sales under IFRS is primarily governed by IFRS 15 \"Revenue from Contracts with Customers.\" According to IFRS 15, the key consideration is whether the free goods are considered a separate performance obligation within the contract.\n\n### Key Points from IFRS 15:\n\n1. **Identification of Performance Obligations (IFRS 15.22-30):**\n   - Determine if the free goods are distinct and if they provide a benefit to the customer on their own or together with other readily available resources. If the free goods are distinct, they should be treated as a separate performance obligation.\n\n2. **Transaction Price Allocation (IFRS 15.73-86):**\n   - Allocate the transaction price to each performance obligation based on the relative standalone selling prices. If the free goods are a separate performance obligation, a portion of the transaction price should be allocated to them.\n\n3. **Recognition of Revenue (IFRS 15.31-38):**\n   - Revenue should be recognized when (or as) the entity satisfies a performance obligation by transferring a promised good or service to a customer. If the free goods are a separate performance obligation, revenue related to them should be recognized when control of the goods is transferred to the customer.\n\n### Example:\nIf Novartis provides free samples of a new drug along with a commercial sale, the treatment would depend on whether the free samples are considered a separate performance obligation. If they are distinct, part of the transaction price from the commercial sale should be allocated to the free samples, and revenue should be recognized when the samples are delivered to the customer.\n\n### Sources:\n- IFRS 15 \"Revenue from Contracts with Customers,\" paragraphs 22-30, 31-38, and 73-86.\n- Novartis Annual Reports and financial statements for practical application and consistency with industry practices.\n\nBy following these guidelines, Novartis can ensure that the treatment of free goods connected to commercial sales is compliant with IFRS 15.",
        "metadata": []
       },
       "generic_response": null,
       "ifrs_response": {
        "answer": "As per IFRS 15, the treatment for free goods connected to commercial sales is as follows:\n\n- **Customer Options and Performance Obligations**: If a contract grants a customer the option to acquire additional goods or services for free or at a discount, this option gives rise to a performance obligation only if it provides a material right to the customer that it would not receive without entering into that contract (IFRS 15, B40).\n\n- **Material Right**: If the option provides a material right, the customer effectively pays the entity in advance for future goods or services. The entity recognizes revenue when those future goods or services are transferred or when the option expires (IFRS 15, B40).\n\n- **Revenue Recognition**: The entity must evaluate whether the free goods or services provide a material right and recognize revenue accordingly when the performance obligation is satisfied (IFRS 15, B40).\n\nThis ensures that the free goods are accounted for as part of the overall transaction and revenue is recognized in line with the transfer of goods or services to the customer.",
        "metadata": []
       },
       "intermediate_steps": [],
       "operation_id": 123456,
       "overall_status_check": null,
       "query_rerouter_check": {
        "observation": "FRA"
       },
       "question": "what is the treatment for free goods connected to commercial sales?",
       "requested_datasources": null,
       "source_detector_check": {
        "observation": [
         "annual_reports_answer_node",
         "fm_answer_node",
         "ifrs_answer_node"
        ]
       },
       "topic": "DUMMY TOPIC",
       "unified_response": null,
       "user_id": "nalabsr1",
       "web_response": null
      },
      "text/plain": [
       "<IPython.core.display.JSON object>"
      ]
     },
     "metadata": {
      "application/json": {
       "expanded": false,
       "root": "root"
      }
     },
     "output_type": "display_data"
    },
    {
     "data": {
      "text/markdown": [
       "**UNIFIED ANSWER:** <font color=\"red\">The treatment for free goods connected to commercial sales under IFRS 15 \"Revenue from Contracts with Customers\" involves several key considerations:\n",
       "\n",
       "1. **Customer Options and Performance Obligations**: If a contract grants a customer the option to acquire additional goods or services for free or at a discount, this option gives rise to a performance obligation only if it provides a material right to the customer that it would not receive without entering into that contract (IFRS 15, B40).\n",
       "\n",
       "2. **Material Right**: If the option provides a material right, the customer effectively pays the entity in advance for future goods or services. The entity recognizes revenue when those future goods or services are transferred or when the option expires (IFRS 15, B40).\n",
       "\n",
       "3. **Revenue Recognition**: The entity must evaluate whether the free goods or services provide a material right and recognize revenue accordingly when the performance obligation is satisfied (IFRS 15, B40).\n",
       "\n",
       "4. **Identification of Performance Obligations**: Determine if the free goods are distinct and if they provide a benefit to the customer on their own or together with other readily available resources. If the free goods are distinct, they should be treated as a separate performance obligation (IFRS 15.22-30).\n",
       "\n",
       "5. **Transaction Price Allocation**: Allocate the transaction price to each performance obligation based on the relative standalone selling prices. If the free goods are a separate performance obligation, a portion of the transaction price should be allocated to them (IFRS 15.73-86).\n",
       "\n",
       "6. **Recognition of Revenue**: Revenue should be recognized when (or as) the entity satisfies a performance obligation by transferring a promised good or service to a customer. If the free goods are a separate performance obligation, revenue related to them should be recognized when control of the goods is transferred to the customer (IFRS 15.31-38).\n",
       "\n",
       "This ensures that the free goods are accounted for as part of the overall transaction and revenue is recognized in line with the transfer of goods or services to the customer.\n",
       "\n",
       "Sources:\n",
       "- IFRS 15 \"Revenue from Contracts with Customers,\" paragraphs B40, 22-30, 31-38, and 73-86.\n",
       "- Novartis Annual Reports and financial statements for practical application and consistency with industry practices.</font>"
      ],
      "text/plain": [
       "<IPython.core.display.Markdown object>"
      ]
     },
     "metadata": {},
     "output_type": "display_data"
    },
    {
     "name": "stdout",
     "output_type": "stream",
     "text": [
      "\u001b[1;34m{'operation_id': 123456, 'user_id': 'nalabsr1', 'question': 'what is the treatment for free goods connected to commercial sales?', 'topic': 'DUMMY TOPIC', 'final_answer': '### IFRS: \\nAs per IFRS 15, the treatment for free goods connected to commercial sales is as follows:\\n\\n- **Customer Options and Performance Obligations**: If a contract grants a customer the option to acquire additional goods or services for free or at a discount, this option gives rise to a performance obligation only if it provides a material right to the customer that it would not receive without entering into that contract (IFRS 15, B40).\\n\\n- **Material Right**: If the option provides a material right, the customer effectively pays the entity in advance for future goods or services. The entity recognizes revenue when those future goods or services are transferred or when the option expires (IFRS 15, B40).\\n\\n- **Revenue Recognition**: The entity must evaluate whether the free goods or services provide a material right and recognize revenue accordingly when the performance obligation is satisfied (IFRS 15, B40).\\n\\nThis ensures that the free goods are accounted for as part of the overall transaction and revenue is recognized in line with the transfer of goods or services to the customer.\\n\\n---\\n\\n### Annual Reports: \\nNo sufficient information.\\n\\n---\\n\\n### Foundational ChatGPT: \\nThe treatment for free goods connected to commercial sales under IFRS is primarily governed by IFRS 15 \"Revenue from Contracts with Customers.\" According to IFRS 15, the key consideration is whether the free goods are considered a separate performance obligation within the contract.\\n\\n### Key Points from IFRS 15:\\n\\n1. **Identification of Performance Obligations (IFRS 15.22-30):**\\n   - Determine if the free goods are distinct and if they provide a benefit to the customer on their own or together with other readily available resources. If the free goods are distinct, they should be treated as a separate performance obligation.\\n\\n2. **Transaction Price Allocation (IFRS 15.73-86):**\\n   - Allocate the transaction price to each performance obligation based on the relative standalone selling prices. If the free goods are a separate performance obligation, a portion of the transaction price should be allocated to them.\\n\\n3. **Recognition of Revenue (IFRS 15.31-38):**\\n   - Revenue should be recognized when (or as) the entity satisfies a performance obligation by transferring a promised good or service to a customer. If the free goods are a separate performance obligation, revenue related to them should be recognized when control of the goods is transferred to the customer.\\n\\n### Example:\\nIf Novartis provides free samples of a new drug along with a commercial sale, the treatment would depend on whether the free samples are considered a separate performance obligation. If they are distinct, part of the transaction price from the commercial sale should be allocated to the free samples, and revenue should be recognized when the samples are delivered to the customer.\\n\\n### Sources:\\n- IFRS 15 \"Revenue from Contracts with Customers,\" paragraphs 22-30, 31-38, and 73-86.\\n- Novartis Annual Reports and financial statements for practical application and consistency with industry practices.\\n\\nBy following these guidelines, Novartis can ensure that the treatment of free goods connected to commercial sales is compliant with IFRS 15.\\n\\n---\\n\\n### Unified Response\\nThe treatment for free goods connected to commercial sales under IFRS 15 \"Revenue from Contracts with Customers\" involves several key considerations:\\n\\n1. **Customer Options and Performance Obligations**: If a contract grants a customer the option to acquire additional goods or services for free or at a discount, this option gives rise to a performance obligation only if it provides a material right to the customer that it would not receive without entering into that contract (IFRS 15, B40).\\n\\n2. **Material Right**: If the option provides a material right, the customer effectively pays the entity in advance for future goods or services. The entity recognizes revenue when those future goods or services are transferred or when the option expires (IFRS 15, B40).\\n\\n3. **Revenue Recognition**: The entity must evaluate whether the free goods or services provide a material right and recognize revenue accordingly when the performance obligation is satisfied (IFRS 15, B40).\\n\\n4. **Identification of Performance Obligations**: Determine if the free goods are distinct and if they provide a benefit to the customer on their own or together with other readily available resources. If the free goods are distinct, they should be treated as a separate performance obligation (IFRS 15.22-30).\\n\\n5. **Transaction Price Allocation**: Allocate the transaction price to each performance obligation based on the relative standalone selling prices. If the free goods are a separate performance obligation, a portion of the transaction price should be allocated to them (IFRS 15.73-86).\\n\\n6. **Recognition of Revenue**: Revenue should be recognized when (or as) the entity satisfies a performance obligation by transferring a promised good or service to a customer. If the free goods are a separate performance obligation, revenue related to them should be recognized when control of the goods is transferred to the customer (IFRS 15.31-38).\\n\\nThis ensures that the free goods are accounted for as part of the overall transaction and revenue is recognized in line with the transfer of goods or services to the customer.\\n\\nSources:\\n- IFRS 15 \"Revenue from Contracts with Customers,\" paragraphs B40, 22-30, 31-38, and 73-86.\\n- Novartis Annual Reports and financial statements for practical application and consistency with industry practices.\\n\\n', 'finance_check': {'observation': 'Yes'}, 'query_rerouter_check': {'observation': 'FRA'}, 'source_detector_check': {'observation': ['annual_reports_answer_node', 'fm_answer_node', 'ifrs_answer_node']}, 'ifrs_response': {'answer': 'As per IFRS 15, the treatment for free goods connected to commercial sales is as follows:\\n\\n- **Customer Options and Performance Obligations**: If a contract grants a customer the option to acquire additional goods or services for free or at a discount, this option gives rise to a performance obligation only if it provides a material right to the customer that it would not receive without entering into that contract (IFRS 15, B40).\\n\\n- **Material Right**: If the option provides a material right, the customer effectively pays the entity in advance for future goods or services. The entity recognizes revenue when those future goods or services are transferred or when the option expires (IFRS 15, B40).\\n\\n- **Revenue Recognition**: The entity must evaluate whether the free goods or services provide a material right and recognize revenue accordingly when the performance obligation is satisfied (IFRS 15, B40).\\n\\nThis ensures that the free goods are accounted for as part of the overall transaction and revenue is recognized in line with the transfer of goods or services to the customer.', 'metadata': []}, 'annual_reports_response': {'answer': 'No sufficient information.', 'metadata': []}, 'fm_response': {'answer': 'The treatment for free goods connected to commercial sales under IFRS is primarily governed by IFRS 15 \"Revenue from Contracts with Customers.\" According to IFRS 15, the key consideration is whether the free goods are considered a separate performance obligation within the contract.\\n\\n### Key Points from IFRS 15:\\n\\n1. **Identification of Performance Obligations (IFRS 15.22-30):**\\n   - Determine if the free goods are distinct and if they provide a benefit to the customer on their own or together with other readily available resources. If the free goods are distinct, they should be treated as a separate performance obligation.\\n\\n2. **Transaction Price Allocation (IFRS 15.73-86):**\\n   - Allocate the transaction price to each performance obligation based on the relative standalone selling prices. If the free goods are a separate performance obligation, a portion of the transaction price should be allocated to them.\\n\\n3. **Recognition of Revenue (IFRS 15.31-38):**\\n   - Revenue should be recognized when (or as) the entity satisfies a performance obligation by transferring a promised good or service to a customer. If the free goods are a separate performance obligation, revenue related to them should be recognized when control of the goods is transferred to the customer.\\n\\n### Example:\\nIf Novartis provides free samples of a new drug along with a commercial sale, the treatment would depend on whether the free samples are considered a separate performance obligation. If they are distinct, part of the transaction price from the commercial sale should be allocated to the free samples, and revenue should be recognized when the samples are delivered to the customer.\\n\\n### Sources:\\n- IFRS 15 \"Revenue from Contracts with Customers,\" paragraphs 22-30, 31-38, and 73-86.\\n- Novartis Annual Reports and financial statements for practical application and consistency with industry practices.\\n\\nBy following these guidelines, Novartis can ensure that the treatment of free goods connected to commercial sales is compliant with IFRS 15.', 'metadata': []}, 'unified_response': {'answer': 'The treatment for free goods connected to commercial sales under IFRS 15 \"Revenue from Contracts with Customers\" involves several key considerations:\\n\\n1. **Customer Options and Performance Obligations**: If a contract grants a customer the option to acquire additional goods or services for free or at a discount, this option gives rise to a performance obligation only if it provides a material right to the customer that it would not receive without entering into that contract (IFRS 15, B40).\\n\\n2. **Material Right**: If the option provides a material right, the customer effectively pays the entity in advance for future goods or services. The entity recognizes revenue when those future goods or services are transferred or when the option expires (IFRS 15, B40).\\n\\n3. **Revenue Recognition**: The entity must evaluate whether the free goods or services provide a material right and recognize revenue accordingly when the performance obligation is satisfied (IFRS 15, B40).\\n\\n4. **Identification of Performance Obligations**: Determine if the free goods are distinct and if they provide a benefit to the customer on their own or together with other readily available resources. If the free goods are distinct, they should be treated as a separate performance obligation (IFRS 15.22-30).\\n\\n5. **Transaction Price Allocation**: Allocate the transaction price to each performance obligation based on the relative standalone selling prices. If the free goods are a separate performance obligation, a portion of the transaction price should be allocated to them (IFRS 15.73-86).\\n\\n6. **Recognition of Revenue**: Revenue should be recognized when (or as) the entity satisfies a performance obligation by transferring a promised good or service to a customer. If the free goods are a separate performance obligation, revenue related to them should be recognized when control of the goods is transferred to the customer (IFRS 15.31-38).\\n\\nThis ensures that the free goods are accounted for as part of the overall transaction and revenue is recognized in line with the transfer of goods or services to the customer.\\n\\nSources:\\n- IFRS 15 \"Revenue from Contracts with Customers,\" paragraphs B40, 22-30, 31-38, and 73-86.\\n- Novartis Annual Reports and financial statements for practical application and consistency with industry practices.', 'metadata': []}, 'intermediate_steps': []}\u001b[0m\n",
      "------ENTERING: OVERALL STATUS CHECK NODE------\n",
      "-------------------------------- \u001b[1;31mFinal Answer\u001b[0m --------------------------------\n"
     ]
    },
    {
     "data": {
      "text/markdown": [
       "**FINAL ANSWER:** <font color=\"red\">### IFRS: \n",
       "As per IFRS 15, the treatment for free goods connected to commercial sales is as follows:\n",
       "\n",
       "- **Customer Options and Performance Obligations**: If a contract grants a customer the option to acquire additional goods or services for free or at a discount, this option gives rise to a performance obligation only if it provides a material right to the customer that it would not receive without entering into that contract (IFRS 15, B40).\n",
       "\n",
       "- **Material Right**: If the option provides a material right, the customer effectively pays the entity in advance for future goods or services. The entity recognizes revenue when those future goods or services are transferred or when the option expires (IFRS 15, B40).\n",
       "\n",
       "- **Revenue Recognition**: The entity must evaluate whether the free goods or services provide a material right and recognize revenue accordingly when the performance obligation is satisfied (IFRS 15, B40).\n",
       "\n",
       "This ensures that the free goods are accounted for as part of the overall transaction and revenue is recognized in line with the transfer of goods or services to the customer.\n",
       "\n",
       "---\n",
       "\n",
       "### Annual Reports: \n",
       "No sufficient information.\n",
       "\n",
       "---\n",
       "\n",
       "### Foundational ChatGPT: \n",
       "The treatment for free goods connected to commercial sales under IFRS is primarily governed by IFRS 15 \"Revenue from Contracts with Customers.\" According to IFRS 15, the key consideration is whether the free goods are considered a separate performance obligation within the contract.\n",
       "\n",
       "### Key Points from IFRS 15:\n",
       "\n",
       "1. **Identification of Performance Obligations (IFRS 15.22-30):**\n",
       "   - Determine if the free goods are distinct and if they provide a benefit to the customer on their own or together with other readily available resources. If the free goods are distinct, they should be treated as a separate performance obligation.\n",
       "\n",
       "2. **Transaction Price Allocation (IFRS 15.73-86):**\n",
       "   - Allocate the transaction price to each performance obligation based on the relative standalone selling prices. If the free goods are a separate performance obligation, a portion of the transaction price should be allocated to them.\n",
       "\n",
       "3. **Recognition of Revenue (IFRS 15.31-38):**\n",
       "   - Revenue should be recognized when (or as) the entity satisfies a performance obligation by transferring a promised good or service to a customer. If the free goods are a separate performance obligation, revenue related to them should be recognized when control of the goods is transferred to the customer.\n",
       "\n",
       "### Example:\n",
       "If Novartis provides free samples of a new drug along with a commercial sale, the treatment would depend on whether the free samples are considered a separate performance obligation. If they are distinct, part of the transaction price from the commercial sale should be allocated to the free samples, and revenue should be recognized when the samples are delivered to the customer.\n",
       "\n",
       "### Sources:\n",
       "- IFRS 15 \"Revenue from Contracts with Customers,\" paragraphs 22-30, 31-38, and 73-86.\n",
       "- Novartis Annual Reports and financial statements for practical application and consistency with industry practices.\n",
       "\n",
       "By following these guidelines, Novartis can ensure that the treatment of free goods connected to commercial sales is compliant with IFRS 15.\n",
       "\n",
       "---\n",
       "\n",
       "### Unified Response\n",
       "The treatment for free goods connected to commercial sales under IFRS 15 \"Revenue from Contracts with Customers\" involves several key considerations:\n",
       "\n",
       "1. **Customer Options and Performance Obligations**: If a contract grants a customer the option to acquire additional goods or services for free or at a discount, this option gives rise to a performance obligation only if it provides a material right to the customer that it would not receive without entering into that contract (IFRS 15, B40).\n",
       "\n",
       "2. **Material Right**: If the option provides a material right, the customer effectively pays the entity in advance for future goods or services. The entity recognizes revenue when those future goods or services are transferred or when the option expires (IFRS 15, B40).\n",
       "\n",
       "3. **Revenue Recognition**: The entity must evaluate whether the free goods or services provide a material right and recognize revenue accordingly when the performance obligation is satisfied (IFRS 15, B40).\n",
       "\n",
       "4. **Identification of Performance Obligations**: Determine if the free goods are distinct and if they provide a benefit to the customer on their own or together with other readily available resources. If the free goods are distinct, they should be treated as a separate performance obligation (IFRS 15.22-30).\n",
       "\n",
       "5. **Transaction Price Allocation**: Allocate the transaction price to each performance obligation based on the relative standalone selling prices. If the free goods are a separate performance obligation, a portion of the transaction price should be allocated to them (IFRS 15.73-86).\n",
       "\n",
       "6. **Recognition of Revenue**: Revenue should be recognized when (or as) the entity satisfies a performance obligation by transferring a promised good or service to a customer. If the free goods are a separate performance obligation, revenue related to them should be recognized when control of the goods is transferred to the customer (IFRS 15.31-38).\n",
       "\n",
       "This ensures that the free goods are accounted for as part of the overall transaction and revenue is recognized in line with the transfer of goods or services to the customer.\n",
       "\n",
       "Sources:\n",
       "- IFRS 15 \"Revenue from Contracts with Customers,\" paragraphs B40, 22-30, 31-38, and 73-86.\n",
       "- Novartis Annual Reports and financial statements for practical application and consistency with industry practices.\n",
       "\n",
       "</font>"
      ],
      "text/plain": [
       "<IPython.core.display.Markdown object>"
      ]
     },
     "metadata": {},
     "output_type": "display_data"
    },
    {
     "name": "stdout",
     "output_type": "stream",
     "text": [
      "\u001b[1;34m{'operation_id': 123456, 'user_id': 'nalabsr1', 'question': 'what is the treatment for free goods connected to commercial sales?', 'topic': 'DUMMY TOPIC', 'final_answer': '### IFRS: \\nAs per IFRS 15, the treatment for free goods connected to commercial sales is as follows:\\n\\n- **Customer Options and Performance Obligations**: If a contract grants a customer the option to acquire additional goods or services for free or at a discount, this option gives rise to a performance obligation only if it provides a material right to the customer that it would not receive without entering into that contract (IFRS 15, B40).\\n\\n- **Material Right**: If the option provides a material right, the customer effectively pays the entity in advance for future goods or services. The entity recognizes revenue when those future goods or services are transferred or when the option expires (IFRS 15, B40).\\n\\n- **Revenue Recognition**: The entity must evaluate whether the free goods or services provide a material right and recognize revenue accordingly when the performance obligation is satisfied (IFRS 15, B40).\\n\\nThis ensures that the free goods are accounted for as part of the overall transaction and revenue is recognized in line with the transfer of goods or services to the customer.\\n\\n---\\n\\n### Annual Reports: \\nNo sufficient information.\\n\\n---\\n\\n### Foundational ChatGPT: \\nThe treatment for free goods connected to commercial sales under IFRS is primarily governed by IFRS 15 \"Revenue from Contracts with Customers.\" According to IFRS 15, the key consideration is whether the free goods are considered a separate performance obligation within the contract.\\n\\n### Key Points from IFRS 15:\\n\\n1. **Identification of Performance Obligations (IFRS 15.22-30):**\\n   - Determine if the free goods are distinct and if they provide a benefit to the customer on their own or together with other readily available resources. If the free goods are distinct, they should be treated as a separate performance obligation.\\n\\n2. **Transaction Price Allocation (IFRS 15.73-86):**\\n   - Allocate the transaction price to each performance obligation based on the relative standalone selling prices. If the free goods are a separate performance obligation, a portion of the transaction price should be allocated to them.\\n\\n3. **Recognition of Revenue (IFRS 15.31-38):**\\n   - Revenue should be recognized when (or as) the entity satisfies a performance obligation by transferring a promised good or service to a customer. If the free goods are a separate performance obligation, revenue related to them should be recognized when control of the goods is transferred to the customer.\\n\\n### Example:\\nIf Novartis provides free samples of a new drug along with a commercial sale, the treatment would depend on whether the free samples are considered a separate performance obligation. If they are distinct, part of the transaction price from the commercial sale should be allocated to the free samples, and revenue should be recognized when the samples are delivered to the customer.\\n\\n### Sources:\\n- IFRS 15 \"Revenue from Contracts with Customers,\" paragraphs 22-30, 31-38, and 73-86.\\n- Novartis Annual Reports and financial statements for practical application and consistency with industry practices.\\n\\nBy following these guidelines, Novartis can ensure that the treatment of free goods connected to commercial sales is compliant with IFRS 15.\\n\\n---\\n\\n### Unified Response\\nThe treatment for free goods connected to commercial sales under IFRS 15 \"Revenue from Contracts with Customers\" involves several key considerations:\\n\\n1. **Customer Options and Performance Obligations**: If a contract grants a customer the option to acquire additional goods or services for free or at a discount, this option gives rise to a performance obligation only if it provides a material right to the customer that it would not receive without entering into that contract (IFRS 15, B40).\\n\\n2. **Material Right**: If the option provides a material right, the customer effectively pays the entity in advance for future goods or services. The entity recognizes revenue when those future goods or services are transferred or when the option expires (IFRS 15, B40).\\n\\n3. **Revenue Recognition**: The entity must evaluate whether the free goods or services provide a material right and recognize revenue accordingly when the performance obligation is satisfied (IFRS 15, B40).\\n\\n4. **Identification of Performance Obligations**: Determine if the free goods are distinct and if they provide a benefit to the customer on their own or together with other readily available resources. If the free goods are distinct, they should be treated as a separate performance obligation (IFRS 15.22-30).\\n\\n5. **Transaction Price Allocation**: Allocate the transaction price to each performance obligation based on the relative standalone selling prices. If the free goods are a separate performance obligation, a portion of the transaction price should be allocated to them (IFRS 15.73-86).\\n\\n6. **Recognition of Revenue**: Revenue should be recognized when (or as) the entity satisfies a performance obligation by transferring a promised good or service to a customer. If the free goods are a separate performance obligation, revenue related to them should be recognized when control of the goods is transferred to the customer (IFRS 15.31-38).\\n\\nThis ensures that the free goods are accounted for as part of the overall transaction and revenue is recognized in line with the transfer of goods or services to the customer.\\n\\nSources:\\n- IFRS 15 \"Revenue from Contracts with Customers,\" paragraphs B40, 22-30, 31-38, and 73-86.\\n- Novartis Annual Reports and financial statements for practical application and consistency with industry practices.\\n\\n', 'finance_check': {'observation': 'Yes'}, 'query_rerouter_check': {'observation': 'FRA'}, 'source_detector_check': {'observation': ['annual_reports_answer_node', 'fm_answer_node', 'ifrs_answer_node']}, 'overall_status_check': {'observation': 'Completed'}, 'ifrs_response': {'answer': 'As per IFRS 15, the treatment for free goods connected to commercial sales is as follows:\\n\\n- **Customer Options and Performance Obligations**: If a contract grants a customer the option to acquire additional goods or services for free or at a discount, this option gives rise to a performance obligation only if it provides a material right to the customer that it would not receive without entering into that contract (IFRS 15, B40).\\n\\n- **Material Right**: If the option provides a material right, the customer effectively pays the entity in advance for future goods or services. The entity recognizes revenue when those future goods or services are transferred or when the option expires (IFRS 15, B40).\\n\\n- **Revenue Recognition**: The entity must evaluate whether the free goods or services provide a material right and recognize revenue accordingly when the performance obligation is satisfied (IFRS 15, B40).\\n\\nThis ensures that the free goods are accounted for as part of the overall transaction and revenue is recognized in line with the transfer of goods or services to the customer.', 'metadata': []}, 'annual_reports_response': {'answer': 'No sufficient information.', 'metadata': []}, 'fm_response': {'answer': 'The treatment for free goods connected to commercial sales under IFRS is primarily governed by IFRS 15 \"Revenue from Contracts with Customers.\" According to IFRS 15, the key consideration is whether the free goods are considered a separate performance obligation within the contract.\\n\\n### Key Points from IFRS 15:\\n\\n1. **Identification of Performance Obligations (IFRS 15.22-30):**\\n   - Determine if the free goods are distinct and if they provide a benefit to the customer on their own or together with other readily available resources. If the free goods are distinct, they should be treated as a separate performance obligation.\\n\\n2. **Transaction Price Allocation (IFRS 15.73-86):**\\n   - Allocate the transaction price to each performance obligation based on the relative standalone selling prices. If the free goods are a separate performance obligation, a portion of the transaction price should be allocated to them.\\n\\n3. **Recognition of Revenue (IFRS 15.31-38):**\\n   - Revenue should be recognized when (or as) the entity satisfies a performance obligation by transferring a promised good or service to a customer. If the free goods are a separate performance obligation, revenue related to them should be recognized when control of the goods is transferred to the customer.\\n\\n### Example:\\nIf Novartis provides free samples of a new drug along with a commercial sale, the treatment would depend on whether the free samples are considered a separate performance obligation. If they are distinct, part of the transaction price from the commercial sale should be allocated to the free samples, and revenue should be recognized when the samples are delivered to the customer.\\n\\n### Sources:\\n- IFRS 15 \"Revenue from Contracts with Customers,\" paragraphs 22-30, 31-38, and 73-86.\\n- Novartis Annual Reports and financial statements for practical application and consistency with industry practices.\\n\\nBy following these guidelines, Novartis can ensure that the treatment of free goods connected to commercial sales is compliant with IFRS 15.', 'metadata': []}, 'unified_response': {'answer': 'The treatment for free goods connected to commercial sales under IFRS 15 \"Revenue from Contracts with Customers\" involves several key considerations:\\n\\n1. **Customer Options and Performance Obligations**: If a contract grants a customer the option to acquire additional goods or services for free or at a discount, this option gives rise to a performance obligation only if it provides a material right to the customer that it would not receive without entering into that contract (IFRS 15, B40).\\n\\n2. **Material Right**: If the option provides a material right, the customer effectively pays the entity in advance for future goods or services. The entity recognizes revenue when those future goods or services are transferred or when the option expires (IFRS 15, B40).\\n\\n3. **Revenue Recognition**: The entity must evaluate whether the free goods or services provide a material right and recognize revenue accordingly when the performance obligation is satisfied (IFRS 15, B40).\\n\\n4. **Identification of Performance Obligations**: Determine if the free goods are distinct and if they provide a benefit to the customer on their own or together with other readily available resources. If the free goods are distinct, they should be treated as a separate performance obligation (IFRS 15.22-30).\\n\\n5. **Transaction Price Allocation**: Allocate the transaction price to each performance obligation based on the relative standalone selling prices. If the free goods are a separate performance obligation, a portion of the transaction price should be allocated to them (IFRS 15.73-86).\\n\\n6. **Recognition of Revenue**: Revenue should be recognized when (or as) the entity satisfies a performance obligation by transferring a promised good or service to a customer. If the free goods are a separate performance obligation, revenue related to them should be recognized when control of the goods is transferred to the customer (IFRS 15.31-38).\\n\\nThis ensures that the free goods are accounted for as part of the overall transaction and revenue is recognized in line with the transfer of goods or services to the customer.\\n\\nSources:\\n- IFRS 15 \"Revenue from Contracts with Customers,\" paragraphs B40, 22-30, 31-38, and 73-86.\\n- Novartis Annual Reports and financial statements for practical application and consistency with industry practices.', 'metadata': []}, 'intermediate_steps': []}\u001b[0m\n",
      "--------------------------------------------------------\n",
      "\u001b[1;31mTotal Time Taken - [14.23]\u001b[0m\n",
      "--------------------------------------------------------\n"
     ]
    }
   ],
   "source": [
    "question = \"what is the treatment for free goods connected to commercial sales?\"\n",
    "run_answer(question, 89)"
   ]
  },
  {
   "cell_type": "code",
   "execution_count": 112,
   "id": "6e9ceacb-acf1-42b5-84c3-fcc41409b9d3",
   "metadata": {
    "tags": []
   },
   "outputs": [
    {
     "name": "stdout",
     "output_type": "stream",
     "text": [
      "\u001b[1;34m{'operation_id': 123456, 'user_id': 'nalabsr1', 'question': 'How do I account for Gains on sales of fixed assets?', 'final_answer': '', 'intermediate_steps': []}\u001b[0m\n",
      "------ENTERING: TOPIC MODELLING NODE------\n",
      "============================================\n",
      "{'operation_id': 123456, 'user_id': 'nalabsr1', 'question': 'How do I account for Gains on sales of fixed assets?', 'topic': None, 'requested_datasources': None, 'final_answer': '', 'finance_check': None, 'query_rerouter_check': None, 'source_detector_check': None, 'overall_status_check': None, 'generic_response': None, 'web_response': None, 'ifrs_response': None, 'annual_reports_response': None, 'fm_response': None, 'unified_response': None, 'intermediate_steps': []}\n",
      "============================================\n",
      "------OBSERVATION: DUMMY TOPIC------\n",
      "\u001b[1;34m{'operation_id': 123456, 'user_id': 'nalabsr1', 'question': 'How do I account for Gains on sales of fixed assets?', 'topic': 'DUMMY TOPIC', 'final_answer': '', 'intermediate_steps': []}\u001b[0m\n",
      "------ENTERING: FINANCE CHECK NODE------\n",
      "------OBSERVATION: Yes------\n",
      "------DECISION: INVOKE QUERY REROUTER NODE------\n",
      "\u001b[1;34m{'operation_id': 123456, 'user_id': 'nalabsr1', 'question': 'How do I account for Gains on sales of fixed assets?', 'topic': 'DUMMY TOPIC', 'final_answer': '', 'finance_check': {'observation': 'Yes'}, 'intermediate_steps': []}\u001b[0m\n",
      "------ENTERING: QUERY REROUTER NODE------\n",
      "------OBSERVATION: FRA------\n",
      "------DECISION: INVOKE SOURCE DETECTOR NODE------\n",
      "\u001b[1;34m{'operation_id': 123456, 'user_id': 'nalabsr1', 'question': 'How do I account for Gains on sales of fixed assets?', 'topic': 'DUMMY TOPIC', 'final_answer': '', 'finance_check': {'observation': 'Yes'}, 'query_rerouter_check': {'observation': 'FRA'}, 'intermediate_steps': []}\u001b[0m\n",
      "------ENTERING: SOURCE DETECTOR NODE------\n",
      "------SOURCES DETECTED: ['annual_reports_answer_node', 'fm_answer_node', 'ifrs_answer_node']------\n",
      "\u001b[1;34m{'operation_id': 123456, 'user_id': 'nalabsr1', 'question': 'How do I account for Gains on sales of fixed assets?', 'topic': 'DUMMY TOPIC', 'final_answer': '', 'finance_check': {'observation': 'Yes'}, 'query_rerouter_check': {'observation': 'FRA'}, 'source_detector_check': {'observation': ['annual_reports_answer_node', 'fm_answer_node', 'ifrs_answer_node']}, 'intermediate_steps': []}\u001b[0m\n",
      "------ENTERING: IFRS ANSWER NODE------\n",
      "------ENTERING: ANNUAL REPORTS ANSWER NODE------\n",
      "------ENTERING: FOUNDATIONAL ANSWER NODE------\n"
     ]
    },
    {
     "data": {
      "text/markdown": [
       "**IFRS ANSWER:** <font color=\"red\">As per IAS 16, gains on the sale of fixed assets (property, plant, and equipment) should be accounted for as follows:\n",
       "\n",
       "- **Derecognition**: The carrying amount of the asset should be derecognized at the date of disposal (paragraph 67-72).\n",
       "- **Recognition of Gain or Loss**: Any gain or loss arising from the derecognition of the asset should be recognized in profit or loss. This gain or loss is calculated as the difference between the net disposal proceeds and the carrying amount of the asset (paragraph 71).\n",
       "\n",
       "Therefore, the gain on the sale of fixed assets should be recognized in the profit or loss statement at the date of derecognition.</font>"
      ],
      "text/plain": [
       "<IPython.core.display.Markdown object>"
      ]
     },
     "metadata": {},
     "output_type": "display_data"
    },
    {
     "data": {
      "text/markdown": [
       "**FOUNDATIONAL ANSWER:** <font color=\"red\">To account for gains on the sale of fixed assets, you need to follow the guidance provided by IAS 16 \"Property, Plant and Equipment\" and IFRS 5 \"Non-current Assets Held for Sale and Discontinued Operations\" if applicable.\n",
       "\n",
       "### Step-by-Step Accounting for Gains on Sales of Fixed Assets:\n",
       "\n",
       "1. **Determine the Carrying Amount:**\n",
       "   - The carrying amount of the fixed asset is its cost less any accumulated depreciation and any accumulated impairment losses (IAS 16.6).\n",
       "\n",
       "2. **Calculate the Gain:**\n",
       "   - The gain on the sale of a fixed asset is calculated as the difference between the net disposal proceeds and the carrying amount of the asset at the time of sale (IAS 16.71).\n",
       "\n",
       "3. **Recognize the Gain:**\n",
       "   - The gain should be recognized in profit or loss when the asset is derecognized (IAS 16.68). Derecognition occurs when the asset is disposed of or when no future economic benefits are expected from its use or disposal (IAS 16.67).\n",
       "\n",
       "4. **Presentation in Financial Statements:**\n",
       "   - Gains on the sale of fixed assets should be presented in the income statement as part of other income or separately if material (IAS 1.97).\n",
       "\n",
       "### Example Journal Entry:\n",
       "Assume a fixed asset with a carrying amount of $50,000 is sold for $70,000.\n",
       "\n",
       "- **Journal Entry:**\n",
       "  - Debit: Cash/Bank $70,000\n",
       "  - Credit: Fixed Asset $50,000\n",
       "  - Credit: Gain on Sale of Fixed Asset $20,000\n",
       "\n",
       "### Relevant IFRS/IAS Paragraphs:\n",
       "- **IAS 16.6:** Definition of carrying amount.\n",
       "- **IAS 16.67:** Derecognition of an asset.\n",
       "- **IAS 16.68:** Recognition of gain or loss on derecognition.\n",
       "- **IAS 16.71:** Calculation of gain or loss on disposal.\n",
       "- **IAS 1.97:** Presentation of gains in the income statement.\n",
       "\n",
       "### Sources:\n",
       "- IAS 16 \"Property, Plant and Equipment\"\n",
       "- IAS 1 \"Presentation of Financial Statements\"\n",
       "\n",
       "By following these steps and referencing the relevant IFRS/IAS paragraphs, you can accurately account for gains on the sale of fixed assets in compliance with international financial reporting standards.</font>"
      ],
      "text/plain": [
       "<IPython.core.display.Markdown object>"
      ]
     },
     "metadata": {},
     "output_type": "display_data"
    },
    {
     "data": {
      "text/markdown": [
       "**ANNUAL REPORTS ANSWER:** <font color=\"red\">NO GUIDANCE</font>"
      ],
      "text/plain": [
       "<IPython.core.display.Markdown object>"
      ]
     },
     "metadata": {},
     "output_type": "display_data"
    },
    {
     "name": "stdout",
     "output_type": "stream",
     "text": [
      "\u001b[1;34m{'operation_id': 123456, 'user_id': 'nalabsr1', 'question': 'How do I account for Gains on sales of fixed assets?', 'topic': 'DUMMY TOPIC', 'final_answer': '', 'finance_check': {'observation': 'Yes'}, 'query_rerouter_check': {'observation': 'FRA'}, 'source_detector_check': {'observation': ['annual_reports_answer_node', 'fm_answer_node', 'ifrs_answer_node']}, 'ifrs_response': {'answer': 'As per IAS 16, gains on the sale of fixed assets (property, plant, and equipment) should be accounted for as follows:\\n\\n- **Derecognition**: The carrying amount of the asset should be derecognized at the date of disposal (paragraph 67-72).\\n- **Recognition of Gain or Loss**: Any gain or loss arising from the derecognition of the asset should be recognized in profit or loss. This gain or loss is calculated as the difference between the net disposal proceeds and the carrying amount of the asset (paragraph 71).\\n\\nTherefore, the gain on the sale of fixed assets should be recognized in the profit or loss statement at the date of derecognition.', 'metadata': []}, 'annual_reports_response': {'answer': 'NO GUIDANCE', 'metadata': []}, 'fm_response': {'answer': 'To account for gains on the sale of fixed assets, you need to follow the guidance provided by IAS 16 \"Property, Plant and Equipment\" and IFRS 5 \"Non-current Assets Held for Sale and Discontinued Operations\" if applicable.\\n\\n### Step-by-Step Accounting for Gains on Sales of Fixed Assets:\\n\\n1. **Determine the Carrying Amount:**\\n   - The carrying amount of the fixed asset is its cost less any accumulated depreciation and any accumulated impairment losses (IAS 16.6).\\n\\n2. **Calculate the Gain:**\\n   - The gain on the sale of a fixed asset is calculated as the difference between the net disposal proceeds and the carrying amount of the asset at the time of sale (IAS 16.71).\\n\\n3. **Recognize the Gain:**\\n   - The gain should be recognized in profit or loss when the asset is derecognized (IAS 16.68). Derecognition occurs when the asset is disposed of or when no future economic benefits are expected from its use or disposal (IAS 16.67).\\n\\n4. **Presentation in Financial Statements:**\\n   - Gains on the sale of fixed assets should be presented in the income statement as part of other income or separately if material (IAS 1.97).\\n\\n### Example Journal Entry:\\nAssume a fixed asset with a carrying amount of $50,000 is sold for $70,000.\\n\\n- **Journal Entry:**\\n  - Debit: Cash/Bank $70,000\\n  - Credit: Fixed Asset $50,000\\n  - Credit: Gain on Sale of Fixed Asset $20,000\\n\\n### Relevant IFRS/IAS Paragraphs:\\n- **IAS 16.6:** Definition of carrying amount.\\n- **IAS 16.67:** Derecognition of an asset.\\n- **IAS 16.68:** Recognition of gain or loss on derecognition.\\n- **IAS 16.71:** Calculation of gain or loss on disposal.\\n- **IAS 1.97:** Presentation of gains in the income statement.\\n\\n### Sources:\\n- IAS 16 \"Property, Plant and Equipment\"\\n- IAS 1 \"Presentation of Financial Statements\"\\n\\nBy following these steps and referencing the relevant IFRS/IAS paragraphs, you can accurately account for gains on the sale of fixed assets in compliance with international financial reporting standards.', 'metadata': []}, 'intermediate_steps': []}\u001b[0m\n",
      "------ENTERING: UNIFIED ANSWER NODE------\n"
     ]
    },
    {
     "data": {
      "application/json": {
       "annual_reports_response": {
        "answer": "NO GUIDANCE",
        "metadata": []
       },
       "final_answer": "",
       "finance_check": {
        "observation": "Yes"
       },
       "fm_response": {
        "answer": "To account for gains on the sale of fixed assets, you need to follow the guidance provided by IAS 16 \"Property, Plant and Equipment\" and IFRS 5 \"Non-current Assets Held for Sale and Discontinued Operations\" if applicable.\n\n### Step-by-Step Accounting for Gains on Sales of Fixed Assets:\n\n1. **Determine the Carrying Amount:**\n   - The carrying amount of the fixed asset is its cost less any accumulated depreciation and any accumulated impairment losses (IAS 16.6).\n\n2. **Calculate the Gain:**\n   - The gain on the sale of a fixed asset is calculated as the difference between the net disposal proceeds and the carrying amount of the asset at the time of sale (IAS 16.71).\n\n3. **Recognize the Gain:**\n   - The gain should be recognized in profit or loss when the asset is derecognized (IAS 16.68). Derecognition occurs when the asset is disposed of or when no future economic benefits are expected from its use or disposal (IAS 16.67).\n\n4. **Presentation in Financial Statements:**\n   - Gains on the sale of fixed assets should be presented in the income statement as part of other income or separately if material (IAS 1.97).\n\n### Example Journal Entry:\nAssume a fixed asset with a carrying amount of $50,000 is sold for $70,000.\n\n- **Journal Entry:**\n  - Debit: Cash/Bank $70,000\n  - Credit: Fixed Asset $50,000\n  - Credit: Gain on Sale of Fixed Asset $20,000\n\n### Relevant IFRS/IAS Paragraphs:\n- **IAS 16.6:** Definition of carrying amount.\n- **IAS 16.67:** Derecognition of an asset.\n- **IAS 16.68:** Recognition of gain or loss on derecognition.\n- **IAS 16.71:** Calculation of gain or loss on disposal.\n- **IAS 1.97:** Presentation of gains in the income statement.\n\n### Sources:\n- IAS 16 \"Property, Plant and Equipment\"\n- IAS 1 \"Presentation of Financial Statements\"\n\nBy following these steps and referencing the relevant IFRS/IAS paragraphs, you can accurately account for gains on the sale of fixed assets in compliance with international financial reporting standards.",
        "metadata": []
       },
       "generic_response": null,
       "ifrs_response": {
        "answer": "As per IAS 16, gains on the sale of fixed assets (property, plant, and equipment) should be accounted for as follows:\n\n- **Derecognition**: The carrying amount of the asset should be derecognized at the date of disposal (paragraph 67-72).\n- **Recognition of Gain or Loss**: Any gain or loss arising from the derecognition of the asset should be recognized in profit or loss. This gain or loss is calculated as the difference between the net disposal proceeds and the carrying amount of the asset (paragraph 71).\n\nTherefore, the gain on the sale of fixed assets should be recognized in the profit or loss statement at the date of derecognition.",
        "metadata": []
       },
       "intermediate_steps": [],
       "operation_id": 123456,
       "overall_status_check": null,
       "query_rerouter_check": {
        "observation": "FRA"
       },
       "question": "How do I account for Gains on sales of fixed assets?",
       "requested_datasources": null,
       "source_detector_check": {
        "observation": [
         "annual_reports_answer_node",
         "fm_answer_node",
         "ifrs_answer_node"
        ]
       },
       "topic": "DUMMY TOPIC",
       "unified_response": null,
       "user_id": "nalabsr1",
       "web_response": null
      },
      "text/plain": [
       "<IPython.core.display.JSON object>"
      ]
     },
     "metadata": {
      "application/json": {
       "expanded": false,
       "root": "root"
      }
     },
     "output_type": "display_data"
    },
    {
     "data": {
      "text/markdown": [
       "**UNIFIED ANSWER:** <font color=\"red\">To account for gains on the sale of fixed assets, follow the guidance provided by IAS 16 \"Property, Plant, and Equipment.\"\n",
       "\n",
       "### Step-by-Step Accounting for Gains on Sales of Fixed Assets:\n",
       "\n",
       "1. **Derecognition**: The carrying amount of the asset should be derecognized at the date of disposal (IAS 16.67-72).\n",
       "2. **Calculate the Gain**: The gain is calculated as the difference between the net disposal proceeds and the carrying amount of the asset (IAS 16.71).\n",
       "3. **Recognition of Gain**: Any gain arising from the derecognition of the asset should be recognized in profit or loss (IAS 16.68).\n",
       "4. **Presentation in Financial Statements**: Gains on the sale of fixed assets should be presented in the income statement as part of other income or separately if material (IAS 1.97).\n",
       "\n",
       "### Example Journal Entry:\n",
       "Assume a fixed asset with a carrying amount of $50,000 is sold for $70,000.\n",
       "\n",
       "- **Journal Entry:**\n",
       "  - Debit: Cash/Bank $70,000\n",
       "  - Credit: Fixed Asset $50,000\n",
       "  - Credit: Gain on Sale of Fixed Asset $20,000\n",
       "\n",
       "### Relevant IFRS/IAS Paragraphs:\n",
       "- **IAS 16.6**: Definition of carrying amount.\n",
       "- **IAS 16.67**: Derecognition of an asset.\n",
       "- **IAS 16.68**: Recognition of gain or loss on derecognition.\n",
       "- **IAS 16.71**: Calculation of gain or loss on disposal.\n",
       "- **IAS 1.97**: Presentation of gains in the income statement.\n",
       "\n",
       "By following these steps and referencing the relevant IFRS/IAS paragraphs, you can accurately account for gains on the sale of fixed assets in compliance with international financial reporting standards.</font>"
      ],
      "text/plain": [
       "<IPython.core.display.Markdown object>"
      ]
     },
     "metadata": {},
     "output_type": "display_data"
    },
    {
     "name": "stdout",
     "output_type": "stream",
     "text": [
      "\u001b[1;34m{'operation_id': 123456, 'user_id': 'nalabsr1', 'question': 'How do I account for Gains on sales of fixed assets?', 'topic': 'DUMMY TOPIC', 'final_answer': '### IFRS: \\nAs per IAS 16, gains on the sale of fixed assets (property, plant, and equipment) should be accounted for as follows:\\n\\n- **Derecognition**: The carrying amount of the asset should be derecognized at the date of disposal (paragraph 67-72).\\n- **Recognition of Gain or Loss**: Any gain or loss arising from the derecognition of the asset should be recognized in profit or loss. This gain or loss is calculated as the difference between the net disposal proceeds and the carrying amount of the asset (paragraph 71).\\n\\nTherefore, the gain on the sale of fixed assets should be recognized in the profit or loss statement at the date of derecognition.\\n\\n---\\n\\n### Annual Reports: \\nNO GUIDANCE\\n\\n---\\n\\n### Foundational ChatGPT: \\nTo account for gains on the sale of fixed assets, you need to follow the guidance provided by IAS 16 \"Property, Plant and Equipment\" and IFRS 5 \"Non-current Assets Held for Sale and Discontinued Operations\" if applicable.\\n\\n### Step-by-Step Accounting for Gains on Sales of Fixed Assets:\\n\\n1. **Determine the Carrying Amount:**\\n   - The carrying amount of the fixed asset is its cost less any accumulated depreciation and any accumulated impairment losses (IAS 16.6).\\n\\n2. **Calculate the Gain:**\\n   - The gain on the sale of a fixed asset is calculated as the difference between the net disposal proceeds and the carrying amount of the asset at the time of sale (IAS 16.71).\\n\\n3. **Recognize the Gain:**\\n   - The gain should be recognized in profit or loss when the asset is derecognized (IAS 16.68). Derecognition occurs when the asset is disposed of or when no future economic benefits are expected from its use or disposal (IAS 16.67).\\n\\n4. **Presentation in Financial Statements:**\\n   - Gains on the sale of fixed assets should be presented in the income statement as part of other income or separately if material (IAS 1.97).\\n\\n### Example Journal Entry:\\nAssume a fixed asset with a carrying amount of $50,000 is sold for $70,000.\\n\\n- **Journal Entry:**\\n  - Debit: Cash/Bank $70,000\\n  - Credit: Fixed Asset $50,000\\n  - Credit: Gain on Sale of Fixed Asset $20,000\\n\\n### Relevant IFRS/IAS Paragraphs:\\n- **IAS 16.6:** Definition of carrying amount.\\n- **IAS 16.67:** Derecognition of an asset.\\n- **IAS 16.68:** Recognition of gain or loss on derecognition.\\n- **IAS 16.71:** Calculation of gain or loss on disposal.\\n- **IAS 1.97:** Presentation of gains in the income statement.\\n\\n### Sources:\\n- IAS 16 \"Property, Plant and Equipment\"\\n- IAS 1 \"Presentation of Financial Statements\"\\n\\nBy following these steps and referencing the relevant IFRS/IAS paragraphs, you can accurately account for gains on the sale of fixed assets in compliance with international financial reporting standards.\\n\\n---\\n\\n### Unified Response\\nTo account for gains on the sale of fixed assets, follow the guidance provided by IAS 16 \"Property, Plant, and Equipment.\"\\n\\n### Step-by-Step Accounting for Gains on Sales of Fixed Assets:\\n\\n1. **Derecognition**: The carrying amount of the asset should be derecognized at the date of disposal (IAS 16.67-72).\\n2. **Calculate the Gain**: The gain is calculated as the difference between the net disposal proceeds and the carrying amount of the asset (IAS 16.71).\\n3. **Recognition of Gain**: Any gain arising from the derecognition of the asset should be recognized in profit or loss (IAS 16.68).\\n4. **Presentation in Financial Statements**: Gains on the sale of fixed assets should be presented in the income statement as part of other income or separately if material (IAS 1.97).\\n\\n### Example Journal Entry:\\nAssume a fixed asset with a carrying amount of $50,000 is sold for $70,000.\\n\\n- **Journal Entry:**\\n  - Debit: Cash/Bank $70,000\\n  - Credit: Fixed Asset $50,000\\n  - Credit: Gain on Sale of Fixed Asset $20,000\\n\\n### Relevant IFRS/IAS Paragraphs:\\n- **IAS 16.6**: Definition of carrying amount.\\n- **IAS 16.67**: Derecognition of an asset.\\n- **IAS 16.68**: Recognition of gain or loss on derecognition.\\n- **IAS 16.71**: Calculation of gain or loss on disposal.\\n- **IAS 1.97**: Presentation of gains in the income statement.\\n\\nBy following these steps and referencing the relevant IFRS/IAS paragraphs, you can accurately account for gains on the sale of fixed assets in compliance with international financial reporting standards.\\n\\n', 'finance_check': {'observation': 'Yes'}, 'query_rerouter_check': {'observation': 'FRA'}, 'source_detector_check': {'observation': ['annual_reports_answer_node', 'fm_answer_node', 'ifrs_answer_node']}, 'ifrs_response': {'answer': 'As per IAS 16, gains on the sale of fixed assets (property, plant, and equipment) should be accounted for as follows:\\n\\n- **Derecognition**: The carrying amount of the asset should be derecognized at the date of disposal (paragraph 67-72).\\n- **Recognition of Gain or Loss**: Any gain or loss arising from the derecognition of the asset should be recognized in profit or loss. This gain or loss is calculated as the difference between the net disposal proceeds and the carrying amount of the asset (paragraph 71).\\n\\nTherefore, the gain on the sale of fixed assets should be recognized in the profit or loss statement at the date of derecognition.', 'metadata': []}, 'annual_reports_response': {'answer': 'NO GUIDANCE', 'metadata': []}, 'fm_response': {'answer': 'To account for gains on the sale of fixed assets, you need to follow the guidance provided by IAS 16 \"Property, Plant and Equipment\" and IFRS 5 \"Non-current Assets Held for Sale and Discontinued Operations\" if applicable.\\n\\n### Step-by-Step Accounting for Gains on Sales of Fixed Assets:\\n\\n1. **Determine the Carrying Amount:**\\n   - The carrying amount of the fixed asset is its cost less any accumulated depreciation and any accumulated impairment losses (IAS 16.6).\\n\\n2. **Calculate the Gain:**\\n   - The gain on the sale of a fixed asset is calculated as the difference between the net disposal proceeds and the carrying amount of the asset at the time of sale (IAS 16.71).\\n\\n3. **Recognize the Gain:**\\n   - The gain should be recognized in profit or loss when the asset is derecognized (IAS 16.68). Derecognition occurs when the asset is disposed of or when no future economic benefits are expected from its use or disposal (IAS 16.67).\\n\\n4. **Presentation in Financial Statements:**\\n   - Gains on the sale of fixed assets should be presented in the income statement as part of other income or separately if material (IAS 1.97).\\n\\n### Example Journal Entry:\\nAssume a fixed asset with a carrying amount of $50,000 is sold for $70,000.\\n\\n- **Journal Entry:**\\n  - Debit: Cash/Bank $70,000\\n  - Credit: Fixed Asset $50,000\\n  - Credit: Gain on Sale of Fixed Asset $20,000\\n\\n### Relevant IFRS/IAS Paragraphs:\\n- **IAS 16.6:** Definition of carrying amount.\\n- **IAS 16.67:** Derecognition of an asset.\\n- **IAS 16.68:** Recognition of gain or loss on derecognition.\\n- **IAS 16.71:** Calculation of gain or loss on disposal.\\n- **IAS 1.97:** Presentation of gains in the income statement.\\n\\n### Sources:\\n- IAS 16 \"Property, Plant and Equipment\"\\n- IAS 1 \"Presentation of Financial Statements\"\\n\\nBy following these steps and referencing the relevant IFRS/IAS paragraphs, you can accurately account for gains on the sale of fixed assets in compliance with international financial reporting standards.', 'metadata': []}, 'unified_response': {'answer': 'To account for gains on the sale of fixed assets, follow the guidance provided by IAS 16 \"Property, Plant, and Equipment.\"\\n\\n### Step-by-Step Accounting for Gains on Sales of Fixed Assets:\\n\\n1. **Derecognition**: The carrying amount of the asset should be derecognized at the date of disposal (IAS 16.67-72).\\n2. **Calculate the Gain**: The gain is calculated as the difference between the net disposal proceeds and the carrying amount of the asset (IAS 16.71).\\n3. **Recognition of Gain**: Any gain arising from the derecognition of the asset should be recognized in profit or loss (IAS 16.68).\\n4. **Presentation in Financial Statements**: Gains on the sale of fixed assets should be presented in the income statement as part of other income or separately if material (IAS 1.97).\\n\\n### Example Journal Entry:\\nAssume a fixed asset with a carrying amount of $50,000 is sold for $70,000.\\n\\n- **Journal Entry:**\\n  - Debit: Cash/Bank $70,000\\n  - Credit: Fixed Asset $50,000\\n  - Credit: Gain on Sale of Fixed Asset $20,000\\n\\n### Relevant IFRS/IAS Paragraphs:\\n- **IAS 16.6**: Definition of carrying amount.\\n- **IAS 16.67**: Derecognition of an asset.\\n- **IAS 16.68**: Recognition of gain or loss on derecognition.\\n- **IAS 16.71**: Calculation of gain or loss on disposal.\\n- **IAS 1.97**: Presentation of gains in the income statement.\\n\\nBy following these steps and referencing the relevant IFRS/IAS paragraphs, you can accurately account for gains on the sale of fixed assets in compliance with international financial reporting standards.', 'metadata': []}, 'intermediate_steps': []}\u001b[0m\n",
      "------ENTERING: OVERALL STATUS CHECK NODE------\n",
      "-------------------------------- \u001b[1;31mFinal Answer\u001b[0m --------------------------------\n"
     ]
    },
    {
     "data": {
      "text/markdown": [
       "**FINAL ANSWER:** <font color=\"red\">### IFRS: \n",
       "As per IAS 16, gains on the sale of fixed assets (property, plant, and equipment) should be accounted for as follows:\n",
       "\n",
       "- **Derecognition**: The carrying amount of the asset should be derecognized at the date of disposal (paragraph 67-72).\n",
       "- **Recognition of Gain or Loss**: Any gain or loss arising from the derecognition of the asset should be recognized in profit or loss. This gain or loss is calculated as the difference between the net disposal proceeds and the carrying amount of the asset (paragraph 71).\n",
       "\n",
       "Therefore, the gain on the sale of fixed assets should be recognized in the profit or loss statement at the date of derecognition.\n",
       "\n",
       "---\n",
       "\n",
       "### Annual Reports: \n",
       "NO GUIDANCE\n",
       "\n",
       "---\n",
       "\n",
       "### Foundational ChatGPT: \n",
       "To account for gains on the sale of fixed assets, you need to follow the guidance provided by IAS 16 \"Property, Plant and Equipment\" and IFRS 5 \"Non-current Assets Held for Sale and Discontinued Operations\" if applicable.\n",
       "\n",
       "### Step-by-Step Accounting for Gains on Sales of Fixed Assets:\n",
       "\n",
       "1. **Determine the Carrying Amount:**\n",
       "   - The carrying amount of the fixed asset is its cost less any accumulated depreciation and any accumulated impairment losses (IAS 16.6).\n",
       "\n",
       "2. **Calculate the Gain:**\n",
       "   - The gain on the sale of a fixed asset is calculated as the difference between the net disposal proceeds and the carrying amount of the asset at the time of sale (IAS 16.71).\n",
       "\n",
       "3. **Recognize the Gain:**\n",
       "   - The gain should be recognized in profit or loss when the asset is derecognized (IAS 16.68). Derecognition occurs when the asset is disposed of or when no future economic benefits are expected from its use or disposal (IAS 16.67).\n",
       "\n",
       "4. **Presentation in Financial Statements:**\n",
       "   - Gains on the sale of fixed assets should be presented in the income statement as part of other income or separately if material (IAS 1.97).\n",
       "\n",
       "### Example Journal Entry:\n",
       "Assume a fixed asset with a carrying amount of $50,000 is sold for $70,000.\n",
       "\n",
       "- **Journal Entry:**\n",
       "  - Debit: Cash/Bank $70,000\n",
       "  - Credit: Fixed Asset $50,000\n",
       "  - Credit: Gain on Sale of Fixed Asset $20,000\n",
       "\n",
       "### Relevant IFRS/IAS Paragraphs:\n",
       "- **IAS 16.6:** Definition of carrying amount.\n",
       "- **IAS 16.67:** Derecognition of an asset.\n",
       "- **IAS 16.68:** Recognition of gain or loss on derecognition.\n",
       "- **IAS 16.71:** Calculation of gain or loss on disposal.\n",
       "- **IAS 1.97:** Presentation of gains in the income statement.\n",
       "\n",
       "### Sources:\n",
       "- IAS 16 \"Property, Plant and Equipment\"\n",
       "- IAS 1 \"Presentation of Financial Statements\"\n",
       "\n",
       "By following these steps and referencing the relevant IFRS/IAS paragraphs, you can accurately account for gains on the sale of fixed assets in compliance with international financial reporting standards.\n",
       "\n",
       "---\n",
       "\n",
       "### Unified Response\n",
       "To account for gains on the sale of fixed assets, follow the guidance provided by IAS 16 \"Property, Plant, and Equipment.\"\n",
       "\n",
       "### Step-by-Step Accounting for Gains on Sales of Fixed Assets:\n",
       "\n",
       "1. **Derecognition**: The carrying amount of the asset should be derecognized at the date of disposal (IAS 16.67-72).\n",
       "2. **Calculate the Gain**: The gain is calculated as the difference between the net disposal proceeds and the carrying amount of the asset (IAS 16.71).\n",
       "3. **Recognition of Gain**: Any gain arising from the derecognition of the asset should be recognized in profit or loss (IAS 16.68).\n",
       "4. **Presentation in Financial Statements**: Gains on the sale of fixed assets should be presented in the income statement as part of other income or separately if material (IAS 1.97).\n",
       "\n",
       "### Example Journal Entry:\n",
       "Assume a fixed asset with a carrying amount of $50,000 is sold for $70,000.\n",
       "\n",
       "- **Journal Entry:**\n",
       "  - Debit: Cash/Bank $70,000\n",
       "  - Credit: Fixed Asset $50,000\n",
       "  - Credit: Gain on Sale of Fixed Asset $20,000\n",
       "\n",
       "### Relevant IFRS/IAS Paragraphs:\n",
       "- **IAS 16.6**: Definition of carrying amount.\n",
       "- **IAS 16.67**: Derecognition of an asset.\n",
       "- **IAS 16.68**: Recognition of gain or loss on derecognition.\n",
       "- **IAS 16.71**: Calculation of gain or loss on disposal.\n",
       "- **IAS 1.97**: Presentation of gains in the income statement.\n",
       "\n",
       "By following these steps and referencing the relevant IFRS/IAS paragraphs, you can accurately account for gains on the sale of fixed assets in compliance with international financial reporting standards.\n",
       "\n",
       "</font>"
      ],
      "text/plain": [
       "<IPython.core.display.Markdown object>"
      ]
     },
     "metadata": {},
     "output_type": "display_data"
    },
    {
     "name": "stdout",
     "output_type": "stream",
     "text": [
      "\u001b[1;34m{'operation_id': 123456, 'user_id': 'nalabsr1', 'question': 'How do I account for Gains on sales of fixed assets?', 'topic': 'DUMMY TOPIC', 'final_answer': '### IFRS: \\nAs per IAS 16, gains on the sale of fixed assets (property, plant, and equipment) should be accounted for as follows:\\n\\n- **Derecognition**: The carrying amount of the asset should be derecognized at the date of disposal (paragraph 67-72).\\n- **Recognition of Gain or Loss**: Any gain or loss arising from the derecognition of the asset should be recognized in profit or loss. This gain or loss is calculated as the difference between the net disposal proceeds and the carrying amount of the asset (paragraph 71).\\n\\nTherefore, the gain on the sale of fixed assets should be recognized in the profit or loss statement at the date of derecognition.\\n\\n---\\n\\n### Annual Reports: \\nNO GUIDANCE\\n\\n---\\n\\n### Foundational ChatGPT: \\nTo account for gains on the sale of fixed assets, you need to follow the guidance provided by IAS 16 \"Property, Plant and Equipment\" and IFRS 5 \"Non-current Assets Held for Sale and Discontinued Operations\" if applicable.\\n\\n### Step-by-Step Accounting for Gains on Sales of Fixed Assets:\\n\\n1. **Determine the Carrying Amount:**\\n   - The carrying amount of the fixed asset is its cost less any accumulated depreciation and any accumulated impairment losses (IAS 16.6).\\n\\n2. **Calculate the Gain:**\\n   - The gain on the sale of a fixed asset is calculated as the difference between the net disposal proceeds and the carrying amount of the asset at the time of sale (IAS 16.71).\\n\\n3. **Recognize the Gain:**\\n   - The gain should be recognized in profit or loss when the asset is derecognized (IAS 16.68). Derecognition occurs when the asset is disposed of or when no future economic benefits are expected from its use or disposal (IAS 16.67).\\n\\n4. **Presentation in Financial Statements:**\\n   - Gains on the sale of fixed assets should be presented in the income statement as part of other income or separately if material (IAS 1.97).\\n\\n### Example Journal Entry:\\nAssume a fixed asset with a carrying amount of $50,000 is sold for $70,000.\\n\\n- **Journal Entry:**\\n  - Debit: Cash/Bank $70,000\\n  - Credit: Fixed Asset $50,000\\n  - Credit: Gain on Sale of Fixed Asset $20,000\\n\\n### Relevant IFRS/IAS Paragraphs:\\n- **IAS 16.6:** Definition of carrying amount.\\n- **IAS 16.67:** Derecognition of an asset.\\n- **IAS 16.68:** Recognition of gain or loss on derecognition.\\n- **IAS 16.71:** Calculation of gain or loss on disposal.\\n- **IAS 1.97:** Presentation of gains in the income statement.\\n\\n### Sources:\\n- IAS 16 \"Property, Plant and Equipment\"\\n- IAS 1 \"Presentation of Financial Statements\"\\n\\nBy following these steps and referencing the relevant IFRS/IAS paragraphs, you can accurately account for gains on the sale of fixed assets in compliance with international financial reporting standards.\\n\\n---\\n\\n### Unified Response\\nTo account for gains on the sale of fixed assets, follow the guidance provided by IAS 16 \"Property, Plant, and Equipment.\"\\n\\n### Step-by-Step Accounting for Gains on Sales of Fixed Assets:\\n\\n1. **Derecognition**: The carrying amount of the asset should be derecognized at the date of disposal (IAS 16.67-72).\\n2. **Calculate the Gain**: The gain is calculated as the difference between the net disposal proceeds and the carrying amount of the asset (IAS 16.71).\\n3. **Recognition of Gain**: Any gain arising from the derecognition of the asset should be recognized in profit or loss (IAS 16.68).\\n4. **Presentation in Financial Statements**: Gains on the sale of fixed assets should be presented in the income statement as part of other income or separately if material (IAS 1.97).\\n\\n### Example Journal Entry:\\nAssume a fixed asset with a carrying amount of $50,000 is sold for $70,000.\\n\\n- **Journal Entry:**\\n  - Debit: Cash/Bank $70,000\\n  - Credit: Fixed Asset $50,000\\n  - Credit: Gain on Sale of Fixed Asset $20,000\\n\\n### Relevant IFRS/IAS Paragraphs:\\n- **IAS 16.6**: Definition of carrying amount.\\n- **IAS 16.67**: Derecognition of an asset.\\n- **IAS 16.68**: Recognition of gain or loss on derecognition.\\n- **IAS 16.71**: Calculation of gain or loss on disposal.\\n- **IAS 1.97**: Presentation of gains in the income statement.\\n\\nBy following these steps and referencing the relevant IFRS/IAS paragraphs, you can accurately account for gains on the sale of fixed assets in compliance with international financial reporting standards.\\n\\n', 'finance_check': {'observation': 'Yes'}, 'query_rerouter_check': {'observation': 'FRA'}, 'source_detector_check': {'observation': ['annual_reports_answer_node', 'fm_answer_node', 'ifrs_answer_node']}, 'overall_status_check': {'observation': 'Completed'}, 'ifrs_response': {'answer': 'As per IAS 16, gains on the sale of fixed assets (property, plant, and equipment) should be accounted for as follows:\\n\\n- **Derecognition**: The carrying amount of the asset should be derecognized at the date of disposal (paragraph 67-72).\\n- **Recognition of Gain or Loss**: Any gain or loss arising from the derecognition of the asset should be recognized in profit or loss. This gain or loss is calculated as the difference between the net disposal proceeds and the carrying amount of the asset (paragraph 71).\\n\\nTherefore, the gain on the sale of fixed assets should be recognized in the profit or loss statement at the date of derecognition.', 'metadata': []}, 'annual_reports_response': {'answer': 'NO GUIDANCE', 'metadata': []}, 'fm_response': {'answer': 'To account for gains on the sale of fixed assets, you need to follow the guidance provided by IAS 16 \"Property, Plant and Equipment\" and IFRS 5 \"Non-current Assets Held for Sale and Discontinued Operations\" if applicable.\\n\\n### Step-by-Step Accounting for Gains on Sales of Fixed Assets:\\n\\n1. **Determine the Carrying Amount:**\\n   - The carrying amount of the fixed asset is its cost less any accumulated depreciation and any accumulated impairment losses (IAS 16.6).\\n\\n2. **Calculate the Gain:**\\n   - The gain on the sale of a fixed asset is calculated as the difference between the net disposal proceeds and the carrying amount of the asset at the time of sale (IAS 16.71).\\n\\n3. **Recognize the Gain:**\\n   - The gain should be recognized in profit or loss when the asset is derecognized (IAS 16.68). Derecognition occurs when the asset is disposed of or when no future economic benefits are expected from its use or disposal (IAS 16.67).\\n\\n4. **Presentation in Financial Statements:**\\n   - Gains on the sale of fixed assets should be presented in the income statement as part of other income or separately if material (IAS 1.97).\\n\\n### Example Journal Entry:\\nAssume a fixed asset with a carrying amount of $50,000 is sold for $70,000.\\n\\n- **Journal Entry:**\\n  - Debit: Cash/Bank $70,000\\n  - Credit: Fixed Asset $50,000\\n  - Credit: Gain on Sale of Fixed Asset $20,000\\n\\n### Relevant IFRS/IAS Paragraphs:\\n- **IAS 16.6:** Definition of carrying amount.\\n- **IAS 16.67:** Derecognition of an asset.\\n- **IAS 16.68:** Recognition of gain or loss on derecognition.\\n- **IAS 16.71:** Calculation of gain or loss on disposal.\\n- **IAS 1.97:** Presentation of gains in the income statement.\\n\\n### Sources:\\n- IAS 16 \"Property, Plant and Equipment\"\\n- IAS 1 \"Presentation of Financial Statements\"\\n\\nBy following these steps and referencing the relevant IFRS/IAS paragraphs, you can accurately account for gains on the sale of fixed assets in compliance with international financial reporting standards.', 'metadata': []}, 'unified_response': {'answer': 'To account for gains on the sale of fixed assets, follow the guidance provided by IAS 16 \"Property, Plant, and Equipment.\"\\n\\n### Step-by-Step Accounting for Gains on Sales of Fixed Assets:\\n\\n1. **Derecognition**: The carrying amount of the asset should be derecognized at the date of disposal (IAS 16.67-72).\\n2. **Calculate the Gain**: The gain is calculated as the difference between the net disposal proceeds and the carrying amount of the asset (IAS 16.71).\\n3. **Recognition of Gain**: Any gain arising from the derecognition of the asset should be recognized in profit or loss (IAS 16.68).\\n4. **Presentation in Financial Statements**: Gains on the sale of fixed assets should be presented in the income statement as part of other income or separately if material (IAS 1.97).\\n\\n### Example Journal Entry:\\nAssume a fixed asset with a carrying amount of $50,000 is sold for $70,000.\\n\\n- **Journal Entry:**\\n  - Debit: Cash/Bank $70,000\\n  - Credit: Fixed Asset $50,000\\n  - Credit: Gain on Sale of Fixed Asset $20,000\\n\\n### Relevant IFRS/IAS Paragraphs:\\n- **IAS 16.6**: Definition of carrying amount.\\n- **IAS 16.67**: Derecognition of an asset.\\n- **IAS 16.68**: Recognition of gain or loss on derecognition.\\n- **IAS 16.71**: Calculation of gain or loss on disposal.\\n- **IAS 1.97**: Presentation of gains in the income statement.\\n\\nBy following these steps and referencing the relevant IFRS/IAS paragraphs, you can accurately account for gains on the sale of fixed assets in compliance with international financial reporting standards.', 'metadata': []}, 'intermediate_steps': []}\u001b[0m\n",
      "--------------------------------------------------------\n",
      "\u001b[1;31mTotal Time Taken - [24.6]\u001b[0m\n",
      "--------------------------------------------------------\n"
     ]
    }
   ],
   "source": [
    "question = \"How do I account for Gains on sales of fixed assets?\"\n",
    "run_answer(question, 89)"
   ]
  },
  {
   "cell_type": "code",
   "execution_count": 113,
   "id": "1321e926-33d7-4d59-bf51-84c67411a440",
   "metadata": {
    "tags": []
   },
   "outputs": [
    {
     "name": "stdout",
     "output_type": "stream",
     "text": [
      "\u001b[1;34m{'operation_id': 123456, 'user_id': 'nalabsr1', 'question': 'Where do i find company master data change request form?', 'final_answer': '', 'intermediate_steps': []}\u001b[0m\n",
      "------ENTERING: TOPIC MODELLING NODE------\n",
      "============================================\n",
      "{'operation_id': 123456, 'user_id': 'nalabsr1', 'question': 'Where do i find company master data change request form?', 'topic': None, 'requested_datasources': None, 'final_answer': '', 'finance_check': None, 'query_rerouter_check': None, 'source_detector_check': None, 'overall_status_check': None, 'generic_response': None, 'web_response': None, 'ifrs_response': None, 'annual_reports_response': None, 'fm_response': None, 'unified_response': None, 'intermediate_steps': []}\n",
      "============================================\n",
      "------OBSERVATION: DUMMY TOPIC------\n",
      "\u001b[1;34m{'operation_id': 123456, 'user_id': 'nalabsr1', 'question': 'Where do i find company master data change request form?', 'topic': 'DUMMY TOPIC', 'final_answer': '', 'intermediate_steps': []}\u001b[0m\n",
      "------ENTERING: FINANCE CHECK NODE------\n",
      "------OBSERVATION: Yes------\n",
      "------DECISION: INVOKE QUERY REROUTER NODE------\n",
      "\u001b[1;34m{'operation_id': 123456, 'user_id': 'nalabsr1', 'question': 'Where do i find company master data change request form?', 'topic': 'DUMMY TOPIC', 'final_answer': '', 'finance_check': {'observation': 'Yes'}, 'intermediate_steps': []}\u001b[0m\n",
      "------ENTERING: QUERY REROUTER NODE------\n",
      "------OBSERVATION: FRA------\n",
      "------DECISION: INVOKE SOURCE DETECTOR NODE------\n",
      "\u001b[1;34m{'operation_id': 123456, 'user_id': 'nalabsr1', 'question': 'Where do i find company master data change request form?', 'topic': 'DUMMY TOPIC', 'final_answer': '', 'finance_check': {'observation': 'Yes'}, 'query_rerouter_check': {'observation': 'FRA'}, 'intermediate_steps': []}\u001b[0m\n",
      "------ENTERING: SOURCE DETECTOR NODE------\n",
      "------SOURCES DETECTED: ['annual_reports_answer_node', 'fm_answer_node', 'ifrs_answer_node']------\n",
      "\u001b[1;34m{'operation_id': 123456, 'user_id': 'nalabsr1', 'question': 'Where do i find company master data change request form?', 'topic': 'DUMMY TOPIC', 'final_answer': '', 'finance_check': {'observation': 'Yes'}, 'query_rerouter_check': {'observation': 'FRA'}, 'source_detector_check': {'observation': ['annual_reports_answer_node', 'fm_answer_node', 'ifrs_answer_node']}, 'intermediate_steps': []}\u001b[0m\n",
      "------ENTERING: IFRS ANSWER NODE------\n",
      "------ENTERING: ANNUAL REPORTS ANSWER NODE------\n",
      "------ENTERING: FOUNDATIONAL ANSWER NODE------\n"
     ]
    },
    {
     "data": {
      "text/markdown": [
       "**IFRS ANSWER:** <font color=\"red\">NO GUIDANCE</font>"
      ],
      "text/plain": [
       "<IPython.core.display.Markdown object>"
      ]
     },
     "metadata": {},
     "output_type": "display_data"
    },
    {
     "data": {
      "text/markdown": [
       "**ANNUAL REPORTS ANSWER:** <font color=\"red\">You can find the company master data change request form on the Novartis Supplier Portal. Here is the link to access it: [Novartis Supplier Portal](https://www.novartis.com/supplier-portal).</font>"
      ],
      "text/plain": [
       "<IPython.core.display.Markdown object>"
      ]
     },
     "metadata": {},
     "output_type": "display_data"
    },
    {
     "data": {
      "text/markdown": [
       "**FOUNDATIONAL ANSWER:** <font color=\"red\">To find the company master data change request form at Novartis, you should typically refer to the internal resources provided by the company's finance or IT departments. This form is usually part of the internal control processes and is used to ensure that any changes to the master data are properly documented and authorized.\n",
       "\n",
       "Here are the steps you can follow to locate the form:\n",
       "\n",
       "1. **Intranet or Internal Portal**: Check the Novartis intranet or internal employee portal. These platforms often have sections dedicated to forms and templates, including those for financial and administrative purposes.\n",
       "\n",
       "2. **Finance Department**: Contact the finance department directly. They can provide you with the necessary forms and guide you through the process of submitting a change request.\n",
       "\n",
       "3. **IT Support**: Sometimes, the IT department manages the master data systems. They can also provide the form or direct you to the appropriate resource.\n",
       "\n",
       "4. **Internal Policies and Procedures Manual**: Refer to the internal policies and procedures manual, which may include instructions on how to request changes to company master data and where to find the relevant forms.\n",
       "\n",
       "5. **SAP or ERP System**: If Novartis uses an ERP system like SAP, the form might be available within the system itself. You can check the help section or contact the system administrator for assistance.\n",
       "\n",
       "Since this is an internal document, it is not governed by IFRS or IAS standards, and there are no specific paragraphs from these standards that apply to the location of the form. However, maintaining accurate and up-to-date master data is crucial for financial reporting and compliance with standards such as IFRS 7 (Financial Instruments: Disclosures) and IFRS 9 (Financial Instruments), which require accurate data for proper financial disclosures.\n",
       "\n",
       "For further assistance, you may refer to internal communication channels or consult with your supervisor or manager.</font>"
      ],
      "text/plain": [
       "<IPython.core.display.Markdown object>"
      ]
     },
     "metadata": {},
     "output_type": "display_data"
    },
    {
     "name": "stdout",
     "output_type": "stream",
     "text": [
      "\u001b[1;34m{'operation_id': 123456, 'user_id': 'nalabsr1', 'question': 'Where do i find company master data change request form?', 'topic': 'DUMMY TOPIC', 'final_answer': '', 'finance_check': {'observation': 'Yes'}, 'query_rerouter_check': {'observation': 'FRA'}, 'source_detector_check': {'observation': ['annual_reports_answer_node', 'fm_answer_node', 'ifrs_answer_node']}, 'ifrs_response': {'answer': 'NO GUIDANCE', 'metadata': []}, 'annual_reports_response': {'answer': 'You can find the company master data change request form on the Novartis Supplier Portal. Here is the link to access it: [Novartis Supplier Portal](https://www.novartis.com/supplier-portal).', 'metadata': []}, 'fm_response': {'answer': \"To find the company master data change request form at Novartis, you should typically refer to the internal resources provided by the company's finance or IT departments. This form is usually part of the internal control processes and is used to ensure that any changes to the master data are properly documented and authorized.\\n\\nHere are the steps you can follow to locate the form:\\n\\n1. **Intranet or Internal Portal**: Check the Novartis intranet or internal employee portal. These platforms often have sections dedicated to forms and templates, including those for financial and administrative purposes.\\n\\n2. **Finance Department**: Contact the finance department directly. They can provide you with the necessary forms and guide you through the process of submitting a change request.\\n\\n3. **IT Support**: Sometimes, the IT department manages the master data systems. They can also provide the form or direct you to the appropriate resource.\\n\\n4. **Internal Policies and Procedures Manual**: Refer to the internal policies and procedures manual, which may include instructions on how to request changes to company master data and where to find the relevant forms.\\n\\n5. **SAP or ERP System**: If Novartis uses an ERP system like SAP, the form might be available within the system itself. You can check the help section or contact the system administrator for assistance.\\n\\nSince this is an internal document, it is not governed by IFRS or IAS standards, and there are no specific paragraphs from these standards that apply to the location of the form. However, maintaining accurate and up-to-date master data is crucial for financial reporting and compliance with standards such as IFRS 7 (Financial Instruments: Disclosures) and IFRS 9 (Financial Instruments), which require accurate data for proper financial disclosures.\\n\\nFor further assistance, you may refer to internal communication channels or consult with your supervisor or manager.\", 'metadata': []}, 'intermediate_steps': []}\u001b[0m\n",
      "------ENTERING: UNIFIED ANSWER NODE------\n"
     ]
    },
    {
     "data": {
      "application/json": {
       "annual_reports_response": {
        "answer": "You can find the company master data change request form on the Novartis Supplier Portal. Here is the link to access it: [Novartis Supplier Portal](https://www.novartis.com/supplier-portal).",
        "metadata": []
       },
       "final_answer": "",
       "finance_check": {
        "observation": "Yes"
       },
       "fm_response": {
        "answer": "To find the company master data change request form at Novartis, you should typically refer to the internal resources provided by the company's finance or IT departments. This form is usually part of the internal control processes and is used to ensure that any changes to the master data are properly documented and authorized.\n\nHere are the steps you can follow to locate the form:\n\n1. **Intranet or Internal Portal**: Check the Novartis intranet or internal employee portal. These platforms often have sections dedicated to forms and templates, including those for financial and administrative purposes.\n\n2. **Finance Department**: Contact the finance department directly. They can provide you with the necessary forms and guide you through the process of submitting a change request.\n\n3. **IT Support**: Sometimes, the IT department manages the master data systems. They can also provide the form or direct you to the appropriate resource.\n\n4. **Internal Policies and Procedures Manual**: Refer to the internal policies and procedures manual, which may include instructions on how to request changes to company master data and where to find the relevant forms.\n\n5. **SAP or ERP System**: If Novartis uses an ERP system like SAP, the form might be available within the system itself. You can check the help section or contact the system administrator for assistance.\n\nSince this is an internal document, it is not governed by IFRS or IAS standards, and there are no specific paragraphs from these standards that apply to the location of the form. However, maintaining accurate and up-to-date master data is crucial for financial reporting and compliance with standards such as IFRS 7 (Financial Instruments: Disclosures) and IFRS 9 (Financial Instruments), which require accurate data for proper financial disclosures.\n\nFor further assistance, you may refer to internal communication channels or consult with your supervisor or manager.",
        "metadata": []
       },
       "generic_response": null,
       "ifrs_response": {
        "answer": "NO GUIDANCE",
        "metadata": []
       },
       "intermediate_steps": [],
       "operation_id": 123456,
       "overall_status_check": null,
       "query_rerouter_check": {
        "observation": "FRA"
       },
       "question": "Where do i find company master data change request form?",
       "requested_datasources": null,
       "source_detector_check": {
        "observation": [
         "annual_reports_answer_node",
         "fm_answer_node",
         "ifrs_answer_node"
        ]
       },
       "topic": "DUMMY TOPIC",
       "unified_response": null,
       "user_id": "nalabsr1",
       "web_response": null
      },
      "text/plain": [
       "<IPython.core.display.JSON object>"
      ]
     },
     "metadata": {
      "application/json": {
       "expanded": false,
       "root": "root"
      }
     },
     "output_type": "display_data"
    },
    {
     "data": {
      "text/markdown": [
       "**UNIFIED ANSWER:** <font color=\"red\">To find the company master data change request form at Novartis, you can access it on the [Novartis Supplier Portal](https://www.novartis.com/supplier-portal). This form is part of the internal control processes to ensure that any changes to the master data are properly documented and authorized. For further assistance, you may refer to internal communication channels or consult with your supervisor or manager.</font>"
      ],
      "text/plain": [
       "<IPython.core.display.Markdown object>"
      ]
     },
     "metadata": {},
     "output_type": "display_data"
    },
    {
     "name": "stdout",
     "output_type": "stream",
     "text": [
      "\u001b[1;34m{'operation_id': 123456, 'user_id': 'nalabsr1', 'question': 'Where do i find company master data change request form?', 'topic': 'DUMMY TOPIC', 'final_answer': \"### IFRS: \\nNO GUIDANCE\\n\\n---\\n\\n### Annual Reports: \\nYou can find the company master data change request form on the Novartis Supplier Portal. Here is the link to access it: [Novartis Supplier Portal](https://www.novartis.com/supplier-portal).\\n\\n---\\n\\n### Foundational ChatGPT: \\nTo find the company master data change request form at Novartis, you should typically refer to the internal resources provided by the company's finance or IT departments. This form is usually part of the internal control processes and is used to ensure that any changes to the master data are properly documented and authorized.\\n\\nHere are the steps you can follow to locate the form:\\n\\n1. **Intranet or Internal Portal**: Check the Novartis intranet or internal employee portal. These platforms often have sections dedicated to forms and templates, including those for financial and administrative purposes.\\n\\n2. **Finance Department**: Contact the finance department directly. They can provide you with the necessary forms and guide you through the process of submitting a change request.\\n\\n3. **IT Support**: Sometimes, the IT department manages the master data systems. They can also provide the form or direct you to the appropriate resource.\\n\\n4. **Internal Policies and Procedures Manual**: Refer to the internal policies and procedures manual, which may include instructions on how to request changes to company master data and where to find the relevant forms.\\n\\n5. **SAP or ERP System**: If Novartis uses an ERP system like SAP, the form might be available within the system itself. You can check the help section or contact the system administrator for assistance.\\n\\nSince this is an internal document, it is not governed by IFRS or IAS standards, and there are no specific paragraphs from these standards that apply to the location of the form. However, maintaining accurate and up-to-date master data is crucial for financial reporting and compliance with standards such as IFRS 7 (Financial Instruments: Disclosures) and IFRS 9 (Financial Instruments), which require accurate data for proper financial disclosures.\\n\\nFor further assistance, you may refer to internal communication channels or consult with your supervisor or manager.\\n\\n---\\n\\n### Unified Response\\nTo find the company master data change request form at Novartis, you can access it on the [Novartis Supplier Portal](https://www.novartis.com/supplier-portal). This form is part of the internal control processes to ensure that any changes to the master data are properly documented and authorized. For further assistance, you may refer to internal communication channels or consult with your supervisor or manager.\\n\\n\", 'finance_check': {'observation': 'Yes'}, 'query_rerouter_check': {'observation': 'FRA'}, 'source_detector_check': {'observation': ['annual_reports_answer_node', 'fm_answer_node', 'ifrs_answer_node']}, 'ifrs_response': {'answer': 'NO GUIDANCE', 'metadata': []}, 'annual_reports_response': {'answer': 'You can find the company master data change request form on the Novartis Supplier Portal. Here is the link to access it: [Novartis Supplier Portal](https://www.novartis.com/supplier-portal).', 'metadata': []}, 'fm_response': {'answer': \"To find the company master data change request form at Novartis, you should typically refer to the internal resources provided by the company's finance or IT departments. This form is usually part of the internal control processes and is used to ensure that any changes to the master data are properly documented and authorized.\\n\\nHere are the steps you can follow to locate the form:\\n\\n1. **Intranet or Internal Portal**: Check the Novartis intranet or internal employee portal. These platforms often have sections dedicated to forms and templates, including those for financial and administrative purposes.\\n\\n2. **Finance Department**: Contact the finance department directly. They can provide you with the necessary forms and guide you through the process of submitting a change request.\\n\\n3. **IT Support**: Sometimes, the IT department manages the master data systems. They can also provide the form or direct you to the appropriate resource.\\n\\n4. **Internal Policies and Procedures Manual**: Refer to the internal policies and procedures manual, which may include instructions on how to request changes to company master data and where to find the relevant forms.\\n\\n5. **SAP or ERP System**: If Novartis uses an ERP system like SAP, the form might be available within the system itself. You can check the help section or contact the system administrator for assistance.\\n\\nSince this is an internal document, it is not governed by IFRS or IAS standards, and there are no specific paragraphs from these standards that apply to the location of the form. However, maintaining accurate and up-to-date master data is crucial for financial reporting and compliance with standards such as IFRS 7 (Financial Instruments: Disclosures) and IFRS 9 (Financial Instruments), which require accurate data for proper financial disclosures.\\n\\nFor further assistance, you may refer to internal communication channels or consult with your supervisor or manager.\", 'metadata': []}, 'unified_response': {'answer': 'To find the company master data change request form at Novartis, you can access it on the [Novartis Supplier Portal](https://www.novartis.com/supplier-portal). This form is part of the internal control processes to ensure that any changes to the master data are properly documented and authorized. For further assistance, you may refer to internal communication channels or consult with your supervisor or manager.', 'metadata': []}, 'intermediate_steps': []}\u001b[0m\n",
      "------ENTERING: OVERALL STATUS CHECK NODE------\n",
      "-------------------------------- \u001b[1;31mFinal Answer\u001b[0m --------------------------------\n"
     ]
    },
    {
     "data": {
      "text/markdown": [
       "**FINAL ANSWER:** <font color=\"red\">### IFRS: \n",
       "NO GUIDANCE\n",
       "\n",
       "---\n",
       "\n",
       "### Annual Reports: \n",
       "You can find the company master data change request form on the Novartis Supplier Portal. Here is the link to access it: [Novartis Supplier Portal](https://www.novartis.com/supplier-portal).\n",
       "\n",
       "---\n",
       "\n",
       "### Foundational ChatGPT: \n",
       "To find the company master data change request form at Novartis, you should typically refer to the internal resources provided by the company's finance or IT departments. This form is usually part of the internal control processes and is used to ensure that any changes to the master data are properly documented and authorized.\n",
       "\n",
       "Here are the steps you can follow to locate the form:\n",
       "\n",
       "1. **Intranet or Internal Portal**: Check the Novartis intranet or internal employee portal. These platforms often have sections dedicated to forms and templates, including those for financial and administrative purposes.\n",
       "\n",
       "2. **Finance Department**: Contact the finance department directly. They can provide you with the necessary forms and guide you through the process of submitting a change request.\n",
       "\n",
       "3. **IT Support**: Sometimes, the IT department manages the master data systems. They can also provide the form or direct you to the appropriate resource.\n",
       "\n",
       "4. **Internal Policies and Procedures Manual**: Refer to the internal policies and procedures manual, which may include instructions on how to request changes to company master data and where to find the relevant forms.\n",
       "\n",
       "5. **SAP or ERP System**: If Novartis uses an ERP system like SAP, the form might be available within the system itself. You can check the help section or contact the system administrator for assistance.\n",
       "\n",
       "Since this is an internal document, it is not governed by IFRS or IAS standards, and there are no specific paragraphs from these standards that apply to the location of the form. However, maintaining accurate and up-to-date master data is crucial for financial reporting and compliance with standards such as IFRS 7 (Financial Instruments: Disclosures) and IFRS 9 (Financial Instruments), which require accurate data for proper financial disclosures.\n",
       "\n",
       "For further assistance, you may refer to internal communication channels or consult with your supervisor or manager.\n",
       "\n",
       "---\n",
       "\n",
       "### Unified Response\n",
       "To find the company master data change request form at Novartis, you can access it on the [Novartis Supplier Portal](https://www.novartis.com/supplier-portal). This form is part of the internal control processes to ensure that any changes to the master data are properly documented and authorized. For further assistance, you may refer to internal communication channels or consult with your supervisor or manager.\n",
       "\n",
       "</font>"
      ],
      "text/plain": [
       "<IPython.core.display.Markdown object>"
      ]
     },
     "metadata": {},
     "output_type": "display_data"
    },
    {
     "name": "stdout",
     "output_type": "stream",
     "text": [
      "\u001b[1;34m{'operation_id': 123456, 'user_id': 'nalabsr1', 'question': 'Where do i find company master data change request form?', 'topic': 'DUMMY TOPIC', 'final_answer': \"### IFRS: \\nNO GUIDANCE\\n\\n---\\n\\n### Annual Reports: \\nYou can find the company master data change request form on the Novartis Supplier Portal. Here is the link to access it: [Novartis Supplier Portal](https://www.novartis.com/supplier-portal).\\n\\n---\\n\\n### Foundational ChatGPT: \\nTo find the company master data change request form at Novartis, you should typically refer to the internal resources provided by the company's finance or IT departments. This form is usually part of the internal control processes and is used to ensure that any changes to the master data are properly documented and authorized.\\n\\nHere are the steps you can follow to locate the form:\\n\\n1. **Intranet or Internal Portal**: Check the Novartis intranet or internal employee portal. These platforms often have sections dedicated to forms and templates, including those for financial and administrative purposes.\\n\\n2. **Finance Department**: Contact the finance department directly. They can provide you with the necessary forms and guide you through the process of submitting a change request.\\n\\n3. **IT Support**: Sometimes, the IT department manages the master data systems. They can also provide the form or direct you to the appropriate resource.\\n\\n4. **Internal Policies and Procedures Manual**: Refer to the internal policies and procedures manual, which may include instructions on how to request changes to company master data and where to find the relevant forms.\\n\\n5. **SAP or ERP System**: If Novartis uses an ERP system like SAP, the form might be available within the system itself. You can check the help section or contact the system administrator for assistance.\\n\\nSince this is an internal document, it is not governed by IFRS or IAS standards, and there are no specific paragraphs from these standards that apply to the location of the form. However, maintaining accurate and up-to-date master data is crucial for financial reporting and compliance with standards such as IFRS 7 (Financial Instruments: Disclosures) and IFRS 9 (Financial Instruments), which require accurate data for proper financial disclosures.\\n\\nFor further assistance, you may refer to internal communication channels or consult with your supervisor or manager.\\n\\n---\\n\\n### Unified Response\\nTo find the company master data change request form at Novartis, you can access it on the [Novartis Supplier Portal](https://www.novartis.com/supplier-portal). This form is part of the internal control processes to ensure that any changes to the master data are properly documented and authorized. For further assistance, you may refer to internal communication channels or consult with your supervisor or manager.\\n\\n\", 'finance_check': {'observation': 'Yes'}, 'query_rerouter_check': {'observation': 'FRA'}, 'source_detector_check': {'observation': ['annual_reports_answer_node', 'fm_answer_node', 'ifrs_answer_node']}, 'overall_status_check': {'observation': 'Completed'}, 'ifrs_response': {'answer': 'NO GUIDANCE', 'metadata': []}, 'annual_reports_response': {'answer': 'You can find the company master data change request form on the Novartis Supplier Portal. Here is the link to access it: [Novartis Supplier Portal](https://www.novartis.com/supplier-portal).', 'metadata': []}, 'fm_response': {'answer': \"To find the company master data change request form at Novartis, you should typically refer to the internal resources provided by the company's finance or IT departments. This form is usually part of the internal control processes and is used to ensure that any changes to the master data are properly documented and authorized.\\n\\nHere are the steps you can follow to locate the form:\\n\\n1. **Intranet or Internal Portal**: Check the Novartis intranet or internal employee portal. These platforms often have sections dedicated to forms and templates, including those for financial and administrative purposes.\\n\\n2. **Finance Department**: Contact the finance department directly. They can provide you with the necessary forms and guide you through the process of submitting a change request.\\n\\n3. **IT Support**: Sometimes, the IT department manages the master data systems. They can also provide the form or direct you to the appropriate resource.\\n\\n4. **Internal Policies and Procedures Manual**: Refer to the internal policies and procedures manual, which may include instructions on how to request changes to company master data and where to find the relevant forms.\\n\\n5. **SAP or ERP System**: If Novartis uses an ERP system like SAP, the form might be available within the system itself. You can check the help section or contact the system administrator for assistance.\\n\\nSince this is an internal document, it is not governed by IFRS or IAS standards, and there are no specific paragraphs from these standards that apply to the location of the form. However, maintaining accurate and up-to-date master data is crucial for financial reporting and compliance with standards such as IFRS 7 (Financial Instruments: Disclosures) and IFRS 9 (Financial Instruments), which require accurate data for proper financial disclosures.\\n\\nFor further assistance, you may refer to internal communication channels or consult with your supervisor or manager.\", 'metadata': []}, 'unified_response': {'answer': 'To find the company master data change request form at Novartis, you can access it on the [Novartis Supplier Portal](https://www.novartis.com/supplier-portal). This form is part of the internal control processes to ensure that any changes to the master data are properly documented and authorized. For further assistance, you may refer to internal communication channels or consult with your supervisor or manager.', 'metadata': []}, 'intermediate_steps': []}\u001b[0m\n",
      "--------------------------------------------------------\n",
      "\u001b[1;31mTotal Time Taken - [11.64]\u001b[0m\n",
      "--------------------------------------------------------\n"
     ]
    }
   ],
   "source": [
    "question = \"Where do i find company master data change request form?\"\n",
    "run_answer(question, 19)"
   ]
  },
  {
   "cell_type": "code",
   "execution_count": null,
   "id": "1abb0d42-6578-4fa6-a890-319cc4dad264",
   "metadata": {},
   "outputs": [],
   "source": []
  },
  {
   "cell_type": "code",
   "execution_count": null,
   "id": "0dfb77c9-3d6f-4ee2-90f0-65998f928dc8",
   "metadata": {},
   "outputs": [],
   "source": []
  },
  {
   "cell_type": "code",
   "execution_count": null,
   "id": "8ddce2de-0794-49bf-9cd3-fe6133e9fecc",
   "metadata": {},
   "outputs": [],
   "source": []
  }
 ],
 "metadata": {
  "kernelspec": {
   "display_name": "gen.ai_venv_39",
   "language": "python",
   "name": "gen.ai_venv_39"
  },
  "language_info": {
   "codemirror_mode": {
    "name": "ipython",
    "version": 3
   },
   "file_extension": ".py",
   "mimetype": "text/x-python",
   "name": "python",
   "nbconvert_exporter": "python",
   "pygments_lexer": "ipython3",
   "version": "3.9.12"
  }
 },
 "nbformat": 4,
 "nbformat_minor": 5
}
