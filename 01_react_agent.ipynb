{
  "cells": [
    {
      "cell_type": "markdown",
      "metadata": {
        "id": "view-in-github",
        "colab_type": "text"
      },
      "source": [
        "<a href=\"https://colab.research.google.com/github/genaiconference/AgenticAI_GenAIHack/blob/main/01_react_agent.ipynb\" target=\"_parent\"><img src=\"https://colab.research.google.com/assets/colab-badge.svg\" alt=\"Open In Colab\"/></a>"
      ]
    },
    {
      "cell_type": "code",
      "execution_count": null,
      "id": "b461df5a-216d-4336-b85c-d9aa3d0f4e8b",
      "metadata": {
        "collapsed": true,
        "id": "b461df5a-216d-4336-b85c-d9aa3d0f4e8b"
      },
      "outputs": [],
      "source": [
        "!git clone https://github.com/genaiconference/AgenticAI_GenAIHack.git"
      ]
    },
    {
      "cell_type": "code",
      "execution_count": 7,
      "id": "53a1871e-5828-4acf-97b5-41abbdcb7d62",
      "metadata": {
        "id": "53a1871e-5828-4acf-97b5-41abbdcb7d62",
        "outputId": "d9bbfd33-fd56-4a07-ff85-ce1e4209b1c3",
        "colab": {
          "base_uri": "https://localhost:8080/"
        }
      },
      "outputs": [
        {
          "output_type": "stream",
          "name": "stdout",
          "text": [
            "Requirement already satisfied: beautifulsoup4==4.12.2 in /usr/local/lib/python3.10/dist-packages (from -r /content/AgenticAI_GenAIHack/requirements_agenti_ai.txt (line 1)) (4.12.2)\n",
            "Requirement already satisfied: chromadb==0.4.15 in /usr/local/lib/python3.10/dist-packages (from -r /content/AgenticAI_GenAIHack/requirements_agenti_ai.txt (line 2)) (0.4.15)\n",
            "Requirement already satisfied: google-search-results==2.4.2 in /usr/local/lib/python3.10/dist-packages (from -r /content/AgenticAI_GenAIHack/requirements_agenti_ai.txt (line 3)) (2.4.2)\n",
            "Requirement already satisfied: huggingface-hub==0.19.4 in /usr/local/lib/python3.10/dist-packages (from -r /content/AgenticAI_GenAIHack/requirements_agenti_ai.txt (line 4)) (0.19.4)\n",
            "Requirement already satisfied: langchain==0.2.9 in /usr/local/lib/python3.10/dist-packages (from -r /content/AgenticAI_GenAIHack/requirements_agenti_ai.txt (line 5)) (0.2.9)\n",
            "Requirement already satisfied: langchain-experimental==0.0.62 in /usr/local/lib/python3.10/dist-packages (from -r /content/AgenticAI_GenAIHack/requirements_agenti_ai.txt (line 6)) (0.0.62)\n",
            "Requirement already satisfied: langchain-postgres==0.0.6 in /usr/local/lib/python3.10/dist-packages (from -r /content/AgenticAI_GenAIHack/requirements_agenti_ai.txt (line 7)) (0.0.6)\n",
            "Requirement already satisfied: langchain-openai==0.1.7 in /usr/local/lib/python3.10/dist-packages (from -r /content/AgenticAI_GenAIHack/requirements_agenti_ai.txt (line 8)) (0.1.7)\n",
            "Requirement already satisfied: langgraph==0.0.55 in /usr/local/lib/python3.10/dist-packages (from -r /content/AgenticAI_GenAIHack/requirements_agenti_ai.txt (line 9)) (0.0.55)\n",
            "Requirement already satisfied: Markdown==3.5.2 in /usr/local/lib/python3.10/dist-packages (from -r /content/AgenticAI_GenAIHack/requirements_agenti_ai.txt (line 10)) (3.5.2)\n",
            "Requirement already satisfied: openai==1.30.5 in /usr/local/lib/python3.10/dist-packages (from -r /content/AgenticAI_GenAIHack/requirements_agenti_ai.txt (line 11)) (1.30.5)\n",
            "Requirement already satisfied: langchain-chroma==0.1.2 in /usr/local/lib/python3.10/dist-packages (from -r /content/AgenticAI_GenAIHack/requirements_agenti_ai.txt (line 12)) (0.1.2)\n",
            "Requirement already satisfied: soupsieve>1.2 in /usr/local/lib/python3.10/dist-packages (from beautifulsoup4==4.12.2->-r /content/AgenticAI_GenAIHack/requirements_agenti_ai.txt (line 1)) (2.5)\n",
            "Requirement already satisfied: requests>=2.28 in /usr/local/lib/python3.10/dist-packages (from chromadb==0.4.15->-r /content/AgenticAI_GenAIHack/requirements_agenti_ai.txt (line 2)) (2.31.0)\n",
            "Requirement already satisfied: pydantic>=1.9 in /usr/local/lib/python3.10/dist-packages (from chromadb==0.4.15->-r /content/AgenticAI_GenAIHack/requirements_agenti_ai.txt (line 2)) (2.8.2)\n",
            "Requirement already satisfied: chroma-hnswlib==0.7.3 in /usr/local/lib/python3.10/dist-packages (from chromadb==0.4.15->-r /content/AgenticAI_GenAIHack/requirements_agenti_ai.txt (line 2)) (0.7.3)\n",
            "Requirement already satisfied: fastapi>=0.95.2 in /usr/local/lib/python3.10/dist-packages (from chromadb==0.4.15->-r /content/AgenticAI_GenAIHack/requirements_agenti_ai.txt (line 2)) (0.111.1)\n",
            "Requirement already satisfied: uvicorn>=0.18.3 in /usr/local/lib/python3.10/dist-packages (from uvicorn[standard]>=0.18.3->chromadb==0.4.15->-r /content/AgenticAI_GenAIHack/requirements_agenti_ai.txt (line 2)) (0.30.3)\n",
            "Requirement already satisfied: posthog>=2.4.0 in /usr/local/lib/python3.10/dist-packages (from chromadb==0.4.15->-r /content/AgenticAI_GenAIHack/requirements_agenti_ai.txt (line 2)) (3.5.0)\n",
            "Requirement already satisfied: typing-extensions>=4.5.0 in /usr/local/lib/python3.10/dist-packages (from chromadb==0.4.15->-r /content/AgenticAI_GenAIHack/requirements_agenti_ai.txt (line 2)) (4.12.2)\n",
            "Requirement already satisfied: pulsar-client>=3.1.0 in /usr/local/lib/python3.10/dist-packages (from chromadb==0.4.15->-r /content/AgenticAI_GenAIHack/requirements_agenti_ai.txt (line 2)) (3.5.0)\n",
            "Requirement already satisfied: onnxruntime>=1.14.1 in /usr/local/lib/python3.10/dist-packages (from chromadb==0.4.15->-r /content/AgenticAI_GenAIHack/requirements_agenti_ai.txt (line 2)) (1.18.1)\n",
            "Requirement already satisfied: opentelemetry-api>=1.2.0 in /usr/local/lib/python3.10/dist-packages (from chromadb==0.4.15->-r /content/AgenticAI_GenAIHack/requirements_agenti_ai.txt (line 2)) (1.26.0)\n",
            "Requirement already satisfied: opentelemetry-exporter-otlp-proto-grpc>=1.2.0 in /usr/local/lib/python3.10/dist-packages (from chromadb==0.4.15->-r /content/AgenticAI_GenAIHack/requirements_agenti_ai.txt (line 2)) (1.26.0)\n",
            "Requirement already satisfied: opentelemetry-sdk>=1.2.0 in /usr/local/lib/python3.10/dist-packages (from chromadb==0.4.15->-r /content/AgenticAI_GenAIHack/requirements_agenti_ai.txt (line 2)) (1.26.0)\n",
            "Requirement already satisfied: tokenizers>=0.13.2 in /usr/local/lib/python3.10/dist-packages (from chromadb==0.4.15->-r /content/AgenticAI_GenAIHack/requirements_agenti_ai.txt (line 2)) (0.19.1)\n",
            "Requirement already satisfied: pypika>=0.48.9 in /usr/local/lib/python3.10/dist-packages (from chromadb==0.4.15->-r /content/AgenticAI_GenAIHack/requirements_agenti_ai.txt (line 2)) (0.48.9)\n",
            "Requirement already satisfied: tqdm>=4.65.0 in /usr/local/lib/python3.10/dist-packages (from chromadb==0.4.15->-r /content/AgenticAI_GenAIHack/requirements_agenti_ai.txt (line 2)) (4.66.4)\n",
            "Requirement already satisfied: overrides>=7.3.1 in /usr/local/lib/python3.10/dist-packages (from chromadb==0.4.15->-r /content/AgenticAI_GenAIHack/requirements_agenti_ai.txt (line 2)) (7.7.0)\n",
            "Requirement already satisfied: importlib-resources in /usr/local/lib/python3.10/dist-packages (from chromadb==0.4.15->-r /content/AgenticAI_GenAIHack/requirements_agenti_ai.txt (line 2)) (6.4.0)\n",
            "Requirement already satisfied: grpcio>=1.58.0 in /usr/local/lib/python3.10/dist-packages (from chromadb==0.4.15->-r /content/AgenticAI_GenAIHack/requirements_agenti_ai.txt (line 2)) (1.64.1)\n",
            "Requirement already satisfied: bcrypt>=4.0.1 in /usr/local/lib/python3.10/dist-packages (from chromadb==0.4.15->-r /content/AgenticAI_GenAIHack/requirements_agenti_ai.txt (line 2)) (4.2.0)\n",
            "Requirement already satisfied: typer>=0.9.0 in /usr/local/lib/python3.10/dist-packages (from chromadb==0.4.15->-r /content/AgenticAI_GenAIHack/requirements_agenti_ai.txt (line 2)) (0.12.3)\n",
            "Requirement already satisfied: kubernetes>=28.1.0 in /usr/local/lib/python3.10/dist-packages (from chromadb==0.4.15->-r /content/AgenticAI_GenAIHack/requirements_agenti_ai.txt (line 2)) (30.1.0)\n",
            "Requirement already satisfied: tenacity>=8.2.3 in /usr/local/lib/python3.10/dist-packages (from chromadb==0.4.15->-r /content/AgenticAI_GenAIHack/requirements_agenti_ai.txt (line 2)) (8.5.0)\n",
            "Requirement already satisfied: numpy>=1.22.5 in /usr/local/lib/python3.10/dist-packages (from chromadb==0.4.15->-r /content/AgenticAI_GenAIHack/requirements_agenti_ai.txt (line 2)) (1.25.2)\n",
            "Requirement already satisfied: filelock in /usr/local/lib/python3.10/dist-packages (from huggingface-hub==0.19.4->-r /content/AgenticAI_GenAIHack/requirements_agenti_ai.txt (line 4)) (3.15.4)\n",
            "Requirement already satisfied: fsspec>=2023.5.0 in /usr/local/lib/python3.10/dist-packages (from huggingface-hub==0.19.4->-r /content/AgenticAI_GenAIHack/requirements_agenti_ai.txt (line 4)) (2023.6.0)\n",
            "Requirement already satisfied: pyyaml>=5.1 in /usr/local/lib/python3.10/dist-packages (from huggingface-hub==0.19.4->-r /content/AgenticAI_GenAIHack/requirements_agenti_ai.txt (line 4)) (6.0.1)\n",
            "Requirement already satisfied: packaging>=20.9 in /usr/local/lib/python3.10/dist-packages (from huggingface-hub==0.19.4->-r /content/AgenticAI_GenAIHack/requirements_agenti_ai.txt (line 4)) (24.1)\n",
            "Requirement already satisfied: SQLAlchemy<3,>=1.4 in /usr/local/lib/python3.10/dist-packages (from langchain==0.2.9->-r /content/AgenticAI_GenAIHack/requirements_agenti_ai.txt (line 5)) (2.0.31)\n",
            "Requirement already satisfied: aiohttp<4.0.0,>=3.8.3 in /usr/local/lib/python3.10/dist-packages (from langchain==0.2.9->-r /content/AgenticAI_GenAIHack/requirements_agenti_ai.txt (line 5)) (3.9.5)\n",
            "Requirement already satisfied: async-timeout<5.0.0,>=4.0.0 in /usr/local/lib/python3.10/dist-packages (from langchain==0.2.9->-r /content/AgenticAI_GenAIHack/requirements_agenti_ai.txt (line 5)) (4.0.3)\n",
            "Requirement already satisfied: langchain-core<0.3.0,>=0.2.20 in /usr/local/lib/python3.10/dist-packages (from langchain==0.2.9->-r /content/AgenticAI_GenAIHack/requirements_agenti_ai.txt (line 5)) (0.2.23)\n",
            "Requirement already satisfied: langchain-text-splitters<0.3.0,>=0.2.0 in /usr/local/lib/python3.10/dist-packages (from langchain==0.2.9->-r /content/AgenticAI_GenAIHack/requirements_agenti_ai.txt (line 5)) (0.2.2)\n",
            "Requirement already satisfied: langsmith<0.2.0,>=0.1.17 in /usr/local/lib/python3.10/dist-packages (from langchain==0.2.9->-r /content/AgenticAI_GenAIHack/requirements_agenti_ai.txt (line 5)) (0.1.93)\n",
            "Requirement already satisfied: langchain-community<0.3.0,>=0.2.6 in /usr/local/lib/python3.10/dist-packages (from langchain-experimental==0.0.62->-r /content/AgenticAI_GenAIHack/requirements_agenti_ai.txt (line 6)) (0.2.10)\n",
            "Requirement already satisfied: pgvector<0.3.0,>=0.2.5 in /usr/local/lib/python3.10/dist-packages (from langchain-postgres==0.0.6->-r /content/AgenticAI_GenAIHack/requirements_agenti_ai.txt (line 7)) (0.2.5)\n",
            "Requirement already satisfied: psycopg<4,>=3 in /usr/local/lib/python3.10/dist-packages (from langchain-postgres==0.0.6->-r /content/AgenticAI_GenAIHack/requirements_agenti_ai.txt (line 7)) (3.2.1)\n",
            "Requirement already satisfied: psycopg-pool<4.0.0,>=3.2.1 in /usr/local/lib/python3.10/dist-packages (from langchain-postgres==0.0.6->-r /content/AgenticAI_GenAIHack/requirements_agenti_ai.txt (line 7)) (3.2.2)\n",
            "Requirement already satisfied: tiktoken<1,>=0.7 in /usr/local/lib/python3.10/dist-packages (from langchain-openai==0.1.7->-r /content/AgenticAI_GenAIHack/requirements_agenti_ai.txt (line 8)) (0.7.0)\n",
            "Requirement already satisfied: uuid6<2025.0.0,>=2024.1.12 in /usr/local/lib/python3.10/dist-packages (from langgraph==0.0.55->-r /content/AgenticAI_GenAIHack/requirements_agenti_ai.txt (line 9)) (2024.7.10)\n",
            "Requirement already satisfied: anyio<5,>=3.5.0 in /usr/local/lib/python3.10/dist-packages (from openai==1.30.5->-r /content/AgenticAI_GenAIHack/requirements_agenti_ai.txt (line 11)) (3.7.1)\n",
            "Requirement already satisfied: distro<2,>=1.7.0 in /usr/lib/python3/dist-packages (from openai==1.30.5->-r /content/AgenticAI_GenAIHack/requirements_agenti_ai.txt (line 11)) (1.7.0)\n",
            "Requirement already satisfied: httpx<1,>=0.23.0 in /usr/local/lib/python3.10/dist-packages (from openai==1.30.5->-r /content/AgenticAI_GenAIHack/requirements_agenti_ai.txt (line 11)) (0.27.0)\n",
            "Requirement already satisfied: sniffio in /usr/local/lib/python3.10/dist-packages (from openai==1.30.5->-r /content/AgenticAI_GenAIHack/requirements_agenti_ai.txt (line 11)) (1.3.1)\n",
            "Requirement already satisfied: aiosignal>=1.1.2 in /usr/local/lib/python3.10/dist-packages (from aiohttp<4.0.0,>=3.8.3->langchain==0.2.9->-r /content/AgenticAI_GenAIHack/requirements_agenti_ai.txt (line 5)) (1.3.1)\n",
            "Requirement already satisfied: attrs>=17.3.0 in /usr/local/lib/python3.10/dist-packages (from aiohttp<4.0.0,>=3.8.3->langchain==0.2.9->-r /content/AgenticAI_GenAIHack/requirements_agenti_ai.txt (line 5)) (23.2.0)\n",
            "Requirement already satisfied: frozenlist>=1.1.1 in /usr/local/lib/python3.10/dist-packages (from aiohttp<4.0.0,>=3.8.3->langchain==0.2.9->-r /content/AgenticAI_GenAIHack/requirements_agenti_ai.txt (line 5)) (1.4.1)\n",
            "Requirement already satisfied: multidict<7.0,>=4.5 in /usr/local/lib/python3.10/dist-packages (from aiohttp<4.0.0,>=3.8.3->langchain==0.2.9->-r /content/AgenticAI_GenAIHack/requirements_agenti_ai.txt (line 5)) (6.0.5)\n",
            "Requirement already satisfied: yarl<2.0,>=1.0 in /usr/local/lib/python3.10/dist-packages (from aiohttp<4.0.0,>=3.8.3->langchain==0.2.9->-r /content/AgenticAI_GenAIHack/requirements_agenti_ai.txt (line 5)) (1.9.4)\n",
            "Requirement already satisfied: idna>=2.8 in /usr/local/lib/python3.10/dist-packages (from anyio<5,>=3.5.0->openai==1.30.5->-r /content/AgenticAI_GenAIHack/requirements_agenti_ai.txt (line 11)) (3.7)\n",
            "Requirement already satisfied: exceptiongroup in /usr/local/lib/python3.10/dist-packages (from anyio<5,>=3.5.0->openai==1.30.5->-r /content/AgenticAI_GenAIHack/requirements_agenti_ai.txt (line 11)) (1.2.2)\n",
            "Requirement already satisfied: starlette<0.38.0,>=0.37.2 in /usr/local/lib/python3.10/dist-packages (from fastapi>=0.95.2->chromadb==0.4.15->-r /content/AgenticAI_GenAIHack/requirements_agenti_ai.txt (line 2)) (0.37.2)\n",
            "Requirement already satisfied: fastapi-cli>=0.0.2 in /usr/local/lib/python3.10/dist-packages (from fastapi>=0.95.2->chromadb==0.4.15->-r /content/AgenticAI_GenAIHack/requirements_agenti_ai.txt (line 2)) (0.0.4)\n",
            "Requirement already satisfied: jinja2>=2.11.2 in /usr/local/lib/python3.10/dist-packages (from fastapi>=0.95.2->chromadb==0.4.15->-r /content/AgenticAI_GenAIHack/requirements_agenti_ai.txt (line 2)) (3.1.4)\n",
            "Requirement already satisfied: python-multipart>=0.0.7 in /usr/local/lib/python3.10/dist-packages (from fastapi>=0.95.2->chromadb==0.4.15->-r /content/AgenticAI_GenAIHack/requirements_agenti_ai.txt (line 2)) (0.0.9)\n",
            "Requirement already satisfied: email_validator>=2.0.0 in /usr/local/lib/python3.10/dist-packages (from fastapi>=0.95.2->chromadb==0.4.15->-r /content/AgenticAI_GenAIHack/requirements_agenti_ai.txt (line 2)) (2.2.0)\n",
            "Requirement already satisfied: certifi in /usr/local/lib/python3.10/dist-packages (from httpx<1,>=0.23.0->openai==1.30.5->-r /content/AgenticAI_GenAIHack/requirements_agenti_ai.txt (line 11)) (2024.7.4)\n",
            "Requirement already satisfied: httpcore==1.* in /usr/local/lib/python3.10/dist-packages (from httpx<1,>=0.23.0->openai==1.30.5->-r /content/AgenticAI_GenAIHack/requirements_agenti_ai.txt (line 11)) (1.0.5)\n",
            "Requirement already satisfied: h11<0.15,>=0.13 in /usr/local/lib/python3.10/dist-packages (from httpcore==1.*->httpx<1,>=0.23.0->openai==1.30.5->-r /content/AgenticAI_GenAIHack/requirements_agenti_ai.txt (line 11)) (0.14.0)\n",
            "Requirement already satisfied: six>=1.9.0 in /usr/local/lib/python3.10/dist-packages (from kubernetes>=28.1.0->chromadb==0.4.15->-r /content/AgenticAI_GenAIHack/requirements_agenti_ai.txt (line 2)) (1.16.0)\n",
            "Requirement already satisfied: python-dateutil>=2.5.3 in /usr/local/lib/python3.10/dist-packages (from kubernetes>=28.1.0->chromadb==0.4.15->-r /content/AgenticAI_GenAIHack/requirements_agenti_ai.txt (line 2)) (2.8.2)\n",
            "Requirement already satisfied: google-auth>=1.0.1 in /usr/local/lib/python3.10/dist-packages (from kubernetes>=28.1.0->chromadb==0.4.15->-r /content/AgenticAI_GenAIHack/requirements_agenti_ai.txt (line 2)) (2.27.0)\n",
            "Requirement already satisfied: websocket-client!=0.40.0,!=0.41.*,!=0.42.*,>=0.32.0 in /usr/local/lib/python3.10/dist-packages (from kubernetes>=28.1.0->chromadb==0.4.15->-r /content/AgenticAI_GenAIHack/requirements_agenti_ai.txt (line 2)) (1.8.0)\n",
            "Requirement already satisfied: requests-oauthlib in /usr/local/lib/python3.10/dist-packages (from kubernetes>=28.1.0->chromadb==0.4.15->-r /content/AgenticAI_GenAIHack/requirements_agenti_ai.txt (line 2)) (1.3.1)\n",
            "Requirement already satisfied: oauthlib>=3.2.2 in /usr/local/lib/python3.10/dist-packages (from kubernetes>=28.1.0->chromadb==0.4.15->-r /content/AgenticAI_GenAIHack/requirements_agenti_ai.txt (line 2)) (3.2.2)\n",
            "Requirement already satisfied: urllib3>=1.24.2 in /usr/local/lib/python3.10/dist-packages (from kubernetes>=28.1.0->chromadb==0.4.15->-r /content/AgenticAI_GenAIHack/requirements_agenti_ai.txt (line 2)) (2.0.7)\n",
            "Requirement already satisfied: dataclasses-json<0.7,>=0.5.7 in /usr/local/lib/python3.10/dist-packages (from langchain-community<0.3.0,>=0.2.6->langchain-experimental==0.0.62->-r /content/AgenticAI_GenAIHack/requirements_agenti_ai.txt (line 6)) (0.6.7)\n",
            "Requirement already satisfied: jsonpatch<2.0,>=1.33 in /usr/local/lib/python3.10/dist-packages (from langchain-core<0.3.0,>=0.2.20->langchain==0.2.9->-r /content/AgenticAI_GenAIHack/requirements_agenti_ai.txt (line 5)) (1.33)\n",
            "Requirement already satisfied: orjson<4.0.0,>=3.9.14 in /usr/local/lib/python3.10/dist-packages (from langsmith<0.2.0,>=0.1.17->langchain==0.2.9->-r /content/AgenticAI_GenAIHack/requirements_agenti_ai.txt (line 5)) (3.10.6)\n",
            "Requirement already satisfied: coloredlogs in /usr/local/lib/python3.10/dist-packages (from onnxruntime>=1.14.1->chromadb==0.4.15->-r /content/AgenticAI_GenAIHack/requirements_agenti_ai.txt (line 2)) (15.0.1)\n",
            "Requirement already satisfied: flatbuffers in /usr/local/lib/python3.10/dist-packages (from onnxruntime>=1.14.1->chromadb==0.4.15->-r /content/AgenticAI_GenAIHack/requirements_agenti_ai.txt (line 2)) (24.3.25)\n",
            "Requirement already satisfied: protobuf in /usr/local/lib/python3.10/dist-packages (from onnxruntime>=1.14.1->chromadb==0.4.15->-r /content/AgenticAI_GenAIHack/requirements_agenti_ai.txt (line 2)) (3.20.3)\n",
            "Requirement already satisfied: sympy in /usr/local/lib/python3.10/dist-packages (from onnxruntime>=1.14.1->chromadb==0.4.15->-r /content/AgenticAI_GenAIHack/requirements_agenti_ai.txt (line 2)) (1.13.1)\n",
            "Requirement already satisfied: deprecated>=1.2.6 in /usr/local/lib/python3.10/dist-packages (from opentelemetry-api>=1.2.0->chromadb==0.4.15->-r /content/AgenticAI_GenAIHack/requirements_agenti_ai.txt (line 2)) (1.2.14)\n",
            "Requirement already satisfied: importlib-metadata<=8.0.0,>=6.0 in /usr/local/lib/python3.10/dist-packages (from opentelemetry-api>=1.2.0->chromadb==0.4.15->-r /content/AgenticAI_GenAIHack/requirements_agenti_ai.txt (line 2)) (8.0.0)\n",
            "Requirement already satisfied: googleapis-common-protos~=1.52 in /usr/local/lib/python3.10/dist-packages (from opentelemetry-exporter-otlp-proto-grpc>=1.2.0->chromadb==0.4.15->-r /content/AgenticAI_GenAIHack/requirements_agenti_ai.txt (line 2)) (1.63.2)\n",
            "Requirement already satisfied: opentelemetry-exporter-otlp-proto-common==1.26.0 in /usr/local/lib/python3.10/dist-packages (from opentelemetry-exporter-otlp-proto-grpc>=1.2.0->chromadb==0.4.15->-r /content/AgenticAI_GenAIHack/requirements_agenti_ai.txt (line 2)) (1.26.0)\n",
            "Requirement already satisfied: opentelemetry-proto==1.26.0 in /usr/local/lib/python3.10/dist-packages (from opentelemetry-exporter-otlp-proto-grpc>=1.2.0->chromadb==0.4.15->-r /content/AgenticAI_GenAIHack/requirements_agenti_ai.txt (line 2)) (1.26.0)\n",
            "Requirement already satisfied: opentelemetry-semantic-conventions==0.47b0 in /usr/local/lib/python3.10/dist-packages (from opentelemetry-sdk>=1.2.0->chromadb==0.4.15->-r /content/AgenticAI_GenAIHack/requirements_agenti_ai.txt (line 2)) (0.47b0)\n",
            "Requirement already satisfied: monotonic>=1.5 in /usr/local/lib/python3.10/dist-packages (from posthog>=2.4.0->chromadb==0.4.15->-r /content/AgenticAI_GenAIHack/requirements_agenti_ai.txt (line 2)) (1.6)\n",
            "Requirement already satisfied: backoff>=1.10.0 in /usr/local/lib/python3.10/dist-packages (from posthog>=2.4.0->chromadb==0.4.15->-r /content/AgenticAI_GenAIHack/requirements_agenti_ai.txt (line 2)) (2.2.1)\n",
            "Requirement already satisfied: annotated-types>=0.4.0 in /usr/local/lib/python3.10/dist-packages (from pydantic>=1.9->chromadb==0.4.15->-r /content/AgenticAI_GenAIHack/requirements_agenti_ai.txt (line 2)) (0.7.0)\n",
            "Requirement already satisfied: pydantic-core==2.20.1 in /usr/local/lib/python3.10/dist-packages (from pydantic>=1.9->chromadb==0.4.15->-r /content/AgenticAI_GenAIHack/requirements_agenti_ai.txt (line 2)) (2.20.1)\n",
            "Requirement already satisfied: charset-normalizer<4,>=2 in /usr/local/lib/python3.10/dist-packages (from requests>=2.28->chromadb==0.4.15->-r /content/AgenticAI_GenAIHack/requirements_agenti_ai.txt (line 2)) (3.3.2)\n",
            "Requirement already satisfied: greenlet!=0.4.17 in /usr/local/lib/python3.10/dist-packages (from SQLAlchemy<3,>=1.4->langchain==0.2.9->-r /content/AgenticAI_GenAIHack/requirements_agenti_ai.txt (line 5)) (3.0.3)\n",
            "Requirement already satisfied: regex>=2022.1.18 in /usr/local/lib/python3.10/dist-packages (from tiktoken<1,>=0.7->langchain-openai==0.1.7->-r /content/AgenticAI_GenAIHack/requirements_agenti_ai.txt (line 8)) (2024.5.15)\n",
            "Requirement already satisfied: click>=8.0.0 in /usr/local/lib/python3.10/dist-packages (from typer>=0.9.0->chromadb==0.4.15->-r /content/AgenticAI_GenAIHack/requirements_agenti_ai.txt (line 2)) (8.1.7)\n",
            "Requirement already satisfied: shellingham>=1.3.0 in /usr/local/lib/python3.10/dist-packages (from typer>=0.9.0->chromadb==0.4.15->-r /content/AgenticAI_GenAIHack/requirements_agenti_ai.txt (line 2)) (1.5.4)\n",
            "Requirement already satisfied: rich>=10.11.0 in /usr/local/lib/python3.10/dist-packages (from typer>=0.9.0->chromadb==0.4.15->-r /content/AgenticAI_GenAIHack/requirements_agenti_ai.txt (line 2)) (13.7.1)\n",
            "Requirement already satisfied: httptools>=0.5.0 in /usr/local/lib/python3.10/dist-packages (from uvicorn[standard]>=0.18.3->chromadb==0.4.15->-r /content/AgenticAI_GenAIHack/requirements_agenti_ai.txt (line 2)) (0.6.1)\n",
            "Requirement already satisfied: python-dotenv>=0.13 in /usr/local/lib/python3.10/dist-packages (from uvicorn[standard]>=0.18.3->chromadb==0.4.15->-r /content/AgenticAI_GenAIHack/requirements_agenti_ai.txt (line 2)) (1.0.1)\n",
            "Requirement already satisfied: uvloop!=0.15.0,!=0.15.1,>=0.14.0 in /usr/local/lib/python3.10/dist-packages (from uvicorn[standard]>=0.18.3->chromadb==0.4.15->-r /content/AgenticAI_GenAIHack/requirements_agenti_ai.txt (line 2)) (0.19.0)\n",
            "Requirement already satisfied: watchfiles>=0.13 in /usr/local/lib/python3.10/dist-packages (from uvicorn[standard]>=0.18.3->chromadb==0.4.15->-r /content/AgenticAI_GenAIHack/requirements_agenti_ai.txt (line 2)) (0.22.0)\n",
            "Requirement already satisfied: websockets>=10.4 in /usr/local/lib/python3.10/dist-packages (from uvicorn[standard]>=0.18.3->chromadb==0.4.15->-r /content/AgenticAI_GenAIHack/requirements_agenti_ai.txt (line 2)) (12.0)\n",
            "Requirement already satisfied: marshmallow<4.0.0,>=3.18.0 in /usr/local/lib/python3.10/dist-packages (from dataclasses-json<0.7,>=0.5.7->langchain-community<0.3.0,>=0.2.6->langchain-experimental==0.0.62->-r /content/AgenticAI_GenAIHack/requirements_agenti_ai.txt (line 6)) (3.21.3)\n",
            "Requirement already satisfied: typing-inspect<1,>=0.4.0 in /usr/local/lib/python3.10/dist-packages (from dataclasses-json<0.7,>=0.5.7->langchain-community<0.3.0,>=0.2.6->langchain-experimental==0.0.62->-r /content/AgenticAI_GenAIHack/requirements_agenti_ai.txt (line 6)) (0.9.0)\n",
            "Requirement already satisfied: wrapt<2,>=1.10 in /usr/local/lib/python3.10/dist-packages (from deprecated>=1.2.6->opentelemetry-api>=1.2.0->chromadb==0.4.15->-r /content/AgenticAI_GenAIHack/requirements_agenti_ai.txt (line 2)) (1.14.1)\n",
            "Requirement already satisfied: dnspython>=2.0.0 in /usr/local/lib/python3.10/dist-packages (from email_validator>=2.0.0->fastapi>=0.95.2->chromadb==0.4.15->-r /content/AgenticAI_GenAIHack/requirements_agenti_ai.txt (line 2)) (2.6.1)\n",
            "Requirement already satisfied: cachetools<6.0,>=2.0.0 in /usr/local/lib/python3.10/dist-packages (from google-auth>=1.0.1->kubernetes>=28.1.0->chromadb==0.4.15->-r /content/AgenticAI_GenAIHack/requirements_agenti_ai.txt (line 2)) (5.4.0)\n",
            "Requirement already satisfied: pyasn1-modules>=0.2.1 in /usr/local/lib/python3.10/dist-packages (from google-auth>=1.0.1->kubernetes>=28.1.0->chromadb==0.4.15->-r /content/AgenticAI_GenAIHack/requirements_agenti_ai.txt (line 2)) (0.4.0)\n",
            "Requirement already satisfied: rsa<5,>=3.1.4 in /usr/local/lib/python3.10/dist-packages (from google-auth>=1.0.1->kubernetes>=28.1.0->chromadb==0.4.15->-r /content/AgenticAI_GenAIHack/requirements_agenti_ai.txt (line 2)) (4.9)\n",
            "Requirement already satisfied: zipp>=0.5 in /usr/local/lib/python3.10/dist-packages (from importlib-metadata<=8.0.0,>=6.0->opentelemetry-api>=1.2.0->chromadb==0.4.15->-r /content/AgenticAI_GenAIHack/requirements_agenti_ai.txt (line 2)) (3.19.2)\n",
            "Requirement already satisfied: MarkupSafe>=2.0 in /usr/local/lib/python3.10/dist-packages (from jinja2>=2.11.2->fastapi>=0.95.2->chromadb==0.4.15->-r /content/AgenticAI_GenAIHack/requirements_agenti_ai.txt (line 2)) (2.1.5)\n",
            "Requirement already satisfied: jsonpointer>=1.9 in /usr/local/lib/python3.10/dist-packages (from jsonpatch<2.0,>=1.33->langchain-core<0.3.0,>=0.2.20->langchain==0.2.9->-r /content/AgenticAI_GenAIHack/requirements_agenti_ai.txt (line 5)) (3.0.0)\n",
            "Requirement already satisfied: markdown-it-py>=2.2.0 in /usr/local/lib/python3.10/dist-packages (from rich>=10.11.0->typer>=0.9.0->chromadb==0.4.15->-r /content/AgenticAI_GenAIHack/requirements_agenti_ai.txt (line 2)) (3.0.0)\n",
            "Requirement already satisfied: pygments<3.0.0,>=2.13.0 in /usr/local/lib/python3.10/dist-packages (from rich>=10.11.0->typer>=0.9.0->chromadb==0.4.15->-r /content/AgenticAI_GenAIHack/requirements_agenti_ai.txt (line 2)) (2.16.1)\n",
            "Requirement already satisfied: humanfriendly>=9.1 in /usr/local/lib/python3.10/dist-packages (from coloredlogs->onnxruntime>=1.14.1->chromadb==0.4.15->-r /content/AgenticAI_GenAIHack/requirements_agenti_ai.txt (line 2)) (10.0)\n",
            "Requirement already satisfied: mpmath<1.4,>=1.1.0 in /usr/local/lib/python3.10/dist-packages (from sympy->onnxruntime>=1.14.1->chromadb==0.4.15->-r /content/AgenticAI_GenAIHack/requirements_agenti_ai.txt (line 2)) (1.3.0)\n",
            "Requirement already satisfied: mdurl~=0.1 in /usr/local/lib/python3.10/dist-packages (from markdown-it-py>=2.2.0->rich>=10.11.0->typer>=0.9.0->chromadb==0.4.15->-r /content/AgenticAI_GenAIHack/requirements_agenti_ai.txt (line 2)) (0.1.2)\n",
            "Requirement already satisfied: pyasn1<0.7.0,>=0.4.6 in /usr/local/lib/python3.10/dist-packages (from pyasn1-modules>=0.2.1->google-auth>=1.0.1->kubernetes>=28.1.0->chromadb==0.4.15->-r /content/AgenticAI_GenAIHack/requirements_agenti_ai.txt (line 2)) (0.6.0)\n",
            "Requirement already satisfied: mypy-extensions>=0.3.0 in /usr/local/lib/python3.10/dist-packages (from typing-inspect<1,>=0.4.0->dataclasses-json<0.7,>=0.5.7->langchain-community<0.3.0,>=0.2.6->langchain-experimental==0.0.62->-r /content/AgenticAI_GenAIHack/requirements_agenti_ai.txt (line 6)) (1.0.0)\n"
          ]
        }
      ],
      "source": [
        "!pip install -r /content/AgenticAI_GenAIHack/requirements_agenti_ai.txt"
      ]
    },
    {
      "cell_type": "code",
      "execution_count": 8,
      "id": "9dee900e-7a1c-48f2-b2b9-c45296e1f67e",
      "metadata": {
        "tags": [],
        "id": "9dee900e-7a1c-48f2-b2b9-c45296e1f67e",
        "outputId": "e0814f2a-3ef4-4f5d-864b-54fc63787aea",
        "colab": {
          "base_uri": "https://localhost:8080/"
        }
      },
      "outputs": [
        {
          "output_type": "stream",
          "name": "stderr",
          "text": [
            "WARNING:langchain_community.utils.user_agent:USER_AGENT environment variable not set, consider setting it to identify your requests.\n"
          ]
        }
      ],
      "source": [
        "import warnings\n",
        "warnings.filterwarnings(\"ignore\")\n",
        "\n",
        "import functools, operator, requests, os, json\n",
        "from bs4 import BeautifulSoup\n",
        "from langchain.agents import AgentExecutor, create_openai_tools_agent\n",
        "from langchain_core.messages import BaseMessage, HumanMessage\n",
        "from langchain.output_parsers.openai_functions import JsonOutputFunctionsParser\n",
        "from langchain_core.prompts import ChatPromptTemplate, MessagesPlaceholder\n",
        "from langgraph.graph import StateGraph, END\n",
        "from langchain.tools import tool\n",
        "from typing import Annotated, Any, Dict, List, Optional, Sequence, TypedDict\n",
        "from IPython.display import Markdown\n",
        "\n",
        "from langchain.text_splitter import RecursiveCharacterTextSplitter\n",
        "from langchain_community.document_loaders import WebBaseLoader\n",
        "from langchain_community.vectorstores import Chroma\n",
        "from langchain_openai import OpenAIEmbeddings\n",
        "from langchain.tools.retriever import create_retriever_tool\n",
        "from langchain_experimental.tools import PythonREPLTool"
      ]
    },
    {
      "cell_type": "markdown",
      "id": "7b0657c0-3356-40c1-a036-37989dc82268",
      "metadata": {
        "id": "7b0657c0-3356-40c1-a036-37989dc82268"
      },
      "source": [
        "#### Load environment variables"
      ]
    },
    {
      "cell_type": "code",
      "execution_count": 9,
      "id": "a86c9ff2-5905-49bb-ae97-d1f08d55af96",
      "metadata": {
        "tags": [],
        "id": "a86c9ff2-5905-49bb-ae97-d1f08d55af96"
      },
      "outputs": [],
      "source": [
        "import os\n",
        "from dotenv import load_dotenv\n",
        "load_dotenv(dotenv_path=\".env\")\n",
        "\n",
        "EMBEDDING_DEPLOYMENT_NAME = os.getenv('EMBEDDING_DEPLOYMENT_NAME')\n",
        "CHATGPT_16K_DEPLOYMENT_NAME = os.getenv('CHATGPT_16K_DEPLOYMENT_NAME')\n",
        "CHATGPT_TURBO_DEPLOYMENT_NAME = os.getenv('CHATGPT_TURBO_DEPLOYMENT_NAME')\n",
        "GPT4_DEPLOYMENT_NAME = os.getenv('GPT4_DEPLOYMENT_NAME')\n",
        "GPT4_TURBO_DEPLOYMENT_NAME = os.getenv('GPT4_TURBO_DEPLOYMENT_NAME')\n",
        "\n",
        "API_KEY = os.getenv('southindia_API_KEY')\n",
        "API_BASE = os.getenv('southindia_API_BASE')\n",
        "API_TYPE = os.getenv('API_TYPE')\n",
        "API_VERSION = os.getenv('API_VERSION')"
      ]
    },
    {
      "cell_type": "markdown",
      "id": "9a70f67a-75f1-4510-a7c3-293d60c63e23",
      "metadata": {
        "id": "9a70f67a-75f1-4510-a7c3-293d60c63e23"
      },
      "source": [
        "#### Define LLM"
      ]
    },
    {
      "cell_type": "markdown",
      "source": [
        "## List of Environment Variables needed\n",
        "\n",
        "*"
      ],
      "metadata": {
        "id": "50JbWiWouawT"
      },
      "id": "50JbWiWouawT"
    },
    {
      "cell_type": "markdown",
      "id": "26672c36-c87e-4256-9565-7520ae9bf4f9",
      "metadata": {
        "id": "26672c36-c87e-4256-9565-7520ae9bf4f9"
      },
      "source": [
        "#### OpenAI Style"
      ]
    },
    {
      "cell_type": "code",
      "execution_count": null,
      "id": "58d7ca84-2c62-470b-bb3d-6ca858268da2",
      "metadata": {
        "id": "58d7ca84-2c62-470b-bb3d-6ca858268da2"
      },
      "outputs": [],
      "source": [
        "# from langchain.chat_models import ChatOpenAI\n",
        "# from langchain.embeddings.openai import OpenAIEmbeddings\n",
        "\n",
        "# llm  = ChatOpenAI()\n",
        "# embeddings = OpenAIEmbeddings()"
      ]
    },
    {
      "cell_type": "markdown",
      "id": "233fab39-9da6-4c51-bf1c-5021c0a79bb1",
      "metadata": {
        "id": "233fab39-9da6-4c51-bf1c-5021c0a79bb1"
      },
      "source": [
        "#### Azure Style"
      ]
    },
    {
      "cell_type": "code",
      "execution_count": 10,
      "id": "501ecc9a-5333-45d6-8f0a-99f5006b485e",
      "metadata": {
        "tags": [],
        "id": "501ecc9a-5333-45d6-8f0a-99f5006b485e"
      },
      "outputs": [],
      "source": [
        "from langchain_openai import AzureChatOpenAI\n",
        "from langchain_openai import AzureOpenAIEmbeddings\n",
        "\n",
        "embeddings = AzureOpenAIEmbeddings(\n",
        "    azure_deployment=EMBEDDING_DEPLOYMENT_NAME,\n",
        "    openai_api_key=API_KEY,\n",
        "    azure_endpoint=API_BASE,\n",
        "    openai_api_version=API_VERSION,\n",
        ")\n",
        "\n",
        "llm = AzureChatOpenAI(\n",
        "        azure_endpoint=API_BASE,\n",
        "        openai_api_version=API_VERSION,\n",
        "        azure_deployment=GPT4_TURBO_DEPLOYMENT_NAME,\n",
        "        openai_api_key=API_KEY,\n",
        "        openai_api_type=API_TYPE,\n",
        "        temperature=0)"
      ]
    },
    {
      "cell_type": "code",
      "execution_count": 11,
      "id": "e3189a42-7864-43dc-a1ef-2c531659d734",
      "metadata": {
        "tags": [],
        "id": "e3189a42-7864-43dc-a1ef-2c531659d734",
        "outputId": "13238fcc-2557-433f-9de2-33c6597a77f3",
        "colab": {
          "base_uri": "https://localhost:8080/"
        }
      },
      "outputs": [
        {
          "output_type": "execute_result",
          "data": {
            "text/plain": [
              "AIMessage(content='2 + 2 equals 4.', response_metadata={'token_usage': {'completion_tokens': 8, 'prompt_tokens': 14, 'total_tokens': 22}, 'model_name': 'gpt-4', 'system_fingerprint': 'fp_811936bd4f', 'prompt_filter_results': [{'prompt_index': 0, 'content_filter_results': {'hate': {'filtered': False, 'severity': 'safe'}, 'self_harm': {'filtered': False, 'severity': 'safe'}, 'sexual': {'filtered': False, 'severity': 'safe'}, 'violence': {'filtered': False, 'severity': 'safe'}}}], 'finish_reason': 'stop', 'logprobs': None, 'content_filter_results': {'hate': {'filtered': False, 'severity': 'safe'}, 'self_harm': {'filtered': False, 'severity': 'safe'}, 'sexual': {'filtered': False, 'severity': 'safe'}, 'violence': {'filtered': False, 'severity': 'safe'}}}, id='run-4b7a655f-6e17-44dc-ba58-bdd6b4001049-0')"
            ]
          },
          "metadata": {},
          "execution_count": 11
        }
      ],
      "source": [
        "llm.invoke(\"What is 2+2 ?\")"
      ]
    },
    {
      "cell_type": "markdown",
      "id": "196fd074-6f15-4408-b798-5eaae735d064",
      "metadata": {
        "id": "196fd074-6f15-4408-b798-5eaae735d064"
      },
      "source": [
        "#### Agent Creation"
      ]
    },
    {
      "cell_type": "code",
      "execution_count": 12,
      "id": "26b98c74-9283-421e-a389-ea740ba3d53e",
      "metadata": {
        "id": "26b98c74-9283-421e-a389-ea740ba3d53e",
        "outputId": "b94dbbbb-190d-4870-980e-25ee7c2c7198",
        "colab": {
          "base_uri": "https://localhost:8080/"
        }
      },
      "outputs": [
        {
          "output_type": "stream",
          "name": "stderr",
          "text": [
            "/usr/local/lib/python3.10/dist-packages/langchain_core/_api/deprecation.py:139: LangChainDeprecationWarning: The function `initialize_agent` was deprecated in LangChain 0.1.0 and will be removed in 0.3.0. Use Use new agent constructor methods like create_react_agent, create_json_agent, create_structured_chat_agent, etc. instead.\n",
            "  warn_deprecated(\n"
          ]
        }
      ],
      "source": [
        "import os\n",
        "from langchain.agents import AgentType\n",
        "from langchain.memory import ConversationBufferMemory\n",
        "from langchain.agents import initialize_agent\n",
        "from langchain_community.retrievers import TavilySearchAPIRetriever\n",
        "from langchain.agents import load_tools\n",
        "\n"
      ]
    },
    {
      "cell_type": "code",
      "source": [
        "# Define tools\n",
        "def get_tavily_search_retriever():\n",
        "    retriever = TavilySearchAPIRetriever(k=7)\n",
        "    retriever_description = \"Use this tool when you need to answer questions related to current events and latest happenings or anything related to the user ask\"\n",
        "    retrieve_tool = create_retriever_tool(retriever=retriever, name=\"web_search\", description=retriever_description)\n",
        "    return retrieve_tool\n",
        "\n",
        "tavily_search_tool = get_tavily_search_retriever()\n",
        "tools = load_tools([\"llm-math\"], llm=llm)\n",
        "tools = tools + [tavily_search_tool]\n",
        "\n",
        "# Initialize memory\n",
        "memory = ConversationBufferMemory(memory_key=\"chat_history\")\n",
        "\n",
        "# Initialize the agent with verbose output\n",
        "agent = initialize_agent(tools, llm, agent=AgentType.CONVERSATIONAL_REACT_DESCRIPTION, verbose=True, memory=memory)"
      ],
      "metadata": {
        "id": "ZHpi9KAQu5N2"
      },
      "id": "ZHpi9KAQu5N2",
      "execution_count": null,
      "outputs": []
    },
    {
      "cell_type": "code",
      "execution_count": null,
      "id": "ac85eb73-8a1b-4edc-81a7-2ebbe83db290",
      "metadata": {
        "id": "ac85eb73-8a1b-4edc-81a7-2ebbe83db290",
        "outputId": "88281a02-f265-4b40-9181-32fb9ff16da7"
      },
      "outputs": [
        {
          "name": "stdout",
          "output_type": "stream",
          "text": [
            "\n",
            "\n",
            "\u001b[1m> Entering new AgentExecutor chain...\u001b[0m\n",
            "\u001b[32;1m\u001b[1;3m```\n",
            "Thought: Do I need to use a tool? Yes\n",
            "Action: google_search\n",
            "Action Input: current temperature in Hyderabad, current temperature in Delhi\n",
            "```\u001b[0m\n",
            "Observation: \u001b[33;1m\u001b[1;3mCurrent weather in Hyderabad, Telangana, India. Check current conditions in Hyderabad, Telangana, India with radar, hourly, and more.\n",
            "\n",
            "Get the latest weather forecast for Hyderabad, including warnings, temperature, rain, wind and visibility. 14-day weather forecast for Hyderabad.\n",
            "\n",
            "Today's Weather Report. Date: 2024-07-20. Station. Max Temp ( o C) Dep. from Normal. Min Temp ( o C) Dep. from Normal. RH at 0830IST. RH at 1730IST.\n",
            "\n",
            "Current weather in Hyderabad and forecast for today, tomorrow, and next 14 days\n",
            "\n",
            "Current Hyderabad weather forecast is Light rain with real-time temperature (25°C), humidity (84%), wind (16km/h), pressure (1003mb), UV (1%), visibility (5km) in Telangana. AQI; Ranking. ... 706, 7th Floor, Crown Heights, Rohini Sec-10, Delhi 110085, INDIA; GET OUR APP. FOLLOW US\n",
            "\n",
            "Hyderabad, Telangana, India Weather Forecast, with current conditions, wind, air quality, and what to expect for the next 3 days.\n",
            "\n",
            "Everything you need to know about today's weather in Hyderabad, Telangana, India. High/Low, Precipitation Chances, Sunrise/Sunset, and today's Temperature History.\u001b[0m\n",
            "Thought:\u001b[32;1m\u001b[1;3mThe search results provided general information about the weather in Hyderabad, including the current temperature, which is 25°C (77°F), but did not provide specific information about the current temperature in Delhi. To provide an accurate comparison, I need to perform another search to find the current temperature in Delhi.\n",
            "\n",
            "```\n",
            "Action: google_search\n",
            "Action Input: current temperature in Delhi\n",
            "```\u001b[0m\n",
            "Observation: \u001b[33;1m\u001b[1;3mCurrent weather in Delhi, Delhi, India. Check current conditions in Delhi, Delhi, India with radar, hourly, and more.\n",
            "\n",
            "Delhi, Delhi, India Weather Forecast, with current conditions, wind, air quality, and what to expect for the next 3 days.\n",
            "\n",
            "Sun & Moon. Weather Today Weather Hourly 14 Day Forecast Yesterday/Past Weather Climate (Averages) Now. 84 °F. Fog. Feels Like: 100 °F Forecast: 93 / 84 °F Wind: No wind. Location: New Delhi / Safdarjung. Current Time:\n",
            "\n",
            "Urban Meteorological Services for Delhi - NCR India Meteorological Department Ministry of Earth Sciences Government of India. Navigation Menu. Home; About Us; Observation ... Current Weather Across Delhi - NCR. Delhi; Gurugram; Faridabad; Gautam Budh Nagar; Ghaziabad; New Delhi. 30.0 °C; Calm 0 km/h; 91 %; Forecast. Palam. 30.0 °C; Easterly 5 ...\n",
            "\n",
            "Everything you need to know about today's weather in Delhi, Delhi, India. High/Low, Precipitation Chances, Sunrise/Sunset, and today's Temperature History.\n",
            "\n",
            "Get the latest 14-day weather forecast for New Delhi, including warnings, temperature, wind, and precipitation. Stay updated with BBC Weather.\n",
            "\n",
            "Find out the latest weather information for New Delhi and other regions of India from the Regional Met Centre New Delhi, a branch of India Meteorological Department. Explore the current weather, forecast, radar, climate and more on the official website.\u001b[0m\n",
            "Thought:\u001b[32;1m\u001b[1;3mThe search results provided the current temperature in Delhi, which is 30°C (86°F). With this information, we can now compare the temperatures of Hyderabad and Delhi.\n",
            "\n",
            "AI: Based on the information obtained, Delhi is currently hotter with a temperature of 30°C (86°F) compared to Hyderabad, where the current temperature is 25°C (77°F).\u001b[0m\n",
            "\n",
            "\u001b[1m> Finished chain.\u001b[0m\n"
          ]
        },
        {
          "data": {
            "text/plain": [
              "'Based on the information obtained, Delhi is currently hotter with a temperature of 30°C (86°F) compared to Hyderabad, where the current temperature is 25°C (77°F).'"
            ]
          },
          "execution_count": 13,
          "metadata": {},
          "output_type": "execute_result"
        }
      ],
      "source": [
        "agent.run(input=\"Which is hotter today? Hyderabad or Delhi?\")"
      ]
    },
    {
      "cell_type": "code",
      "execution_count": null,
      "id": "0b2205de-9d00-4088-9d15-e80ac6508d5f",
      "metadata": {
        "id": "0b2205de-9d00-4088-9d15-e80ac6508d5f"
      },
      "outputs": [],
      "source": []
    },
    {
      "cell_type": "code",
      "execution_count": null,
      "id": "04f3f01c-dcaa-4fbb-b660-de8c93710a90",
      "metadata": {
        "id": "04f3f01c-dcaa-4fbb-b660-de8c93710a90"
      },
      "outputs": [],
      "source": []
    },
    {
      "cell_type": "code",
      "execution_count": null,
      "id": "d43c24f3-a728-4c16-b6c0-150c3ef6efb2",
      "metadata": {
        "id": "d43c24f3-a728-4c16-b6c0-150c3ef6efb2"
      },
      "outputs": [],
      "source": []
    },
    {
      "cell_type": "code",
      "execution_count": null,
      "id": "c5bc335d-92ce-41b5-aceb-efc895b0621a",
      "metadata": {
        "id": "c5bc335d-92ce-41b5-aceb-efc895b0621a"
      },
      "outputs": [],
      "source": []
    }
  ],
  "metadata": {
    "kernelspec": {
      "display_name": "gen.ai_venv_39",
      "language": "python",
      "name": "gen.ai_venv_39"
    },
    "language_info": {
      "codemirror_mode": {
        "name": "ipython",
        "version": 3
      },
      "file_extension": ".py",
      "mimetype": "text/x-python",
      "name": "python",
      "nbconvert_exporter": "python",
      "pygments_lexer": "ipython3",
      "version": "3.9.12"
    },
    "colab": {
      "provenance": [],
      "include_colab_link": true
    }
  },
  "nbformat": 4,
  "nbformat_minor": 5
}