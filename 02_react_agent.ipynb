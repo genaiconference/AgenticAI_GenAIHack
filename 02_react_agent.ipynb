{
 "cells": [
  {
   "cell_type": "code",
   "execution_count": null,
   "id": "b461df5a-216d-4336-b85c-d9aa3d0f4e8b",
   "metadata": {},
   "outputs": [],
   "source": []
  },
  {
   "cell_type": "code",
   "execution_count": null,
   "id": "53a1871e-5828-4acf-97b5-41abbdcb7d62",
   "metadata": {},
   "outputs": [],
   "source": []
  },
  {
   "cell_type": "code",
   "execution_count": 2,
   "id": "9dee900e-7a1c-48f2-b2b9-c45296e1f67e",
   "metadata": {
    "tags": []
   },
   "outputs": [
    {
     "name": "stderr",
     "output_type": "stream",
     "text": [
      "USER_AGENT environment variable not set, consider setting it to identify your requests.\n"
     ]
    }
   ],
   "source": [
    "import warnings\n",
    "warnings.filterwarnings(\"ignore\")\n",
    "\n",
    "import functools, operator, requests, os, json\n",
    "from bs4 import BeautifulSoup\n",
    "from duckduckgo_search import DDGS\n",
    "from langchain.agents import AgentExecutor, create_openai_tools_agent\n",
    "from langchain_core.messages import BaseMessage, HumanMessage\n",
    "from langchain.output_parsers.openai_functions import JsonOutputFunctionsParser\n",
    "from langchain_core.prompts import ChatPromptTemplate, MessagesPlaceholder\n",
    "from langgraph.graph import StateGraph, END\n",
    "from langchain.tools import tool\n",
    "from typing import Annotated, Any, Dict, List, Optional, Sequence, TypedDict\n",
    "from IPython.display import Markdown\n",
    "\n",
    "from langchain.text_splitter import RecursiveCharacterTextSplitter\n",
    "from langchain_community.document_loaders import WebBaseLoader\n",
    "from langchain_community.vectorstores import Chroma\n",
    "from langchain_openai import OpenAIEmbeddings\n",
    "from langchain.tools.retriever import create_retriever_tool\n",
    "from langchain_experimental.tools import PythonREPLTool"
   ]
  },
  {
   "cell_type": "markdown",
   "id": "7b0657c0-3356-40c1-a036-37989dc82268",
   "metadata": {},
   "source": [
    "#### Load environment variables"
   ]
  },
  {
   "cell_type": "code",
   "execution_count": 6,
   "id": "a86c9ff2-5905-49bb-ae97-d1f08d55af96",
   "metadata": {
    "tags": []
   },
   "outputs": [],
   "source": [
    "import os\n",
    "from dotenv import load_dotenv\n",
    "load_dotenv(dotenv_path=\".env\")\n",
    "\n",
    "EMBEDDING_DEPLOYMENT_NAME = os.getenv('EMBEDDING_DEPLOYMENT_NAME')\n",
    "CHATGPT_16K_DEPLOYMENT_NAME = os.getenv('CHATGPT_16K_DEPLOYMENT_NAME')\n",
    "CHATGPT_TURBO_DEPLOYMENT_NAME = os.getenv('CHATGPT_TURBO_DEPLOYMENT_NAME')\n",
    "GPT4_DEPLOYMENT_NAME = os.getenv('GPT4_DEPLOYMENT_NAME')\n",
    "GPT4_TURBO_DEPLOYMENT_NAME = os.getenv('GPT4_TURBO_DEPLOYMENT_NAME')\n",
    "\n",
    "API_KEY = os.getenv('southindia_API_KEY')\n",
    "API_BASE = os.getenv('southindia_API_BASE')\n",
    "API_TYPE = os.getenv('API_TYPE')\n",
    "API_VERSION = os.getenv('API_VERSION')"
   ]
  },
  {
   "cell_type": "markdown",
   "id": "9a70f67a-75f1-4510-a7c3-293d60c63e23",
   "metadata": {},
   "source": [
    "#### Define LLM"
   ]
  },
  {
   "cell_type": "markdown",
   "id": "26672c36-c87e-4256-9565-7520ae9bf4f9",
   "metadata": {},
   "source": [
    "#### OpenAI Style"
   ]
  },
  {
   "cell_type": "code",
   "execution_count": 7,
   "id": "58d7ca84-2c62-470b-bb3d-6ca858268da2",
   "metadata": {},
   "outputs": [],
   "source": [
    "# from langchain.chat_models import ChatOpenAI\n",
    "# from langchain.embeddings.openai import OpenAIEmbeddings\n",
    "\n",
    "# llm  = ChatOpenAI()\n",
    "# embeddings = OpenAIEmbeddings()"
   ]
  },
  {
   "cell_type": "markdown",
   "id": "233fab39-9da6-4c51-bf1c-5021c0a79bb1",
   "metadata": {},
   "source": [
    "#### Azure Style"
   ]
  },
  {
   "cell_type": "code",
   "execution_count": 8,
   "id": "501ecc9a-5333-45d6-8f0a-99f5006b485e",
   "metadata": {
    "tags": []
   },
   "outputs": [
    {
     "name": "stderr",
     "output_type": "stream",
     "text": [
      "/home/nalabsr1/venv/gen.ai_venv_39/lib/python3.9/site-packages/langchain_core/_api/deprecation.py:139: LangChainDeprecationWarning: The class `AzureChatOpenAI` was deprecated in LangChain 0.0.10 and will be removed in 0.3.0. An updated version of the class exists in the langchain-openai package and should be used instead. To use it run `pip install -U langchain-openai` and import as `from langchain_openai import AzureChatOpenAI`.\n",
      "  warn_deprecated(\n"
     ]
    }
   ],
   "source": [
    "from langchain.chat_models import AzureChatOpenAI\n",
    "from langchain_openai import AzureOpenAIEmbeddings\n",
    "\n",
    "embeddings = AzureOpenAIEmbeddings(\n",
    "    azure_deployment=EMBEDDING_DEPLOYMENT_NAME,\n",
    "    openai_api_key=API_KEY,\n",
    "    azure_endpoint=API_BASE,\n",
    "    openai_api_version=API_VERSION,\n",
    ")\n",
    "\n",
    "llm = AzureChatOpenAI(\n",
    "        openai_api_base=API_BASE,\n",
    "        openai_api_version=API_VERSION,\n",
    "        deployment_name=GPT4_TURBO_DEPLOYMENT_NAME,\n",
    "        openai_api_key=API_KEY,\n",
    "        openai_api_type=API_TYPE,\n",
    "        temperature=0)"
   ]
  },
  {
   "cell_type": "code",
   "execution_count": 9,
   "id": "e3189a42-7864-43dc-a1ef-2c531659d734",
   "metadata": {
    "tags": []
   },
   "outputs": [
    {
     "data": {
      "text/plain": [
       "AIMessage(content='2 + 2 equals 4.', response_metadata={'token_usage': {'completion_tokens': 8, 'prompt_tokens': 14, 'total_tokens': 22}, 'model_name': 'gpt-4', 'system_fingerprint': 'fp_811936bd4f', 'finish_reason': 'stop', 'logprobs': None}, id='run-bfac7791-6db7-42f3-a552-89b9b30de4e3-0')"
      ]
     },
     "execution_count": 9,
     "metadata": {},
     "output_type": "execute_result"
    }
   ],
   "source": [
    "llm.invoke(\"What is 2+2 ?\")"
   ]
  },
  {
   "cell_type": "markdown",
   "id": "196fd074-6f15-4408-b798-5eaae735d064",
   "metadata": {},
   "source": [
    "#### Agent Creation"
   ]
  },
  {
   "cell_type": "code",
   "execution_count": 10,
   "id": "26b98c74-9283-421e-a389-ea740ba3d53e",
   "metadata": {},
   "outputs": [
    {
     "name": "stderr",
     "output_type": "stream",
     "text": [
      "/home/nalabsr1/venv/gen.ai_venv_39/lib/python3.9/site-packages/langchain_core/_api/deprecation.py:139: LangChainDeprecationWarning: The function `initialize_agent` was deprecated in LangChain 0.1.0 and will be removed in 0.3.0. Use Use new agent constructor methods like create_react_agent, create_json_agent, create_structured_chat_agent, etc. instead.\n",
      "  warn_deprecated(\n"
     ]
    }
   ],
   "source": [
    "import os\n",
    "from langchain.agents import AgentType\n",
    "from langchain.memory import ConversationBufferMemory\n",
    "from langchain.agents import initialize_agent\n",
    "from langchain_community.retrievers import TavilySearchAPIRetriever\n",
    "from langchain.agents import load_tools\n",
    "\n",
    "def get_tavily_search_retriever():\n",
    "    retriever = TavilySearchAPIRetriever(k=7)\n",
    "    retriever_description = \"Use this tool when you need to answer questions related to current events and latest happenings or anything related to the user ask\"\n",
    "    retrieve_tool = create_retriever_tool(retriever=retriever, name=\"google_search\", description=retriever_description)\n",
    "    return retrieve_tool\n",
    "\n",
    "tavily_search_tool = get_tavily_search_retriever()\n",
    "tools = load_tools([\"llm-math\"], llm=llm)\n",
    "tools = tools + [tavily_search_tool]\n",
    "\n",
    "# Initialize memory\n",
    "memory = ConversationBufferMemory(memory_key=\"chat_history\")\n",
    "\n",
    "# Initialize the agent with verbose output\n",
    "agent_chain = initialize_agent(tools, llm, agent=AgentType.CONVERSATIONAL_REACT_DESCRIPTION, verbose=True, memory=memory)\n",
    "\n",
    "# Run the agent with a sample input\n",
    "# response = agent_chain.run(input=\"What is the sum of temperatures of hyderbad and guntur today?\")\n",
    "# print(response)"
   ]
  },
  {
   "cell_type": "code",
   "execution_count": 11,
   "id": "ac85eb73-8a1b-4edc-81a7-2ebbe83db290",
   "metadata": {},
   "outputs": [
    {
     "name": "stderr",
     "output_type": "stream",
     "text": [
      "/home/nalabsr1/venv/gen.ai_venv_39/lib/python3.9/site-packages/langchain_core/_api/deprecation.py:139: LangChainDeprecationWarning: The method `Chain.run` was deprecated in langchain 0.1.0 and will be removed in 0.3.0. Use invoke instead.\n",
      "  warn_deprecated(\n"
     ]
    },
    {
     "name": "stdout",
     "output_type": "stream",
     "text": [
      "\n",
      "\n",
      "\u001b[1m> Entering new AgentExecutor chain...\u001b[0m\n",
      "\u001b[32;1m\u001b[1;3mThought: Do I need to use a tool? Yes\n",
      "Action: google_search\n",
      "Action Input: current temperature in Hyderabad\u001b[0m\n",
      "Observation: \u001b[33;1m\u001b[1;3mGet the latest weather information for Hyderabad, Telangana, India, including temperature, humidity, wind, pressure, and precipitation. See hourly and daily forecasts, radar maps, and severe weather alerts.\n",
      "\n",
      "Get the current temperature and outlook for Hyderabad, Telangana, India. See hourly and 10-day forecasts, radar maps, air quality, and allergy outlook for Hyderabad.\n",
      "\n",
      "Get the latest weather forecast for Hyderabad, including warnings, temperature, rain, wind and visibility. 14-day weather forecast for Hyderabad.\n",
      "\n",
      "Everything you need to know about today's weather in Hyderabad, Telangana, India. High/Low, Precipitation Chances, Sunrise/Sunset, and today's Temperature History.\n",
      "\n",
      "Current Weather Hyderabad . 26 o C. 79%. West-southwesterly 11.1 km/h; Observation Time: 17 Jul, 22.30 IST . Sunrise:05:51 (IST) Sunset: 18:54 (IST) Moonrise:15:13 (IST) Moonset: 01:40 (IST) Hyderabad Radar Animation. Our Services. Weather Reports ... Current Weather across Major Cities.\n",
      "\n",
      "Get the current temperature, weather conditions, and forecast for Hyderabad, India. See hourly and daily data, historical averages, and nearby stations.\n",
      "\n",
      "See the current temperature and weather conditions in Hyderabad, Telangana, India. Get the hourly forecast for the next 24 hours, including rain, wind, humidity and more.\u001b[0m\n",
      "Thought:\u001b[32;1m\u001b[1;3mDo I need to use a tool? Yes\n",
      "Action: google_search\n",
      "Action Input: current temperature in Basel\u001b[0m\n",
      "Observation: \u001b[33;1m\u001b[1;3mBasel, Basel-Stadt, Switzerland Weather Forecast, with current conditions, wind, air quality, and what to expect for the next 3 days.\n",
      "\n",
      "Basel 14 Day Extended Forecast. Weather Today Weather Hourly 14 Day Forecast Yesterday/Past Weather Climate (Averages) Currently: 76 °F. Overcast. (Weather station: Bale-Mulhouse, Switzerland). See more current weather.\n",
      "\n",
      "Current weather in Basel, Basel-Stadt, Switzerland. Check current conditions in Basel, Basel-Stadt, Switzerland with radar, hourly, and more.\n",
      "\n",
      "Everything you need to know about today's weather in Basel, Basel-Stadt, Switzerland. High/Low, Precipitation Chances, Sunrise/Sunset, and today's Temperature History.\n",
      "\n",
      "21. 70 / 56 °F. 22. 72 / 53 °F. 23. Detailed forecast for 14 days. Need some help? Current weather in Basel and forecast for today, tomorrow, and next 14 days.\n",
      "\n",
      "14-day weather forecast for Basel.\n",
      "\n",
      "Hour-by-Hour Forecast for Basel, Basel-Stadt, Switzerland. Time/General. Time Zone. DST Changes. Sun & Moon. Weather Today Weather Hourly 14 Day Forecast Yesterday/Past Weather Climate (Averages) Currently: 78 °F. Partly sunny.\u001b[0m\n",
      "Thought:\u001b[32;1m\u001b[1;3mDo I need to use a tool? No\n",
      "AI: Based on the current weather information available, Hyderabad has a temperature of 26°C, while Basel has a temperature of 78°F, which is approximately 25.6°C. The temperatures are quite similar, but Hyderabad is slightly hotter than Basel at the moment. Please note that weather conditions can change rapidly, and for the most up-to-date information, it's always best to check a reliable weather source.\u001b[0m\n",
      "\n",
      "\u001b[1m> Finished chain.\u001b[0m\n"
     ]
    },
    {
     "data": {
      "text/plain": [
       "\"Based on the current weather information available, Hyderabad has a temperature of 26°C, while Basel has a temperature of 78°F, which is approximately 25.6°C. The temperatures are quite similar, but Hyderabad is slightly hotter than Basel at the moment. Please note that weather conditions can change rapidly, and for the most up-to-date information, it's always best to check a reliable weather source.\""
      ]
     },
     "execution_count": 11,
     "metadata": {},
     "output_type": "execute_result"
    }
   ],
   "source": [
    "agent_chain.run(input=\"Which is hotter? Hyderabad or Basel?\")"
   ]
  },
  {
   "cell_type": "code",
   "execution_count": null,
   "id": "0b2205de-9d00-4088-9d15-e80ac6508d5f",
   "metadata": {},
   "outputs": [],
   "source": []
  },
  {
   "cell_type": "code",
   "execution_count": null,
   "id": "04f3f01c-dcaa-4fbb-b660-de8c93710a90",
   "metadata": {},
   "outputs": [],
   "source": []
  },
  {
   "cell_type": "code",
   "execution_count": null,
   "id": "d43c24f3-a728-4c16-b6c0-150c3ef6efb2",
   "metadata": {},
   "outputs": [],
   "source": []
  },
  {
   "cell_type": "code",
   "execution_count": null,
   "id": "c5bc335d-92ce-41b5-aceb-efc895b0621a",
   "metadata": {},
   "outputs": [],
   "source": []
  }
 ],
 "metadata": {
  "kernelspec": {
   "display_name": "gen.ai_venv_39",
   "language": "python",
   "name": "gen.ai_venv_39"
  },
  "language_info": {
   "codemirror_mode": {
    "name": "ipython",
    "version": 3
   },
   "file_extension": ".py",
   "mimetype": "text/x-python",
   "name": "python",
   "nbconvert_exporter": "python",
   "pygments_lexer": "ipython3",
   "version": "3.9.12"
  }
 },
 "nbformat": 4,
 "nbformat_minor": 5
}
