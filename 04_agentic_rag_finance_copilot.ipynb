{
  "cells": [
    {
      "cell_type": "markdown",
      "id": "ca0d4e08-7701-44e9-9a9e-c7578a5ee258",
      "metadata": {
        "id": "ca0d4e08-7701-44e9-9a9e-c7578a5ee258"
      },
      "source": [
        "# Finance Copilot - LangGraph Architecture"
      ]
    },
    {
      "cell_type": "code",
      "source": [
        "!git clone https://github.com/genaiconference/AgenticAI_GenAIHack.git"
      ],
      "metadata": {
        "id": "7Z8BAwQNioN4"
      },
      "id": "7Z8BAwQNioN4",
      "execution_count": 21,
      "outputs": []
    },
    {
      "cell_type": "code",
      "source": [
        "!pip install -r /content/AgenticAI_GenAIHack/requirements_agenti_ai.txt"
      ],
      "metadata": {
        "id": "X5Bw6hZviu1M"
      },
      "id": "X5Bw6hZviu1M",
      "execution_count": null,
      "outputs": []
    },
    {
      "cell_type": "code",
      "source": [
        "import os\n",
        "os.chdir(\"/content/AgenticAI_GenAIHack\")"
      ],
      "metadata": {
        "id": "fOPlwCtRiyW5"
      },
      "id": "fOPlwCtRiyW5",
      "execution_count": 40,
      "outputs": []
    },
    {
      "cell_type": "code",
      "execution_count": 38,
      "id": "9dee900e-7a1c-48f2-b2b9-c45296e1f67e",
      "metadata": {
        "tags": [],
        "id": "9dee900e-7a1c-48f2-b2b9-c45296e1f67e"
      },
      "outputs": [],
      "source": [
        "import warnings\n",
        "warnings.filterwarnings(\"ignore\")\n",
        "from typing import Literal\n",
        "from typing import List, Sequence\n",
        "import random\n",
        "import numpy as np\n",
        "from bs4 import BeautifulSoup\n",
        "import functools, operator, requests, os, json\n",
        "from langchain.agents import AgentExecutor, create_openai_tools_agent\n",
        "from langchain_core.messages import BaseMessage, HumanMessage\n",
        "\n",
        "from langchain.output_parsers.openai_functions import JsonOutputFunctionsParser\n",
        "from langchain_core.prompts import ChatPromptTemplate, MessagesPlaceholder, PromptTemplate\n",
        "from langgraph.graph import StateGraph, END\n",
        "from langchain.tools import tool\n",
        "from typing import Annotated, Any, Dict, List, Optional, Sequence, TypedDict\n",
        "from IPython.display import Markdown, JSON\n",
        "\n",
        "from langchain.text_splitter import RecursiveCharacterTextSplitter\n",
        "from langchain_community.document_loaders import WebBaseLoader\n",
        "from langchain_community.vectorstores import Chroma\n",
        "from langchain_openai import OpenAIEmbeddings\n",
        "from langchain.tools.retriever import create_retriever_tool\n",
        "from langchain_community.utilities import BingSearchAPIWrapper\n",
        "from langchain.agents import Tool\n",
        "from langgraph.checkpoint.sqlite import SqliteSaver\n",
        "from langchain_community.callbacks import get_openai_callback\n",
        "\n",
        "from langchain_core.output_parsers import PydanticOutputParser\n",
        "from langchain_core.pydantic_v1 import BaseModel, Field, validator\n",
        "from langchain_core.output_parsers import JsonOutputParser\n",
        "import ast\n",
        "import re\n",
        "\n",
        "from prompts import *\n",
        "from utils import create_MVR, create_qa_agent, create_chat_agent"
      ]
    },
    {
      "cell_type": "markdown",
      "id": "7b0657c0-3356-40c1-a036-37989dc82268",
      "metadata": {
        "id": "7b0657c0-3356-40c1-a036-37989dc82268"
      },
      "source": [
        "#### Load environment variables"
      ]
    },
    {
      "cell_type": "code",
      "execution_count": 25,
      "id": "a86c9ff2-5905-49bb-ae97-d1f08d55af96",
      "metadata": {
        "tags": [],
        "id": "a86c9ff2-5905-49bb-ae97-d1f08d55af96"
      },
      "outputs": [],
      "source": [
        "import os\n",
        "from dotenv import load_dotenv\n",
        "load_dotenv(dotenv_path=\"/content/.env\")\n",
        "\n",
        "EMBEDDING_DEPLOYMENT_NAME = os.getenv('EMBEDDING_3_DEPLOYMENT_NAME')\n",
        "EMBEDDING_API_KEY = os.getenv('EMBEDDING_3_API_KEY')\n",
        "EMBEDDING_API_BASE = os.getenv('EMBEDDING_3_API_BASE')\n",
        "\n",
        "GPT4_TURBO_DEPLOYMENT_NAME = os.getenv('GPT4_TURBO_DEPLOYMENT_NAME')\n",
        "GPT4_OMNI_DEPLOYMENT_NAME = os.getenv('GPT4o_DEPLOYMENT_NAME')\n",
        "\n",
        "API_KEY = os.getenv('sweden_API_KEY')\n",
        "API_BASE = os.getenv('sweden_API_BASE')\n",
        "API_TYPE = os.getenv('API_TYPE')\n",
        "API_VERSION = os.getenv('API_VERSION')"
      ]
    },
    {
      "cell_type": "markdown",
      "id": "9a70f67a-75f1-4510-a7c3-293d60c63e23",
      "metadata": {
        "id": "9a70f67a-75f1-4510-a7c3-293d60c63e23"
      },
      "source": [
        "#### Define LLM"
      ]
    },
    {
      "cell_type": "code",
      "execution_count": 26,
      "id": "501ecc9a-5333-45d6-8f0a-99f5006b485e",
      "metadata": {
        "tags": [],
        "id": "501ecc9a-5333-45d6-8f0a-99f5006b485e"
      },
      "outputs": [],
      "source": [
        "from langchain_openai import AzureChatOpenAI\n",
        "from langchain_openai import AzureOpenAIEmbeddings\n",
        "\n",
        "embeddings = AzureOpenAIEmbeddings(\n",
        "    azure_deployment=EMBEDDING_DEPLOYMENT_NAME,\n",
        "    openai_api_key=EMBEDDING_API_KEY,\n",
        "    azure_endpoint=EMBEDDING_API_BASE,\n",
        "    openai_api_version=API_VERSION,\n",
        ")\n",
        "\n",
        "llm = AzureChatOpenAI(\n",
        "        azure_endpoint=API_BASE,\n",
        "        openai_api_version=API_VERSION,\n",
        "        azure_deployment=GPT4_OMNI_DEPLOYMENT_NAME,\n",
        "        openai_api_key=API_KEY,\n",
        "        openai_api_type=API_TYPE,\n",
        "        temperature=0)"
      ]
    },
    {
      "cell_type": "markdown",
      "id": "c6e31069-d8df-43f6-95d8-3b3ea79e872a",
      "metadata": {
        "id": "c6e31069-d8df-43f6-95d8-3b3ea79e872a"
      },
      "source": [
        "### Define Tools"
      ]
    },
    {
      "cell_type": "code",
      "execution_count": 43,
      "id": "188a96af-fcba-440c-9383-c800ef0f739d",
      "metadata": {
        "tags": [],
        "id": "188a96af-fcba-440c-9383-c800ef0f739d"
      },
      "outputs": [],
      "source": [
        "## Retriever Creation\n",
        "\n",
        "vector_store_exists = True\n",
        "\n",
        "_IFRS_ret = create_MVR('IFRS.pickle', embeddings, \"IFRS\", vectorstore_exists=vector_store_exists, k=7)\n",
        "\n",
        "_annual_reports_ret = create_MVR('annual_reports.pickle', embeddings, \"ANNUAL_REPORTS\", vectorstore_exists=vector_store_exists, k=7)\n",
        "\n",
        "_audit_ret = create_MVR('IFRS.pickle', embeddings, \"KPMG\", vectorstore_exists=vector_store_exists, k=7)\n",
        "\n",
        "## Tool Creation\n",
        "\n",
        "IFRS_tool = create_retriever_tool(retriever=_IFRS_ret,\n",
        "                                  name = 'IFRS_Retriever',\n",
        "                                  description=\"Use this tool to answer questions related to IFRS which is International Financial Reporting Standards.\")\n",
        "\n",
        "ANNUAL_REPORTS_tool = create_retriever_tool(retriever = _annual_reports_ret,\n",
        "                                        name = \"ANNUAL_REPORTS_RETRIEVER\",\n",
        "                                        description = \"Use this tool when you need to answer questions related to annual reports, 10K reports or 20F reports of Novartis and it's competitors ('Roche','GSK','Bayer','AstraZeneca','Sanofi', 'Amgen','Abbvie', 'BMS' - Bristol Myers Squibb, 'Gilead', 'Eli Lilly', 'Merck', 'Pfizer', 'Takeda','Johnson&Johnson', 'novo-nordisk'). If no specific year is mentioned in the question, always look for latest available year\")\n",
        "\n",
        "AUDIT_tool = create_retriever_tool(retriever=_audit_ret,\n",
        "                              name = 'AUDIT_Retriever',\n",
        "                              description=\"Use this tool to answer questions related to the Auditor(KPMG, EY, PWC) Insights on IFRS which is International Financial Reporting Standards\")"
      ]
    },
    {
      "cell_type": "code",
      "source": [
        "from google.colab import drive\n",
        "drive.mount('/content/drive')"
      ],
      "metadata": {
        "id": "JKrkH3Zpj-Bo",
        "outputId": "7bca8d2b-c479-49be-f19a-be1f89943775",
        "colab": {
          "base_uri": "https://localhost:8080/"
        }
      },
      "id": "JKrkH3Zpj-Bo",
      "execution_count": 28,
      "outputs": [
        {
          "output_type": "stream",
          "name": "stdout",
          "text": [
            "Mounted at /content/drive\n"
          ]
        }
      ]
    },
    {
      "cell_type": "code",
      "execution_count": 44,
      "id": "9ca49edf-26a4-4019-80c1-4fe9b18152f8",
      "metadata": {
        "tags": [],
        "id": "9ca49edf-26a4-4019-80c1-4fe9b18152f8"
      },
      "outputs": [],
      "source": [
        "class CheckNodeState(TypedDict):\n",
        "    \"\"\"\n",
        "    Represents the state of check nodes.\n",
        "\n",
        "    Attributes:\n",
        "        observation: observation found from the check node\n",
        "    \"\"\"\n",
        "    observation: str\n",
        "\n",
        "\n",
        "class SourceDetectNodeState(TypedDict):\n",
        "    \"\"\"\n",
        "    Represents the state of check nodes.\n",
        "\n",
        "    Attributes:\n",
        "        observation: observation found from the check node\n",
        "    \"\"\"\n",
        "    observation: List[str]\n",
        "\n",
        "\n",
        "\n",
        "class ResponseNodeState(TypedDict):\n",
        "    \"\"\"\n",
        "    Represents the state of Response nodes.\n",
        "\n",
        "    Attributes:\n",
        "        answer: answer generated\n",
        "        metadata: metadata of the answer generated\n",
        "    \"\"\"\n",
        "\n",
        "    answer: str\n",
        "    metadata: Annotated[dict, operator.add]\n",
        "\n",
        "\n",
        "\n",
        "def topic_modelling_node(state):\n",
        "    \"\"\"Use this tool to run topic modelling module and update the database with Question and Topic\"\"\"\n",
        "    print(\"------ENTERING: TOPIC MODELLING NODE------\")\n",
        "    ## Write code here to get web answer\n",
        "\n",
        "    print(\"============================================\")\n",
        "    print(state)\n",
        "    print(\"============================================\")\n",
        "\n",
        "    topic = \"DUMMY TOPIC\"\n",
        "    print(f\"------OBSERVATION: {topic}------\")\n",
        "    return {\"topic\": topic}\n",
        "\n",
        "\n",
        "class FinanceCheck_class(BaseModel):\n",
        "    \"\"\"Binary score for finance check on the user question.\"\"\"\n",
        "    binary_score: str = Field(description=\"Given a user question, return 'Yes' if is related to Finance/Accounting/Reporting else 'No'\")\n",
        "\n",
        "\n",
        "def get_finance_check(_llm, META_RESPONSE_PROMPT, state):\n",
        "    parser = PydanticOutputParser(pydantic_object=FinanceCheck_class)\n",
        "    prompt = PromptTemplate(template=META_RESPONSE_PROMPT,\n",
        "                            input_variables=[\"question\"],\n",
        "                            partial_variables={\"format_instructions\": parser.get_format_instructions()},\n",
        "                           )\n",
        "    prompt_and_model = prompt | llm\n",
        "\n",
        "    with get_openai_callback() as cb:\n",
        "        output = prompt_and_model.invoke({\"question\": question})\n",
        "        result = parser.invoke(output)\n",
        "    return result.binary_score\n",
        "\n",
        "\n",
        "def finance_check_node(state):\n",
        "    \"\"\"Use this tool to check whether the user question is about finance or general greeting.\"\"\"\n",
        "    observation = get_finance_check(llm, META_RESPONSE_PROMPT_DETAILED, state['question']) # random.choice([\"Yes\", \"No\"])\n",
        "\n",
        "    print(\"------ENTERING: FINANCE CHECK NODE------\")\n",
        "    print(f\"------OBSERVATION: {observation}------\")\n",
        "\n",
        "    finance_check: CheckNodeState = {\"observation\": observation}\n",
        "\n",
        "    return {\"finance_check\": finance_check}\n",
        "\n",
        "\n",
        "def get_generic_answer(_llm, META_ANSWER_PROMPT, question):\n",
        "    with get_openai_callback() as cb:\n",
        "        response = _llm.invoke(META_ANSWER_PROMPT.format(question=question))\n",
        "    return response.content\n",
        "\n",
        "\n",
        "def generic_response_node(state):\n",
        "    \"\"\"Use this tool to answer user generic questions\"\"\"\n",
        "    print(\"------ENTERING: GENERIC RESPONSE NODE------\")\n",
        "\n",
        "    answer = get_generic_answer(llm, META_ANSWER_PROMPT, state['question'])\n",
        "\n",
        "    generic_response: ResponseNodeState = {\"answer\": answer,\n",
        "                                            \"metadata\": []}\n",
        "\n",
        "    print(f\"------ANSWER: {generic_response}------\")\n",
        "    return {\"generic_response\": generic_responsec, \"final_answer\": answer}\n",
        "\n",
        "\n",
        "class RouteQuery_class(BaseModel):\n",
        "    \"\"\"Route a user query to the most relevant datasource.\"\"\"\n",
        "    datasource: Literal[\"FRA\", \"WEB\"] = Field(description=\"Given a user question choose to route it to WEB or FRA.\")\n",
        "\n",
        "def get_query_rerouter_check(llm, QUERY_REROUTER_PROMPT, state):\n",
        "    parser = PydanticOutputParser(pydantic_object=RouteQuery_class)\n",
        "\n",
        "    prompt = PromptTemplate(template=QUERY_REROUTER_PROMPT,\n",
        "                            input_variables=[\"question\"],\n",
        "                            partial_variables={\"format_instructions\": parser.get_format_instructions()},\n",
        "                           )\n",
        "    prompt_and_model = prompt | llm\n",
        "\n",
        "    with get_openai_callback() as cb:\n",
        "        output = prompt_and_model.invoke({\"question\": question})\n",
        "        query_rerouter_check = parser.invoke(output)\n",
        "\n",
        "    return query_rerouter_check.datasource\n",
        "\n",
        "\n",
        "def query_rerouter_node(state):\n",
        "    \"\"\"Use this tool to check whether the user question needs an internet search to answer\"\"\"\n",
        "    print(\"------ENTERING: QUERY REROUTER NODE------\")\n",
        "    observation = get_query_rerouter_check(llm, QUERY_REROUTER_PROMPT_DETAILED, state['question']) # random.choice([\"Yes\", \"No\"])\n",
        "\n",
        "    print(f\"------OBSERVATION: {observation}------\")\n",
        "    query_rerouter_check: CheckNodeState = {\"observation\": observation}\n",
        "    return {\"query_rerouter_check\": query_rerouter_check}\n",
        "\n",
        "\n",
        "\n",
        "def human_check_node(state):\n",
        "    user_input = input(\"The answer is not available from the private data sources! Do you want me to search over the internet to answer?\")\n",
        "    human_response: ResponseNodeState = {\"answer\": user_input.lower(),\n",
        "                                            \"metadata\": []}\n",
        "    return {\"human_response\": human_response}\n",
        "\n",
        "\n",
        "\n",
        "# Create a tool to processes content from a webpage\n",
        "@tool(\"process_content\", return_direct=False)\n",
        "def process_content(url: str, chunk_size: int = 10000) -> str:\n",
        "    \"\"\"\n",
        "    Use this tool to extract content from HTML pages and chunk it recursively.\n",
        "\n",
        "    Args:\n",
        "      url (str): The URL of the HTML page to process.\n",
        "      chunk_size (int, optional): The maximum size of each text chunk. Defaults to 100000.\n",
        "\n",
        "    Returns:\n",
        "      str: The chunked text content extracted from the HTML page.\n",
        "    \"\"\"\n",
        "    response = requests.get(url)\n",
        "    soup = BeautifulSoup(response.content, 'html.parser',from_encoding=\"iso-8859-1\")\n",
        "    text = soup.get_text()\n",
        "\n",
        "    def chunk_text(text, chunk_size):\n",
        "        if len(text) <= chunk_size:\n",
        "            return text\n",
        "        else:\n",
        "            midpoint = len(text) // 2\n",
        "            left_chunk = chunk_text(text[:midpoint], chunk_size)\n",
        "            right_chunk = chunk_text(text[midpoint:], chunk_size)\n",
        "            return left_chunk + \"\\n\" + right_chunk\n",
        "\n",
        "        chunks = chunk_text(text, chunk_size)\n",
        "        return chunks\n",
        "\n",
        "\n",
        "@tool(\"bing_search\", return_direct=False)\n",
        "def bing_search(query: str) -> str:\n",
        "    \"\"\"Use this tool when you need to answer questions related to current events and latest happenings\"\"\"\n",
        "    bing_search = BingSearchAPIWrapper()\n",
        "    results = bing_search.results(query, 5)\n",
        "    return results if results else \"No results found.\"\n",
        "\n",
        "\n",
        "def get_web_search_answer(state):\n",
        "    tools = [bing_search, process_content]\n",
        "\n",
        "    generate_prompt = \"\"\"You are a web searcher trained to retrieve the current events from the internet. Search the internet for information.\n",
        "                            Generate the best answer possible for the user's request with mandatory mention of the sources and the hyperlinks for the sources wherever it is possible.\n",
        "                            Think step by step. Breakdown the question if it has multiple asks and finally merge your results.\n",
        "                            Always crave for the best version of answer.\n",
        "                            - **Always** before giving the final answer, try another method.Then reflect on the answers of the two methods you did and ask yourself if it answers correctly the original question. If you are not sure, try another method.\n",
        "                            - If the methods tried do not give the same result, reflect and try again until you have two methods that have the same result.\n",
        "                            - If you are sure of the correct answer, create a beautiful and thorough response.\n",
        "                            ** DO NOT MAKE UP AN ANSWER OR USE YOUR PRIOR KNOWLEDGE, ONLY USE THE RESULTS OF THE CALCULATIONS YOU HAVE DONE **\n",
        "                            PLEASE NOTE THAT IF NO SPECIFIC YEAR MENTIONED IN THE QUESTION, ALWAYS LOOK FOR THE LATEST YEAR.\n",
        "                            \"\"\"\n",
        "\n",
        "    generate_agent = create_qa_agent(llm, tools, generate_prompt, verbose=False)\n",
        "    with get_openai_callback() as cb:\n",
        "        answer = generate_agent.invoke({\"input\": state['question']})\n",
        "    return answer['output']\n",
        "\n",
        "def web_search_node(state):\n",
        "    \"\"\"Use this tool when you need to answer questions related to current events and latest happenings\"\"\"\n",
        "    print(\"------ENTERING: WEB SEARCH NODE------\")\n",
        "    ## Write code here to get answer\n",
        "    response = get_web_search_answer(state)\n",
        "    print(f\"------WEB SEARCH ANSWER: {response}------\")\n",
        "    web_response: ResponseNodeState = {\"answer\": response,\n",
        "                                        \"metadata\": []}\n",
        "    return {\"web_response\": web_response, \"final_answer\": response}\n",
        "\n",
        "\n",
        "\n",
        "\n",
        "\n",
        "def get_source_detector_check(llm, SOURCE_DETECTOR_PROMPT, selected_source_list, question):\n",
        "    parser = JsonOutputParser()\n",
        "    prompt = PromptTemplate(template=SOURCE_DETECTOR_PROMPT,\n",
        "                            input_variables=[\"question\"],\n",
        "                            partial_variables={\"role_based_sources\": selected_source_list , \"format_instructions\": parser.get_format_instructions()},\n",
        "                           )\n",
        "    chain = prompt | llm | parser\n",
        "    source_detector_check = chain.invoke({\"question\": question})\n",
        "\n",
        "    return source_detector_check['Output']\n",
        "\n",
        "\n",
        "def source_detector_node(state):\n",
        "    \"\"\"Use this tool to detect the sources needed for the question to answer\"\"\"\n",
        "    print(\"------ENTERING: SOURCE DETECTOR NODE------\")\n",
        "\n",
        "    selected_source_list = [\"ifrs_answer_node\", \"annual_reports_answer_node\", \"auditor_guidance_answer_node\"]\n",
        "    sources_detected = get_source_detector_check(llm, SOURCE_DETECTOR_PROMPT_DETAILED, selected_source_list, state['question'])\n",
        "    print(sources_detected)\n",
        "    print(f\"------SOURCES DETECTED: {list(set(sources_detected))}------\")\n",
        "    source_detector_check: SourceDetectNodeState = {\"observation\": list(set(sources_detected))}\n",
        "    return {\"source_detector_check\": source_detector_check}\n",
        "\n",
        "\n",
        "def ifrs_answer_node(state):\n",
        "    \"\"\"Use this tool to answer ifrs related questions\"\"\"\n",
        "    print(\"------ENTERING: IFRS ANSWER NODE------\")\n",
        "\n",
        "    tools = [IFRS_tool]\n",
        "    generate_agent = create_qa_agent(llm, tools, IFRS_di_prompt, verbose=False)\n",
        "    with get_openai_callback() as cb:\n",
        "        answer = generate_agent.invoke({\"input\":state['question']})\n",
        "    display(Markdown(f\"\"\"**IFRS ANSWER:** <font color=\"red\">{answer['output']}</font>\"\"\"))\n",
        "    ifrs_response: ResponseNodeState = {\"answer\": answer['output'],\n",
        "                                        \"metadata\": []}\n",
        "    return {\"ifrs_response\": ifrs_response}\n",
        "\n",
        "\n",
        "def auditor_guidance_answer_node(state):\n",
        "    \"\"\"Use this tool to answer audit related questions\"\"\"\n",
        "    print(\"------ENTERING: AUDITOR GUIDANCE ANSWER NODE------\")\n",
        "    tools = [AUDIT_tool]\n",
        "    generate_agent = create_qa_agent(llm, tools, KPMG_EY_PwC_prompt, verbose=False)\n",
        "    with get_openai_callback() as cb:\n",
        "        answer = generate_agent.invoke({\"input\":state['question']})\n",
        "\n",
        "    display(Markdown(f\"\"\"**IFRS ANSWER:** <font color=\"red\">{answer['output']}</font>\"\"\"))\n",
        "    audit_response: ResponseNodeState = {\"answer\": answer['output'],\n",
        "                                        \"metadata\": []}\n",
        "    return {\"audit_response\": audit_response}\n",
        "\n",
        "\n",
        "def annual_reports_answer_node(state):\n",
        "    \"\"\"Use this tool to answer annual reports related questions\"\"\"\n",
        "    print(\"------ENTERING: ANNUAL REPORTS ANSWER NODE------\")\n",
        "    all_competitors = ['Roche','GSK','Bayer','AstraZeneca','Sanofi', 'Amgen', 'Biogen', 'Abbvie', 'BMS/Bristol Myers Squibb', 'Gilead', 'Eli Lilly', 'Merck', 'Pfizer', 'Takeda','Johnson&Johnson', 'novo-nordisk']\n",
        "\n",
        "    competitors = ['Roche', 'Sanofi', 'Bayer', 'GSK', 'AstraZeneca']\n",
        "    web_tool = bing_search\n",
        "\n",
        "    tools = [ANNUAL_REPORTS_tool, web_tool]\n",
        "    generate_agent = create_qa_agent(llm, tools, AR_prompt, verbose=False)\n",
        "    with get_openai_callback() as cb:\n",
        "        answer = generate_agent.invoke({\"input\":state['question'], 'all_competitors':all_competitors, 'top5_competitors':competitors })\n",
        "    display(Markdown(f\"\"\"**ANNUAL REPORTS ANSWER:** <font color=\"red\">{answer['output']}</font>\"\"\"))\n",
        "    annual_reports_response: ResponseNodeState = {\"answer\": answer['output'],\n",
        "                                                    \"metadata\": []}\n",
        "    return {\"annual_reports_response\": annual_reports_response}\n",
        "\n",
        "\n",
        "def get_unified_response(_llm, unified_response_prompt, all_answers):\n",
        "    with get_openai_callback() as cb:\n",
        "        unified_response = _llm.invoke(unified_response_prompt.format(all_answers=all_answers))\n",
        "    return unified_response.content\n",
        "\n",
        "\n",
        "def unified_answer_node(state):\n",
        "    \"\"\"Use this tool to consolidate and give a unified answer\"\"\"\n",
        "    print(\"------ENTERING: UNIFIED ANSWER NODE------\")\n",
        "    display(JSON(state))\n",
        "    all_answers = \"\"\n",
        "    node_response_dict = {\"ifrs_answer_node\": [\"### IFRS: \", \"ifrs_response\"],\n",
        "                             \"annual_reports_answer_node\": [\"### Annual Reports: \", \"annual_reports_response\"],\n",
        "                             \"fm_answer_node\": [\"### Foundational ChatGPT: \", \"fm_response\"]}\n",
        "\n",
        "    for source in node_response_dict.keys():\n",
        "        if source in state['source_detector_check']['observation']:\n",
        "            all_answers = (\n",
        "                    all_answers\n",
        "                    + node_response_dict[source][0]\n",
        "                    + \"\\n\"\n",
        "                    + state[node_response_dict[source][1]][\"answer\"]\n",
        "                    + \"\\n\\n\"\n",
        "                    + \"---\"\n",
        "                    + \"\\n\\n\"\n",
        "                )\n",
        "\n",
        "    answer = get_unified_response(llm, unified_response_prompt, all_answers)\n",
        "    display(Markdown(f\"\"\"**UNIFIED ANSWER:** <font color=\"red\">{answer}</font>\"\"\"))\n",
        "\n",
        "    unified_response: ResponseNodeState = {\"answer\": answer,\n",
        "                                            \"metadata\": []}\n",
        "\n",
        "    all_answers = all_answers + \"### Unified Response\" +\"\\n\" +answer + \"\\n\\n\"\n",
        "\n",
        "    return {\"unified_response\": unified_response, \"final_answer\": all_answers}\n",
        "\n",
        "\n",
        "\n",
        "def overall_status_check_node(state):\n",
        "    \"\"\"Use this tool to check the overall status and update the config settings\"\"\"\n",
        "    print(\"------ENTERING: OVERALL STATUS CHECK NODE------\")\n",
        "    observation = \"Completed\"\n",
        "    overall_status_check: CheckNodeState = {\"observation\": observation}\n",
        "    print(\"-------------------------------- {} --------------------------------\".format(red(\"Final Answer\", ['bold'])))\n",
        "    display(Markdown(f\"\"\"**FINAL ANSWER:** <font color=\"red\">{state['final_answer']}</font>\"\"\"))\n",
        "\n",
        "    return {\"overall_status_check\": overall_status_check}"
      ]
    },
    {
      "cell_type": "code",
      "execution_count": 45,
      "id": "d13fac97-df76-44e4-b313-279bbc8f7a06",
      "metadata": {
        "tags": [],
        "id": "d13fac97-df76-44e4-b313-279bbc8f7a06"
      },
      "outputs": [],
      "source": [
        "from langgraph.graph import StateGraph\n",
        "from typing_extensions import TypedDict\n",
        "from typing import Annotated, List\n",
        "from langchain_core.messages import AnyMessage\n",
        "import operator\n",
        "\n",
        "\n",
        "class GraphState(TypedDict):\n",
        "    \"\"\"\n",
        "    Represents the state of our graph.\n",
        "\n",
        "    Attributes:\n",
        "        question: question\n",
        "        finance_check: whether user question needs finance answer or generic answer\n",
        "        generic_response: generic answer\n",
        "        query_rerouter_check: whether user question needs web search or fra sources to answer\n",
        "        web_search: web answer\n",
        "        source_detector: List of fra sources applicable for answering the user question\n",
        "        ifrs_answer: ifrs answer\n",
        "        annual_reports_answer: annual reports answer\n",
        "        fm_answer: foundational model answer\n",
        "        unified_answer: consistency check and unified answer\n",
        "    \"\"\"\n",
        "\n",
        "    operation_id: int\n",
        "    user_id: str\n",
        "    question: str\n",
        "    topic: str\n",
        "    requested_datasources: List[str]\n",
        "    final_answer: Annotated[str, operator.add]\n",
        "\n",
        "    finance_check: CheckNodeState\n",
        "    query_rerouter_check: CheckNodeState\n",
        "    source_detector_check: SourceDetectNodeState\n",
        "    overall_status_check: CheckNodeState\n",
        "\n",
        "    generic_response: ResponseNodeState\n",
        "    human_response: ResponseNodeState\n",
        "    web_response: ResponseNodeState\n",
        "    ifrs_response: ResponseNodeState\n",
        "    annual_reports_response: ResponseNodeState\n",
        "    audit_response: ResponseNodeState\n",
        "    unified_response: ResponseNodeState\n",
        "    intermediate_steps: Annotated[list[AnyMessage], operator.add]\n",
        "\n",
        "\n",
        "\n",
        "## Main Graph\n",
        "\n",
        "builder = StateGraph(GraphState)\n",
        "builder.add_node(\"topic_modelling_node\", topic_modelling_node)\n",
        "builder.add_node(\"finance_check_node\", finance_check_node)\n",
        "builder.add_node(\"generic_response_node\", generic_response_node)\n",
        "builder.add_node(\"query_rerouter_node\", query_rerouter_node)\n",
        "builder.add_node(\"human_check_node\", human_check_node)\n",
        "builder.add_node(\"web_search_node\", web_search_node)\n",
        "builder.add_node(\"source_detector_node\", source_detector_node)\n",
        "builder.add_node(\"ifrs_answer_node\", ifrs_answer_node)\n",
        "builder.add_node(\"annual_reports_answer_node\", annual_reports_answer_node)\n",
        "builder.add_node(\"auditor_guidance_answer_node\", auditor_guidance_answer_node)\n",
        "builder.add_node(\"unified_answer_node\", unified_answer_node)\n",
        "builder.add_node(\"overall_status_check_node\", overall_status_check_node)\n",
        "\n",
        "builder.set_entry_point(\"topic_modelling_node\")\n",
        "builder.add_edge(\"topic_modelling_node\", \"finance_check_node\")\n",
        "\n",
        "def finance_check_edge(state):\n",
        "    finance_check = state[\"finance_check\"]\n",
        "\n",
        "    if finance_check['observation'] == \"Yes\":\n",
        "        print(\"------DECISION: INVOKE QUERY REROUTER NODE------\")\n",
        "        return \"query_rerouter_node\"\n",
        "    else:\n",
        "        print(\"------DECISION: INVOKE GENERIC RESPONSE NODE------\")\n",
        "        return \"generic_response_node\"\n",
        "\n",
        "\n",
        "finance_check_possible_nodes = [\"query_rerouter_node\", \"generic_response_node\"]\n",
        "builder.add_conditional_edges(\"finance_check_node\", finance_check_edge, finance_check_possible_nodes)\n",
        "builder.add_edge(\"generic_response_node\", \"overall_status_check_node\")\n",
        "\n",
        "\n",
        "def query_rerouter_edge(state):\n",
        "    query_rerouter_check = state[\"query_rerouter_check\"]\n",
        "\n",
        "    if query_rerouter_check['observation'] == \"FRA\":\n",
        "        print(\"------DECISION: INVOKE SOURCE DETECTOR NODE------\")\n",
        "        return \"source_detector_node\"\n",
        "    else:\n",
        "        print(\"------DECISION: CHECK WITH USER TO INVOKE WEB SEARCH NODE------\")\n",
        "        return \"human_check_node\"\n",
        "\n",
        "\n",
        "query_rerouter_possible_nodes = [\"human_check_node\", \"source_detector_node\"]\n",
        "builder.add_conditional_edges(\"query_rerouter_node\", query_rerouter_edge, query_rerouter_possible_nodes)\n",
        "\n",
        "\n",
        "def human_check_edge(state):\n",
        "    if state['human_response']['answer'] == \"yes\":\n",
        "        print(\"------DECISION: INVOKE WEB SEARCH NODE------\")\n",
        "        return \"web_search_node\"\n",
        "    else:\n",
        "        print(\"------Your question cannot be answered due to lack of information from private data sources, please ask a different question!------\")\n",
        "        return \"overall_status_check_node\"\n",
        "\n",
        "\n",
        "builder.add_conditional_edges(\"human_check_node\", human_check_edge, [\"web_search_node\", \"overall_status_check_node\"])\n",
        "\n",
        "builder.add_edge(\"web_search_node\", \"overall_status_check_node\")\n",
        "\n",
        "\n",
        "def source_detector_edge(state) -> list:\n",
        "    return state[\"source_detector_check\"]['observation']\n",
        "\n",
        "\n",
        "individual_answer_nodes = [\"annual_reports_answer_node\", \"ifrs_answer_node\", \"auditor_guidance_answer_node\"]\n",
        "builder.add_conditional_edges(\"source_detector_node\", source_detector_edge, individual_answer_nodes)\n",
        "\n",
        "for node in individual_answer_nodes:\n",
        "    builder.add_edge(node, \"unified_answer_node\")\n",
        "\n",
        "\n",
        "builder.add_edge(\"unified_answer_node\", \"overall_status_check_node\")\n",
        "builder.set_finish_point(\"overall_status_check_node\")\n",
        "\n",
        "memory = SqliteSaver.from_conn_string(\":memory:\")\n",
        "graph = builder.compile()"
      ]
    },
    {
      "cell_type": "code",
      "execution_count": 46,
      "id": "a04f9819-b5eb-4c89-9987-7907b712e951",
      "metadata": {
        "tags": [],
        "id": "a04f9819-b5eb-4c89-9987-7907b712e951",
        "outputId": "c85c805f-38ca-47d7-8c89-1ce168f86157",
        "colab": {
          "base_uri": "https://localhost:8080/",
          "height": 741
        }
      },
      "outputs": [
        {
          "output_type": "display_data",
          "data": {
            "image/jpeg": "[encoded data removed]",
            "text/plain": [
              "<IPython.core.display.Image object>"
            ]
          },
          "metadata": {}
        }
      ],
      "source": [
        "from IPython.display import Image, display\n",
        "\n",
        "display(Image(graph.get_graph().draw_mermaid_png()))"
      ]
    },
    {
      "cell_type": "code",
      "execution_count": 47,
      "id": "969ea3bb-4b84-45a5-b1e5-41f2225e365e",
      "metadata": {
        "tags": [],
        "id": "969ea3bb-4b84-45a5-b1e5-41f2225e365e"
      },
      "outputs": [],
      "source": [
        "import time\n",
        "from simple_colors import *\n",
        "\n",
        "def run_answer(question, t):\n",
        "    inputs = {\"question\": question, \"operation_id\": 123456, \"user_id\":\"nalabsr1\"}\n",
        "    thread = {\"configurable\": {\"thread_id\": str(t)}}\n",
        "    start_time = time.time()\n",
        "    for output in graph.stream(inputs, thread, stream_mode='values'):\n",
        "#         print(blue(output, ['bold']))\n",
        "        pass\n",
        "    ex_time = time.time() - start_time\n",
        "    print(\"--------------------------------------------------------\")\n",
        "    print(red(f\"Total Time Taken - [{round(ex_time, 2)}]\", ['bold']))\n",
        "    print(\"--------------------------------------------------------\")\n",
        "    return"
      ]
    },
    {
      "cell_type": "code",
      "execution_count": 48,
      "id": "093f9654-f3f0-4378-9930-7f87f6889470",
      "metadata": {
        "tags": [],
        "id": "093f9654-f3f0-4378-9930-7f87f6889470",
        "outputId": "62a87432-a798-4657-afa3-862d20668f66",
        "colab": {
          "base_uri": "https://localhost:8080/",
          "height": 733
        }
      },
      "outputs": [
        {
          "output_type": "stream",
          "name": "stdout",
          "text": [
            "------ENTERING: TOPIC MODELLING NODE------\n",
            "============================================\n",
            "{'operation_id': 123456, 'user_id': 'nalabsr1', 'question': 'What is the income of bayer in 2024 Q1?', 'topic': None, 'requested_datasources': None, 'final_answer': '', 'finance_check': None, 'query_rerouter_check': None, 'source_detector_check': None, 'overall_status_check': None, 'generic_response': None, 'human_response': None, 'web_response': None, 'ifrs_response': None, 'annual_reports_response': None, 'audit_response': None, 'unified_response': None, 'intermediate_steps': []}\n",
            "============================================\n",
            "------OBSERVATION: DUMMY TOPIC------\n",
            "------ENTERING: FINANCE CHECK NODE------\n",
            "------OBSERVATION: Yes------\n",
            "------DECISION: INVOKE QUERY REROUTER NODE------\n",
            "------ENTERING: QUERY REROUTER NODE------\n",
            "------OBSERVATION: WEB------\n",
            "------DECISION: CHECK WITH USER TO INVOKE WEB SEARCH NODE------\n",
            "The answer is not available from the private data sources! Do you want me to search over the internet to answer?yes\n",
            "------DECISION: INVOKE WEB SEARCH NODE------\n",
            "------ENTERING: WEB SEARCH NODE------\n",
            "------WEB SEARCH ANSWER: Bayer's financial results for the first quarter of 2024 have been published. Here are the key figures:\n",
            "\n",
            "- **Group Sales**: €13.765 billion, which represents a slight decrease of 0.6% on a currency- and portfolio-adjusted basis compared to the previous year.\n",
            "- **EBITDA before special items**: €4.412 billion, a decrease of 1.3%.\n",
            "\n",
            "For more detailed information, you can refer to the official sources:\n",
            "- [Bayer AG First Quarter 2024 Results and Media Update](https://www.bayer.com/media/en-us/bayer-ag-first-quarter-2024-results-and-media-update/)\n",
            "- [Q1 2024 Results | Bayer Global](https://www.bayer.com/en/investors/q1-2024-investor-video-call)\n",
            "- [Bayer Quarterly Statement First Quarter 2024 - MarketScreener](https://www.marketscreener.com/quote/stock/BAYER-AG-436063/news/Bayer-Quarterly-Statement-First-Quarter-2024-46805160/)\n",
            "\n",
            "These sources provide comprehensive insights into Bayer's financial performance for the first quarter of 2024.------\n",
            "------ENTERING: OVERALL STATUS CHECK NODE------\n",
            "-------------------------------- \u001b[1;31mFinal Answer\u001b[0m --------------------------------\n"
          ]
        },
        {
          "output_type": "display_data",
          "data": {
            "text/plain": [
              "<IPython.core.display.Markdown object>"
            ],
            "text/markdown": "**FINAL ANSWER:** <font color=\"red\">Bayer's financial results for the first quarter of 2024 have been published. Here are the key figures:\n\n- **Group Sales**: €13.765 billion, which represents a slight decrease of 0.6% on a currency- and portfolio-adjusted basis compared to the previous year.\n- **EBITDA before special items**: €4.412 billion, a decrease of 1.3%.\n\nFor more detailed information, you can refer to the official sources:\n- [Bayer AG First Quarter 2024 Results and Media Update](https://www.bayer.com/media/en-us/bayer-ag-first-quarter-2024-results-and-media-update/)\n- [Q1 2024 Results | Bayer Global](https://www.bayer.com/en/investors/q1-2024-investor-video-call)\n- [Bayer Quarterly Statement First Quarter 2024 - MarketScreener](https://www.marketscreener.com/quote/stock/BAYER-AG-436063/news/Bayer-Quarterly-Statement-First-Quarter-2024-46805160/)\n\nThese sources provide comprehensive insights into Bayer's financial performance for the first quarter of 2024.</font>"
          },
          "metadata": {}
        },
        {
          "output_type": "stream",
          "name": "stdout",
          "text": [
            "--------------------------------------------------------\n",
            "\u001b[1;31mTotal Time Taken - [11.77]\u001b[0m\n",
            "--------------------------------------------------------\n"
          ]
        }
      ],
      "source": [
        "question = \"What is the income of bayer in 2024 Q1?\"\n",
        "run_answer(question, 89)"
      ]
    },
    {
      "cell_type": "code",
      "execution_count": 50,
      "id": "b02e06eb-1327-43c3-9108-d8cb1471bc4b",
      "metadata": {
        "tags": [],
        "id": "b02e06eb-1327-43c3-9108-d8cb1471bc4b",
        "outputId": "8dfeb536-72af-44af-ba6d-943ede94e18c",
        "colab": {
          "base_uri": "https://localhost:8080/",
          "height": 584
        }
      },
      "outputs": [
        {
          "output_type": "stream",
          "name": "stdout",
          "text": [
            "------ENTERING: TOPIC MODELLING NODE------\n",
            "============================================\n",
            "{'operation_id': 123456, 'user_id': 'nalabsr1', 'question': 'What is the guidance for identifying a lease as per IFRS?', 'topic': None, 'requested_datasources': None, 'final_answer': '', 'finance_check': None, 'query_rerouter_check': None, 'source_detector_check': None, 'overall_status_check': None, 'generic_response': None, 'human_response': None, 'web_response': None, 'ifrs_response': None, 'annual_reports_response': None, 'audit_response': None, 'unified_response': None, 'intermediate_steps': []}\n",
            "============================================\n",
            "------OBSERVATION: DUMMY TOPIC------\n",
            "------ENTERING: FINANCE CHECK NODE------\n",
            "------OBSERVATION: Yes------\n",
            "------DECISION: INVOKE QUERY REROUTER NODE------\n",
            "------ENTERING: QUERY REROUTER NODE------\n",
            "------OBSERVATION: FRA------\n",
            "------DECISION: INVOKE SOURCE DETECTOR NODE------\n",
            "------ENTERING: SOURCE DETECTOR NODE------\n",
            "['ifrs_answer_node']\n",
            "------SOURCES DETECTED: ['ifrs_answer_node']------\n",
            "------ENTERING: IFRS ANSWER NODE------\n"
          ]
        },
        {
          "output_type": "error",
          "ename": "OperationalError",
          "evalue": "unable to open database file",
          "traceback": [
            "\u001b[0;31m---------------------------------------------------------------------------\u001b[0m",
            "\u001b[0;31mOperationalError\u001b[0m                          Traceback (most recent call last)",
            "\u001b[0;32m<ipython-input-50-c9342550fa1a>\u001b[0m in \u001b[0;36m<cell line: 2>\u001b[0;34m()\u001b[0m\n\u001b[1;32m      1\u001b[0m \u001b[0mquestion\u001b[0m \u001b[0;34m=\u001b[0m \u001b[0;34m\"What is the guidance for identifying a lease as per IFRS?\"\u001b[0m\u001b[0;34m\u001b[0m\u001b[0;34m\u001b[0m\u001b[0m\n\u001b[0;32m----> 2\u001b[0;31m \u001b[0mrun_answer\u001b[0m\u001b[0;34m(\u001b[0m\u001b[0mquestion\u001b[0m\u001b[0;34m,\u001b[0m \u001b[0;36m89\u001b[0m\u001b[0;34m)\u001b[0m\u001b[0;34m\u001b[0m\u001b[0;34m\u001b[0m\u001b[0m\n\u001b[0m",
            "\u001b[0;32m<ipython-input-47-ede8da42c920>\u001b[0m in \u001b[0;36mrun_answer\u001b[0;34m(question, t)\u001b[0m\n\u001b[1;32m      6\u001b[0m     \u001b[0mthread\u001b[0m \u001b[0;34m=\u001b[0m \u001b[0;34m{\u001b[0m\u001b[0;34m\"configurable\"\u001b[0m\u001b[0;34m:\u001b[0m \u001b[0;34m{\u001b[0m\u001b[0;34m\"thread_id\"\u001b[0m\u001b[0;34m:\u001b[0m \u001b[0mstr\u001b[0m\u001b[0;34m(\u001b[0m\u001b[0mt\u001b[0m\u001b[0;34m)\u001b[0m\u001b[0;34m}\u001b[0m\u001b[0;34m}\u001b[0m\u001b[0;34m\u001b[0m\u001b[0;34m\u001b[0m\u001b[0m\n\u001b[1;32m      7\u001b[0m     \u001b[0mstart_time\u001b[0m \u001b[0;34m=\u001b[0m \u001b[0mtime\u001b[0m\u001b[0;34m.\u001b[0m\u001b[0mtime\u001b[0m\u001b[0;34m(\u001b[0m\u001b[0;34m)\u001b[0m\u001b[0;34m\u001b[0m\u001b[0;34m\u001b[0m\u001b[0m\n\u001b[0;32m----> 8\u001b[0;31m     \u001b[0;32mfor\u001b[0m \u001b[0moutput\u001b[0m \u001b[0;32min\u001b[0m \u001b[0mgraph\u001b[0m\u001b[0;34m.\u001b[0m\u001b[0mstream\u001b[0m\u001b[0;34m(\u001b[0m\u001b[0minputs\u001b[0m\u001b[0;34m,\u001b[0m \u001b[0mthread\u001b[0m\u001b[0;34m,\u001b[0m \u001b[0mstream_mode\u001b[0m\u001b[0;34m=\u001b[0m\u001b[0;34m'values'\u001b[0m\u001b[0;34m)\u001b[0m\u001b[0;34m:\u001b[0m\u001b[0;34m\u001b[0m\u001b[0;34m\u001b[0m\u001b[0m\n\u001b[0m\u001b[1;32m      9\u001b[0m \u001b[0;31m#         print(blue(output, ['bold']))\u001b[0m\u001b[0;34m\u001b[0m\u001b[0;34m\u001b[0m\u001b[0m\n\u001b[1;32m     10\u001b[0m         \u001b[0;32mpass\u001b[0m\u001b[0;34m\u001b[0m\u001b[0;34m\u001b[0m\u001b[0m\n",
            "\u001b[0;32m/usr/local/lib/python3.10/dist-packages/langgraph/pregel/__init__.py\u001b[0m in \u001b[0;36mstream\u001b[0;34m(self, input, config, stream_mode, output_keys, input_keys, interrupt_before, interrupt_after, debug)\u001b[0m\n\u001b[1;32m    874\u001b[0m \u001b[0;34m\u001b[0m\u001b[0m\n\u001b[1;32m    875\u001b[0m                     \u001b[0;31m# panic on failure or timeout\u001b[0m\u001b[0;34m\u001b[0m\u001b[0;34m\u001b[0m\u001b[0m\n\u001b[0;32m--> 876\u001b[0;31m                     \u001b[0m_panic_or_proceed\u001b[0m\u001b[0;34m(\u001b[0m\u001b[0mdone\u001b[0m\u001b[0;34m,\u001b[0m \u001b[0minflight\u001b[0m\u001b[0;34m,\u001b[0m \u001b[0mstep\u001b[0m\u001b[0;34m)\u001b[0m\u001b[0;34m\u001b[0m\u001b[0;34m\u001b[0m\u001b[0m\n\u001b[0m\u001b[1;32m    877\u001b[0m \u001b[0;34m\u001b[0m\u001b[0m\n\u001b[1;32m    878\u001b[0m                     \u001b[0;31m# combine pending writes from all tasks\u001b[0m\u001b[0;34m\u001b[0m\u001b[0;34m\u001b[0m\u001b[0m\n",
            "\u001b[0;32m/usr/local/lib/python3.10/dist-packages/langgraph/pregel/__init__.py\u001b[0m in \u001b[0;36m_panic_or_proceed\u001b[0;34m(done, inflight, step)\u001b[0m\n\u001b[1;32m   1420\u001b[0m                 \u001b[0minflight\u001b[0m\u001b[0;34m.\u001b[0m\u001b[0mpop\u001b[0m\u001b[0;34m(\u001b[0m\u001b[0;34m)\u001b[0m\u001b[0;34m.\u001b[0m\u001b[0mcancel\u001b[0m\u001b[0;34m(\u001b[0m\u001b[0;34m)\u001b[0m\u001b[0;34m\u001b[0m\u001b[0;34m\u001b[0m\u001b[0m\n\u001b[1;32m   1421\u001b[0m             \u001b[0;31m# raise the exception\u001b[0m\u001b[0;34m\u001b[0m\u001b[0;34m\u001b[0m\u001b[0m\n\u001b[0;32m-> 1422\u001b[0;31m             \u001b[0;32mraise\u001b[0m \u001b[0mexc\u001b[0m\u001b[0;34m\u001b[0m\u001b[0;34m\u001b[0m\u001b[0m\n\u001b[0m\u001b[1;32m   1423\u001b[0m \u001b[0;34m\u001b[0m\u001b[0m\n\u001b[1;32m   1424\u001b[0m     \u001b[0;32mif\u001b[0m \u001b[0minflight\u001b[0m\u001b[0;34m:\u001b[0m\u001b[0;34m\u001b[0m\u001b[0;34m\u001b[0m\u001b[0m\n",
            "\u001b[0;32m/usr/lib/python3.10/concurrent/futures/thread.py\u001b[0m in \u001b[0;36mrun\u001b[0;34m(self)\u001b[0m\n\u001b[1;32m     56\u001b[0m \u001b[0;34m\u001b[0m\u001b[0m\n\u001b[1;32m     57\u001b[0m         \u001b[0;32mtry\u001b[0m\u001b[0;34m:\u001b[0m\u001b[0;34m\u001b[0m\u001b[0;34m\u001b[0m\u001b[0m\n\u001b[0;32m---> 58\u001b[0;31m             \u001b[0mresult\u001b[0m \u001b[0;34m=\u001b[0m \u001b[0mself\u001b[0m\u001b[0;34m.\u001b[0m\u001b[0mfn\u001b[0m\u001b[0;34m(\u001b[0m\u001b[0;34m*\u001b[0m\u001b[0mself\u001b[0m\u001b[0;34m.\u001b[0m\u001b[0margs\u001b[0m\u001b[0;34m,\u001b[0m \u001b[0;34m**\u001b[0m\u001b[0mself\u001b[0m\u001b[0;34m.\u001b[0m\u001b[0mkwargs\u001b[0m\u001b[0;34m)\u001b[0m\u001b[0;34m\u001b[0m\u001b[0;34m\u001b[0m\u001b[0m\n\u001b[0m\u001b[1;32m     59\u001b[0m         \u001b[0;32mexcept\u001b[0m \u001b[0mBaseException\u001b[0m \u001b[0;32mas\u001b[0m \u001b[0mexc\u001b[0m\u001b[0;34m:\u001b[0m\u001b[0;34m\u001b[0m\u001b[0;34m\u001b[0m\u001b[0m\n\u001b[1;32m     60\u001b[0m             \u001b[0mself\u001b[0m\u001b[0;34m.\u001b[0m\u001b[0mfuture\u001b[0m\u001b[0;34m.\u001b[0m\u001b[0mset_exception\u001b[0m\u001b[0;34m(\u001b[0m\u001b[0mexc\u001b[0m\u001b[0;34m)\u001b[0m\u001b[0;34m\u001b[0m\u001b[0;34m\u001b[0m\u001b[0m\n",
            "\u001b[0;32m/usr/local/lib/python3.10/dist-packages/langgraph/pregel/retry.py\u001b[0m in \u001b[0;36mrun_with_retry\u001b[0;34m(task, retry_policy)\u001b[0m\n\u001b[1;32m     64\u001b[0m             \u001b[0mtask\u001b[0m\u001b[0;34m.\u001b[0m\u001b[0mwrites\u001b[0m\u001b[0;34m.\u001b[0m\u001b[0mclear\u001b[0m\u001b[0;34m(\u001b[0m\u001b[0;34m)\u001b[0m\u001b[0;34m\u001b[0m\u001b[0;34m\u001b[0m\u001b[0m\n\u001b[1;32m     65\u001b[0m             \u001b[0;31m# run the task\u001b[0m\u001b[0;34m\u001b[0m\u001b[0;34m\u001b[0m\u001b[0m\n\u001b[0;32m---> 66\u001b[0;31m             \u001b[0mtask\u001b[0m\u001b[0;34m.\u001b[0m\u001b[0mproc\u001b[0m\u001b[0;34m.\u001b[0m\u001b[0minvoke\u001b[0m\u001b[0;34m(\u001b[0m\u001b[0mtask\u001b[0m\u001b[0;34m.\u001b[0m\u001b[0minput\u001b[0m\u001b[0;34m,\u001b[0m \u001b[0mtask\u001b[0m\u001b[0;34m.\u001b[0m\u001b[0mconfig\u001b[0m\u001b[0;34m)\u001b[0m\u001b[0;34m\u001b[0m\u001b[0;34m\u001b[0m\u001b[0m\n\u001b[0m\u001b[1;32m     67\u001b[0m             \u001b[0;31m# if successful, end\u001b[0m\u001b[0;34m\u001b[0m\u001b[0;34m\u001b[0m\u001b[0m\n\u001b[1;32m     68\u001b[0m             \u001b[0;32mbreak\u001b[0m\u001b[0;34m\u001b[0m\u001b[0;34m\u001b[0m\u001b[0m\n",
            "\u001b[0;32m/usr/local/lib/python3.10/dist-packages/langchain_core/runnables/base.py\u001b[0m in \u001b[0;36minvoke\u001b[0;34m(self, input, config, **kwargs)\u001b[0m\n\u001b[1;32m   2871\u001b[0m                 )\n\u001b[1;32m   2872\u001b[0m                 \u001b[0;32mif\u001b[0m \u001b[0mi\u001b[0m \u001b[0;34m==\u001b[0m \u001b[0;36m0\u001b[0m\u001b[0;34m:\u001b[0m\u001b[0;34m\u001b[0m\u001b[0;34m\u001b[0m\u001b[0m\n\u001b[0;32m-> 2873\u001b[0;31m                     \u001b[0minput\u001b[0m \u001b[0;34m=\u001b[0m \u001b[0mstep\u001b[0m\u001b[0;34m.\u001b[0m\u001b[0minvoke\u001b[0m\u001b[0;34m(\u001b[0m\u001b[0minput\u001b[0m\u001b[0;34m,\u001b[0m \u001b[0mconfig\u001b[0m\u001b[0;34m,\u001b[0m \u001b[0;34m**\u001b[0m\u001b[0mkwargs\u001b[0m\u001b[0;34m)\u001b[0m\u001b[0;34m\u001b[0m\u001b[0;34m\u001b[0m\u001b[0m\n\u001b[0m\u001b[1;32m   2874\u001b[0m                 \u001b[0;32melse\u001b[0m\u001b[0;34m:\u001b[0m\u001b[0;34m\u001b[0m\u001b[0;34m\u001b[0m\u001b[0m\n\u001b[1;32m   2875\u001b[0m                     \u001b[0minput\u001b[0m \u001b[0;34m=\u001b[0m \u001b[0mstep\u001b[0m\u001b[0;34m.\u001b[0m\u001b[0minvoke\u001b[0m\u001b[0;34m(\u001b[0m\u001b[0minput\u001b[0m\u001b[0;34m,\u001b[0m \u001b[0mconfig\u001b[0m\u001b[0;34m)\u001b[0m\u001b[0;34m\u001b[0m\u001b[0;34m\u001b[0m\u001b[0m\n",
            "\u001b[0;32m/usr/local/lib/python3.10/dist-packages/langgraph/utils.py\u001b[0m in \u001b[0;36minvoke\u001b[0;34m(self, input, config)\u001b[0m\n\u001b[1;32m     87\u001b[0m                 \u001b[0;32melse\u001b[0m \u001b[0mself\u001b[0m\u001b[0;34m.\u001b[0m\u001b[0mkwargs\u001b[0m\u001b[0;34m\u001b[0m\u001b[0;34m\u001b[0m\u001b[0m\n\u001b[1;32m     88\u001b[0m             )\n\u001b[0;32m---> 89\u001b[0;31m             \u001b[0mret\u001b[0m \u001b[0;34m=\u001b[0m \u001b[0mcontext\u001b[0m\u001b[0;34m.\u001b[0m\u001b[0mrun\u001b[0m\u001b[0;34m(\u001b[0m\u001b[0mself\u001b[0m\u001b[0;34m.\u001b[0m\u001b[0mfunc\u001b[0m\u001b[0;34m,\u001b[0m \u001b[0minput\u001b[0m\u001b[0;34m,\u001b[0m \u001b[0;34m**\u001b[0m\u001b[0mkwargs\u001b[0m\u001b[0;34m)\u001b[0m\u001b[0;34m\u001b[0m\u001b[0;34m\u001b[0m\u001b[0m\n\u001b[0m\u001b[1;32m     90\u001b[0m         \u001b[0;32mif\u001b[0m \u001b[0misinstance\u001b[0m\u001b[0;34m(\u001b[0m\u001b[0mret\u001b[0m\u001b[0;34m,\u001b[0m \u001b[0mRunnable\u001b[0m\u001b[0;34m)\u001b[0m \u001b[0;32mand\u001b[0m \u001b[0mself\u001b[0m\u001b[0;34m.\u001b[0m\u001b[0mrecurse\u001b[0m\u001b[0;34m:\u001b[0m\u001b[0;34m\u001b[0m\u001b[0;34m\u001b[0m\u001b[0m\n\u001b[1;32m     91\u001b[0m             \u001b[0;32mreturn\u001b[0m \u001b[0mret\u001b[0m\u001b[0;34m.\u001b[0m\u001b[0minvoke\u001b[0m\u001b[0;34m(\u001b[0m\u001b[0minput\u001b[0m\u001b[0;34m,\u001b[0m \u001b[0mconfig\u001b[0m\u001b[0;34m)\u001b[0m\u001b[0;34m\u001b[0m\u001b[0;34m\u001b[0m\u001b[0m\n",
            "\u001b[0;32m<ipython-input-44-d9f71435d47b>\u001b[0m in \u001b[0;36mifrs_answer_node\u001b[0;34m(state)\u001b[0m\n\u001b[1;32m    239\u001b[0m     \u001b[0mgenerate_agent\u001b[0m \u001b[0;34m=\u001b[0m \u001b[0mcreate_qa_agent\u001b[0m\u001b[0;34m(\u001b[0m\u001b[0mllm\u001b[0m\u001b[0;34m,\u001b[0m \u001b[0mtools\u001b[0m\u001b[0;34m,\u001b[0m \u001b[0mIFRS_di_prompt\u001b[0m\u001b[0;34m,\u001b[0m \u001b[0mverbose\u001b[0m\u001b[0;34m=\u001b[0m\u001b[0;32mFalse\u001b[0m\u001b[0;34m)\u001b[0m\u001b[0;34m\u001b[0m\u001b[0;34m\u001b[0m\u001b[0m\n\u001b[1;32m    240\u001b[0m     \u001b[0;32mwith\u001b[0m \u001b[0mget_openai_callback\u001b[0m\u001b[0;34m(\u001b[0m\u001b[0;34m)\u001b[0m \u001b[0;32mas\u001b[0m \u001b[0mcb\u001b[0m\u001b[0;34m:\u001b[0m\u001b[0;34m\u001b[0m\u001b[0;34m\u001b[0m\u001b[0m\n\u001b[0;32m--> 241\u001b[0;31m         \u001b[0manswer\u001b[0m \u001b[0;34m=\u001b[0m \u001b[0mgenerate_agent\u001b[0m\u001b[0;34m.\u001b[0m\u001b[0minvoke\u001b[0m\u001b[0;34m(\u001b[0m\u001b[0;34m{\u001b[0m\u001b[0;34m\"input\"\u001b[0m\u001b[0;34m:\u001b[0m\u001b[0mstate\u001b[0m\u001b[0;34m[\u001b[0m\u001b[0;34m'question'\u001b[0m\u001b[0;34m]\u001b[0m\u001b[0;34m}\u001b[0m\u001b[0;34m)\u001b[0m\u001b[0;34m\u001b[0m\u001b[0;34m\u001b[0m\u001b[0m\n\u001b[0m\u001b[1;32m    242\u001b[0m     \u001b[0mdisplay\u001b[0m\u001b[0;34m(\u001b[0m\u001b[0mMarkdown\u001b[0m\u001b[0;34m(\u001b[0m\u001b[0;34mf\"\"\"**IFRS ANSWER:** <font color=\"red\">{answer['output']}</font>\"\"\"\u001b[0m\u001b[0;34m)\u001b[0m\u001b[0;34m)\u001b[0m\u001b[0;34m\u001b[0m\u001b[0;34m\u001b[0m\u001b[0m\n\u001b[1;32m    243\u001b[0m     ifrs_response: ResponseNodeState = {\"answer\": answer['output'],\n",
            "\u001b[0;32m/usr/local/lib/python3.10/dist-packages/langchain/chains/base.py\u001b[0m in \u001b[0;36minvoke\u001b[0;34m(self, input, config, **kwargs)\u001b[0m\n\u001b[1;32m    164\u001b[0m         \u001b[0;32mexcept\u001b[0m \u001b[0mBaseException\u001b[0m \u001b[0;32mas\u001b[0m \u001b[0me\u001b[0m\u001b[0;34m:\u001b[0m\u001b[0;34m\u001b[0m\u001b[0;34m\u001b[0m\u001b[0m\n\u001b[1;32m    165\u001b[0m             \u001b[0mrun_manager\u001b[0m\u001b[0;34m.\u001b[0m\u001b[0mon_chain_error\u001b[0m\u001b[0;34m(\u001b[0m\u001b[0me\u001b[0m\u001b[0;34m)\u001b[0m\u001b[0;34m\u001b[0m\u001b[0;34m\u001b[0m\u001b[0m\n\u001b[0;32m--> 166\u001b[0;31m             \u001b[0;32mraise\u001b[0m \u001b[0me\u001b[0m\u001b[0;34m\u001b[0m\u001b[0;34m\u001b[0m\u001b[0m\n\u001b[0m\u001b[1;32m    167\u001b[0m         \u001b[0mrun_manager\u001b[0m\u001b[0;34m.\u001b[0m\u001b[0mon_chain_end\u001b[0m\u001b[0;34m(\u001b[0m\u001b[0moutputs\u001b[0m\u001b[0;34m)\u001b[0m\u001b[0;34m\u001b[0m\u001b[0;34m\u001b[0m\u001b[0m\n\u001b[1;32m    168\u001b[0m \u001b[0;34m\u001b[0m\u001b[0m\n",
            "\u001b[0;32m/usr/local/lib/python3.10/dist-packages/langchain/chains/base.py\u001b[0m in \u001b[0;36minvoke\u001b[0;34m(self, input, config, **kwargs)\u001b[0m\n\u001b[1;32m    154\u001b[0m             \u001b[0mself\u001b[0m\u001b[0;34m.\u001b[0m\u001b[0m_validate_inputs\u001b[0m\u001b[0;34m(\u001b[0m\u001b[0minputs\u001b[0m\u001b[0;34m)\u001b[0m\u001b[0;34m\u001b[0m\u001b[0;34m\u001b[0m\u001b[0m\n\u001b[1;32m    155\u001b[0m             outputs = (\n\u001b[0;32m--> 156\u001b[0;31m                 \u001b[0mself\u001b[0m\u001b[0;34m.\u001b[0m\u001b[0m_call\u001b[0m\u001b[0;34m(\u001b[0m\u001b[0minputs\u001b[0m\u001b[0;34m,\u001b[0m \u001b[0mrun_manager\u001b[0m\u001b[0;34m=\u001b[0m\u001b[0mrun_manager\u001b[0m\u001b[0;34m)\u001b[0m\u001b[0;34m\u001b[0m\u001b[0;34m\u001b[0m\u001b[0m\n\u001b[0m\u001b[1;32m    157\u001b[0m                 \u001b[0;32mif\u001b[0m \u001b[0mnew_arg_supported\u001b[0m\u001b[0;34m\u001b[0m\u001b[0;34m\u001b[0m\u001b[0m\n\u001b[1;32m    158\u001b[0m                 \u001b[0;32melse\u001b[0m \u001b[0mself\u001b[0m\u001b[0;34m.\u001b[0m\u001b[0m_call\u001b[0m\u001b[0;34m(\u001b[0m\u001b[0minputs\u001b[0m\u001b[0;34m)\u001b[0m\u001b[0;34m\u001b[0m\u001b[0;34m\u001b[0m\u001b[0m\n",
            "\u001b[0;32m/usr/local/lib/python3.10/dist-packages/langchain/agents/agent.py\u001b[0m in \u001b[0;36m_call\u001b[0;34m(self, inputs, run_manager)\u001b[0m\n\u001b[1;32m   1634\u001b[0m         \u001b[0;31m# We now enter the agent loop (until it returns something).\u001b[0m\u001b[0;34m\u001b[0m\u001b[0;34m\u001b[0m\u001b[0m\n\u001b[1;32m   1635\u001b[0m         \u001b[0;32mwhile\u001b[0m \u001b[0mself\u001b[0m\u001b[0;34m.\u001b[0m\u001b[0m_should_continue\u001b[0m\u001b[0;34m(\u001b[0m\u001b[0miterations\u001b[0m\u001b[0;34m,\u001b[0m \u001b[0mtime_elapsed\u001b[0m\u001b[0;34m)\u001b[0m\u001b[0;34m:\u001b[0m\u001b[0;34m\u001b[0m\u001b[0;34m\u001b[0m\u001b[0m\n\u001b[0;32m-> 1636\u001b[0;31m             next_step_output = self._take_next_step(\n\u001b[0m\u001b[1;32m   1637\u001b[0m                 \u001b[0mname_to_tool_map\u001b[0m\u001b[0;34m,\u001b[0m\u001b[0;34m\u001b[0m\u001b[0;34m\u001b[0m\u001b[0m\n\u001b[1;32m   1638\u001b[0m                 \u001b[0mcolor_mapping\u001b[0m\u001b[0;34m,\u001b[0m\u001b[0;34m\u001b[0m\u001b[0;34m\u001b[0m\u001b[0m\n",
            "\u001b[0;32m/usr/local/lib/python3.10/dist-packages/langchain/agents/agent.py\u001b[0m in \u001b[0;36m_take_next_step\u001b[0;34m(self, name_to_tool_map, color_mapping, inputs, intermediate_steps, run_manager)\u001b[0m\n\u001b[1;32m   1340\u001b[0m     ) -> Union[AgentFinish, List[Tuple[AgentAction, str]]]:\n\u001b[1;32m   1341\u001b[0m         return self._consume_next_step(\n\u001b[0;32m-> 1342\u001b[0;31m             [\n\u001b[0m\u001b[1;32m   1343\u001b[0m                 \u001b[0ma\u001b[0m\u001b[0;34m\u001b[0m\u001b[0;34m\u001b[0m\u001b[0m\n\u001b[1;32m   1344\u001b[0m                 for a in self._iter_next_step(\n",
            "\u001b[0;32m/usr/local/lib/python3.10/dist-packages/langchain/agents/agent.py\u001b[0m in \u001b[0;36m<listcomp>\u001b[0;34m(.0)\u001b[0m\n\u001b[1;32m   1340\u001b[0m     ) -> Union[AgentFinish, List[Tuple[AgentAction, str]]]:\n\u001b[1;32m   1341\u001b[0m         return self._consume_next_step(\n\u001b[0;32m-> 1342\u001b[0;31m             [\n\u001b[0m\u001b[1;32m   1343\u001b[0m                 \u001b[0ma\u001b[0m\u001b[0;34m\u001b[0m\u001b[0;34m\u001b[0m\u001b[0m\n\u001b[1;32m   1344\u001b[0m                 for a in self._iter_next_step(\n",
            "\u001b[0;32m/usr/local/lib/python3.10/dist-packages/langchain/agents/agent.py\u001b[0m in \u001b[0;36m_iter_next_step\u001b[0;34m(self, name_to_tool_map, color_mapping, inputs, intermediate_steps, run_manager)\u001b[0m\n\u001b[1;32m   1425\u001b[0m             \u001b[0;32myield\u001b[0m \u001b[0magent_action\u001b[0m\u001b[0;34m\u001b[0m\u001b[0;34m\u001b[0m\u001b[0m\n\u001b[1;32m   1426\u001b[0m         \u001b[0;32mfor\u001b[0m \u001b[0magent_action\u001b[0m \u001b[0;32min\u001b[0m \u001b[0mactions\u001b[0m\u001b[0;34m:\u001b[0m\u001b[0;34m\u001b[0m\u001b[0;34m\u001b[0m\u001b[0m\n\u001b[0;32m-> 1427\u001b[0;31m             yield self._perform_agent_action(\n\u001b[0m\u001b[1;32m   1428\u001b[0m                 \u001b[0mname_to_tool_map\u001b[0m\u001b[0;34m,\u001b[0m \u001b[0mcolor_mapping\u001b[0m\u001b[0;34m,\u001b[0m \u001b[0magent_action\u001b[0m\u001b[0;34m,\u001b[0m \u001b[0mrun_manager\u001b[0m\u001b[0;34m\u001b[0m\u001b[0;34m\u001b[0m\u001b[0m\n\u001b[1;32m   1429\u001b[0m             )\n",
            "\u001b[0;32m/usr/local/lib/python3.10/dist-packages/langchain/agents/agent.py\u001b[0m in \u001b[0;36m_perform_agent_action\u001b[0;34m(self, name_to_tool_map, color_mapping, agent_action, run_manager)\u001b[0m\n\u001b[1;32m   1447\u001b[0m                 \u001b[0mtool_run_kwargs\u001b[0m\u001b[0;34m[\u001b[0m\u001b[0;34m\"llm_prefix\"\u001b[0m\u001b[0;34m]\u001b[0m \u001b[0;34m=\u001b[0m \u001b[0;34m\"\"\u001b[0m\u001b[0;34m\u001b[0m\u001b[0;34m\u001b[0m\u001b[0m\n\u001b[1;32m   1448\u001b[0m             \u001b[0;31m# We then call the tool on the tool input to get an observation\u001b[0m\u001b[0;34m\u001b[0m\u001b[0;34m\u001b[0m\u001b[0m\n\u001b[0;32m-> 1449\u001b[0;31m             observation = tool.run(\n\u001b[0m\u001b[1;32m   1450\u001b[0m                 \u001b[0magent_action\u001b[0m\u001b[0;34m.\u001b[0m\u001b[0mtool_input\u001b[0m\u001b[0;34m,\u001b[0m\u001b[0;34m\u001b[0m\u001b[0;34m\u001b[0m\u001b[0m\n\u001b[1;32m   1451\u001b[0m                 \u001b[0mverbose\u001b[0m\u001b[0;34m=\u001b[0m\u001b[0mself\u001b[0m\u001b[0;34m.\u001b[0m\u001b[0mverbose\u001b[0m\u001b[0;34m,\u001b[0m\u001b[0;34m\u001b[0m\u001b[0;34m\u001b[0m\u001b[0m\n",
            "\u001b[0;32m/usr/local/lib/python3.10/dist-packages/langchain_core/tools.py\u001b[0m in \u001b[0;36mrun\u001b[0;34m(self, tool_input, verbose, start_color, color, callbacks, tags, metadata, run_name, run_id, config, tool_call_id, **kwargs)\u001b[0m\n\u001b[1;32m    632\u001b[0m         \u001b[0;32mif\u001b[0m \u001b[0merror_to_raise\u001b[0m\u001b[0;34m:\u001b[0m\u001b[0;34m\u001b[0m\u001b[0;34m\u001b[0m\u001b[0m\n\u001b[1;32m    633\u001b[0m             \u001b[0mrun_manager\u001b[0m\u001b[0;34m.\u001b[0m\u001b[0mon_tool_error\u001b[0m\u001b[0;34m(\u001b[0m\u001b[0merror_to_raise\u001b[0m\u001b[0;34m)\u001b[0m\u001b[0;34m\u001b[0m\u001b[0;34m\u001b[0m\u001b[0m\n\u001b[0;32m--> 634\u001b[0;31m             \u001b[0;32mraise\u001b[0m \u001b[0merror_to_raise\u001b[0m\u001b[0;34m\u001b[0m\u001b[0;34m\u001b[0m\u001b[0m\n\u001b[0m\u001b[1;32m    635\u001b[0m         \u001b[0moutput\u001b[0m \u001b[0;34m=\u001b[0m \u001b[0m_format_output\u001b[0m\u001b[0;34m(\u001b[0m\u001b[0mcontent\u001b[0m\u001b[0;34m,\u001b[0m \u001b[0martifact\u001b[0m\u001b[0;34m,\u001b[0m \u001b[0mtool_call_id\u001b[0m\u001b[0;34m,\u001b[0m \u001b[0mself\u001b[0m\u001b[0;34m.\u001b[0m\u001b[0mname\u001b[0m\u001b[0;34m)\u001b[0m\u001b[0;34m\u001b[0m\u001b[0;34m\u001b[0m\u001b[0m\n\u001b[1;32m    636\u001b[0m         \u001b[0mrun_manager\u001b[0m\u001b[0;34m.\u001b[0m\u001b[0mon_tool_end\u001b[0m\u001b[0;34m(\u001b[0m\u001b[0moutput\u001b[0m\u001b[0;34m,\u001b[0m \u001b[0mcolor\u001b[0m\u001b[0;34m=\u001b[0m\u001b[0mcolor\u001b[0m\u001b[0;34m,\u001b[0m \u001b[0mname\u001b[0m\u001b[0;34m=\u001b[0m\u001b[0mself\u001b[0m\u001b[0;34m.\u001b[0m\u001b[0mname\u001b[0m\u001b[0;34m,\u001b[0m \u001b[0;34m**\u001b[0m\u001b[0mkwargs\u001b[0m\u001b[0;34m)\u001b[0m\u001b[0;34m\u001b[0m\u001b[0;34m\u001b[0m\u001b[0m\n",
            "\u001b[0;32m/usr/local/lib/python3.10/dist-packages/langchain_core/tools.py\u001b[0m in \u001b[0;36mrun\u001b[0;34m(self, tool_input, verbose, start_color, color, callbacks, tags, metadata, run_name, run_id, config, tool_call_id, **kwargs)\u001b[0m\n\u001b[1;32m    605\u001b[0m             \u001b[0;32mif\u001b[0m \u001b[0mconfig_param\u001b[0m \u001b[0;34m:=\u001b[0m \u001b[0m_get_runnable_config_param\u001b[0m\u001b[0;34m(\u001b[0m\u001b[0mself\u001b[0m\u001b[0;34m.\u001b[0m\u001b[0m_run\u001b[0m\u001b[0;34m)\u001b[0m\u001b[0;34m:\u001b[0m\u001b[0;34m\u001b[0m\u001b[0;34m\u001b[0m\u001b[0m\n\u001b[1;32m    606\u001b[0m                 \u001b[0mtool_kwargs\u001b[0m\u001b[0;34m[\u001b[0m\u001b[0mconfig_param\u001b[0m\u001b[0;34m]\u001b[0m \u001b[0;34m=\u001b[0m \u001b[0mconfig\u001b[0m\u001b[0;34m\u001b[0m\u001b[0;34m\u001b[0m\u001b[0m\n\u001b[0;32m--> 607\u001b[0;31m             \u001b[0mresponse\u001b[0m \u001b[0;34m=\u001b[0m \u001b[0mcontext\u001b[0m\u001b[0;34m.\u001b[0m\u001b[0mrun\u001b[0m\u001b[0;34m(\u001b[0m\u001b[0mself\u001b[0m\u001b[0;34m.\u001b[0m\u001b[0m_run\u001b[0m\u001b[0;34m,\u001b[0m \u001b[0;34m*\u001b[0m\u001b[0mtool_args\u001b[0m\u001b[0;34m,\u001b[0m \u001b[0;34m**\u001b[0m\u001b[0mtool_kwargs\u001b[0m\u001b[0;34m)\u001b[0m\u001b[0;34m\u001b[0m\u001b[0;34m\u001b[0m\u001b[0m\n\u001b[0m\u001b[1;32m    608\u001b[0m             \u001b[0;32mif\u001b[0m \u001b[0mself\u001b[0m\u001b[0;34m.\u001b[0m\u001b[0mresponse_format\u001b[0m \u001b[0;34m==\u001b[0m \u001b[0;34m\"content_and_artifact\"\u001b[0m\u001b[0;34m:\u001b[0m\u001b[0;34m\u001b[0m\u001b[0;34m\u001b[0m\u001b[0m\n\u001b[1;32m    609\u001b[0m                 \u001b[0;32mif\u001b[0m \u001b[0;32mnot\u001b[0m \u001b[0misinstance\u001b[0m\u001b[0;34m(\u001b[0m\u001b[0mresponse\u001b[0m\u001b[0;34m,\u001b[0m \u001b[0mtuple\u001b[0m\u001b[0;34m)\u001b[0m \u001b[0;32mor\u001b[0m \u001b[0mlen\u001b[0m\u001b[0;34m(\u001b[0m\u001b[0mresponse\u001b[0m\u001b[0;34m)\u001b[0m \u001b[0;34m!=\u001b[0m \u001b[0;36m2\u001b[0m\u001b[0;34m:\u001b[0m\u001b[0;34m\u001b[0m\u001b[0;34m\u001b[0m\u001b[0m\n",
            "\u001b[0;32m/usr/local/lib/python3.10/dist-packages/langchain_core/tools.py\u001b[0m in \u001b[0;36m_run\u001b[0;34m(self, config, run_manager, *args, **kwargs)\u001b[0m\n\u001b[1;32m    820\u001b[0m             \u001b[0;32mif\u001b[0m \u001b[0mconfig_param\u001b[0m \u001b[0;34m:=\u001b[0m \u001b[0m_get_runnable_config_param\u001b[0m\u001b[0;34m(\u001b[0m\u001b[0mself\u001b[0m\u001b[0;34m.\u001b[0m\u001b[0mfunc\u001b[0m\u001b[0;34m)\u001b[0m\u001b[0;34m:\u001b[0m\u001b[0;34m\u001b[0m\u001b[0;34m\u001b[0m\u001b[0m\n\u001b[1;32m    821\u001b[0m                 \u001b[0mkwargs\u001b[0m\u001b[0;34m[\u001b[0m\u001b[0mconfig_param\u001b[0m\u001b[0;34m]\u001b[0m \u001b[0;34m=\u001b[0m \u001b[0mconfig\u001b[0m\u001b[0;34m\u001b[0m\u001b[0;34m\u001b[0m\u001b[0m\n\u001b[0;32m--> 822\u001b[0;31m             \u001b[0;32mreturn\u001b[0m \u001b[0mself\u001b[0m\u001b[0;34m.\u001b[0m\u001b[0mfunc\u001b[0m\u001b[0;34m(\u001b[0m\u001b[0;34m*\u001b[0m\u001b[0margs\u001b[0m\u001b[0;34m,\u001b[0m \u001b[0;34m**\u001b[0m\u001b[0mkwargs\u001b[0m\u001b[0;34m)\u001b[0m\u001b[0;34m\u001b[0m\u001b[0;34m\u001b[0m\u001b[0m\n\u001b[0m\u001b[1;32m    823\u001b[0m         \u001b[0;32mraise\u001b[0m \u001b[0mNotImplementedError\u001b[0m\u001b[0;34m(\u001b[0m\u001b[0;34m\"Tool does not support sync invocation.\"\u001b[0m\u001b[0;34m)\u001b[0m\u001b[0;34m\u001b[0m\u001b[0;34m\u001b[0m\u001b[0m\n\u001b[1;32m    824\u001b[0m \u001b[0;34m\u001b[0m\u001b[0m\n",
            "\u001b[0;32m/usr/local/lib/python3.10/dist-packages/langchain_core/tools.py\u001b[0m in \u001b[0;36m_get_relevant_documents\u001b[0;34m(query, retriever, document_prompt, document_separator, callbacks)\u001b[0m\n\u001b[1;32m   1299\u001b[0m     \u001b[0mcallbacks\u001b[0m\u001b[0;34m:\u001b[0m \u001b[0mCallbacks\u001b[0m \u001b[0;34m=\u001b[0m \u001b[0;32mNone\u001b[0m\u001b[0;34m,\u001b[0m\u001b[0;34m\u001b[0m\u001b[0;34m\u001b[0m\u001b[0m\n\u001b[1;32m   1300\u001b[0m ) -> str:\n\u001b[0;32m-> 1301\u001b[0;31m     \u001b[0mdocs\u001b[0m \u001b[0;34m=\u001b[0m \u001b[0mretriever\u001b[0m\u001b[0;34m.\u001b[0m\u001b[0minvoke\u001b[0m\u001b[0;34m(\u001b[0m\u001b[0mquery\u001b[0m\u001b[0;34m,\u001b[0m \u001b[0mconfig\u001b[0m\u001b[0;34m=\u001b[0m\u001b[0;34m{\u001b[0m\u001b[0;34m\"callbacks\"\u001b[0m\u001b[0;34m:\u001b[0m \u001b[0mcallbacks\u001b[0m\u001b[0;34m}\u001b[0m\u001b[0;34m)\u001b[0m\u001b[0;34m\u001b[0m\u001b[0;34m\u001b[0m\u001b[0m\n\u001b[0m\u001b[1;32m   1302\u001b[0m     return document_separator.join(\n\u001b[1;32m   1303\u001b[0m         \u001b[0mformat_document\u001b[0m\u001b[0;34m(\u001b[0m\u001b[0mdoc\u001b[0m\u001b[0;34m,\u001b[0m \u001b[0mdocument_prompt\u001b[0m\u001b[0;34m)\u001b[0m \u001b[0;32mfor\u001b[0m \u001b[0mdoc\u001b[0m \u001b[0;32min\u001b[0m \u001b[0mdocs\u001b[0m\u001b[0;34m\u001b[0m\u001b[0;34m\u001b[0m\u001b[0m\n",
            "\u001b[0;32m/usr/local/lib/python3.10/dist-packages/langchain_core/retrievers.py\u001b[0m in \u001b[0;36minvoke\u001b[0;34m(self, input, config, **kwargs)\u001b[0m\n\u001b[1;32m    219\u001b[0m         \u001b[0;32mexcept\u001b[0m \u001b[0mException\u001b[0m \u001b[0;32mas\u001b[0m \u001b[0me\u001b[0m\u001b[0;34m:\u001b[0m\u001b[0;34m\u001b[0m\u001b[0;34m\u001b[0m\u001b[0m\n\u001b[1;32m    220\u001b[0m             \u001b[0mrun_manager\u001b[0m\u001b[0;34m.\u001b[0m\u001b[0mon_retriever_error\u001b[0m\u001b[0;34m(\u001b[0m\u001b[0me\u001b[0m\u001b[0;34m)\u001b[0m\u001b[0;34m\u001b[0m\u001b[0;34m\u001b[0m\u001b[0m\n\u001b[0;32m--> 221\u001b[0;31m             \u001b[0;32mraise\u001b[0m \u001b[0me\u001b[0m\u001b[0;34m\u001b[0m\u001b[0;34m\u001b[0m\u001b[0m\n\u001b[0m\u001b[1;32m    222\u001b[0m         \u001b[0;32melse\u001b[0m\u001b[0;34m:\u001b[0m\u001b[0;34m\u001b[0m\u001b[0;34m\u001b[0m\u001b[0m\n\u001b[1;32m    223\u001b[0m             run_manager.on_retriever_end(\n",
            "\u001b[0;32m/usr/local/lib/python3.10/dist-packages/langchain_core/retrievers.py\u001b[0m in \u001b[0;36minvoke\u001b[0;34m(self, input, config, **kwargs)\u001b[0m\n\u001b[1;32m    212\u001b[0m             \u001b[0m_kwargs\u001b[0m \u001b[0;34m=\u001b[0m \u001b[0mkwargs\u001b[0m \u001b[0;32mif\u001b[0m \u001b[0mself\u001b[0m\u001b[0;34m.\u001b[0m\u001b[0m_expects_other_args\u001b[0m \u001b[0;32melse\u001b[0m \u001b[0;34m{\u001b[0m\u001b[0;34m}\u001b[0m\u001b[0;34m\u001b[0m\u001b[0;34m\u001b[0m\u001b[0m\n\u001b[1;32m    213\u001b[0m             \u001b[0;32mif\u001b[0m \u001b[0mself\u001b[0m\u001b[0;34m.\u001b[0m\u001b[0m_new_arg_supported\u001b[0m\u001b[0;34m:\u001b[0m\u001b[0;34m\u001b[0m\u001b[0;34m\u001b[0m\u001b[0m\n\u001b[0;32m--> 214\u001b[0;31m                 result = self._get_relevant_documents(\n\u001b[0m\u001b[1;32m    215\u001b[0m                     \u001b[0minput\u001b[0m\u001b[0;34m,\u001b[0m \u001b[0mrun_manager\u001b[0m\u001b[0;34m=\u001b[0m\u001b[0mrun_manager\u001b[0m\u001b[0;34m,\u001b[0m \u001b[0;34m**\u001b[0m\u001b[0m_kwargs\u001b[0m\u001b[0;34m\u001b[0m\u001b[0;34m\u001b[0m\u001b[0m\n\u001b[1;32m    216\u001b[0m                 )\n",
            "\u001b[0;32m/usr/local/lib/python3.10/dist-packages/langchain/retrievers/multi_vector.py\u001b[0m in \u001b[0;36m_get_relevant_documents\u001b[0;34m(self, query, run_manager)\u001b[0m\n\u001b[1;32m     75\u001b[0m             \u001b[0msub_docs\u001b[0m \u001b[0;34m=\u001b[0m \u001b[0;34m[\u001b[0m\u001b[0msub_doc\u001b[0m \u001b[0;32mfor\u001b[0m \u001b[0msub_doc\u001b[0m\u001b[0;34m,\u001b[0m \u001b[0m_\u001b[0m \u001b[0;32min\u001b[0m \u001b[0msub_docs_and_similarities\u001b[0m\u001b[0;34m]\u001b[0m\u001b[0;34m\u001b[0m\u001b[0;34m\u001b[0m\u001b[0m\n\u001b[1;32m     76\u001b[0m         \u001b[0;32melse\u001b[0m\u001b[0;34m:\u001b[0m\u001b[0;34m\u001b[0m\u001b[0;34m\u001b[0m\u001b[0m\n\u001b[0;32m---> 77\u001b[0;31m             \u001b[0msub_docs\u001b[0m \u001b[0;34m=\u001b[0m \u001b[0mself\u001b[0m\u001b[0;34m.\u001b[0m\u001b[0mvectorstore\u001b[0m\u001b[0;34m.\u001b[0m\u001b[0msimilarity_search\u001b[0m\u001b[0;34m(\u001b[0m\u001b[0mquery\u001b[0m\u001b[0;34m,\u001b[0m \u001b[0;34m**\u001b[0m\u001b[0mself\u001b[0m\u001b[0;34m.\u001b[0m\u001b[0msearch_kwargs\u001b[0m\u001b[0;34m)\u001b[0m\u001b[0;34m\u001b[0m\u001b[0;34m\u001b[0m\u001b[0m\n\u001b[0m\u001b[1;32m     78\u001b[0m \u001b[0;34m\u001b[0m\u001b[0m\n\u001b[1;32m     79\u001b[0m         \u001b[0;31m# We do this to maintain the order of the ids that are returned\u001b[0m\u001b[0;34m\u001b[0m\u001b[0;34m\u001b[0m\u001b[0m\n",
            "\u001b[0;32m/usr/local/lib/python3.10/dist-packages/langchain_chroma/vectorstores.py\u001b[0m in \u001b[0;36msimilarity_search\u001b[0;34m(self, query, k, filter, **kwargs)\u001b[0m\n\u001b[1;32m    461\u001b[0m             \u001b[0mList\u001b[0m \u001b[0mof\u001b[0m \u001b[0mdocuments\u001b[0m \u001b[0mmost\u001b[0m \u001b[0msimilar\u001b[0m \u001b[0mto\u001b[0m \u001b[0mthe\u001b[0m \u001b[0mquery\u001b[0m \u001b[0mtext\u001b[0m\u001b[0;34m.\u001b[0m\u001b[0;34m\u001b[0m\u001b[0;34m\u001b[0m\u001b[0m\n\u001b[1;32m    462\u001b[0m         \"\"\"\n\u001b[0;32m--> 463\u001b[0;31m         docs_and_scores = self.similarity_search_with_score(\n\u001b[0m\u001b[1;32m    464\u001b[0m             \u001b[0mquery\u001b[0m\u001b[0;34m,\u001b[0m \u001b[0mk\u001b[0m\u001b[0;34m,\u001b[0m \u001b[0mfilter\u001b[0m\u001b[0;34m=\u001b[0m\u001b[0mfilter\u001b[0m\u001b[0;34m,\u001b[0m \u001b[0;34m**\u001b[0m\u001b[0mkwargs\u001b[0m\u001b[0;34m\u001b[0m\u001b[0;34m\u001b[0m\u001b[0m\n\u001b[1;32m    465\u001b[0m         )\n",
            "\u001b[0;32m/usr/local/lib/python3.10/dist-packages/langchain_chroma/vectorstores.py\u001b[0m in \u001b[0;36msimilarity_search_with_score\u001b[0;34m(self, query, k, filter, where_document, **kwargs)\u001b[0m\n\u001b[1;32m    559\u001b[0m         \u001b[0;32melse\u001b[0m\u001b[0;34m:\u001b[0m\u001b[0;34m\u001b[0m\u001b[0;34m\u001b[0m\u001b[0m\n\u001b[1;32m    560\u001b[0m             \u001b[0mquery_embedding\u001b[0m \u001b[0;34m=\u001b[0m \u001b[0mself\u001b[0m\u001b[0;34m.\u001b[0m\u001b[0m_embedding_function\u001b[0m\u001b[0;34m.\u001b[0m\u001b[0membed_query\u001b[0m\u001b[0;34m(\u001b[0m\u001b[0mquery\u001b[0m\u001b[0;34m)\u001b[0m\u001b[0;34m\u001b[0m\u001b[0;34m\u001b[0m\u001b[0m\n\u001b[0;32m--> 561\u001b[0;31m             results = self.__query_collection(\n\u001b[0m\u001b[1;32m    562\u001b[0m                 \u001b[0mquery_embeddings\u001b[0m\u001b[0;34m=\u001b[0m\u001b[0;34m[\u001b[0m\u001b[0mquery_embedding\u001b[0m\u001b[0;34m]\u001b[0m\u001b[0;34m,\u001b[0m\u001b[0;34m\u001b[0m\u001b[0;34m\u001b[0m\u001b[0m\n\u001b[1;32m    563\u001b[0m                 \u001b[0mn_results\u001b[0m\u001b[0;34m=\u001b[0m\u001b[0mk\u001b[0m\u001b[0;34m,\u001b[0m\u001b[0;34m\u001b[0m\u001b[0;34m\u001b[0m\u001b[0m\n",
            "\u001b[0;32m/usr/local/lib/python3.10/dist-packages/langchain_core/utils/utils.py\u001b[0m in \u001b[0;36mwrapper\u001b[0;34m(*args, **kwargs)\u001b[0m\n\u001b[1;32m     45\u001b[0m                     \u001b[0;34mf\" {', '.join(invalid_group_names)}\"\u001b[0m\u001b[0;34m\u001b[0m\u001b[0;34m\u001b[0m\u001b[0m\n\u001b[1;32m     46\u001b[0m                 )\n\u001b[0;32m---> 47\u001b[0;31m             \u001b[0;32mreturn\u001b[0m \u001b[0mfunc\u001b[0m\u001b[0;34m(\u001b[0m\u001b[0;34m*\u001b[0m\u001b[0margs\u001b[0m\u001b[0;34m,\u001b[0m \u001b[0;34m**\u001b[0m\u001b[0mkwargs\u001b[0m\u001b[0;34m)\u001b[0m\u001b[0;34m\u001b[0m\u001b[0;34m\u001b[0m\u001b[0m\n\u001b[0m\u001b[1;32m     48\u001b[0m \u001b[0;34m\u001b[0m\u001b[0m\n\u001b[1;32m     49\u001b[0m         \u001b[0;32mreturn\u001b[0m \u001b[0mwrapper\u001b[0m\u001b[0;34m\u001b[0m\u001b[0;34m\u001b[0m\u001b[0m\n",
            "\u001b[0;32m/usr/local/lib/python3.10/dist-packages/langchain_chroma/vectorstores.py\u001b[0m in \u001b[0;36m__query_collection\u001b[0;34m(self, query_texts, query_embeddings, n_results, where, where_document, **kwargs)\u001b[0m\n\u001b[1;32m    258\u001b[0m         \u001b[0mSee\u001b[0m \u001b[0mmore\u001b[0m\u001b[0;34m:\u001b[0m \u001b[0mhttps\u001b[0m\u001b[0;34m:\u001b[0m\u001b[0;34m//\u001b[0m\u001b[0mdocs\u001b[0m\u001b[0;34m.\u001b[0m\u001b[0mtrychroma\u001b[0m\u001b[0;34m.\u001b[0m\u001b[0mcom\u001b[0m\u001b[0;34m/\u001b[0m\u001b[0mreference\u001b[0m\u001b[0;34m/\u001b[0m\u001b[0mpy\u001b[0m\u001b[0;34m-\u001b[0m\u001b[0mcollection\u001b[0m\u001b[0;31m#query\u001b[0m\u001b[0;34m\u001b[0m\u001b[0;34m\u001b[0m\u001b[0m\n\u001b[1;32m    259\u001b[0m         \"\"\"\n\u001b[0;32m--> 260\u001b[0;31m         return self._collection.query(\n\u001b[0m\u001b[1;32m    261\u001b[0m             \u001b[0mquery_texts\u001b[0m\u001b[0;34m=\u001b[0m\u001b[0mquery_texts\u001b[0m\u001b[0;34m,\u001b[0m\u001b[0;34m\u001b[0m\u001b[0;34m\u001b[0m\u001b[0m\n\u001b[1;32m    262\u001b[0m             \u001b[0mquery_embeddings\u001b[0m\u001b[0;34m=\u001b[0m\u001b[0mquery_embeddings\u001b[0m\u001b[0;34m,\u001b[0m  \u001b[0;31m# type: ignore\u001b[0m\u001b[0;34m\u001b[0m\u001b[0;34m\u001b[0m\u001b[0m\n",
            "\u001b[0;32m/usr/local/lib/python3.10/dist-packages/chromadb/api/models/Collection.py\u001b[0m in \u001b[0;36mquery\u001b[0;34m(self, query_embeddings, query_texts, n_results, where, where_document, include)\u001b[0m\n\u001b[1;32m    219\u001b[0m             \u001b[0mwhere_document\u001b[0m \u001b[0;34m=\u001b[0m \u001b[0;34m{\u001b[0m\u001b[0;34m}\u001b[0m\u001b[0;34m\u001b[0m\u001b[0;34m\u001b[0m\u001b[0m\n\u001b[1;32m    220\u001b[0m \u001b[0;34m\u001b[0m\u001b[0m\n\u001b[0;32m--> 221\u001b[0;31m         return self._client._query(\n\u001b[0m\u001b[1;32m    222\u001b[0m             \u001b[0mcollection_id\u001b[0m\u001b[0;34m=\u001b[0m\u001b[0mself\u001b[0m\u001b[0;34m.\u001b[0m\u001b[0mid\u001b[0m\u001b[0;34m,\u001b[0m\u001b[0;34m\u001b[0m\u001b[0;34m\u001b[0m\u001b[0m\n\u001b[1;32m    223\u001b[0m             \u001b[0mquery_embeddings\u001b[0m\u001b[0;34m=\u001b[0m\u001b[0mquery_embeddings\u001b[0m\u001b[0;34m,\u001b[0m\u001b[0;34m\u001b[0m\u001b[0;34m\u001b[0m\u001b[0m\n",
            "\u001b[0;32m/usr/local/lib/python3.10/dist-packages/chromadb/telemetry/opentelemetry/__init__.py\u001b[0m in \u001b[0;36mwrapper\u001b[0;34m(*args, **kwargs)\u001b[0m\n\u001b[1;32m    125\u001b[0m             \u001b[0;32mglobal\u001b[0m \u001b[0mtracer\u001b[0m\u001b[0;34m,\u001b[0m \u001b[0mgranularity\u001b[0m\u001b[0;34m\u001b[0m\u001b[0;34m\u001b[0m\u001b[0m\n\u001b[1;32m    126\u001b[0m             \u001b[0;32mif\u001b[0m \u001b[0mtrace_granularity\u001b[0m \u001b[0;34m<\u001b[0m \u001b[0mgranularity\u001b[0m\u001b[0;34m:\u001b[0m\u001b[0;34m\u001b[0m\u001b[0;34m\u001b[0m\u001b[0m\n\u001b[0;32m--> 127\u001b[0;31m                 \u001b[0;32mreturn\u001b[0m \u001b[0mf\u001b[0m\u001b[0;34m(\u001b[0m\u001b[0;34m*\u001b[0m\u001b[0margs\u001b[0m\u001b[0;34m,\u001b[0m \u001b[0;34m**\u001b[0m\u001b[0mkwargs\u001b[0m\u001b[0;34m)\u001b[0m\u001b[0;34m\u001b[0m\u001b[0;34m\u001b[0m\u001b[0m\n\u001b[0m\u001b[1;32m    128\u001b[0m             \u001b[0;32mif\u001b[0m \u001b[0;32mnot\u001b[0m \u001b[0mtracer\u001b[0m\u001b[0;34m:\u001b[0m\u001b[0;34m\u001b[0m\u001b[0;34m\u001b[0m\u001b[0m\n\u001b[1;32m    129\u001b[0m                 \u001b[0;32mreturn\u001b[0m \u001b[0mf\u001b[0m\u001b[0;34m(\u001b[0m\u001b[0;34m*\u001b[0m\u001b[0margs\u001b[0m\u001b[0;34m,\u001b[0m \u001b[0;34m**\u001b[0m\u001b[0mkwargs\u001b[0m\u001b[0;34m)\u001b[0m\u001b[0;34m\u001b[0m\u001b[0;34m\u001b[0m\u001b[0m\n",
            "\u001b[0;32m/usr/local/lib/python3.10/dist-packages/chromadb/api/segment.py\u001b[0m in \u001b[0;36m_query\u001b[0;34m(self, collection_id, query_embeddings, n_results, where, where_document, include)\u001b[0m\n\u001b[1;32m    594\u001b[0m         \u001b[0mallowed_ids\u001b[0m \u001b[0;34m=\u001b[0m \u001b[0;32mNone\u001b[0m\u001b[0;34m\u001b[0m\u001b[0;34m\u001b[0m\u001b[0m\n\u001b[1;32m    595\u001b[0m \u001b[0;34m\u001b[0m\u001b[0m\n\u001b[0;32m--> 596\u001b[0;31m         \u001b[0mcoll\u001b[0m \u001b[0;34m=\u001b[0m \u001b[0mself\u001b[0m\u001b[0;34m.\u001b[0m\u001b[0m_get_collection\u001b[0m\u001b[0;34m(\u001b[0m\u001b[0mcollection_id\u001b[0m\u001b[0;34m)\u001b[0m\u001b[0;34m\u001b[0m\u001b[0;34m\u001b[0m\u001b[0m\n\u001b[0m\u001b[1;32m    597\u001b[0m         \u001b[0;32mfor\u001b[0m \u001b[0membedding\u001b[0m \u001b[0;32min\u001b[0m \u001b[0mquery_embeddings\u001b[0m\u001b[0;34m:\u001b[0m\u001b[0;34m\u001b[0m\u001b[0;34m\u001b[0m\u001b[0m\n\u001b[1;32m    598\u001b[0m             \u001b[0mself\u001b[0m\u001b[0;34m.\u001b[0m\u001b[0m_validate_dimension\u001b[0m\u001b[0;34m(\u001b[0m\u001b[0mcoll\u001b[0m\u001b[0;34m,\u001b[0m \u001b[0mlen\u001b[0m\u001b[0;34m(\u001b[0m\u001b[0membedding\u001b[0m\u001b[0;34m)\u001b[0m\u001b[0;34m,\u001b[0m \u001b[0mupdate\u001b[0m\u001b[0;34m=\u001b[0m\u001b[0;32mFalse\u001b[0m\u001b[0;34m)\u001b[0m\u001b[0;34m\u001b[0m\u001b[0;34m\u001b[0m\u001b[0m\n",
            "\u001b[0;32m/usr/local/lib/python3.10/dist-packages/chromadb/telemetry/opentelemetry/__init__.py\u001b[0m in \u001b[0;36mwrapper\u001b[0;34m(*args, **kwargs)\u001b[0m\n\u001b[1;32m    125\u001b[0m             \u001b[0;32mglobal\u001b[0m \u001b[0mtracer\u001b[0m\u001b[0;34m,\u001b[0m \u001b[0mgranularity\u001b[0m\u001b[0;34m\u001b[0m\u001b[0;34m\u001b[0m\u001b[0m\n\u001b[1;32m    126\u001b[0m             \u001b[0;32mif\u001b[0m \u001b[0mtrace_granularity\u001b[0m \u001b[0;34m<\u001b[0m \u001b[0mgranularity\u001b[0m\u001b[0;34m:\u001b[0m\u001b[0;34m\u001b[0m\u001b[0;34m\u001b[0m\u001b[0m\n\u001b[0;32m--> 127\u001b[0;31m                 \u001b[0;32mreturn\u001b[0m \u001b[0mf\u001b[0m\u001b[0;34m(\u001b[0m\u001b[0;34m*\u001b[0m\u001b[0margs\u001b[0m\u001b[0;34m,\u001b[0m \u001b[0;34m**\u001b[0m\u001b[0mkwargs\u001b[0m\u001b[0;34m)\u001b[0m\u001b[0;34m\u001b[0m\u001b[0;34m\u001b[0m\u001b[0m\n\u001b[0m\u001b[1;32m    128\u001b[0m             \u001b[0;32mif\u001b[0m \u001b[0;32mnot\u001b[0m \u001b[0mtracer\u001b[0m\u001b[0;34m:\u001b[0m\u001b[0;34m\u001b[0m\u001b[0;34m\u001b[0m\u001b[0m\n\u001b[1;32m    129\u001b[0m                 \u001b[0;32mreturn\u001b[0m \u001b[0mf\u001b[0m\u001b[0;34m(\u001b[0m\u001b[0;34m*\u001b[0m\u001b[0margs\u001b[0m\u001b[0;34m,\u001b[0m \u001b[0;34m**\u001b[0m\u001b[0mkwargs\u001b[0m\u001b[0;34m)\u001b[0m\u001b[0;34m\u001b[0m\u001b[0;34m\u001b[0m\u001b[0m\n",
            "\u001b[0;32m/usr/local/lib/python3.10/dist-packages/chromadb/api/segment.py\u001b[0m in \u001b[0;36m_get_collection\u001b[0;34m(self, collection_id)\u001b[0m\n\u001b[1;32m    739\u001b[0m         \u001b[0;34m\"\"\"Read-through cache for collection data\"\"\"\u001b[0m\u001b[0;34m\u001b[0m\u001b[0;34m\u001b[0m\u001b[0m\n\u001b[1;32m    740\u001b[0m         \u001b[0;32mif\u001b[0m \u001b[0mcollection_id\u001b[0m \u001b[0;32mnot\u001b[0m \u001b[0;32min\u001b[0m \u001b[0mself\u001b[0m\u001b[0;34m.\u001b[0m\u001b[0m_collection_cache\u001b[0m\u001b[0;34m:\u001b[0m\u001b[0;34m\u001b[0m\u001b[0;34m\u001b[0m\u001b[0m\n\u001b[0;32m--> 741\u001b[0;31m             \u001b[0mcollections\u001b[0m \u001b[0;34m=\u001b[0m \u001b[0mself\u001b[0m\u001b[0;34m.\u001b[0m\u001b[0m_sysdb\u001b[0m\u001b[0;34m.\u001b[0m\u001b[0mget_collections\u001b[0m\u001b[0;34m(\u001b[0m\u001b[0mid\u001b[0m\u001b[0;34m=\u001b[0m\u001b[0mcollection_id\u001b[0m\u001b[0;34m)\u001b[0m\u001b[0;34m\u001b[0m\u001b[0;34m\u001b[0m\u001b[0m\n\u001b[0m\u001b[1;32m    742\u001b[0m             \u001b[0;32mif\u001b[0m \u001b[0;32mnot\u001b[0m \u001b[0mcollections\u001b[0m\u001b[0;34m:\u001b[0m\u001b[0;34m\u001b[0m\u001b[0;34m\u001b[0m\u001b[0m\n\u001b[1;32m    743\u001b[0m                 raise InvalidCollectionException(\n",
            "\u001b[0;32m/usr/local/lib/python3.10/dist-packages/chromadb/telemetry/opentelemetry/__init__.py\u001b[0m in \u001b[0;36mwrapper\u001b[0;34m(*args, **kwargs)\u001b[0m\n\u001b[1;32m    125\u001b[0m             \u001b[0;32mglobal\u001b[0m \u001b[0mtracer\u001b[0m\u001b[0;34m,\u001b[0m \u001b[0mgranularity\u001b[0m\u001b[0;34m\u001b[0m\u001b[0;34m\u001b[0m\u001b[0m\n\u001b[1;32m    126\u001b[0m             \u001b[0;32mif\u001b[0m \u001b[0mtrace_granularity\u001b[0m \u001b[0;34m<\u001b[0m \u001b[0mgranularity\u001b[0m\u001b[0;34m:\u001b[0m\u001b[0;34m\u001b[0m\u001b[0;34m\u001b[0m\u001b[0m\n\u001b[0;32m--> 127\u001b[0;31m                 \u001b[0;32mreturn\u001b[0m \u001b[0mf\u001b[0m\u001b[0;34m(\u001b[0m\u001b[0;34m*\u001b[0m\u001b[0margs\u001b[0m\u001b[0;34m,\u001b[0m \u001b[0;34m**\u001b[0m\u001b[0mkwargs\u001b[0m\u001b[0;34m)\u001b[0m\u001b[0;34m\u001b[0m\u001b[0;34m\u001b[0m\u001b[0m\n\u001b[0m\u001b[1;32m    128\u001b[0m             \u001b[0;32mif\u001b[0m \u001b[0;32mnot\u001b[0m \u001b[0mtracer\u001b[0m\u001b[0;34m:\u001b[0m\u001b[0;34m\u001b[0m\u001b[0;34m\u001b[0m\u001b[0m\n\u001b[1;32m    129\u001b[0m                 \u001b[0;32mreturn\u001b[0m \u001b[0mf\u001b[0m\u001b[0;34m(\u001b[0m\u001b[0;34m*\u001b[0m\u001b[0margs\u001b[0m\u001b[0;34m,\u001b[0m \u001b[0;34m**\u001b[0m\u001b[0mkwargs\u001b[0m\u001b[0;34m)\u001b[0m\u001b[0;34m\u001b[0m\u001b[0;34m\u001b[0m\u001b[0m\n",
            "\u001b[0;32m/usr/local/lib/python3.10/dist-packages/chromadb/db/mixins/sysdb.py\u001b[0m in \u001b[0;36mget_collections\u001b[0;34m(self, id, topic, name, tenant, database)\u001b[0m\n\u001b[1;32m    415\u001b[0m             )\n\u001b[1;32m    416\u001b[0m \u001b[0;34m\u001b[0m\u001b[0m\n\u001b[0;32m--> 417\u001b[0;31m         \u001b[0;32mwith\u001b[0m \u001b[0mself\u001b[0m\u001b[0;34m.\u001b[0m\u001b[0mtx\u001b[0m\u001b[0;34m(\u001b[0m\u001b[0;34m)\u001b[0m \u001b[0;32mas\u001b[0m \u001b[0mcur\u001b[0m\u001b[0;34m:\u001b[0m\u001b[0;34m\u001b[0m\u001b[0;34m\u001b[0m\u001b[0m\n\u001b[0m\u001b[1;32m    418\u001b[0m             \u001b[0msql\u001b[0m\u001b[0;34m,\u001b[0m \u001b[0mparams\u001b[0m \u001b[0;34m=\u001b[0m \u001b[0mget_sql\u001b[0m\u001b[0;34m(\u001b[0m\u001b[0mq\u001b[0m\u001b[0;34m,\u001b[0m \u001b[0mself\u001b[0m\u001b[0;34m.\u001b[0m\u001b[0mparameter_format\u001b[0m\u001b[0;34m(\u001b[0m\u001b[0;34m)\u001b[0m\u001b[0;34m)\u001b[0m\u001b[0;34m\u001b[0m\u001b[0;34m\u001b[0m\u001b[0m\n\u001b[1;32m    419\u001b[0m             \u001b[0mrows\u001b[0m \u001b[0;34m=\u001b[0m \u001b[0mcur\u001b[0m\u001b[0;34m.\u001b[0m\u001b[0mexecute\u001b[0m\u001b[0;34m(\u001b[0m\u001b[0msql\u001b[0m\u001b[0;34m,\u001b[0m \u001b[0mparams\u001b[0m\u001b[0;34m)\u001b[0m\u001b[0;34m.\u001b[0m\u001b[0mfetchall\u001b[0m\u001b[0;34m(\u001b[0m\u001b[0;34m)\u001b[0m\u001b[0;34m\u001b[0m\u001b[0;34m\u001b[0m\u001b[0m\n",
            "\u001b[0;32m/usr/local/lib/python3.10/dist-packages/chromadb/db/impl/sqlite.py\u001b[0m in \u001b[0;36mtx\u001b[0;34m(self)\u001b[0m\n\u001b[1;32m    128\u001b[0m         \u001b[0;32mif\u001b[0m \u001b[0;32mnot\u001b[0m \u001b[0mhasattr\u001b[0m\u001b[0;34m(\u001b[0m\u001b[0mself\u001b[0m\u001b[0;34m.\u001b[0m\u001b[0m_tx_stack\u001b[0m\u001b[0;34m,\u001b[0m \u001b[0;34m\"stack\"\u001b[0m\u001b[0;34m)\u001b[0m\u001b[0;34m:\u001b[0m\u001b[0;34m\u001b[0m\u001b[0;34m\u001b[0m\u001b[0m\n\u001b[1;32m    129\u001b[0m             \u001b[0mself\u001b[0m\u001b[0;34m.\u001b[0m\u001b[0m_tx_stack\u001b[0m\u001b[0;34m.\u001b[0m\u001b[0mstack\u001b[0m \u001b[0;34m=\u001b[0m \u001b[0;34m[\u001b[0m\u001b[0;34m]\u001b[0m\u001b[0;34m\u001b[0m\u001b[0;34m\u001b[0m\u001b[0m\n\u001b[0;32m--> 130\u001b[0;31m         \u001b[0;32mreturn\u001b[0m \u001b[0mTxWrapper\u001b[0m\u001b[0;34m(\u001b[0m\u001b[0mself\u001b[0m\u001b[0;34m.\u001b[0m\u001b[0m_conn_pool\u001b[0m\u001b[0;34m,\u001b[0m \u001b[0mstack\u001b[0m\u001b[0;34m=\u001b[0m\u001b[0mself\u001b[0m\u001b[0;34m.\u001b[0m\u001b[0m_tx_stack\u001b[0m\u001b[0;34m)\u001b[0m\u001b[0;34m\u001b[0m\u001b[0;34m\u001b[0m\u001b[0m\n\u001b[0m\u001b[1;32m    131\u001b[0m \u001b[0;34m\u001b[0m\u001b[0m\n\u001b[1;32m    132\u001b[0m     \u001b[0;34m@\u001b[0m\u001b[0mtrace_method\u001b[0m\u001b[0;34m(\u001b[0m\u001b[0;34m\"SqliteDB.reset_state\"\u001b[0m\u001b[0;34m,\u001b[0m \u001b[0mOpenTelemetryGranularity\u001b[0m\u001b[0;34m.\u001b[0m\u001b[0mALL\u001b[0m\u001b[0;34m)\u001b[0m\u001b[0;34m\u001b[0m\u001b[0;34m\u001b[0m\u001b[0m\n",
            "\u001b[0;32m/usr/local/lib/python3.10/dist-packages/chromadb/db/impl/sqlite.py\u001b[0m in \u001b[0;36m__init__\u001b[0;34m(self, conn_pool, stack)\u001b[0m\n\u001b[1;32m     29\u001b[0m     \u001b[0;32mdef\u001b[0m \u001b[0m__init__\u001b[0m\u001b[0;34m(\u001b[0m\u001b[0mself\u001b[0m\u001b[0;34m,\u001b[0m \u001b[0mconn_pool\u001b[0m\u001b[0;34m:\u001b[0m \u001b[0mPool\u001b[0m\u001b[0;34m,\u001b[0m \u001b[0mstack\u001b[0m\u001b[0;34m:\u001b[0m \u001b[0mlocal\u001b[0m\u001b[0;34m)\u001b[0m\u001b[0;34m:\u001b[0m\u001b[0;34m\u001b[0m\u001b[0;34m\u001b[0m\u001b[0m\n\u001b[1;32m     30\u001b[0m         \u001b[0mself\u001b[0m\u001b[0;34m.\u001b[0m\u001b[0m_tx_stack\u001b[0m \u001b[0;34m=\u001b[0m \u001b[0mstack\u001b[0m\u001b[0;34m\u001b[0m\u001b[0;34m\u001b[0m\u001b[0m\n\u001b[0;32m---> 31\u001b[0;31m         \u001b[0mself\u001b[0m\u001b[0;34m.\u001b[0m\u001b[0m_conn\u001b[0m \u001b[0;34m=\u001b[0m \u001b[0mconn_pool\u001b[0m\u001b[0;34m.\u001b[0m\u001b[0mconnect\u001b[0m\u001b[0;34m(\u001b[0m\u001b[0;34m)\u001b[0m\u001b[0;34m\u001b[0m\u001b[0;34m\u001b[0m\u001b[0m\n\u001b[0m\u001b[1;32m     32\u001b[0m         \u001b[0mself\u001b[0m\u001b[0;34m.\u001b[0m\u001b[0m_pool\u001b[0m \u001b[0;34m=\u001b[0m \u001b[0mconn_pool\u001b[0m\u001b[0;34m\u001b[0m\u001b[0;34m\u001b[0m\u001b[0m\n\u001b[1;32m     33\u001b[0m \u001b[0;34m\u001b[0m\u001b[0m\n",
            "\u001b[0;32m/usr/local/lib/python3.10/dist-packages/chromadb/db/impl/sqlite_pool.py\u001b[0m in \u001b[0;36mconnect\u001b[0;34m(self, *args, **kwargs)\u001b[0m\n\u001b[1;32m    139\u001b[0m             \u001b[0;32mreturn\u001b[0m \u001b[0mself\u001b[0m\u001b[0;34m.\u001b[0m\u001b[0m_connection\u001b[0m\u001b[0;34m.\u001b[0m\u001b[0mconn\u001b[0m  \u001b[0;31m# type: ignore # cast doesn't work here for some reason\u001b[0m\u001b[0;34m\u001b[0m\u001b[0;34m\u001b[0m\u001b[0m\n\u001b[1;32m    140\u001b[0m         \u001b[0;32melse\u001b[0m\u001b[0;34m:\u001b[0m\u001b[0;34m\u001b[0m\u001b[0;34m\u001b[0m\u001b[0m\n\u001b[0;32m--> 141\u001b[0;31m             new_connection = Connection(\n\u001b[0m\u001b[1;32m    142\u001b[0m                 \u001b[0mself\u001b[0m\u001b[0;34m,\u001b[0m \u001b[0mself\u001b[0m\u001b[0;34m.\u001b[0m\u001b[0m_db_file\u001b[0m\u001b[0;34m,\u001b[0m \u001b[0mself\u001b[0m\u001b[0;34m.\u001b[0m\u001b[0m_is_uri\u001b[0m\u001b[0;34m,\u001b[0m \u001b[0;34m*\u001b[0m\u001b[0margs\u001b[0m\u001b[0;34m,\u001b[0m \u001b[0;34m**\u001b[0m\u001b[0mkwargs\u001b[0m\u001b[0;34m\u001b[0m\u001b[0;34m\u001b[0m\u001b[0m\n\u001b[1;32m    143\u001b[0m             )\n",
            "\u001b[0;32m/usr/local/lib/python3.10/dist-packages/chromadb/db/impl/sqlite_pool.py\u001b[0m in \u001b[0;36m__init__\u001b[0;34m(self, pool, db_file, is_uri, *args, **kwargs)\u001b[0m\n\u001b[1;32m     18\u001b[0m         \u001b[0mself\u001b[0m\u001b[0;34m.\u001b[0m\u001b[0m_pool\u001b[0m \u001b[0;34m=\u001b[0m \u001b[0mpool\u001b[0m\u001b[0;34m\u001b[0m\u001b[0;34m\u001b[0m\u001b[0m\n\u001b[1;32m     19\u001b[0m         \u001b[0mself\u001b[0m\u001b[0;34m.\u001b[0m\u001b[0m_db_file\u001b[0m \u001b[0;34m=\u001b[0m \u001b[0mdb_file\u001b[0m\u001b[0;34m\u001b[0m\u001b[0;34m\u001b[0m\u001b[0m\n\u001b[0;32m---> 20\u001b[0;31m         self._conn = sqlite3.connect(\n\u001b[0m\u001b[1;32m     21\u001b[0m             \u001b[0mdb_file\u001b[0m\u001b[0;34m,\u001b[0m \u001b[0mtimeout\u001b[0m\u001b[0;34m=\u001b[0m\u001b[0;36m1000\u001b[0m\u001b[0;34m,\u001b[0m \u001b[0mcheck_same_thread\u001b[0m\u001b[0;34m=\u001b[0m\u001b[0;32mFalse\u001b[0m\u001b[0;34m,\u001b[0m \u001b[0muri\u001b[0m\u001b[0;34m=\u001b[0m\u001b[0mis_uri\u001b[0m\u001b[0;34m,\u001b[0m \u001b[0;34m*\u001b[0m\u001b[0margs\u001b[0m\u001b[0;34m,\u001b[0m \u001b[0;34m**\u001b[0m\u001b[0mkwargs\u001b[0m\u001b[0;34m\u001b[0m\u001b[0;34m\u001b[0m\u001b[0m\n\u001b[1;32m     22\u001b[0m         )  # type: ignore\n",
            "\u001b[0;31mOperationalError\u001b[0m: unable to open database file"
          ]
        }
      ],
      "source": [
        "question = \"What is the guidance for identifying a lease as per IFRS?\"\n",
        "run_answer(question, 89)"
      ]
    },
    {
      "cell_type": "code",
      "execution_count": null,
      "id": "6e9ceacb-acf1-42b5-84c3-fcc41409b9d3",
      "metadata": {
        "tags": [],
        "id": "6e9ceacb-acf1-42b5-84c3-fcc41409b9d3",
        "outputId": "810ce803-69d7-4b11-ee52-3ea1bb10c7ee"
      },
      "outputs": [
        {
          "name": "stdout",
          "output_type": "stream",
          "text": [
            "\u001b[1;34m{'operation_id': 123456, 'user_id': 'nalabsr1', 'question': 'How do I account for Gains on sales of fixed assets?', 'final_answer': '', 'intermediate_steps': []}\u001b[0m\n",
            "------ENTERING: TOPIC MODELLING NODE------\n",
            "============================================\n",
            "{'operation_id': 123456, 'user_id': 'nalabsr1', 'question': 'How do I account for Gains on sales of fixed assets?', 'topic': None, 'requested_datasources': None, 'final_answer': '', 'finance_check': None, 'query_rerouter_check': None, 'source_detector_check': None, 'overall_status_check': None, 'generic_response': None, 'web_response': None, 'ifrs_response': None, 'annual_reports_response': None, 'fm_response': None, 'unified_response': None, 'intermediate_steps': []}\n",
            "============================================\n",
            "------OBSERVATION: DUMMY TOPIC------\n",
            "\u001b[1;34m{'operation_id': 123456, 'user_id': 'nalabsr1', 'question': 'How do I account for Gains on sales of fixed assets?', 'topic': 'DUMMY TOPIC', 'final_answer': '', 'intermediate_steps': []}\u001b[0m\n",
            "------ENTERING: FINANCE CHECK NODE------\n",
            "------OBSERVATION: Yes------\n",
            "------DECISION: INVOKE QUERY REROUTER NODE------\n",
            "\u001b[1;34m{'operation_id': 123456, 'user_id': 'nalabsr1', 'question': 'How do I account for Gains on sales of fixed assets?', 'topic': 'DUMMY TOPIC', 'final_answer': '', 'finance_check': {'observation': 'Yes'}, 'intermediate_steps': []}\u001b[0m\n",
            "------ENTERING: QUERY REROUTER NODE------\n",
            "------OBSERVATION: FRA------\n",
            "------DECISION: INVOKE SOURCE DETECTOR NODE------\n",
            "\u001b[1;34m{'operation_id': 123456, 'user_id': 'nalabsr1', 'question': 'How do I account for Gains on sales of fixed assets?', 'topic': 'DUMMY TOPIC', 'final_answer': '', 'finance_check': {'observation': 'Yes'}, 'query_rerouter_check': {'observation': 'FRA'}, 'intermediate_steps': []}\u001b[0m\n",
            "------ENTERING: SOURCE DETECTOR NODE------\n",
            "------SOURCES DETECTED: ['annual_reports_answer_node', 'fm_answer_node', 'ifrs_answer_node']------\n",
            "\u001b[1;34m{'operation_id': 123456, 'user_id': 'nalabsr1', 'question': 'How do I account for Gains on sales of fixed assets?', 'topic': 'DUMMY TOPIC', 'final_answer': '', 'finance_check': {'observation': 'Yes'}, 'query_rerouter_check': {'observation': 'FRA'}, 'source_detector_check': {'observation': ['annual_reports_answer_node', 'fm_answer_node', 'ifrs_answer_node']}, 'intermediate_steps': []}\u001b[0m\n",
            "------ENTERING: IFRS ANSWER NODE------\n",
            "------ENTERING: ANNUAL REPORTS ANSWER NODE------\n",
            "------ENTERING: FOUNDATIONAL ANSWER NODE------\n"
          ]
        },
        {
          "data": {
            "text/markdown": [
              "**IFRS ANSWER:** <font color=\"red\">As per IAS 16, gains on the sale of fixed assets (property, plant, and equipment) should be accounted for as follows:\n",
              "\n",
              "- **Derecognition**: The carrying amount of the asset should be derecognized at the date of disposal (paragraph 67-72).\n",
              "- **Recognition of Gain or Loss**: Any gain or loss arising from the derecognition of the asset should be recognized in profit or loss. This gain or loss is calculated as the difference between the net disposal proceeds and the carrying amount of the asset (paragraph 71).\n",
              "\n",
              "Therefore, the gain on the sale of fixed assets should be recognized in the profit or loss statement at the date of derecognition.</font>"
            ],
            "text/plain": [
              "<IPython.core.display.Markdown object>"
            ]
          },
          "metadata": {},
          "output_type": "display_data"
        },
        {
          "data": {
            "text/markdown": [
              "**FOUNDATIONAL ANSWER:** <font color=\"red\">To account for gains on the sale of fixed assets, you need to follow the guidance provided by IAS 16 \"Property, Plant and Equipment\" and IFRS 5 \"Non-current Assets Held for Sale and Discontinued Operations\" if applicable.\n",
              "\n",
              "### Step-by-Step Accounting for Gains on Sales of Fixed Assets:\n",
              "\n",
              "1. **Determine the Carrying Amount:**\n",
              "   - The carrying amount of the fixed asset is its cost less any accumulated depreciation and any accumulated impairment losses (IAS 16.6).\n",
              "\n",
              "2. **Calculate the Gain:**\n",
              "   - The gain on the sale of a fixed asset is calculated as the difference between the net disposal proceeds and the carrying amount of the asset at the time of sale (IAS 16.71).\n",
              "\n",
              "3. **Recognize the Gain:**\n",
              "   - The gain should be recognized in profit or loss when the asset is derecognized (IAS 16.68). Derecognition occurs when the asset is disposed of or when no future economic benefits are expected from its use or disposal (IAS 16.67).\n",
              "\n",
              "4. **Presentation in Financial Statements:**\n",
              "   - Gains on the sale of fixed assets should be presented in the income statement as part of other income or separately if material (IAS 1.97).\n",
              "\n",
              "### Example Journal Entry:\n",
              "Assume a fixed asset with a carrying amount of $50,000 is sold for $70,000.\n",
              "\n",
              "- **Journal Entry:**\n",
              "  - Debit: Cash/Bank $70,000\n",
              "  - Credit: Fixed Asset $50,000\n",
              "  - Credit: Gain on Sale of Fixed Asset $20,000\n",
              "\n",
              "### Relevant IFRS/IAS Paragraphs:\n",
              "- **IAS 16.6:** Definition of carrying amount.\n",
              "- **IAS 16.67:** Derecognition of an asset.\n",
              "- **IAS 16.68:** Recognition of gain or loss on derecognition.\n",
              "- **IAS 16.71:** Calculation of gain or loss on disposal.\n",
              "- **IAS 1.97:** Presentation of gains in the income statement.\n",
              "\n",
              "### Sources:\n",
              "- IAS 16 \"Property, Plant and Equipment\"\n",
              "- IAS 1 \"Presentation of Financial Statements\"\n",
              "\n",
              "By following these steps and referencing the relevant IFRS/IAS paragraphs, you can accurately account for gains on the sale of fixed assets in compliance with international financial reporting standards.</font>"
            ],
            "text/plain": [
              "<IPython.core.display.Markdown object>"
            ]
          },
          "metadata": {},
          "output_type": "display_data"
        },
        {
          "data": {
            "text/markdown": [
              "**ANNUAL REPORTS ANSWER:** <font color=\"red\">NO GUIDANCE</font>"
            ],
            "text/plain": [
              "<IPython.core.display.Markdown object>"
            ]
          },
          "metadata": {},
          "output_type": "display_data"
        },
        {
          "name": "stdout",
          "output_type": "stream",
          "text": [
            "\u001b[1;34m{'operation_id': 123456, 'user_id': 'nalabsr1', 'question': 'How do I account for Gains on sales of fixed assets?', 'topic': 'DUMMY TOPIC', 'final_answer': '', 'finance_check': {'observation': 'Yes'}, 'query_rerouter_check': {'observation': 'FRA'}, 'source_detector_check': {'observation': ['annual_reports_answer_node', 'fm_answer_node', 'ifrs_answer_node']}, 'ifrs_response': {'answer': 'As per IAS 16, gains on the sale of fixed assets (property, plant, and equipment) should be accounted for as follows:\\n\\n- **Derecognition**: The carrying amount of the asset should be derecognized at the date of disposal (paragraph 67-72).\\n- **Recognition of Gain or Loss**: Any gain or loss arising from the derecognition of the asset should be recognized in profit or loss. This gain or loss is calculated as the difference between the net disposal proceeds and the carrying amount of the asset (paragraph 71).\\n\\nTherefore, the gain on the sale of fixed assets should be recognized in the profit or loss statement at the date of derecognition.', 'metadata': []}, 'annual_reports_response': {'answer': 'NO GUIDANCE', 'metadata': []}, 'fm_response': {'answer': 'To account for gains on the sale of fixed assets, you need to follow the guidance provided by IAS 16 \"Property, Plant and Equipment\" and IFRS 5 \"Non-current Assets Held for Sale and Discontinued Operations\" if applicable.\\n\\n### Step-by-Step Accounting for Gains on Sales of Fixed Assets:\\n\\n1. **Determine the Carrying Amount:**\\n   - The carrying amount of the fixed asset is its cost less any accumulated depreciation and any accumulated impairment losses (IAS 16.6).\\n\\n2. **Calculate the Gain:**\\n   - The gain on the sale of a fixed asset is calculated as the difference between the net disposal proceeds and the carrying amount of the asset at the time of sale (IAS 16.71).\\n\\n3. **Recognize the Gain:**\\n   - The gain should be recognized in profit or loss when the asset is derecognized (IAS 16.68). Derecognition occurs when the asset is disposed of or when no future economic benefits are expected from its use or disposal (IAS 16.67).\\n\\n4. **Presentation in Financial Statements:**\\n   - Gains on the sale of fixed assets should be presented in the income statement as part of other income or separately if material (IAS 1.97).\\n\\n### Example Journal Entry:\\nAssume a fixed asset with a carrying amount of $50,000 is sold for $70,000.\\n\\n- **Journal Entry:**\\n  - Debit: Cash/Bank $70,000\\n  - Credit: Fixed Asset $50,000\\n  - Credit: Gain on Sale of Fixed Asset $20,000\\n\\n### Relevant IFRS/IAS Paragraphs:\\n- **IAS 16.6:** Definition of carrying amount.\\n- **IAS 16.67:** Derecognition of an asset.\\n- **IAS 16.68:** Recognition of gain or loss on derecognition.\\n- **IAS 16.71:** Calculation of gain or loss on disposal.\\n- **IAS 1.97:** Presentation of gains in the income statement.\\n\\n### Sources:\\n- IAS 16 \"Property, Plant and Equipment\"\\n- IAS 1 \"Presentation of Financial Statements\"\\n\\nBy following these steps and referencing the relevant IFRS/IAS paragraphs, you can accurately account for gains on the sale of fixed assets in compliance with international financial reporting standards.', 'metadata': []}, 'intermediate_steps': []}\u001b[0m\n",
            "------ENTERING: UNIFIED ANSWER NODE------\n"
          ]
        },
        {
          "data": {
            "application/json": {
              "annual_reports_response": {
                "answer": "NO GUIDANCE",
                "metadata": []
              },
              "final_answer": "",
              "finance_check": {
                "observation": "Yes"
              },
              "fm_response": {
                "answer": "To account for gains on the sale of fixed assets, you need to follow the guidance provided by IAS 16 \"Property, Plant and Equipment\" and IFRS 5 \"Non-current Assets Held for Sale and Discontinued Operations\" if applicable.\n\n### Step-by-Step Accounting for Gains on Sales of Fixed Assets:\n\n1. **Determine the Carrying Amount:**\n   - The carrying amount of the fixed asset is its cost less any accumulated depreciation and any accumulated impairment losses (IAS 16.6).\n\n2. **Calculate the Gain:**\n   - The gain on the sale of a fixed asset is calculated as the difference between the net disposal proceeds and the carrying amount of the asset at the time of sale (IAS 16.71).\n\n3. **Recognize the Gain:**\n   - The gain should be recognized in profit or loss when the asset is derecognized (IAS 16.68). Derecognition occurs when the asset is disposed of or when no future economic benefits are expected from its use or disposal (IAS 16.67).\n\n4. **Presentation in Financial Statements:**\n   - Gains on the sale of fixed assets should be presented in the income statement as part of other income or separately if material (IAS 1.97).\n\n### Example Journal Entry:\nAssume a fixed asset with a carrying amount of $50,000 is sold for $70,000.\n\n- **Journal Entry:**\n  - Debit: Cash/Bank $70,000\n  - Credit: Fixed Asset $50,000\n  - Credit: Gain on Sale of Fixed Asset $20,000\n\n### Relevant IFRS/IAS Paragraphs:\n- **IAS 16.6:** Definition of carrying amount.\n- **IAS 16.67:** Derecognition of an asset.\n- **IAS 16.68:** Recognition of gain or loss on derecognition.\n- **IAS 16.71:** Calculation of gain or loss on disposal.\n- **IAS 1.97:** Presentation of gains in the income statement.\n\n### Sources:\n- IAS 16 \"Property, Plant and Equipment\"\n- IAS 1 \"Presentation of Financial Statements\"\n\nBy following these steps and referencing the relevant IFRS/IAS paragraphs, you can accurately account for gains on the sale of fixed assets in compliance with international financial reporting standards.",
                "metadata": []
              },
              "generic_response": null,
              "ifrs_response": {
                "answer": "As per IAS 16, gains on the sale of fixed assets (property, plant, and equipment) should be accounted for as follows:\n\n- **Derecognition**: The carrying amount of the asset should be derecognized at the date of disposal (paragraph 67-72).\n- **Recognition of Gain or Loss**: Any gain or loss arising from the derecognition of the asset should be recognized in profit or loss. This gain or loss is calculated as the difference between the net disposal proceeds and the carrying amount of the asset (paragraph 71).\n\nTherefore, the gain on the sale of fixed assets should be recognized in the profit or loss statement at the date of derecognition.",
                "metadata": []
              },
              "intermediate_steps": [],
              "operation_id": 123456,
              "overall_status_check": null,
              "query_rerouter_check": {
                "observation": "FRA"
              },
              "question": "How do I account for Gains on sales of fixed assets?",
              "requested_datasources": null,
              "source_detector_check": {
                "observation": [
                  "annual_reports_answer_node",
                  "fm_answer_node",
                  "ifrs_answer_node"
                ]
              },
              "topic": "DUMMY TOPIC",
              "unified_response": null,
              "user_id": "nalabsr1",
              "web_response": null
            },
            "text/plain": [
              "<IPython.core.display.JSON object>"
            ]
          },
          "metadata": {
            "application/json": {
              "expanded": false,
              "root": "root"
            }
          },
          "output_type": "display_data"
        },
        {
          "data": {
            "text/markdown": [
              "**UNIFIED ANSWER:** <font color=\"red\">To account for gains on the sale of fixed assets, follow the guidance provided by IAS 16 \"Property, Plant, and Equipment.\"\n",
              "\n",
              "### Step-by-Step Accounting for Gains on Sales of Fixed Assets:\n",
              "\n",
              "1. **Derecognition**: The carrying amount of the asset should be derecognized at the date of disposal (IAS 16.67-72).\n",
              "2. **Calculate the Gain**: The gain is calculated as the difference between the net disposal proceeds and the carrying amount of the asset (IAS 16.71).\n",
              "3. **Recognition of Gain**: Any gain arising from the derecognition of the asset should be recognized in profit or loss (IAS 16.68).\n",
              "4. **Presentation in Financial Statements**: Gains on the sale of fixed assets should be presented in the income statement as part of other income or separately if material (IAS 1.97).\n",
              "\n",
              "### Example Journal Entry:\n",
              "Assume a fixed asset with a carrying amount of $50,000 is sold for $70,000.\n",
              "\n",
              "- **Journal Entry:**\n",
              "  - Debit: Cash/Bank $70,000\n",
              "  - Credit: Fixed Asset $50,000\n",
              "  - Credit: Gain on Sale of Fixed Asset $20,000\n",
              "\n",
              "### Relevant IFRS/IAS Paragraphs:\n",
              "- **IAS 16.6**: Definition of carrying amount.\n",
              "- **IAS 16.67**: Derecognition of an asset.\n",
              "- **IAS 16.68**: Recognition of gain or loss on derecognition.\n",
              "- **IAS 16.71**: Calculation of gain or loss on disposal.\n",
              "- **IAS 1.97**: Presentation of gains in the income statement.\n",
              "\n",
              "By following these steps and referencing the relevant IFRS/IAS paragraphs, you can accurately account for gains on the sale of fixed assets in compliance with international financial reporting standards.</font>"
            ],
            "text/plain": [
              "<IPython.core.display.Markdown object>"
            ]
          },
          "metadata": {},
          "output_type": "display_data"
        },
        {
          "name": "stdout",
          "output_type": "stream",
          "text": [
            "\u001b[1;34m{'operation_id': 123456, 'user_id': 'nalabsr1', 'question': 'How do I account for Gains on sales of fixed assets?', 'topic': 'DUMMY TOPIC', 'final_answer': '### IFRS: \\nAs per IAS 16, gains on the sale of fixed assets (property, plant, and equipment) should be accounted for as follows:\\n\\n- **Derecognition**: The carrying amount of the asset should be derecognized at the date of disposal (paragraph 67-72).\\n- **Recognition of Gain or Loss**: Any gain or loss arising from the derecognition of the asset should be recognized in profit or loss. This gain or loss is calculated as the difference between the net disposal proceeds and the carrying amount of the asset (paragraph 71).\\n\\nTherefore, the gain on the sale of fixed assets should be recognized in the profit or loss statement at the date of derecognition.\\n\\n---\\n\\n### Annual Reports: \\nNO GUIDANCE\\n\\n---\\n\\n### Foundational ChatGPT: \\nTo account for gains on the sale of fixed assets, you need to follow the guidance provided by IAS 16 \"Property, Plant and Equipment\" and IFRS 5 \"Non-current Assets Held for Sale and Discontinued Operations\" if applicable.\\n\\n### Step-by-Step Accounting for Gains on Sales of Fixed Assets:\\n\\n1. **Determine the Carrying Amount:**\\n   - The carrying amount of the fixed asset is its cost less any accumulated depreciation and any accumulated impairment losses (IAS 16.6).\\n\\n2. **Calculate the Gain:**\\n   - The gain on the sale of a fixed asset is calculated as the difference between the net disposal proceeds and the carrying amount of the asset at the time of sale (IAS 16.71).\\n\\n3. **Recognize the Gain:**\\n   - The gain should be recognized in profit or loss when the asset is derecognized (IAS 16.68). Derecognition occurs when the asset is disposed of or when no future economic benefits are expected from its use or disposal (IAS 16.67).\\n\\n4. **Presentation in Financial Statements:**\\n   - Gains on the sale of fixed assets should be presented in the income statement as part of other income or separately if material (IAS 1.97).\\n\\n### Example Journal Entry:\\nAssume a fixed asset with a carrying amount of $50,000 is sold for $70,000.\\n\\n- **Journal Entry:**\\n  - Debit: Cash/Bank $70,000\\n  - Credit: Fixed Asset $50,000\\n  - Credit: Gain on Sale of Fixed Asset $20,000\\n\\n### Relevant IFRS/IAS Paragraphs:\\n- **IAS 16.6:** Definition of carrying amount.\\n- **IAS 16.67:** Derecognition of an asset.\\n- **IAS 16.68:** Recognition of gain or loss on derecognition.\\n- **IAS 16.71:** Calculation of gain or loss on disposal.\\n- **IAS 1.97:** Presentation of gains in the income statement.\\n\\n### Sources:\\n- IAS 16 \"Property, Plant and Equipment\"\\n- IAS 1 \"Presentation of Financial Statements\"\\n\\nBy following these steps and referencing the relevant IFRS/IAS paragraphs, you can accurately account for gains on the sale of fixed assets in compliance with international financial reporting standards.\\n\\n---\\n\\n### Unified Response\\nTo account for gains on the sale of fixed assets, follow the guidance provided by IAS 16 \"Property, Plant, and Equipment.\"\\n\\n### Step-by-Step Accounting for Gains on Sales of Fixed Assets:\\n\\n1. **Derecognition**: The carrying amount of the asset should be derecognized at the date of disposal (IAS 16.67-72).\\n2. **Calculate the Gain**: The gain is calculated as the difference between the net disposal proceeds and the carrying amount of the asset (IAS 16.71).\\n3. **Recognition of Gain**: Any gain arising from the derecognition of the asset should be recognized in profit or loss (IAS 16.68).\\n4. **Presentation in Financial Statements**: Gains on the sale of fixed assets should be presented in the income statement as part of other income or separately if material (IAS 1.97).\\n\\n### Example Journal Entry:\\nAssume a fixed asset with a carrying amount of $50,000 is sold for $70,000.\\n\\n- **Journal Entry:**\\n  - Debit: Cash/Bank $70,000\\n  - Credit: Fixed Asset $50,000\\n  - Credit: Gain on Sale of Fixed Asset $20,000\\n\\n### Relevant IFRS/IAS Paragraphs:\\n- **IAS 16.6**: Definition of carrying amount.\\n- **IAS 16.67**: Derecognition of an asset.\\n- **IAS 16.68**: Recognition of gain or loss on derecognition.\\n- **IAS 16.71**: Calculation of gain or loss on disposal.\\n- **IAS 1.97**: Presentation of gains in the income statement.\\n\\nBy following these steps and referencing the relevant IFRS/IAS paragraphs, you can accurately account for gains on the sale of fixed assets in compliance with international financial reporting standards.\\n\\n', 'finance_check': {'observation': 'Yes'}, 'query_rerouter_check': {'observation': 'FRA'}, 'source_detector_check': {'observation': ['annual_reports_answer_node', 'fm_answer_node', 'ifrs_answer_node']}, 'ifrs_response': {'answer': 'As per IAS 16, gains on the sale of fixed assets (property, plant, and equipment) should be accounted for as follows:\\n\\n- **Derecognition**: The carrying amount of the asset should be derecognized at the date of disposal (paragraph 67-72).\\n- **Recognition of Gain or Loss**: Any gain or loss arising from the derecognition of the asset should be recognized in profit or loss. This gain or loss is calculated as the difference between the net disposal proceeds and the carrying amount of the asset (paragraph 71).\\n\\nTherefore, the gain on the sale of fixed assets should be recognized in the profit or loss statement at the date of derecognition.', 'metadata': []}, 'annual_reports_response': {'answer': 'NO GUIDANCE', 'metadata': []}, 'fm_response': {'answer': 'To account for gains on the sale of fixed assets, you need to follow the guidance provided by IAS 16 \"Property, Plant and Equipment\" and IFRS 5 \"Non-current Assets Held for Sale and Discontinued Operations\" if applicable.\\n\\n### Step-by-Step Accounting for Gains on Sales of Fixed Assets:\\n\\n1. **Determine the Carrying Amount:**\\n   - The carrying amount of the fixed asset is its cost less any accumulated depreciation and any accumulated impairment losses (IAS 16.6).\\n\\n2. **Calculate the Gain:**\\n   - The gain on the sale of a fixed asset is calculated as the difference between the net disposal proceeds and the carrying amount of the asset at the time of sale (IAS 16.71).\\n\\n3. **Recognize the Gain:**\\n   - The gain should be recognized in profit or loss when the asset is derecognized (IAS 16.68). Derecognition occurs when the asset is disposed of or when no future economic benefits are expected from its use or disposal (IAS 16.67).\\n\\n4. **Presentation in Financial Statements:**\\n   - Gains on the sale of fixed assets should be presented in the income statement as part of other income or separately if material (IAS 1.97).\\n\\n### Example Journal Entry:\\nAssume a fixed asset with a carrying amount of $50,000 is sold for $70,000.\\n\\n- **Journal Entry:**\\n  - Debit: Cash/Bank $70,000\\n  - Credit: Fixed Asset $50,000\\n  - Credit: Gain on Sale of Fixed Asset $20,000\\n\\n### Relevant IFRS/IAS Paragraphs:\\n- **IAS 16.6:** Definition of carrying amount.\\n- **IAS 16.67:** Derecognition of an asset.\\n- **IAS 16.68:** Recognition of gain or loss on derecognition.\\n- **IAS 16.71:** Calculation of gain or loss on disposal.\\n- **IAS 1.97:** Presentation of gains in the income statement.\\n\\n### Sources:\\n- IAS 16 \"Property, Plant and Equipment\"\\n- IAS 1 \"Presentation of Financial Statements\"\\n\\nBy following these steps and referencing the relevant IFRS/IAS paragraphs, you can accurately account for gains on the sale of fixed assets in compliance with international financial reporting standards.', 'metadata': []}, 'unified_response': {'answer': 'To account for gains on the sale of fixed assets, follow the guidance provided by IAS 16 \"Property, Plant, and Equipment.\"\\n\\n### Step-by-Step Accounting for Gains on Sales of Fixed Assets:\\n\\n1. **Derecognition**: The carrying amount of the asset should be derecognized at the date of disposal (IAS 16.67-72).\\n2. **Calculate the Gain**: The gain is calculated as the difference between the net disposal proceeds and the carrying amount of the asset (IAS 16.71).\\n3. **Recognition of Gain**: Any gain arising from the derecognition of the asset should be recognized in profit or loss (IAS 16.68).\\n4. **Presentation in Financial Statements**: Gains on the sale of fixed assets should be presented in the income statement as part of other income or separately if material (IAS 1.97).\\n\\n### Example Journal Entry:\\nAssume a fixed asset with a carrying amount of $50,000 is sold for $70,000.\\n\\n- **Journal Entry:**\\n  - Debit: Cash/Bank $70,000\\n  - Credit: Fixed Asset $50,000\\n  - Credit: Gain on Sale of Fixed Asset $20,000\\n\\n### Relevant IFRS/IAS Paragraphs:\\n- **IAS 16.6**: Definition of carrying amount.\\n- **IAS 16.67**: Derecognition of an asset.\\n- **IAS 16.68**: Recognition of gain or loss on derecognition.\\n- **IAS 16.71**: Calculation of gain or loss on disposal.\\n- **IAS 1.97**: Presentation of gains in the income statement.\\n\\nBy following these steps and referencing the relevant IFRS/IAS paragraphs, you can accurately account for gains on the sale of fixed assets in compliance with international financial reporting standards.', 'metadata': []}, 'intermediate_steps': []}\u001b[0m\n",
            "------ENTERING: OVERALL STATUS CHECK NODE------\n",
            "-------------------------------- \u001b[1;31mFinal Answer\u001b[0m --------------------------------\n"
          ]
        },
        {
          "data": {
            "text/markdown": [
              "**FINAL ANSWER:** <font color=\"red\">### IFRS: \n",
              "As per IAS 16, gains on the sale of fixed assets (property, plant, and equipment) should be accounted for as follows:\n",
              "\n",
              "- **Derecognition**: The carrying amount of the asset should be derecognized at the date of disposal (paragraph 67-72).\n",
              "- **Recognition of Gain or Loss**: Any gain or loss arising from the derecognition of the asset should be recognized in profit or loss. This gain or loss is calculated as the difference between the net disposal proceeds and the carrying amount of the asset (paragraph 71).\n",
              "\n",
              "Therefore, the gain on the sale of fixed assets should be recognized in the profit or loss statement at the date of derecognition.\n",
              "\n",
              "---\n",
              "\n",
              "### Annual Reports: \n",
              "NO GUIDANCE\n",
              "\n",
              "---\n",
              "\n",
              "### Foundational ChatGPT: \n",
              "To account for gains on the sale of fixed assets, you need to follow the guidance provided by IAS 16 \"Property, Plant and Equipment\" and IFRS 5 \"Non-current Assets Held for Sale and Discontinued Operations\" if applicable.\n",
              "\n",
              "### Step-by-Step Accounting for Gains on Sales of Fixed Assets:\n",
              "\n",
              "1. **Determine the Carrying Amount:**\n",
              "   - The carrying amount of the fixed asset is its cost less any accumulated depreciation and any accumulated impairment losses (IAS 16.6).\n",
              "\n",
              "2. **Calculate the Gain:**\n",
              "   - The gain on the sale of a fixed asset is calculated as the difference between the net disposal proceeds and the carrying amount of the asset at the time of sale (IAS 16.71).\n",
              "\n",
              "3. **Recognize the Gain:**\n",
              "   - The gain should be recognized in profit or loss when the asset is derecognized (IAS 16.68). Derecognition occurs when the asset is disposed of or when no future economic benefits are expected from its use or disposal (IAS 16.67).\n",
              "\n",
              "4. **Presentation in Financial Statements:**\n",
              "   - Gains on the sale of fixed assets should be presented in the income statement as part of other income or separately if material (IAS 1.97).\n",
              "\n",
              "### Example Journal Entry:\n",
              "Assume a fixed asset with a carrying amount of $50,000 is sold for $70,000.\n",
              "\n",
              "- **Journal Entry:**\n",
              "  - Debit: Cash/Bank $70,000\n",
              "  - Credit: Fixed Asset $50,000\n",
              "  - Credit: Gain on Sale of Fixed Asset $20,000\n",
              "\n",
              "### Relevant IFRS/IAS Paragraphs:\n",
              "- **IAS 16.6:** Definition of carrying amount.\n",
              "- **IAS 16.67:** Derecognition of an asset.\n",
              "- **IAS 16.68:** Recognition of gain or loss on derecognition.\n",
              "- **IAS 16.71:** Calculation of gain or loss on disposal.\n",
              "- **IAS 1.97:** Presentation of gains in the income statement.\n",
              "\n",
              "### Sources:\n",
              "- IAS 16 \"Property, Plant and Equipment\"\n",
              "- IAS 1 \"Presentation of Financial Statements\"\n",
              "\n",
              "By following these steps and referencing the relevant IFRS/IAS paragraphs, you can accurately account for gains on the sale of fixed assets in compliance with international financial reporting standards.\n",
              "\n",
              "---\n",
              "\n",
              "### Unified Response\n",
              "To account for gains on the sale of fixed assets, follow the guidance provided by IAS 16 \"Property, Plant, and Equipment.\"\n",
              "\n",
              "### Step-by-Step Accounting for Gains on Sales of Fixed Assets:\n",
              "\n",
              "1. **Derecognition**: The carrying amount of the asset should be derecognized at the date of disposal (IAS 16.67-72).\n",
              "2. **Calculate the Gain**: The gain is calculated as the difference between the net disposal proceeds and the carrying amount of the asset (IAS 16.71).\n",
              "3. **Recognition of Gain**: Any gain arising from the derecognition of the asset should be recognized in profit or loss (IAS 16.68).\n",
              "4. **Presentation in Financial Statements**: Gains on the sale of fixed assets should be presented in the income statement as part of other income or separately if material (IAS 1.97).\n",
              "\n",
              "### Example Journal Entry:\n",
              "Assume a fixed asset with a carrying amount of $50,000 is sold for $70,000.\n",
              "\n",
              "- **Journal Entry:**\n",
              "  - Debit: Cash/Bank $70,000\n",
              "  - Credit: Fixed Asset $50,000\n",
              "  - Credit: Gain on Sale of Fixed Asset $20,000\n",
              "\n",
              "### Relevant IFRS/IAS Paragraphs:\n",
              "- **IAS 16.6**: Definition of carrying amount.\n",
              "- **IAS 16.67**: Derecognition of an asset.\n",
              "- **IAS 16.68**: Recognition of gain or loss on derecognition.\n",
              "- **IAS 16.71**: Calculation of gain or loss on disposal.\n",
              "- **IAS 1.97**: Presentation of gains in the income statement.\n",
              "\n",
              "By following these steps and referencing the relevant IFRS/IAS paragraphs, you can accurately account for gains on the sale of fixed assets in compliance with international financial reporting standards.\n",
              "\n",
              "</font>"
            ],
            "text/plain": [
              "<IPython.core.display.Markdown object>"
            ]
          },
          "metadata": {},
          "output_type": "display_data"
        },
        {
          "name": "stdout",
          "output_type": "stream",
          "text": [
            "\u001b[1;34m{'operation_id': 123456, 'user_id': 'nalabsr1', 'question': 'How do I account for Gains on sales of fixed assets?', 'topic': 'DUMMY TOPIC', 'final_answer': '### IFRS: \\nAs per IAS 16, gains on the sale of fixed assets (property, plant, and equipment) should be accounted for as follows:\\n\\n- **Derecognition**: The carrying amount of the asset should be derecognized at the date of disposal (paragraph 67-72).\\n- **Recognition of Gain or Loss**: Any gain or loss arising from the derecognition of the asset should be recognized in profit or loss. This gain or loss is calculated as the difference between the net disposal proceeds and the carrying amount of the asset (paragraph 71).\\n\\nTherefore, the gain on the sale of fixed assets should be recognized in the profit or loss statement at the date of derecognition.\\n\\n---\\n\\n### Annual Reports: \\nNO GUIDANCE\\n\\n---\\n\\n### Foundational ChatGPT: \\nTo account for gains on the sale of fixed assets, you need to follow the guidance provided by IAS 16 \"Property, Plant and Equipment\" and IFRS 5 \"Non-current Assets Held for Sale and Discontinued Operations\" if applicable.\\n\\n### Step-by-Step Accounting for Gains on Sales of Fixed Assets:\\n\\n1. **Determine the Carrying Amount:**\\n   - The carrying amount of the fixed asset is its cost less any accumulated depreciation and any accumulated impairment losses (IAS 16.6).\\n\\n2. **Calculate the Gain:**\\n   - The gain on the sale of a fixed asset is calculated as the difference between the net disposal proceeds and the carrying amount of the asset at the time of sale (IAS 16.71).\\n\\n3. **Recognize the Gain:**\\n   - The gain should be recognized in profit or loss when the asset is derecognized (IAS 16.68). Derecognition occurs when the asset is disposed of or when no future economic benefits are expected from its use or disposal (IAS 16.67).\\n\\n4. **Presentation in Financial Statements:**\\n   - Gains on the sale of fixed assets should be presented in the income statement as part of other income or separately if material (IAS 1.97).\\n\\n### Example Journal Entry:\\nAssume a fixed asset with a carrying amount of $50,000 is sold for $70,000.\\n\\n- **Journal Entry:**\\n  - Debit: Cash/Bank $70,000\\n  - Credit: Fixed Asset $50,000\\n  - Credit: Gain on Sale of Fixed Asset $20,000\\n\\n### Relevant IFRS/IAS Paragraphs:\\n- **IAS 16.6:** Definition of carrying amount.\\n- **IAS 16.67:** Derecognition of an asset.\\n- **IAS 16.68:** Recognition of gain or loss on derecognition.\\n- **IAS 16.71:** Calculation of gain or loss on disposal.\\n- **IAS 1.97:** Presentation of gains in the income statement.\\n\\n### Sources:\\n- IAS 16 \"Property, Plant and Equipment\"\\n- IAS 1 \"Presentation of Financial Statements\"\\n\\nBy following these steps and referencing the relevant IFRS/IAS paragraphs, you can accurately account for gains on the sale of fixed assets in compliance with international financial reporting standards.\\n\\n---\\n\\n### Unified Response\\nTo account for gains on the sale of fixed assets, follow the guidance provided by IAS 16 \"Property, Plant, and Equipment.\"\\n\\n### Step-by-Step Accounting for Gains on Sales of Fixed Assets:\\n\\n1. **Derecognition**: The carrying amount of the asset should be derecognized at the date of disposal (IAS 16.67-72).\\n2. **Calculate the Gain**: The gain is calculated as the difference between the net disposal proceeds and the carrying amount of the asset (IAS 16.71).\\n3. **Recognition of Gain**: Any gain arising from the derecognition of the asset should be recognized in profit or loss (IAS 16.68).\\n4. **Presentation in Financial Statements**: Gains on the sale of fixed assets should be presented in the income statement as part of other income or separately if material (IAS 1.97).\\n\\n### Example Journal Entry:\\nAssume a fixed asset with a carrying amount of $50,000 is sold for $70,000.\\n\\n- **Journal Entry:**\\n  - Debit: Cash/Bank $70,000\\n  - Credit: Fixed Asset $50,000\\n  - Credit: Gain on Sale of Fixed Asset $20,000\\n\\n### Relevant IFRS/IAS Paragraphs:\\n- **IAS 16.6**: Definition of carrying amount.\\n- **IAS 16.67**: Derecognition of an asset.\\n- **IAS 16.68**: Recognition of gain or loss on derecognition.\\n- **IAS 16.71**: Calculation of gain or loss on disposal.\\n- **IAS 1.97**: Presentation of gains in the income statement.\\n\\nBy following these steps and referencing the relevant IFRS/IAS paragraphs, you can accurately account for gains on the sale of fixed assets in compliance with international financial reporting standards.\\n\\n', 'finance_check': {'observation': 'Yes'}, 'query_rerouter_check': {'observation': 'FRA'}, 'source_detector_check': {'observation': ['annual_reports_answer_node', 'fm_answer_node', 'ifrs_answer_node']}, 'overall_status_check': {'observation': 'Completed'}, 'ifrs_response': {'answer': 'As per IAS 16, gains on the sale of fixed assets (property, plant, and equipment) should be accounted for as follows:\\n\\n- **Derecognition**: The carrying amount of the asset should be derecognized at the date of disposal (paragraph 67-72).\\n- **Recognition of Gain or Loss**: Any gain or loss arising from the derecognition of the asset should be recognized in profit or loss. This gain or loss is calculated as the difference between the net disposal proceeds and the carrying amount of the asset (paragraph 71).\\n\\nTherefore, the gain on the sale of fixed assets should be recognized in the profit or loss statement at the date of derecognition.', 'metadata': []}, 'annual_reports_response': {'answer': 'NO GUIDANCE', 'metadata': []}, 'fm_response': {'answer': 'To account for gains on the sale of fixed assets, you need to follow the guidance provided by IAS 16 \"Property, Plant and Equipment\" and IFRS 5 \"Non-current Assets Held for Sale and Discontinued Operations\" if applicable.\\n\\n### Step-by-Step Accounting for Gains on Sales of Fixed Assets:\\n\\n1. **Determine the Carrying Amount:**\\n   - The carrying amount of the fixed asset is its cost less any accumulated depreciation and any accumulated impairment losses (IAS 16.6).\\n\\n2. **Calculate the Gain:**\\n   - The gain on the sale of a fixed asset is calculated as the difference between the net disposal proceeds and the carrying amount of the asset at the time of sale (IAS 16.71).\\n\\n3. **Recognize the Gain:**\\n   - The gain should be recognized in profit or loss when the asset is derecognized (IAS 16.68). Derecognition occurs when the asset is disposed of or when no future economic benefits are expected from its use or disposal (IAS 16.67).\\n\\n4. **Presentation in Financial Statements:**\\n   - Gains on the sale of fixed assets should be presented in the income statement as part of other income or separately if material (IAS 1.97).\\n\\n### Example Journal Entry:\\nAssume a fixed asset with a carrying amount of $50,000 is sold for $70,000.\\n\\n- **Journal Entry:**\\n  - Debit: Cash/Bank $70,000\\n  - Credit: Fixed Asset $50,000\\n  - Credit: Gain on Sale of Fixed Asset $20,000\\n\\n### Relevant IFRS/IAS Paragraphs:\\n- **IAS 16.6:** Definition of carrying amount.\\n- **IAS 16.67:** Derecognition of an asset.\\n- **IAS 16.68:** Recognition of gain or loss on derecognition.\\n- **IAS 16.71:** Calculation of gain or loss on disposal.\\n- **IAS 1.97:** Presentation of gains in the income statement.\\n\\n### Sources:\\n- IAS 16 \"Property, Plant and Equipment\"\\n- IAS 1 \"Presentation of Financial Statements\"\\n\\nBy following these steps and referencing the relevant IFRS/IAS paragraphs, you can accurately account for gains on the sale of fixed assets in compliance with international financial reporting standards.', 'metadata': []}, 'unified_response': {'answer': 'To account for gains on the sale of fixed assets, follow the guidance provided by IAS 16 \"Property, Plant, and Equipment.\"\\n\\n### Step-by-Step Accounting for Gains on Sales of Fixed Assets:\\n\\n1. **Derecognition**: The carrying amount of the asset should be derecognized at the date of disposal (IAS 16.67-72).\\n2. **Calculate the Gain**: The gain is calculated as the difference between the net disposal proceeds and the carrying amount of the asset (IAS 16.71).\\n3. **Recognition of Gain**: Any gain arising from the derecognition of the asset should be recognized in profit or loss (IAS 16.68).\\n4. **Presentation in Financial Statements**: Gains on the sale of fixed assets should be presented in the income statement as part of other income or separately if material (IAS 1.97).\\n\\n### Example Journal Entry:\\nAssume a fixed asset with a carrying amount of $50,000 is sold for $70,000.\\n\\n- **Journal Entry:**\\n  - Debit: Cash/Bank $70,000\\n  - Credit: Fixed Asset $50,000\\n  - Credit: Gain on Sale of Fixed Asset $20,000\\n\\n### Relevant IFRS/IAS Paragraphs:\\n- **IAS 16.6**: Definition of carrying amount.\\n- **IAS 16.67**: Derecognition of an asset.\\n- **IAS 16.68**: Recognition of gain or loss on derecognition.\\n- **IAS 16.71**: Calculation of gain or loss on disposal.\\n- **IAS 1.97**: Presentation of gains in the income statement.\\n\\nBy following these steps and referencing the relevant IFRS/IAS paragraphs, you can accurately account for gains on the sale of fixed assets in compliance with international financial reporting standards.', 'metadata': []}, 'intermediate_steps': []}\u001b[0m\n",
            "--------------------------------------------------------\n",
            "\u001b[1;31mTotal Time Taken - [24.6]\u001b[0m\n",
            "--------------------------------------------------------\n"
          ]
        }
      ],
      "source": [
        "question = \"How do I account for Gains on sales of fixed assets?\"\n",
        "run_answer(question, 89)"
      ]
    },
    {
      "cell_type": "code",
      "execution_count": null,
      "id": "1321e926-33d7-4d59-bf51-84c67411a440",
      "metadata": {
        "tags": [],
        "id": "1321e926-33d7-4d59-bf51-84c67411a440",
        "outputId": "09a7889a-5d10-4c74-993b-70cc2f68e108"
      },
      "outputs": [
        {
          "name": "stdout",
          "output_type": "stream",
          "text": [
            "\u001b[1;34m{'operation_id': 123456, 'user_id': 'nalabsr1', 'question': 'Where do i find company master data change request form?', 'final_answer': '', 'intermediate_steps': []}\u001b[0m\n",
            "------ENTERING: TOPIC MODELLING NODE------\n",
            "============================================\n",
            "{'operation_id': 123456, 'user_id': 'nalabsr1', 'question': 'Where do i find company master data change request form?', 'topic': None, 'requested_datasources': None, 'final_answer': '', 'finance_check': None, 'query_rerouter_check': None, 'source_detector_check': None, 'overall_status_check': None, 'generic_response': None, 'web_response': None, 'ifrs_response': None, 'annual_reports_response': None, 'fm_response': None, 'unified_response': None, 'intermediate_steps': []}\n",
            "============================================\n",
            "------OBSERVATION: DUMMY TOPIC------\n",
            "\u001b[1;34m{'operation_id': 123456, 'user_id': 'nalabsr1', 'question': 'Where do i find company master data change request form?', 'topic': 'DUMMY TOPIC', 'final_answer': '', 'intermediate_steps': []}\u001b[0m\n",
            "------ENTERING: FINANCE CHECK NODE------\n",
            "------OBSERVATION: Yes------\n",
            "------DECISION: INVOKE QUERY REROUTER NODE------\n",
            "\u001b[1;34m{'operation_id': 123456, 'user_id': 'nalabsr1', 'question': 'Where do i find company master data change request form?', 'topic': 'DUMMY TOPIC', 'final_answer': '', 'finance_check': {'observation': 'Yes'}, 'intermediate_steps': []}\u001b[0m\n",
            "------ENTERING: QUERY REROUTER NODE------\n",
            "------OBSERVATION: FRA------\n",
            "------DECISION: INVOKE SOURCE DETECTOR NODE------\n",
            "\u001b[1;34m{'operation_id': 123456, 'user_id': 'nalabsr1', 'question': 'Where do i find company master data change request form?', 'topic': 'DUMMY TOPIC', 'final_answer': '', 'finance_check': {'observation': 'Yes'}, 'query_rerouter_check': {'observation': 'FRA'}, 'intermediate_steps': []}\u001b[0m\n",
            "------ENTERING: SOURCE DETECTOR NODE------\n",
            "------SOURCES DETECTED: ['annual_reports_answer_node', 'fm_answer_node', 'ifrs_answer_node']------\n",
            "\u001b[1;34m{'operation_id': 123456, 'user_id': 'nalabsr1', 'question': 'Where do i find company master data change request form?', 'topic': 'DUMMY TOPIC', 'final_answer': '', 'finance_check': {'observation': 'Yes'}, 'query_rerouter_check': {'observation': 'FRA'}, 'source_detector_check': {'observation': ['annual_reports_answer_node', 'fm_answer_node', 'ifrs_answer_node']}, 'intermediate_steps': []}\u001b[0m\n",
            "------ENTERING: IFRS ANSWER NODE------\n",
            "------ENTERING: ANNUAL REPORTS ANSWER NODE------\n",
            "------ENTERING: FOUNDATIONAL ANSWER NODE------\n"
          ]
        },
        {
          "data": {
            "text/markdown": [
              "**IFRS ANSWER:** <font color=\"red\">NO GUIDANCE</font>"
            ],
            "text/plain": [
              "<IPython.core.display.Markdown object>"
            ]
          },
          "metadata": {},
          "output_type": "display_data"
        },
        {
          "data": {
            "text/markdown": [
              "**ANNUAL REPORTS ANSWER:** <font color=\"red\">You can find the company master data change request form on the Novartis Supplier Portal. Here is the link to access it: [Novartis Supplier Portal](https://www.novartis.com/supplier-portal).</font>"
            ],
            "text/plain": [
              "<IPython.core.display.Markdown object>"
            ]
          },
          "metadata": {},
          "output_type": "display_data"
        },
        {
          "data": {
            "text/markdown": [
              "**FOUNDATIONAL ANSWER:** <font color=\"red\">To find the company master data change request form at Novartis, you should typically refer to the internal resources provided by the company's finance or IT departments. This form is usually part of the internal control processes and is used to ensure that any changes to the master data are properly documented and authorized.\n",
              "\n",
              "Here are the steps you can follow to locate the form:\n",
              "\n",
              "1. **Intranet or Internal Portal**: Check the Novartis intranet or internal employee portal. These platforms often have sections dedicated to forms and templates, including those for financial and administrative purposes.\n",
              "\n",
              "2. **Finance Department**: Contact the finance department directly. They can provide you with the necessary forms and guide you through the process of submitting a change request.\n",
              "\n",
              "3. **IT Support**: Sometimes, the IT department manages the master data systems. They can also provide the form or direct you to the appropriate resource.\n",
              "\n",
              "4. **Internal Policies and Procedures Manual**: Refer to the internal policies and procedures manual, which may include instructions on how to request changes to company master data and where to find the relevant forms.\n",
              "\n",
              "5. **SAP or ERP System**: If Novartis uses an ERP system like SAP, the form might be available within the system itself. You can check the help section or contact the system administrator for assistance.\n",
              "\n",
              "Since this is an internal document, it is not governed by IFRS or IAS standards, and there are no specific paragraphs from these standards that apply to the location of the form. However, maintaining accurate and up-to-date master data is crucial for financial reporting and compliance with standards such as IFRS 7 (Financial Instruments: Disclosures) and IFRS 9 (Financial Instruments), which require accurate data for proper financial disclosures.\n",
              "\n",
              "For further assistance, you may refer to internal communication channels or consult with your supervisor or manager.</font>"
            ],
            "text/plain": [
              "<IPython.core.display.Markdown object>"
            ]
          },
          "metadata": {},
          "output_type": "display_data"
        },
        {
          "name": "stdout",
          "output_type": "stream",
          "text": [
            "\u001b[1;34m{'operation_id': 123456, 'user_id': 'nalabsr1', 'question': 'Where do i find company master data change request form?', 'topic': 'DUMMY TOPIC', 'final_answer': '', 'finance_check': {'observation': 'Yes'}, 'query_rerouter_check': {'observation': 'FRA'}, 'source_detector_check': {'observation': ['annual_reports_answer_node', 'fm_answer_node', 'ifrs_answer_node']}, 'ifrs_response': {'answer': 'NO GUIDANCE', 'metadata': []}, 'annual_reports_response': {'answer': 'You can find the company master data change request form on the Novartis Supplier Portal. Here is the link to access it: [Novartis Supplier Portal](https://www.novartis.com/supplier-portal).', 'metadata': []}, 'fm_response': {'answer': \"To find the company master data change request form at Novartis, you should typically refer to the internal resources provided by the company's finance or IT departments. This form is usually part of the internal control processes and is used to ensure that any changes to the master data are properly documented and authorized.\\n\\nHere are the steps you can follow to locate the form:\\n\\n1. **Intranet or Internal Portal**: Check the Novartis intranet or internal employee portal. These platforms often have sections dedicated to forms and templates, including those for financial and administrative purposes.\\n\\n2. **Finance Department**: Contact the finance department directly. They can provide you with the necessary forms and guide you through the process of submitting a change request.\\n\\n3. **IT Support**: Sometimes, the IT department manages the master data systems. They can also provide the form or direct you to the appropriate resource.\\n\\n4. **Internal Policies and Procedures Manual**: Refer to the internal policies and procedures manual, which may include instructions on how to request changes to company master data and where to find the relevant forms.\\n\\n5. **SAP or ERP System**: If Novartis uses an ERP system like SAP, the form might be available within the system itself. You can check the help section or contact the system administrator for assistance.\\n\\nSince this is an internal document, it is not governed by IFRS or IAS standards, and there are no specific paragraphs from these standards that apply to the location of the form. However, maintaining accurate and up-to-date master data is crucial for financial reporting and compliance with standards such as IFRS 7 (Financial Instruments: Disclosures) and IFRS 9 (Financial Instruments), which require accurate data for proper financial disclosures.\\n\\nFor further assistance, you may refer to internal communication channels or consult with your supervisor or manager.\", 'metadata': []}, 'intermediate_steps': []}\u001b[0m\n",
            "------ENTERING: UNIFIED ANSWER NODE------\n"
          ]
        },
        {
          "data": {
            "application/json": {
              "annual_reports_response": {
                "answer": "You can find the company master data change request form on the Novartis Supplier Portal. Here is the link to access it: [Novartis Supplier Portal](https://www.novartis.com/supplier-portal).",
                "metadata": []
              },
              "final_answer": "",
              "finance_check": {
                "observation": "Yes"
              },
              "fm_response": {
                "answer": "To find the company master data change request form at Novartis, you should typically refer to the internal resources provided by the company's finance or IT departments. This form is usually part of the internal control processes and is used to ensure that any changes to the master data are properly documented and authorized.\n\nHere are the steps you can follow to locate the form:\n\n1. **Intranet or Internal Portal**: Check the Novartis intranet or internal employee portal. These platforms often have sections dedicated to forms and templates, including those for financial and administrative purposes.\n\n2. **Finance Department**: Contact the finance department directly. They can provide you with the necessary forms and guide you through the process of submitting a change request.\n\n3. **IT Support**: Sometimes, the IT department manages the master data systems. They can also provide the form or direct you to the appropriate resource.\n\n4. **Internal Policies and Procedures Manual**: Refer to the internal policies and procedures manual, which may include instructions on how to request changes to company master data and where to find the relevant forms.\n\n5. **SAP or ERP System**: If Novartis uses an ERP system like SAP, the form might be available within the system itself. You can check the help section or contact the system administrator for assistance.\n\nSince this is an internal document, it is not governed by IFRS or IAS standards, and there are no specific paragraphs from these standards that apply to the location of the form. However, maintaining accurate and up-to-date master data is crucial for financial reporting and compliance with standards such as IFRS 7 (Financial Instruments: Disclosures) and IFRS 9 (Financial Instruments), which require accurate data for proper financial disclosures.\n\nFor further assistance, you may refer to internal communication channels or consult with your supervisor or manager.",
                "metadata": []
              },
              "generic_response": null,
              "ifrs_response": {
                "answer": "NO GUIDANCE",
                "metadata": []
              },
              "intermediate_steps": [],
              "operation_id": 123456,
              "overall_status_check": null,
              "query_rerouter_check": {
                "observation": "FRA"
              },
              "question": "Where do i find company master data change request form?",
              "requested_datasources": null,
              "source_detector_check": {
                "observation": [
                  "annual_reports_answer_node",
                  "fm_answer_node",
                  "ifrs_answer_node"
                ]
              },
              "topic": "DUMMY TOPIC",
              "unified_response": null,
              "user_id": "nalabsr1",
              "web_response": null
            },
            "text/plain": [
              "<IPython.core.display.JSON object>"
            ]
          },
          "metadata": {
            "application/json": {
              "expanded": false,
              "root": "root"
            }
          },
          "output_type": "display_data"
        },
        {
          "data": {
            "text/markdown": [
              "**UNIFIED ANSWER:** <font color=\"red\">To find the company master data change request form at Novartis, you can access it on the [Novartis Supplier Portal](https://www.novartis.com/supplier-portal). This form is part of the internal control processes to ensure that any changes to the master data are properly documented and authorized. For further assistance, you may refer to internal communication channels or consult with your supervisor or manager.</font>"
            ],
            "text/plain": [
              "<IPython.core.display.Markdown object>"
            ]
          },
          "metadata": {},
          "output_type": "display_data"
        },
        {
          "name": "stdout",
          "output_type": "stream",
          "text": [
            "\u001b[1;34m{'operation_id': 123456, 'user_id': 'nalabsr1', 'question': 'Where do i find company master data change request form?', 'topic': 'DUMMY TOPIC', 'final_answer': \"### IFRS: \\nNO GUIDANCE\\n\\n---\\n\\n### Annual Reports: \\nYou can find the company master data change request form on the Novartis Supplier Portal. Here is the link to access it: [Novartis Supplier Portal](https://www.novartis.com/supplier-portal).\\n\\n---\\n\\n### Foundational ChatGPT: \\nTo find the company master data change request form at Novartis, you should typically refer to the internal resources provided by the company's finance or IT departments. This form is usually part of the internal control processes and is used to ensure that any changes to the master data are properly documented and authorized.\\n\\nHere are the steps you can follow to locate the form:\\n\\n1. **Intranet or Internal Portal**: Check the Novartis intranet or internal employee portal. These platforms often have sections dedicated to forms and templates, including those for financial and administrative purposes.\\n\\n2. **Finance Department**: Contact the finance department directly. They can provide you with the necessary forms and guide you through the process of submitting a change request.\\n\\n3. **IT Support**: Sometimes, the IT department manages the master data systems. They can also provide the form or direct you to the appropriate resource.\\n\\n4. **Internal Policies and Procedures Manual**: Refer to the internal policies and procedures manual, which may include instructions on how to request changes to company master data and where to find the relevant forms.\\n\\n5. **SAP or ERP System**: If Novartis uses an ERP system like SAP, the form might be available within the system itself. You can check the help section or contact the system administrator for assistance.\\n\\nSince this is an internal document, it is not governed by IFRS or IAS standards, and there are no specific paragraphs from these standards that apply to the location of the form. However, maintaining accurate and up-to-date master data is crucial for financial reporting and compliance with standards such as IFRS 7 (Financial Instruments: Disclosures) and IFRS 9 (Financial Instruments), which require accurate data for proper financial disclosures.\\n\\nFor further assistance, you may refer to internal communication channels or consult with your supervisor or manager.\\n\\n---\\n\\n### Unified Response\\nTo find the company master data change request form at Novartis, you can access it on the [Novartis Supplier Portal](https://www.novartis.com/supplier-portal). This form is part of the internal control processes to ensure that any changes to the master data are properly documented and authorized. For further assistance, you may refer to internal communication channels or consult with your supervisor or manager.\\n\\n\", 'finance_check': {'observation': 'Yes'}, 'query_rerouter_check': {'observation': 'FRA'}, 'source_detector_check': {'observation': ['annual_reports_answer_node', 'fm_answer_node', 'ifrs_answer_node']}, 'ifrs_response': {'answer': 'NO GUIDANCE', 'metadata': []}, 'annual_reports_response': {'answer': 'You can find the company master data change request form on the Novartis Supplier Portal. Here is the link to access it: [Novartis Supplier Portal](https://www.novartis.com/supplier-portal).', 'metadata': []}, 'fm_response': {'answer': \"To find the company master data change request form at Novartis, you should typically refer to the internal resources provided by the company's finance or IT departments. This form is usually part of the internal control processes and is used to ensure that any changes to the master data are properly documented and authorized.\\n\\nHere are the steps you can follow to locate the form:\\n\\n1. **Intranet or Internal Portal**: Check the Novartis intranet or internal employee portal. These platforms often have sections dedicated to forms and templates, including those for financial and administrative purposes.\\n\\n2. **Finance Department**: Contact the finance department directly. They can provide you with the necessary forms and guide you through the process of submitting a change request.\\n\\n3. **IT Support**: Sometimes, the IT department manages the master data systems. They can also provide the form or direct you to the appropriate resource.\\n\\n4. **Internal Policies and Procedures Manual**: Refer to the internal policies and procedures manual, which may include instructions on how to request changes to company master data and where to find the relevant forms.\\n\\n5. **SAP or ERP System**: If Novartis uses an ERP system like SAP, the form might be available within the system itself. You can check the help section or contact the system administrator for assistance.\\n\\nSince this is an internal document, it is not governed by IFRS or IAS standards, and there are no specific paragraphs from these standards that apply to the location of the form. However, maintaining accurate and up-to-date master data is crucial for financial reporting and compliance with standards such as IFRS 7 (Financial Instruments: Disclosures) and IFRS 9 (Financial Instruments), which require accurate data for proper financial disclosures.\\n\\nFor further assistance, you may refer to internal communication channels or consult with your supervisor or manager.\", 'metadata': []}, 'unified_response': {'answer': 'To find the company master data change request form at Novartis, you can access it on the [Novartis Supplier Portal](https://www.novartis.com/supplier-portal). This form is part of the internal control processes to ensure that any changes to the master data are properly documented and authorized. For further assistance, you may refer to internal communication channels or consult with your supervisor or manager.', 'metadata': []}, 'intermediate_steps': []}\u001b[0m\n",
            "------ENTERING: OVERALL STATUS CHECK NODE------\n",
            "-------------------------------- \u001b[1;31mFinal Answer\u001b[0m --------------------------------\n"
          ]
        },
        {
          "data": {
            "text/markdown": [
              "**FINAL ANSWER:** <font color=\"red\">### IFRS: \n",
              "NO GUIDANCE\n",
              "\n",
              "---\n",
              "\n",
              "### Annual Reports: \n",
              "You can find the company master data change request form on the Novartis Supplier Portal. Here is the link to access it: [Novartis Supplier Portal](https://www.novartis.com/supplier-portal).\n",
              "\n",
              "---\n",
              "\n",
              "### Foundational ChatGPT: \n",
              "To find the company master data change request form at Novartis, you should typically refer to the internal resources provided by the company's finance or IT departments. This form is usually part of the internal control processes and is used to ensure that any changes to the master data are properly documented and authorized.\n",
              "\n",
              "Here are the steps you can follow to locate the form:\n",
              "\n",
              "1. **Intranet or Internal Portal**: Check the Novartis intranet or internal employee portal. These platforms often have sections dedicated to forms and templates, including those for financial and administrative purposes.\n",
              "\n",
              "2. **Finance Department**: Contact the finance department directly. They can provide you with the necessary forms and guide you through the process of submitting a change request.\n",
              "\n",
              "3. **IT Support**: Sometimes, the IT department manages the master data systems. They can also provide the form or direct you to the appropriate resource.\n",
              "\n",
              "4. **Internal Policies and Procedures Manual**: Refer to the internal policies and procedures manual, which may include instructions on how to request changes to company master data and where to find the relevant forms.\n",
              "\n",
              "5. **SAP or ERP System**: If Novartis uses an ERP system like SAP, the form might be available within the system itself. You can check the help section or contact the system administrator for assistance.\n",
              "\n",
              "Since this is an internal document, it is not governed by IFRS or IAS standards, and there are no specific paragraphs from these standards that apply to the location of the form. However, maintaining accurate and up-to-date master data is crucial for financial reporting and compliance with standards such as IFRS 7 (Financial Instruments: Disclosures) and IFRS 9 (Financial Instruments), which require accurate data for proper financial disclosures.\n",
              "\n",
              "For further assistance, you may refer to internal communication channels or consult with your supervisor or manager.\n",
              "\n",
              "---\n",
              "\n",
              "### Unified Response\n",
              "To find the company master data change request form at Novartis, you can access it on the [Novartis Supplier Portal](https://www.novartis.com/supplier-portal). This form is part of the internal control processes to ensure that any changes to the master data are properly documented and authorized. For further assistance, you may refer to internal communication channels or consult with your supervisor or manager.\n",
              "\n",
              "</font>"
            ],
            "text/plain": [
              "<IPython.core.display.Markdown object>"
            ]
          },
          "metadata": {},
          "output_type": "display_data"
        },
        {
          "name": "stdout",
          "output_type": "stream",
          "text": [
            "\u001b[1;34m{'operation_id': 123456, 'user_id': 'nalabsr1', 'question': 'Where do i find company master data change request form?', 'topic': 'DUMMY TOPIC', 'final_answer': \"### IFRS: \\nNO GUIDANCE\\n\\n---\\n\\n### Annual Reports: \\nYou can find the company master data change request form on the Novartis Supplier Portal. Here is the link to access it: [Novartis Supplier Portal](https://www.novartis.com/supplier-portal).\\n\\n---\\n\\n### Foundational ChatGPT: \\nTo find the company master data change request form at Novartis, you should typically refer to the internal resources provided by the company's finance or IT departments. This form is usually part of the internal control processes and is used to ensure that any changes to the master data are properly documented and authorized.\\n\\nHere are the steps you can follow to locate the form:\\n\\n1. **Intranet or Internal Portal**: Check the Novartis intranet or internal employee portal. These platforms often have sections dedicated to forms and templates, including those for financial and administrative purposes.\\n\\n2. **Finance Department**: Contact the finance department directly. They can provide you with the necessary forms and guide you through the process of submitting a change request.\\n\\n3. **IT Support**: Sometimes, the IT department manages the master data systems. They can also provide the form or direct you to the appropriate resource.\\n\\n4. **Internal Policies and Procedures Manual**: Refer to the internal policies and procedures manual, which may include instructions on how to request changes to company master data and where to find the relevant forms.\\n\\n5. **SAP or ERP System**: If Novartis uses an ERP system like SAP, the form might be available within the system itself. You can check the help section or contact the system administrator for assistance.\\n\\nSince this is an internal document, it is not governed by IFRS or IAS standards, and there are no specific paragraphs from these standards that apply to the location of the form. However, maintaining accurate and up-to-date master data is crucial for financial reporting and compliance with standards such as IFRS 7 (Financial Instruments: Disclosures) and IFRS 9 (Financial Instruments), which require accurate data for proper financial disclosures.\\n\\nFor further assistance, you may refer to internal communication channels or consult with your supervisor or manager.\\n\\n---\\n\\n### Unified Response\\nTo find the company master data change request form at Novartis, you can access it on the [Novartis Supplier Portal](https://www.novartis.com/supplier-portal). This form is part of the internal control processes to ensure that any changes to the master data are properly documented and authorized. For further assistance, you may refer to internal communication channels or consult with your supervisor or manager.\\n\\n\", 'finance_check': {'observation': 'Yes'}, 'query_rerouter_check': {'observation': 'FRA'}, 'source_detector_check': {'observation': ['annual_reports_answer_node', 'fm_answer_node', 'ifrs_answer_node']}, 'overall_status_check': {'observation': 'Completed'}, 'ifrs_response': {'answer': 'NO GUIDANCE', 'metadata': []}, 'annual_reports_response': {'answer': 'You can find the company master data change request form on the Novartis Supplier Portal. Here is the link to access it: [Novartis Supplier Portal](https://www.novartis.com/supplier-portal).', 'metadata': []}, 'fm_response': {'answer': \"To find the company master data change request form at Novartis, you should typically refer to the internal resources provided by the company's finance or IT departments. This form is usually part of the internal control processes and is used to ensure that any changes to the master data are properly documented and authorized.\\n\\nHere are the steps you can follow to locate the form:\\n\\n1. **Intranet or Internal Portal**: Check the Novartis intranet or internal employee portal. These platforms often have sections dedicated to forms and templates, including those for financial and administrative purposes.\\n\\n2. **Finance Department**: Contact the finance department directly. They can provide you with the necessary forms and guide you through the process of submitting a change request.\\n\\n3. **IT Support**: Sometimes, the IT department manages the master data systems. They can also provide the form or direct you to the appropriate resource.\\n\\n4. **Internal Policies and Procedures Manual**: Refer to the internal policies and procedures manual, which may include instructions on how to request changes to company master data and where to find the relevant forms.\\n\\n5. **SAP or ERP System**: If Novartis uses an ERP system like SAP, the form might be available within the system itself. You can check the help section or contact the system administrator for assistance.\\n\\nSince this is an internal document, it is not governed by IFRS or IAS standards, and there are no specific paragraphs from these standards that apply to the location of the form. However, maintaining accurate and up-to-date master data is crucial for financial reporting and compliance with standards such as IFRS 7 (Financial Instruments: Disclosures) and IFRS 9 (Financial Instruments), which require accurate data for proper financial disclosures.\\n\\nFor further assistance, you may refer to internal communication channels or consult with your supervisor or manager.\", 'metadata': []}, 'unified_response': {'answer': 'To find the company master data change request form at Novartis, you can access it on the [Novartis Supplier Portal](https://www.novartis.com/supplier-portal). This form is part of the internal control processes to ensure that any changes to the master data are properly documented and authorized. For further assistance, you may refer to internal communication channels or consult with your supervisor or manager.', 'metadata': []}, 'intermediate_steps': []}\u001b[0m\n",
            "--------------------------------------------------------\n",
            "\u001b[1;31mTotal Time Taken - [11.64]\u001b[0m\n",
            "--------------------------------------------------------\n"
          ]
        }
      ],
      "source": [
        "question = \"Where do i find company master data change request form?\"\n",
        "run_answer(question, 19)"
      ]
    },
    {
      "cell_type": "code",
      "execution_count": null,
      "id": "1abb0d42-6578-4fa6-a890-319cc4dad264",
      "metadata": {
        "id": "1abb0d42-6578-4fa6-a890-319cc4dad264"
      },
      "outputs": [],
      "source": []
    },
    {
      "cell_type": "code",
      "execution_count": null,
      "id": "0dfb77c9-3d6f-4ee2-90f0-65998f928dc8",
      "metadata": {
        "id": "0dfb77c9-3d6f-4ee2-90f0-65998f928dc8"
      },
      "outputs": [],
      "source": []
    },
    {
      "cell_type": "code",
      "execution_count": null,
      "id": "8ddce2de-0794-49bf-9cd3-fe6133e9fecc",
      "metadata": {
        "id": "8ddce2de-0794-49bf-9cd3-fe6133e9fecc"
      },
      "outputs": [],
      "source": []
    }
  ],
  "metadata": {
    "kernelspec": {
      "display_name": "Python 3",
      "name": "python3"
    },
    "language_info": {
      "name": "python"
    },
    "colab": {
      "provenance": []
    }
  },
  "nbformat": 4,
  "nbformat_minor": 5
}