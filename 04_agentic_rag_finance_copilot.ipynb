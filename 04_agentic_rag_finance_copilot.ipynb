{
  "cells": [
    {
      "cell_type": "markdown",
      "metadata": {
        "id": "view-in-github",
        "colab_type": "text"
      },
      "source": [
        "<a href=\"https://colab.research.google.com/github/genaiconference/AgenticAI_GenAIHack/blob/main/04_agentic_rag_finance_copilot.ipynb\" target=\"_parent\"><img src=\"https://colab.research.google.com/assets/colab-badge.svg\" alt=\"Open In Colab\"/></a>"
      ]
    },
    {
      "cell_type": "markdown",
      "id": "ca0d4e08-7701-44e9-9a9e-c7578a5ee258",
      "metadata": {
        "id": "ca0d4e08-7701-44e9-9a9e-c7578a5ee258"
      },
      "source": [
        "# Finance Copilot - LangGraph Architecture"
      ]
    },
    {
      "cell_type": "code",
      "source": [
        "!git clone https://github.com/genaiconference/AgenticAI_GenAIHack.git"
      ],
      "metadata": {
        "id": "7Z8BAwQNioN4",
        "collapsed": true,
        "colab": {
          "base_uri": "https://localhost:8080/"
        },
        "outputId": "b0e93907-5003-403c-ef43-b0eb592b3d6a"
      },
      "id": "7Z8BAwQNioN4",
      "execution_count": null,
      "outputs": [
        {
          "output_type": "stream",
          "name": "stdout",
          "text": [
            "Cloning into 'AgenticAI_GenAIHack'...\n",
            "remote: Enumerating objects: 131, done.\u001b[K\n",
            "remote: Counting objects: 100% (131/131), done.\u001b[K\n",
            "remote: Compressing objects: 100% (128/128), done.\u001b[K\n",
            "remote: Total 131 (delta 65), reused 0 (delta 0), pack-reused 0\u001b[K\n",
            "Receiving objects: 100% (131/131), 6.65 MiB | 5.52 MiB/s, done.\n",
            "Resolving deltas: 100% (65/65), done.\n"
          ]
        }
      ]
    },
    {
      "cell_type": "code",
      "source": [
        "!pip install -r /content/AgenticAI_GenAIHack/requirements_agenti_ai.txt"
      ],
      "metadata": {
        "id": "X5Bw6hZviu1M",
        "collapsed": true,
        "colab": {
          "base_uri": "https://localhost:8080/"
        },
        "outputId": "622bca0d-f4ce-4e26-869f-8457fd9bbf7c"
      },
      "id": "X5Bw6hZviu1M",
      "execution_count": null,
      "outputs": [
        {
          "output_type": "stream",
          "name": "stdout",
          "text": [
            "Requirement already satisfied: beautifulsoup4==4.12.2 in /usr/local/lib/python3.10/dist-packages (from -r /content/AgenticAI_GenAIHack/requirements_agenti_ai.txt (line 1)) (4.12.2)\n",
            "Requirement already satisfied: chromadb==0.4.15 in /usr/local/lib/python3.10/dist-packages (from -r /content/AgenticAI_GenAIHack/requirements_agenti_ai.txt (line 2)) (0.4.15)\n",
            "Requirement already satisfied: google-search-results==2.4.2 in /usr/local/lib/python3.10/dist-packages (from -r /content/AgenticAI_GenAIHack/requirements_agenti_ai.txt (line 3)) (2.4.2)\n",
            "Requirement already satisfied: langchain==0.2.9 in /usr/local/lib/python3.10/dist-packages (from -r /content/AgenticAI_GenAIHack/requirements_agenti_ai.txt (line 4)) (0.2.9)\n",
            "Requirement already satisfied: langchain-experimental==0.0.62 in /usr/local/lib/python3.10/dist-packages (from -r /content/AgenticAI_GenAIHack/requirements_agenti_ai.txt (line 5)) (0.0.62)\n",
            "Requirement already satisfied: langchain-postgres==0.0.6 in /usr/local/lib/python3.10/dist-packages (from -r /content/AgenticAI_GenAIHack/requirements_agenti_ai.txt (line 6)) (0.0.6)\n",
            "Requirement already satisfied: langchain-openai==0.1.7 in /usr/local/lib/python3.10/dist-packages (from -r /content/AgenticAI_GenAIHack/requirements_agenti_ai.txt (line 7)) (0.1.7)\n",
            "Requirement already satisfied: langgraph==0.0.55 in /usr/local/lib/python3.10/dist-packages (from -r /content/AgenticAI_GenAIHack/requirements_agenti_ai.txt (line 8)) (0.0.55)\n",
            "Requirement already satisfied: Markdown==3.5.2 in /usr/local/lib/python3.10/dist-packages (from -r /content/AgenticAI_GenAIHack/requirements_agenti_ai.txt (line 9)) (3.5.2)\n",
            "Requirement already satisfied: openai==1.30.5 in /usr/local/lib/python3.10/dist-packages (from -r /content/AgenticAI_GenAIHack/requirements_agenti_ai.txt (line 10)) (1.30.5)\n",
            "Requirement already satisfied: langchain-chroma==0.1.2 in /usr/local/lib/python3.10/dist-packages (from -r /content/AgenticAI_GenAIHack/requirements_agenti_ai.txt (line 11)) (0.1.2)\n",
            "Requirement already satisfied: tavily-python==0.3.5 in /usr/local/lib/python3.10/dist-packages (from -r /content/AgenticAI_GenAIHack/requirements_agenti_ai.txt (line 12)) (0.3.5)\n",
            "Requirement already satisfied: simple-colors==0.1.5 in /usr/local/lib/python3.10/dist-packages (from -r /content/AgenticAI_GenAIHack/requirements_agenti_ai.txt (line 13)) (0.1.5)\n",
            "Requirement already satisfied: duckduckgo_search==4.4.3 in /usr/local/lib/python3.10/dist-packages (from -r /content/AgenticAI_GenAIHack/requirements_agenti_ai.txt (line 14)) (4.4.3)\n",
            "Requirement already satisfied: soupsieve>1.2 in /usr/local/lib/python3.10/dist-packages (from beautifulsoup4==4.12.2->-r /content/AgenticAI_GenAIHack/requirements_agenti_ai.txt (line 1)) (2.5)\n",
            "Requirement already satisfied: requests>=2.28 in /usr/local/lib/python3.10/dist-packages (from chromadb==0.4.15->-r /content/AgenticAI_GenAIHack/requirements_agenti_ai.txt (line 2)) (2.31.0)\n",
            "Requirement already satisfied: pydantic>=1.9 in /usr/local/lib/python3.10/dist-packages (from chromadb==0.4.15->-r /content/AgenticAI_GenAIHack/requirements_agenti_ai.txt (line 2)) (2.8.2)\n",
            "Requirement already satisfied: chroma-hnswlib==0.7.3 in /usr/local/lib/python3.10/dist-packages (from chromadb==0.4.15->-r /content/AgenticAI_GenAIHack/requirements_agenti_ai.txt (line 2)) (0.7.3)\n",
            "Requirement already satisfied: fastapi>=0.95.2 in /usr/local/lib/python3.10/dist-packages (from chromadb==0.4.15->-r /content/AgenticAI_GenAIHack/requirements_agenti_ai.txt (line 2)) (0.111.1)\n",
            "Requirement already satisfied: uvicorn>=0.18.3 in /usr/local/lib/python3.10/dist-packages (from uvicorn[standard]>=0.18.3->chromadb==0.4.15->-r /content/AgenticAI_GenAIHack/requirements_agenti_ai.txt (line 2)) (0.30.3)\n",
            "Requirement already satisfied: posthog>=2.4.0 in /usr/local/lib/python3.10/dist-packages (from chromadb==0.4.15->-r /content/AgenticAI_GenAIHack/requirements_agenti_ai.txt (line 2)) (3.5.0)\n",
            "Requirement already satisfied: typing-extensions>=4.5.0 in /usr/local/lib/python3.10/dist-packages (from chromadb==0.4.15->-r /content/AgenticAI_GenAIHack/requirements_agenti_ai.txt (line 2)) (4.12.2)\n",
            "Requirement already satisfied: pulsar-client>=3.1.0 in /usr/local/lib/python3.10/dist-packages (from chromadb==0.4.15->-r /content/AgenticAI_GenAIHack/requirements_agenti_ai.txt (line 2)) (3.5.0)\n",
            "Requirement already satisfied: onnxruntime>=1.14.1 in /usr/local/lib/python3.10/dist-packages (from chromadb==0.4.15->-r /content/AgenticAI_GenAIHack/requirements_agenti_ai.txt (line 2)) (1.18.1)\n",
            "Requirement already satisfied: opentelemetry-api>=1.2.0 in /usr/local/lib/python3.10/dist-packages (from chromadb==0.4.15->-r /content/AgenticAI_GenAIHack/requirements_agenti_ai.txt (line 2)) (1.26.0)\n",
            "Requirement already satisfied: opentelemetry-exporter-otlp-proto-grpc>=1.2.0 in /usr/local/lib/python3.10/dist-packages (from chromadb==0.4.15->-r /content/AgenticAI_GenAIHack/requirements_agenti_ai.txt (line 2)) (1.26.0)\n",
            "Requirement already satisfied: opentelemetry-sdk>=1.2.0 in /usr/local/lib/python3.10/dist-packages (from chromadb==0.4.15->-r /content/AgenticAI_GenAIHack/requirements_agenti_ai.txt (line 2)) (1.26.0)\n",
            "Requirement already satisfied: tokenizers>=0.13.2 in /usr/local/lib/python3.10/dist-packages (from chromadb==0.4.15->-r /content/AgenticAI_GenAIHack/requirements_agenti_ai.txt (line 2)) (0.19.1)\n",
            "Requirement already satisfied: pypika>=0.48.9 in /usr/local/lib/python3.10/dist-packages (from chromadb==0.4.15->-r /content/AgenticAI_GenAIHack/requirements_agenti_ai.txt (line 2)) (0.48.9)\n",
            "Requirement already satisfied: tqdm>=4.65.0 in /usr/local/lib/python3.10/dist-packages (from chromadb==0.4.15->-r /content/AgenticAI_GenAIHack/requirements_agenti_ai.txt (line 2)) (4.66.4)\n",
            "Requirement already satisfied: overrides>=7.3.1 in /usr/local/lib/python3.10/dist-packages (from chromadb==0.4.15->-r /content/AgenticAI_GenAIHack/requirements_agenti_ai.txt (line 2)) (7.7.0)\n",
            "Requirement already satisfied: importlib-resources in /usr/local/lib/python3.10/dist-packages (from chromadb==0.4.15->-r /content/AgenticAI_GenAIHack/requirements_agenti_ai.txt (line 2)) (6.4.0)\n",
            "Requirement already satisfied: grpcio>=1.58.0 in /usr/local/lib/python3.10/dist-packages (from chromadb==0.4.15->-r /content/AgenticAI_GenAIHack/requirements_agenti_ai.txt (line 2)) (1.64.1)\n",
            "Requirement already satisfied: bcrypt>=4.0.1 in /usr/local/lib/python3.10/dist-packages (from chromadb==0.4.15->-r /content/AgenticAI_GenAIHack/requirements_agenti_ai.txt (line 2)) (4.2.0)\n",
            "Requirement already satisfied: typer>=0.9.0 in /usr/local/lib/python3.10/dist-packages (from chromadb==0.4.15->-r /content/AgenticAI_GenAIHack/requirements_agenti_ai.txt (line 2)) (0.12.3)\n",
            "Requirement already satisfied: kubernetes>=28.1.0 in /usr/local/lib/python3.10/dist-packages (from chromadb==0.4.15->-r /content/AgenticAI_GenAIHack/requirements_agenti_ai.txt (line 2)) (30.1.0)\n",
            "Requirement already satisfied: tenacity>=8.2.3 in /usr/local/lib/python3.10/dist-packages (from chromadb==0.4.15->-r /content/AgenticAI_GenAIHack/requirements_agenti_ai.txt (line 2)) (8.5.0)\n",
            "Requirement already satisfied: numpy>=1.22.5 in /usr/local/lib/python3.10/dist-packages (from chromadb==0.4.15->-r /content/AgenticAI_GenAIHack/requirements_agenti_ai.txt (line 2)) (1.26.4)\n",
            "Requirement already satisfied: PyYAML>=5.3 in /usr/local/lib/python3.10/dist-packages (from langchain==0.2.9->-r /content/AgenticAI_GenAIHack/requirements_agenti_ai.txt (line 4)) (6.0.1)\n",
            "Requirement already satisfied: SQLAlchemy<3,>=1.4 in /usr/local/lib/python3.10/dist-packages (from langchain==0.2.9->-r /content/AgenticAI_GenAIHack/requirements_agenti_ai.txt (line 4)) (2.0.31)\n",
            "Requirement already satisfied: aiohttp<4.0.0,>=3.8.3 in /usr/local/lib/python3.10/dist-packages (from langchain==0.2.9->-r /content/AgenticAI_GenAIHack/requirements_agenti_ai.txt (line 4)) (3.9.5)\n",
            "Requirement already satisfied: async-timeout<5.0.0,>=4.0.0 in /usr/local/lib/python3.10/dist-packages (from langchain==0.2.9->-r /content/AgenticAI_GenAIHack/requirements_agenti_ai.txt (line 4)) (4.0.3)\n",
            "Requirement already satisfied: langchain-core<0.3.0,>=0.2.20 in /usr/local/lib/python3.10/dist-packages (from langchain==0.2.9->-r /content/AgenticAI_GenAIHack/requirements_agenti_ai.txt (line 4)) (0.2.24)\n",
            "Requirement already satisfied: langchain-text-splitters<0.3.0,>=0.2.0 in /usr/local/lib/python3.10/dist-packages (from langchain==0.2.9->-r /content/AgenticAI_GenAIHack/requirements_agenti_ai.txt (line 4)) (0.2.2)\n",
            "Requirement already satisfied: langsmith<0.2.0,>=0.1.17 in /usr/local/lib/python3.10/dist-packages (from langchain==0.2.9->-r /content/AgenticAI_GenAIHack/requirements_agenti_ai.txt (line 4)) (0.1.94)\n",
            "Requirement already satisfied: langchain-community<0.3.0,>=0.2.6 in /usr/local/lib/python3.10/dist-packages (from langchain-experimental==0.0.62->-r /content/AgenticAI_GenAIHack/requirements_agenti_ai.txt (line 5)) (0.2.10)\n",
            "Requirement already satisfied: pgvector<0.3.0,>=0.2.5 in /usr/local/lib/python3.10/dist-packages (from langchain-postgres==0.0.6->-r /content/AgenticAI_GenAIHack/requirements_agenti_ai.txt (line 6)) (0.2.5)\n",
            "Requirement already satisfied: psycopg<4,>=3 in /usr/local/lib/python3.10/dist-packages (from langchain-postgres==0.0.6->-r /content/AgenticAI_GenAIHack/requirements_agenti_ai.txt (line 6)) (3.2.1)\n",
            "Requirement already satisfied: psycopg-pool<4.0.0,>=3.2.1 in /usr/local/lib/python3.10/dist-packages (from langchain-postgres==0.0.6->-r /content/AgenticAI_GenAIHack/requirements_agenti_ai.txt (line 6)) (3.2.2)\n",
            "Requirement already satisfied: tiktoken<1,>=0.7 in /usr/local/lib/python3.10/dist-packages (from langchain-openai==0.1.7->-r /content/AgenticAI_GenAIHack/requirements_agenti_ai.txt (line 7)) (0.7.0)\n",
            "Requirement already satisfied: uuid6<2025.0.0,>=2024.1.12 in /usr/local/lib/python3.10/dist-packages (from langgraph==0.0.55->-r /content/AgenticAI_GenAIHack/requirements_agenti_ai.txt (line 8)) (2024.7.10)\n",
            "Requirement already satisfied: anyio<5,>=3.5.0 in /usr/local/lib/python3.10/dist-packages (from openai==1.30.5->-r /content/AgenticAI_GenAIHack/requirements_agenti_ai.txt (line 10)) (3.7.1)\n",
            "Requirement already satisfied: distro<2,>=1.7.0 in /usr/lib/python3/dist-packages (from openai==1.30.5->-r /content/AgenticAI_GenAIHack/requirements_agenti_ai.txt (line 10)) (1.7.0)\n",
            "Requirement already satisfied: httpx<1,>=0.23.0 in /usr/local/lib/python3.10/dist-packages (from openai==1.30.5->-r /content/AgenticAI_GenAIHack/requirements_agenti_ai.txt (line 10)) (0.27.0)\n",
            "Requirement already satisfied: sniffio in /usr/local/lib/python3.10/dist-packages (from openai==1.30.5->-r /content/AgenticAI_GenAIHack/requirements_agenti_ai.txt (line 10)) (1.3.1)\n",
            "Requirement already satisfied: click>=8.1.7 in /usr/local/lib/python3.10/dist-packages (from duckduckgo_search==4.4.3->-r /content/AgenticAI_GenAIHack/requirements_agenti_ai.txt (line 14)) (8.1.7)\n",
            "Requirement already satisfied: curl-cffi>=0.6.0b9 in /usr/local/lib/python3.10/dist-packages (from duckduckgo_search==4.4.3->-r /content/AgenticAI_GenAIHack/requirements_agenti_ai.txt (line 14)) (0.7.1)\n",
            "Requirement already satisfied: lxml>=5.1.0 in /usr/local/lib/python3.10/dist-packages (from duckduckgo_search==4.4.3->-r /content/AgenticAI_GenAIHack/requirements_agenti_ai.txt (line 14)) (5.2.2)\n",
            "Requirement already satisfied: nest-asyncio>=1.6.0 in /usr/local/lib/python3.10/dist-packages (from duckduckgo_search==4.4.3->-r /content/AgenticAI_GenAIHack/requirements_agenti_ai.txt (line 14)) (1.6.0)\n",
            "Requirement already satisfied: aiosignal>=1.1.2 in /usr/local/lib/python3.10/dist-packages (from aiohttp<4.0.0,>=3.8.3->langchain==0.2.9->-r /content/AgenticAI_GenAIHack/requirements_agenti_ai.txt (line 4)) (1.3.1)\n",
            "Requirement already satisfied: attrs>=17.3.0 in /usr/local/lib/python3.10/dist-packages (from aiohttp<4.0.0,>=3.8.3->langchain==0.2.9->-r /content/AgenticAI_GenAIHack/requirements_agenti_ai.txt (line 4)) (23.2.0)\n",
            "Requirement already satisfied: frozenlist>=1.1.1 in /usr/local/lib/python3.10/dist-packages (from aiohttp<4.0.0,>=3.8.3->langchain==0.2.9->-r /content/AgenticAI_GenAIHack/requirements_agenti_ai.txt (line 4)) (1.4.1)\n",
            "Requirement already satisfied: multidict<7.0,>=4.5 in /usr/local/lib/python3.10/dist-packages (from aiohttp<4.0.0,>=3.8.3->langchain==0.2.9->-r /content/AgenticAI_GenAIHack/requirements_agenti_ai.txt (line 4)) (6.0.5)\n",
            "Requirement already satisfied: yarl<2.0,>=1.0 in /usr/local/lib/python3.10/dist-packages (from aiohttp<4.0.0,>=3.8.3->langchain==0.2.9->-r /content/AgenticAI_GenAIHack/requirements_agenti_ai.txt (line 4)) (1.9.4)\n",
            "Requirement already satisfied: idna>=2.8 in /usr/local/lib/python3.10/dist-packages (from anyio<5,>=3.5.0->openai==1.30.5->-r /content/AgenticAI_GenAIHack/requirements_agenti_ai.txt (line 10)) (3.7)\n",
            "Requirement already satisfied: exceptiongroup in /usr/local/lib/python3.10/dist-packages (from anyio<5,>=3.5.0->openai==1.30.5->-r /content/AgenticAI_GenAIHack/requirements_agenti_ai.txt (line 10)) (1.2.2)\n",
            "Requirement already satisfied: cffi>=1.12.0 in /usr/local/lib/python3.10/dist-packages (from curl-cffi>=0.6.0b9->duckduckgo_search==4.4.3->-r /content/AgenticAI_GenAIHack/requirements_agenti_ai.txt (line 14)) (1.16.0)\n",
            "Requirement already satisfied: certifi>=2024.2.2 in /usr/local/lib/python3.10/dist-packages (from curl-cffi>=0.6.0b9->duckduckgo_search==4.4.3->-r /content/AgenticAI_GenAIHack/requirements_agenti_ai.txt (line 14)) (2024.7.4)\n",
            "Requirement already satisfied: starlette<0.38.0,>=0.37.2 in /usr/local/lib/python3.10/dist-packages (from fastapi>=0.95.2->chromadb==0.4.15->-r /content/AgenticAI_GenAIHack/requirements_agenti_ai.txt (line 2)) (0.37.2)\n",
            "Requirement already satisfied: fastapi-cli>=0.0.2 in /usr/local/lib/python3.10/dist-packages (from fastapi>=0.95.2->chromadb==0.4.15->-r /content/AgenticAI_GenAIHack/requirements_agenti_ai.txt (line 2)) (0.0.4)\n",
            "Requirement already satisfied: jinja2>=2.11.2 in /usr/local/lib/python3.10/dist-packages (from fastapi>=0.95.2->chromadb==0.4.15->-r /content/AgenticAI_GenAIHack/requirements_agenti_ai.txt (line 2)) (3.1.4)\n",
            "Requirement already satisfied: python-multipart>=0.0.7 in /usr/local/lib/python3.10/dist-packages (from fastapi>=0.95.2->chromadb==0.4.15->-r /content/AgenticAI_GenAIHack/requirements_agenti_ai.txt (line 2)) (0.0.9)\n",
            "Requirement already satisfied: email_validator>=2.0.0 in /usr/local/lib/python3.10/dist-packages (from fastapi>=0.95.2->chromadb==0.4.15->-r /content/AgenticAI_GenAIHack/requirements_agenti_ai.txt (line 2)) (2.2.0)\n",
            "Requirement already satisfied: httpcore==1.* in /usr/local/lib/python3.10/dist-packages (from httpx<1,>=0.23.0->openai==1.30.5->-r /content/AgenticAI_GenAIHack/requirements_agenti_ai.txt (line 10)) (1.0.5)\n",
            "Requirement already satisfied: h11<0.15,>=0.13 in /usr/local/lib/python3.10/dist-packages (from httpcore==1.*->httpx<1,>=0.23.0->openai==1.30.5->-r /content/AgenticAI_GenAIHack/requirements_agenti_ai.txt (line 10)) (0.14.0)\n",
            "Requirement already satisfied: six>=1.9.0 in /usr/local/lib/python3.10/dist-packages (from kubernetes>=28.1.0->chromadb==0.4.15->-r /content/AgenticAI_GenAIHack/requirements_agenti_ai.txt (line 2)) (1.16.0)\n",
            "Requirement already satisfied: python-dateutil>=2.5.3 in /usr/local/lib/python3.10/dist-packages (from kubernetes>=28.1.0->chromadb==0.4.15->-r /content/AgenticAI_GenAIHack/requirements_agenti_ai.txt (line 2)) (2.8.2)\n",
            "Requirement already satisfied: google-auth>=1.0.1 in /usr/local/lib/python3.10/dist-packages (from kubernetes>=28.1.0->chromadb==0.4.15->-r /content/AgenticAI_GenAIHack/requirements_agenti_ai.txt (line 2)) (2.27.0)\n",
            "Requirement already satisfied: websocket-client!=0.40.0,!=0.41.*,!=0.42.*,>=0.32.0 in /usr/local/lib/python3.10/dist-packages (from kubernetes>=28.1.0->chromadb==0.4.15->-r /content/AgenticAI_GenAIHack/requirements_agenti_ai.txt (line 2)) (1.8.0)\n",
            "Requirement already satisfied: requests-oauthlib in /usr/local/lib/python3.10/dist-packages (from kubernetes>=28.1.0->chromadb==0.4.15->-r /content/AgenticAI_GenAIHack/requirements_agenti_ai.txt (line 2)) (1.3.1)\n",
            "Requirement already satisfied: oauthlib>=3.2.2 in /usr/local/lib/python3.10/dist-packages (from kubernetes>=28.1.0->chromadb==0.4.15->-r /content/AgenticAI_GenAIHack/requirements_agenti_ai.txt (line 2)) (3.2.2)\n",
            "Requirement already satisfied: urllib3>=1.24.2 in /usr/local/lib/python3.10/dist-packages (from kubernetes>=28.1.0->chromadb==0.4.15->-r /content/AgenticAI_GenAIHack/requirements_agenti_ai.txt (line 2)) (2.0.7)\n",
            "Requirement already satisfied: dataclasses-json<0.7,>=0.5.7 in /usr/local/lib/python3.10/dist-packages (from langchain-community<0.3.0,>=0.2.6->langchain-experimental==0.0.62->-r /content/AgenticAI_GenAIHack/requirements_agenti_ai.txt (line 5)) (0.6.7)\n",
            "Requirement already satisfied: jsonpatch<2.0,>=1.33 in /usr/local/lib/python3.10/dist-packages (from langchain-core<0.3.0,>=0.2.20->langchain==0.2.9->-r /content/AgenticAI_GenAIHack/requirements_agenti_ai.txt (line 4)) (1.33)\n",
            "Requirement already satisfied: packaging<25,>=23.2 in /usr/local/lib/python3.10/dist-packages (from langchain-core<0.3.0,>=0.2.20->langchain==0.2.9->-r /content/AgenticAI_GenAIHack/requirements_agenti_ai.txt (line 4)) (24.1)\n",
            "Requirement already satisfied: orjson<4.0.0,>=3.9.14 in /usr/local/lib/python3.10/dist-packages (from langsmith<0.2.0,>=0.1.17->langchain==0.2.9->-r /content/AgenticAI_GenAIHack/requirements_agenti_ai.txt (line 4)) (3.10.6)\n",
            "Requirement already satisfied: coloredlogs in /usr/local/lib/python3.10/dist-packages (from onnxruntime>=1.14.1->chromadb==0.4.15->-r /content/AgenticAI_GenAIHack/requirements_agenti_ai.txt (line 2)) (15.0.1)\n",
            "Requirement already satisfied: flatbuffers in /usr/local/lib/python3.10/dist-packages (from onnxruntime>=1.14.1->chromadb==0.4.15->-r /content/AgenticAI_GenAIHack/requirements_agenti_ai.txt (line 2)) (24.3.25)\n",
            "Requirement already satisfied: protobuf in /usr/local/lib/python3.10/dist-packages (from onnxruntime>=1.14.1->chromadb==0.4.15->-r /content/AgenticAI_GenAIHack/requirements_agenti_ai.txt (line 2)) (3.20.3)\n",
            "Requirement already satisfied: sympy in /usr/local/lib/python3.10/dist-packages (from onnxruntime>=1.14.1->chromadb==0.4.15->-r /content/AgenticAI_GenAIHack/requirements_agenti_ai.txt (line 2)) (1.13.1)\n",
            "Requirement already satisfied: deprecated>=1.2.6 in /usr/local/lib/python3.10/dist-packages (from opentelemetry-api>=1.2.0->chromadb==0.4.15->-r /content/AgenticAI_GenAIHack/requirements_agenti_ai.txt (line 2)) (1.2.14)\n",
            "Requirement already satisfied: importlib-metadata<=8.0.0,>=6.0 in /usr/local/lib/python3.10/dist-packages (from opentelemetry-api>=1.2.0->chromadb==0.4.15->-r /content/AgenticAI_GenAIHack/requirements_agenti_ai.txt (line 2)) (8.0.0)\n",
            "Requirement already satisfied: googleapis-common-protos~=1.52 in /usr/local/lib/python3.10/dist-packages (from opentelemetry-exporter-otlp-proto-grpc>=1.2.0->chromadb==0.4.15->-r /content/AgenticAI_GenAIHack/requirements_agenti_ai.txt (line 2)) (1.63.2)\n",
            "Requirement already satisfied: opentelemetry-exporter-otlp-proto-common==1.26.0 in /usr/local/lib/python3.10/dist-packages (from opentelemetry-exporter-otlp-proto-grpc>=1.2.0->chromadb==0.4.15->-r /content/AgenticAI_GenAIHack/requirements_agenti_ai.txt (line 2)) (1.26.0)\n",
            "Requirement already satisfied: opentelemetry-proto==1.26.0 in /usr/local/lib/python3.10/dist-packages (from opentelemetry-exporter-otlp-proto-grpc>=1.2.0->chromadb==0.4.15->-r /content/AgenticAI_GenAIHack/requirements_agenti_ai.txt (line 2)) (1.26.0)\n",
            "Requirement already satisfied: opentelemetry-semantic-conventions==0.47b0 in /usr/local/lib/python3.10/dist-packages (from opentelemetry-sdk>=1.2.0->chromadb==0.4.15->-r /content/AgenticAI_GenAIHack/requirements_agenti_ai.txt (line 2)) (0.47b0)\n",
            "Requirement already satisfied: monotonic>=1.5 in /usr/local/lib/python3.10/dist-packages (from posthog>=2.4.0->chromadb==0.4.15->-r /content/AgenticAI_GenAIHack/requirements_agenti_ai.txt (line 2)) (1.6)\n",
            "Requirement already satisfied: backoff>=1.10.0 in /usr/local/lib/python3.10/dist-packages (from posthog>=2.4.0->chromadb==0.4.15->-r /content/AgenticAI_GenAIHack/requirements_agenti_ai.txt (line 2)) (2.2.1)\n",
            "Requirement already satisfied: annotated-types>=0.4.0 in /usr/local/lib/python3.10/dist-packages (from pydantic>=1.9->chromadb==0.4.15->-r /content/AgenticAI_GenAIHack/requirements_agenti_ai.txt (line 2)) (0.7.0)\n",
            "Requirement already satisfied: pydantic-core==2.20.1 in /usr/local/lib/python3.10/dist-packages (from pydantic>=1.9->chromadb==0.4.15->-r /content/AgenticAI_GenAIHack/requirements_agenti_ai.txt (line 2)) (2.20.1)\n",
            "Requirement already satisfied: charset-normalizer<4,>=2 in /usr/local/lib/python3.10/dist-packages (from requests>=2.28->chromadb==0.4.15->-r /content/AgenticAI_GenAIHack/requirements_agenti_ai.txt (line 2)) (3.3.2)\n",
            "Requirement already satisfied: greenlet!=0.4.17 in /usr/local/lib/python3.10/dist-packages (from SQLAlchemy<3,>=1.4->langchain==0.2.9->-r /content/AgenticAI_GenAIHack/requirements_agenti_ai.txt (line 4)) (3.0.3)\n",
            "Requirement already satisfied: regex>=2022.1.18 in /usr/local/lib/python3.10/dist-packages (from tiktoken<1,>=0.7->langchain-openai==0.1.7->-r /content/AgenticAI_GenAIHack/requirements_agenti_ai.txt (line 7)) (2024.5.15)\n",
            "Requirement already satisfied: huggingface-hub<1.0,>=0.16.4 in /usr/local/lib/python3.10/dist-packages (from tokenizers>=0.13.2->chromadb==0.4.15->-r /content/AgenticAI_GenAIHack/requirements_agenti_ai.txt (line 2)) (0.23.5)\n",
            "Requirement already satisfied: shellingham>=1.3.0 in /usr/local/lib/python3.10/dist-packages (from typer>=0.9.0->chromadb==0.4.15->-r /content/AgenticAI_GenAIHack/requirements_agenti_ai.txt (line 2)) (1.5.4)\n",
            "Requirement already satisfied: rich>=10.11.0 in /usr/local/lib/python3.10/dist-packages (from typer>=0.9.0->chromadb==0.4.15->-r /content/AgenticAI_GenAIHack/requirements_agenti_ai.txt (line 2)) (13.7.1)\n",
            "Requirement already satisfied: httptools>=0.5.0 in /usr/local/lib/python3.10/dist-packages (from uvicorn[standard]>=0.18.3->chromadb==0.4.15->-r /content/AgenticAI_GenAIHack/requirements_agenti_ai.txt (line 2)) (0.6.1)\n",
            "Requirement already satisfied: python-dotenv>=0.13 in /usr/local/lib/python3.10/dist-packages (from uvicorn[standard]>=0.18.3->chromadb==0.4.15->-r /content/AgenticAI_GenAIHack/requirements_agenti_ai.txt (line 2)) (1.0.1)\n",
            "Requirement already satisfied: uvloop!=0.15.0,!=0.15.1,>=0.14.0 in /usr/local/lib/python3.10/dist-packages (from uvicorn[standard]>=0.18.3->chromadb==0.4.15->-r /content/AgenticAI_GenAIHack/requirements_agenti_ai.txt (line 2)) (0.19.0)\n",
            "Requirement already satisfied: watchfiles>=0.13 in /usr/local/lib/python3.10/dist-packages (from uvicorn[standard]>=0.18.3->chromadb==0.4.15->-r /content/AgenticAI_GenAIHack/requirements_agenti_ai.txt (line 2)) (0.22.0)\n",
            "Requirement already satisfied: websockets>=10.4 in /usr/local/lib/python3.10/dist-packages (from uvicorn[standard]>=0.18.3->chromadb==0.4.15->-r /content/AgenticAI_GenAIHack/requirements_agenti_ai.txt (line 2)) (12.0)\n",
            "Requirement already satisfied: pycparser in /usr/local/lib/python3.10/dist-packages (from cffi>=1.12.0->curl-cffi>=0.6.0b9->duckduckgo_search==4.4.3->-r /content/AgenticAI_GenAIHack/requirements_agenti_ai.txt (line 14)) (2.22)\n",
            "Requirement already satisfied: marshmallow<4.0.0,>=3.18.0 in /usr/local/lib/python3.10/dist-packages (from dataclasses-json<0.7,>=0.5.7->langchain-community<0.3.0,>=0.2.6->langchain-experimental==0.0.62->-r /content/AgenticAI_GenAIHack/requirements_agenti_ai.txt (line 5)) (3.21.3)\n",
            "Requirement already satisfied: typing-inspect<1,>=0.4.0 in /usr/local/lib/python3.10/dist-packages (from dataclasses-json<0.7,>=0.5.7->langchain-community<0.3.0,>=0.2.6->langchain-experimental==0.0.62->-r /content/AgenticAI_GenAIHack/requirements_agenti_ai.txt (line 5)) (0.9.0)\n",
            "Requirement already satisfied: wrapt<2,>=1.10 in /usr/local/lib/python3.10/dist-packages (from deprecated>=1.2.6->opentelemetry-api>=1.2.0->chromadb==0.4.15->-r /content/AgenticAI_GenAIHack/requirements_agenti_ai.txt (line 2)) (1.14.1)\n",
            "Requirement already satisfied: dnspython>=2.0.0 in /usr/local/lib/python3.10/dist-packages (from email_validator>=2.0.0->fastapi>=0.95.2->chromadb==0.4.15->-r /content/AgenticAI_GenAIHack/requirements_agenti_ai.txt (line 2)) (2.6.1)\n",
            "Requirement already satisfied: cachetools<6.0,>=2.0.0 in /usr/local/lib/python3.10/dist-packages (from google-auth>=1.0.1->kubernetes>=28.1.0->chromadb==0.4.15->-r /content/AgenticAI_GenAIHack/requirements_agenti_ai.txt (line 2)) (5.4.0)\n",
            "Requirement already satisfied: pyasn1-modules>=0.2.1 in /usr/local/lib/python3.10/dist-packages (from google-auth>=1.0.1->kubernetes>=28.1.0->chromadb==0.4.15->-r /content/AgenticAI_GenAIHack/requirements_agenti_ai.txt (line 2)) (0.4.0)\n",
            "Requirement already satisfied: rsa<5,>=3.1.4 in /usr/local/lib/python3.10/dist-packages (from google-auth>=1.0.1->kubernetes>=28.1.0->chromadb==0.4.15->-r /content/AgenticAI_GenAIHack/requirements_agenti_ai.txt (line 2)) (4.9)\n",
            "Requirement already satisfied: filelock in /usr/local/lib/python3.10/dist-packages (from huggingface-hub<1.0,>=0.16.4->tokenizers>=0.13.2->chromadb==0.4.15->-r /content/AgenticAI_GenAIHack/requirements_agenti_ai.txt (line 2)) (3.15.4)\n",
            "Requirement already satisfied: fsspec>=2023.5.0 in /usr/local/lib/python3.10/dist-packages (from huggingface-hub<1.0,>=0.16.4->tokenizers>=0.13.2->chromadb==0.4.15->-r /content/AgenticAI_GenAIHack/requirements_agenti_ai.txt (line 2)) (2024.6.1)\n",
            "Requirement already satisfied: zipp>=0.5 in /usr/local/lib/python3.10/dist-packages (from importlib-metadata<=8.0.0,>=6.0->opentelemetry-api>=1.2.0->chromadb==0.4.15->-r /content/AgenticAI_GenAIHack/requirements_agenti_ai.txt (line 2)) (3.19.2)\n",
            "Requirement already satisfied: MarkupSafe>=2.0 in /usr/local/lib/python3.10/dist-packages (from jinja2>=2.11.2->fastapi>=0.95.2->chromadb==0.4.15->-r /content/AgenticAI_GenAIHack/requirements_agenti_ai.txt (line 2)) (2.1.5)\n",
            "Requirement already satisfied: jsonpointer>=1.9 in /usr/local/lib/python3.10/dist-packages (from jsonpatch<2.0,>=1.33->langchain-core<0.3.0,>=0.2.20->langchain==0.2.9->-r /content/AgenticAI_GenAIHack/requirements_agenti_ai.txt (line 4)) (3.0.0)\n",
            "Requirement already satisfied: markdown-it-py>=2.2.0 in /usr/local/lib/python3.10/dist-packages (from rich>=10.11.0->typer>=0.9.0->chromadb==0.4.15->-r /content/AgenticAI_GenAIHack/requirements_agenti_ai.txt (line 2)) (3.0.0)\n",
            "Requirement already satisfied: pygments<3.0.0,>=2.13.0 in /usr/local/lib/python3.10/dist-packages (from rich>=10.11.0->typer>=0.9.0->chromadb==0.4.15->-r /content/AgenticAI_GenAIHack/requirements_agenti_ai.txt (line 2)) (2.16.1)\n",
            "Requirement already satisfied: humanfriendly>=9.1 in /usr/local/lib/python3.10/dist-packages (from coloredlogs->onnxruntime>=1.14.1->chromadb==0.4.15->-r /content/AgenticAI_GenAIHack/requirements_agenti_ai.txt (line 2)) (10.0)\n",
            "Requirement already satisfied: mpmath<1.4,>=1.1.0 in /usr/local/lib/python3.10/dist-packages (from sympy->onnxruntime>=1.14.1->chromadb==0.4.15->-r /content/AgenticAI_GenAIHack/requirements_agenti_ai.txt (line 2)) (1.3.0)\n",
            "Requirement already satisfied: mdurl~=0.1 in /usr/local/lib/python3.10/dist-packages (from markdown-it-py>=2.2.0->rich>=10.11.0->typer>=0.9.0->chromadb==0.4.15->-r /content/AgenticAI_GenAIHack/requirements_agenti_ai.txt (line 2)) (0.1.2)\n",
            "Requirement already satisfied: pyasn1<0.7.0,>=0.4.6 in /usr/local/lib/python3.10/dist-packages (from pyasn1-modules>=0.2.1->google-auth>=1.0.1->kubernetes>=28.1.0->chromadb==0.4.15->-r /content/AgenticAI_GenAIHack/requirements_agenti_ai.txt (line 2)) (0.6.0)\n",
            "Requirement already satisfied: mypy-extensions>=0.3.0 in /usr/local/lib/python3.10/dist-packages (from typing-inspect<1,>=0.4.0->dataclasses-json<0.7,>=0.5.7->langchain-community<0.3.0,>=0.2.6->langchain-experimental==0.0.62->-r /content/AgenticAI_GenAIHack/requirements_agenti_ai.txt (line 5)) (1.0.0)\n"
          ]
        }
      ]
    },
    {
      "cell_type": "code",
      "source": [
        "import os\n",
        "os.chdir(\"/content/AgenticAI_GenAIHack\")"
      ],
      "metadata": {
        "id": "fOPlwCtRiyW5"
      },
      "id": "fOPlwCtRiyW5",
      "execution_count": null,
      "outputs": []
    },
    {
      "cell_type": "code",
      "execution_count": null,
      "id": "9dee900e-7a1c-48f2-b2b9-c45296e1f67e",
      "metadata": {
        "tags": [],
        "id": "9dee900e-7a1c-48f2-b2b9-c45296e1f67e"
      },
      "outputs": [],
      "source": [
        "import warnings\n",
        "warnings.filterwarnings(\"ignore\")\n",
        "from typing import Literal\n",
        "from typing import List, Sequence\n",
        "import random\n",
        "import numpy as np\n",
        "from bs4 import BeautifulSoup\n",
        "import functools, operator, requests, os, json\n",
        "from langchain.agents import AgentExecutor, create_openai_tools_agent\n",
        "from langchain_core.messages import BaseMessage, HumanMessage\n",
        "\n",
        "from langchain.output_parsers.openai_functions import JsonOutputFunctionsParser\n",
        "from langchain_core.prompts import ChatPromptTemplate, MessagesPlaceholder, PromptTemplate\n",
        "from langgraph.graph import StateGraph, END\n",
        "from langchain.tools import tool\n",
        "from typing import Annotated, Any, Dict, List, Optional, Sequence, TypedDict\n",
        "from IPython.display import Markdown\n",
        "\n",
        "from langchain.text_splitter import RecursiveCharacterTextSplitter\n",
        "from langchain_community.document_loaders import WebBaseLoader\n",
        "from langchain_community.vectorstores import Chroma\n",
        "from langchain_openai import OpenAIEmbeddings\n",
        "from langchain.tools.retriever import create_retriever_tool\n",
        "from langchain_community.utilities import BingSearchAPIWrapper\n",
        "from langchain.agents import Tool\n",
        "from langgraph.checkpoint.sqlite import SqliteSaver\n",
        "from langchain_community.callbacks import get_openai_callback\n",
        "\n",
        "from langchain_core.output_parsers import PydanticOutputParser\n",
        "from langchain_core.pydantic_v1 import BaseModel, Field, validator\n",
        "from langchain_core.output_parsers import JsonOutputParser\n",
        "import ast\n",
        "import re\n",
        "\n",
        "from prompts import *\n",
        "from utils import create_MVR, create_qa_agent, create_chat_agent"
      ]
    },
    {
      "cell_type": "markdown",
      "id": "7b0657c0-3356-40c1-a036-37989dc82268",
      "metadata": {
        "id": "7b0657c0-3356-40c1-a036-37989dc82268"
      },
      "source": [
        "#### Load environment variables"
      ]
    },
    {
      "cell_type": "code",
      "execution_count": null,
      "id": "a86c9ff2-5905-49bb-ae97-d1f08d55af96",
      "metadata": {
        "tags": [],
        "id": "a86c9ff2-5905-49bb-ae97-d1f08d55af96"
      },
      "outputs": [],
      "source": [
        "import os\n",
        "from dotenv import load_dotenv\n",
        "load_dotenv(dotenv_path=\"/content/AgenticAI_GenAIHack/.env\")\n",
        "\n",
        "EMBEDDING_DEPLOYMENT_NAME = os.getenv('EMBEDDING_3_DEPLOYMENT_NAME')\n",
        "EMBEDDING_API_KEY = os.getenv('EMBEDDING_3_API_KEY')\n",
        "EMBEDDING_API_BASE = os.getenv('EMBEDDING_3_API_BASE')\n",
        "\n",
        "GPT4_TURBO_DEPLOYMENT_NAME = os.getenv('GPT4_TURBO_DEPLOYMENT_NAME')\n",
        "GPT4_OMNI_DEPLOYMENT_NAME = os.getenv('GPT4o_DEPLOYMENT_NAME')\n",
        "\n",
        "API_KEY = os.getenv('sweden_API_KEY')\n",
        "API_BASE = os.getenv('sweden_API_BASE')\n",
        "API_TYPE = os.getenv('API_TYPE')\n",
        "API_VERSION = os.getenv('API_VERSION')"
      ]
    },
    {
      "cell_type": "markdown",
      "id": "9a70f67a-75f1-4510-a7c3-293d60c63e23",
      "metadata": {
        "id": "9a70f67a-75f1-4510-a7c3-293d60c63e23"
      },
      "source": [
        "#### Define LLM"
      ]
    },
    {
      "cell_type": "code",
      "execution_count": null,
      "id": "501ecc9a-5333-45d6-8f0a-99f5006b485e",
      "metadata": {
        "tags": [],
        "id": "501ecc9a-5333-45d6-8f0a-99f5006b485e"
      },
      "outputs": [],
      "source": [
        "from langchain_openai import AzureChatOpenAI\n",
        "from langchain_openai import AzureOpenAIEmbeddings\n",
        "\n",
        "embeddings = AzureOpenAIEmbeddings(\n",
        "    azure_deployment=EMBEDDING_DEPLOYMENT_NAME,\n",
        "    openai_api_key=EMBEDDING_API_KEY,\n",
        "    azure_endpoint=EMBEDDING_API_BASE,\n",
        "    openai_api_version=API_VERSION,\n",
        ")\n",
        "\n",
        "llm = AzureChatOpenAI(\n",
        "        azure_endpoint=API_BASE,\n",
        "        openai_api_version=API_VERSION,\n",
        "        azure_deployment=GPT4_OMNI_DEPLOYMENT_NAME,\n",
        "        openai_api_key=API_KEY,\n",
        "        openai_api_type=API_TYPE,\n",
        "        temperature=0)"
      ]
    },
    {
      "cell_type": "markdown",
      "id": "c6e31069-d8df-43f6-95d8-3b3ea79e872a",
      "metadata": {
        "id": "c6e31069-d8df-43f6-95d8-3b3ea79e872a"
      },
      "source": [
        "### Define Tools"
      ]
    },
    {
      "cell_type": "code",
      "source": [
        "from google.colab import drive\n",
        "drive.mount('/content/drive')"
      ],
      "metadata": {
        "colab": {
          "base_uri": "https://localhost:8080/"
        },
        "id": "CLiuj-GMGvo0",
        "outputId": "9e1529b5-d102-4fdc-af7c-385de47daae2"
      },
      "id": "CLiuj-GMGvo0",
      "execution_count": null,
      "outputs": [
        {
          "output_type": "stream",
          "name": "stdout",
          "text": [
            "Drive already mounted at /content/drive; to attempt to forcibly remount, call drive.mount(\"/content/drive\", force_remount=True).\n"
          ]
        }
      ]
    },
    {
      "cell_type": "code",
      "execution_count": null,
      "id": "188a96af-fcba-440c-9383-c800ef0f739d",
      "metadata": {
        "tags": [],
        "id": "188a96af-fcba-440c-9383-c800ef0f739d"
      },
      "outputs": [],
      "source": [
        "## Retriever Creation\n",
        "\n",
        "vector_store_exists = True\n",
        "\n",
        "_IFRS_ret = create_MVR('IFRS.pickle', embeddings, \"IFRS\", vectorstore_exists=vector_store_exists, k=7)\n",
        "\n",
        "_annual_reports_ret = create_MVR('annual_reports.pickle', embeddings, \"ANNUAL_REPORTS\", vectorstore_exists=vector_store_exists, k=7)\n",
        "\n",
        "_audit_ret = create_MVR('kpmg.pickle', embeddings, \"KPMG\", vectorstore_exists=vector_store_exists, k=7)\n",
        "\n",
        "## Tool Creation\n",
        "\n",
        "IFRS_tool = create_retriever_tool(retriever=_IFRS_ret,\n",
        "                                  name = 'IFRS_Retriever',\n",
        "                                  description=\"Use this tool to answer questions related to IFRS which is International Financial Reporting Standards.\")\n",
        "\n",
        "ANNUAL_REPORTS_tool = create_retriever_tool(retriever = _annual_reports_ret,\n",
        "                                        name = \"ANNUAL_REPORTS_RETRIEVER\",\n",
        "                                        description = \"Use this tool when you need to answer questions related to annual reports, 10K reports or 20F reports of Novartis and it's competitors ('Roche','GSK','Bayer','AstraZeneca','Sanofi', 'Amgen','Abbvie', 'BMS' - Bristol Myers Squibb, 'Gilead', 'Eli Lilly', 'Merck', 'Pfizer', 'Takeda','Johnson&Johnson', 'novo-nordisk'). If no specific year is mentioned in the question, always look for latest available year\")\n",
        "\n",
        "AUDIT_tool = create_retriever_tool(retriever=_audit_ret,\n",
        "                              name = 'AUDIT_Retriever',\n",
        "                              description=\"Use this tool to answer questions related to the Auditor(KPMG, EY, PWC) Insights on IFRS which is International Financial Reporting Standards\")"
      ]
    },
    {
      "cell_type": "code",
      "execution_count": null,
      "id": "9ca49edf-26a4-4019-80c1-4fe9b18152f8",
      "metadata": {
        "tags": [],
        "id": "9ca49edf-26a4-4019-80c1-4fe9b18152f8"
      },
      "outputs": [],
      "source": [
        "class FinanceCheck_class(BaseModel):\n",
        "    \"\"\"Binary score for finance check on the user question.\"\"\"\n",
        "    binary_score: str = Field(description=\"Given a user question, return 'Yes' if is related to Finance/Accounting/Reporting else 'No'\")\n",
        "\n",
        "\n",
        "def get_finance_check(_llm, META_RESPONSE_PROMPT, state):\n",
        "    parser = PydanticOutputParser(pydantic_object=FinanceCheck_class)\n",
        "    prompt = PromptTemplate(template=META_RESPONSE_PROMPT,\n",
        "                            input_variables=[\"question\"],\n",
        "                            partial_variables={\"format_instructions\": parser.get_format_instructions()},\n",
        "                           )\n",
        "    prompt_and_model = prompt | llm\n",
        "\n",
        "    with get_openai_callback() as cb:\n",
        "        output = prompt_and_model.invoke({\"question\": question})\n",
        "        result = parser.invoke(output)\n",
        "    return result.binary_score\n",
        "\n",
        "\n",
        "def finance_check_node(state):\n",
        "    \"\"\"Use this tool to check whether the user question is about finance or general greeting.\"\"\"\n",
        "    observation = get_finance_check(llm, META_RESPONSE_PROMPT_DETAILED, state['question'])\n",
        "\n",
        "    print(\"------ENTERING: FINANCE CHECK NODE------\")\n",
        "    print(f\"------OBSERVATION: {observation}------\")\n",
        "\n",
        "    return {\"finance_check\": observation}\n",
        "\n",
        "\n",
        "def generic_response_node(state):\n",
        "    \"\"\"Use this tool to answer user generic questions\"\"\"\n",
        "    print(\"------ENTERING: GENERIC RESPONSE NODE------\")\n",
        "\n",
        "    answer = llm.invoke(META_ANSWER_PROMPT.format(question=question))\n",
        "\n",
        "    print(f\"------GENERIC RESPONSE: {answer}------\")\n",
        "    return {\"generic_response\": answer, \"final_answer\": answer}\n",
        "\n",
        "\n",
        "class RouteQuery_class(BaseModel):\n",
        "    \"\"\"Route a user query to the most relevant datasource.\"\"\"\n",
        "    datasource: Literal[\"FINANCE\", \"WEB\"] = Field(description=\"Given a user question choose to route it to WEB or FRA.\")\n",
        "\n",
        "def get_query_rerouter_check(llm, QUERY_REROUTER_PROMPT, state):\n",
        "    parser = PydanticOutputParser(pydantic_object=RouteQuery_class)\n",
        "\n",
        "    prompt = PromptTemplate(template=QUERY_REROUTER_PROMPT,\n",
        "                            input_variables=[\"question\"],\n",
        "                            partial_variables={\"format_instructions\": parser.get_format_instructions()},\n",
        "                           )\n",
        "    prompt_and_model = prompt | llm\n",
        "\n",
        "    output = prompt_and_model.invoke({\"question\": question})\n",
        "    query_rerouter_check = parser.invoke(output)\n",
        "\n",
        "    return query_rerouter_check.datasource\n",
        "\n",
        "\n",
        "def query_rerouter_node(state):\n",
        "    \"\"\"Use this tool to check whether the user question needs an internet search to answer\"\"\"\n",
        "    print(\"------ENTERING: QUERY REROUTER NODE------\")\n",
        "    observation = get_query_rerouter_check(llm, QUERY_REROUTER_PROMPT_DETAILED, state['question'])\n",
        "\n",
        "    print(f\"------OBSERVATION: {observation}------\")\n",
        "    return {\"query_rerouter_check\": observation}\n",
        "\n",
        "\n",
        "\n",
        "def human_check_node(state):\n",
        "    user_input = input(\"The answer is not available from the private data sources! Do you want me to search over the internet to answer?\")\n",
        "    return {\"human_response\": user_input.lower()}\n",
        "\n",
        "\n",
        "# Create a tool to processes content from a webpage\n",
        "@tool(\"process_content\", return_direct=False)\n",
        "def process_content(url: str, chunk_size: int = 10000) -> str:\n",
        "    \"\"\"\n",
        "    Use this tool to extract content from HTML pages and chunk it recursively.\n",
        "\n",
        "    Args:\n",
        "      url (str): The URL of the HTML page to process.\n",
        "      chunk_size (int, optional): The maximum size of each text chunk. Defaults to 100000.\n",
        "\n",
        "    Returns:\n",
        "      str: The chunked text content extracted from the HTML page.\n",
        "    \"\"\"\n",
        "    response = requests.get(url)\n",
        "    soup = BeautifulSoup(response.content, 'html.parser',from_encoding=\"iso-8859-1\")\n",
        "    text = soup.get_text()\n",
        "\n",
        "    def chunk_text(text, chunk_size):\n",
        "        if len(text) <= chunk_size:\n",
        "            return text\n",
        "        else:\n",
        "            midpoint = len(text) // 2\n",
        "            left_chunk = chunk_text(text[:midpoint], chunk_size)\n",
        "            right_chunk = chunk_text(text[midpoint:], chunk_size)\n",
        "            return left_chunk + \"\\n\" + right_chunk\n",
        "\n",
        "        chunks = chunk_text(text, chunk_size)\n",
        "        return chunks\n",
        "\n",
        "\n",
        "@tool(\"bing_search\", return_direct=False)\n",
        "def bing_search(query: str) -> str:\n",
        "    \"\"\"Use this tool when you need to answer questions related to current events and latest happenings\"\"\"\n",
        "    bing_search = BingSearchAPIWrapper()\n",
        "    results = bing_search.results(query, 5)\n",
        "    return results if results else \"No results found.\"\n",
        "\n",
        "\n",
        "def get_web_search_answer(state):\n",
        "    tools = [bing_search, process_content]\n",
        "\n",
        "    generate_prompt = \"\"\"You are a web searcher trained to retrieve the current events from the internet. Search the internet for information.\n",
        "                            Generate the best answer possible for the user's request with mandatory mention of the sources and the hyperlinks for the sources wherever it is possible.\n",
        "                            Think step by step. Breakdown the question if it has multiple asks and finally merge your results.\n",
        "                            Always crave for the best version of answer.\n",
        "                            - **Always** before giving the final answer, try another method.Then reflect on the answers of the two methods you did and ask yourself if it answers correctly the original question. If you are not sure, try another method.\n",
        "                            - If the methods tried do not give the same result, reflect and try again until you have two methods that have the same result.\n",
        "                            - If you are sure of the correct answer, create a beautiful and thorough response.\n",
        "                            ** DO NOT MAKE UP AN ANSWER OR USE YOUR PRIOR KNOWLEDGE, ONLY USE THE RESULTS OF THE CALCULATIONS YOU HAVE DONE **\n",
        "                            PLEASE NOTE THAT IF NO SPECIFIC YEAR MENTIONED IN THE QUESTION, ALWAYS LOOK FOR THE LATEST YEAR.\n",
        "                            \"\"\"\n",
        "\n",
        "    generate_agent = create_qa_agent(llm, tools, generate_prompt, verbose=False)\n",
        "    answer = generate_agent.invoke({\"input\": state['question']})\n",
        "    return answer['output']\n",
        "\n",
        "\n",
        "def web_search_node(state):\n",
        "    \"\"\"Use this tool when you need to answer questions related to current events and latest happenings\"\"\"\n",
        "    print(\"------ENTERING: WEB SEARCH NODE------\")\n",
        "    ## Write code here to get answer\n",
        "    response = get_web_search_answer(state)\n",
        "    print(f\"------WEB SEARCH ANSWER: {response}------\")\n",
        "    return {\"web_response\": response, \"final_answer\": response}\n",
        "\n",
        "\n",
        "def get_source_detector_check(llm, SOURCE_DETECTOR_PROMPT, selected_source_list, question):\n",
        "    parser = JsonOutputParser()\n",
        "    prompt = PromptTemplate(template=SOURCE_DETECTOR_PROMPT,\n",
        "                            input_variables=[\"question\"],\n",
        "                            partial_variables={\"role_based_sources\": selected_source_list , \"format_instructions\": parser.get_format_instructions()},\n",
        "                           )\n",
        "    chain = prompt | llm | parser\n",
        "    source_detector_check = chain.invoke({\"question\": question})\n",
        "\n",
        "    return source_detector_check['Output']\n",
        "\n",
        "\n",
        "def source_detector_node(state):\n",
        "    \"\"\"Use this tool to detect the sources needed for the question to answer\"\"\"\n",
        "    print(\"------ENTERING: SOURCE DETECTOR NODE------\")\n",
        "\n",
        "    selected_source_list = [\"ifrs_answer_node\", \"annual_reports_answer_node\", \"auditor_guidance_answer_node\"]\n",
        "    sources_detected = get_source_detector_check(llm, SOURCE_DETECTOR_PROMPT_DETAILED, selected_source_list, state['question'])\n",
        "    print(f\"------SOURCES DETECTED: {list(set(sources_detected))}------\")\n",
        "    return {\"source_detector_check\": list(set(sources_detected))}\n",
        "\n",
        "\n",
        "def ifrs_answer_node(state):\n",
        "    \"\"\"Use this tool to answer ifrs related questions\"\"\"\n",
        "    print(\"------ENTERING: IFRS ANSWER NODE------\")\n",
        "\n",
        "    tools = [IFRS_tool]\n",
        "    generate_agent = create_qa_agent(llm, tools, IFRS_di_prompt, verbose=False)\n",
        "    answer = generate_agent.invoke({\"input\":state['question']})\n",
        "    final_answer = f\"\"\"**IFRS ANSWER:** {answer['output']} \\n\\n\"\"\"\n",
        "    display(Markdown(f\"\"\"<font color=\"red\">{final_answer}</font>\"\"\"))\n",
        "    return {\"ifrs_response\": answer['output'], 'final_answer':final_answer}\n",
        "\n",
        "\n",
        "def auditor_guidance_answer_node(state):\n",
        "    \"\"\"Use this tool to answer audit related questions\"\"\"\n",
        "    print(\"------ENTERING: AUDITOR GUIDANCE ANSWER NODE------\")\n",
        "    tools = [AUDIT_tool]\n",
        "    generate_agent = create_qa_agent(llm, tools, KPMG_EY_PwC_prompt, verbose=False)\n",
        "    answer = generate_agent.invoke({\"input\":state['question']})\n",
        "    final_answer = f\"\"\"**AUDITOR GUIDANCE ANSWER:** {answer['output']} \\n\\n\"\"\"\n",
        "    display(Markdown(f\"\"\"<font color=\"red\">{final_answer}</font>\"\"\"))\n",
        "    return {\"audit_response\": answer['output'], 'final_answer':final_answer}\n",
        "\n",
        "\n",
        "def annual_reports_answer_node(state):\n",
        "    \"\"\"Use this tool to answer annual reports related questions\"\"\"\n",
        "    print(\"------ENTERING: ANNUAL REPORTS ANSWER NODE------\")\n",
        "    all_competitors = ['Roche','GSK','Bayer','AstraZeneca','Sanofi', 'Amgen', 'Biogen', 'Abbvie', 'BMS/Bristol Myers Squibb', 'Gilead', 'Eli Lilly', 'Merck', 'Pfizer', 'Takeda','Johnson&Johnson', 'novo-nordisk']\n",
        "\n",
        "    competitors = ['Roche', 'Sanofi', 'Bayer', 'GSK', 'AstraZeneca']\n",
        "    web_tool = bing_search\n",
        "\n",
        "    tools = [ANNUAL_REPORTS_tool, web_tool]\n",
        "    generate_agent = create_qa_agent(llm, tools, AR_prompt, verbose=False)\n",
        "    answer = generate_agent.invoke({\"input\":state['question'], 'all_competitors':all_competitors, 'top5_competitors':competitors })\n",
        "    final_answer = f\"\"\"**ANNUAL REPORTS ANSWER:** {answer['output']} \\n\\n\"\"\"\n",
        "    display(Markdown(f\"\"\"<font color=\"red\">{final_answer}</font>\"\"\"))\n",
        "    return {\"annual_reports_response\": answer['output'], 'final_answer':final_answer}\n",
        "\n",
        "\n",
        "def overall_status_check_node(state):\n",
        "    \"\"\"Use this tool to check the overall status and update the config settings\"\"\"\n",
        "    print(\"------ENTERING: OVERALL STATUS CHECK NODE------\")\n",
        "    final_answer = state['final_answer']\n",
        "    observation = \"Completed\"\n",
        "    print(\"-------------------------------- {} --------------------------------\".format(red(\"Final Answer\", ['bold'])))\n",
        "    display(Markdown(f\"\"\"**FINAL ANSWER:**\\n\\n <font color=\"red\">{final_answer}</font>\"\"\"))\n",
        "\n",
        "    return {\"overall_status_check\": observation, 'final_answer':final_answer}"
      ]
    },
    {
      "cell_type": "code",
      "execution_count": null,
      "id": "d13fac97-df76-44e4-b313-279bbc8f7a06",
      "metadata": {
        "tags": [],
        "id": "d13fac97-df76-44e4-b313-279bbc8f7a06"
      },
      "outputs": [],
      "source": [
        "from langgraph.graph import StateGraph\n",
        "from typing_extensions import TypedDict\n",
        "from typing import Annotated, List\n",
        "from langchain_core.messages import AnyMessage\n",
        "import operator\n",
        "\n",
        "\n",
        "class GraphState(TypedDict):\n",
        "    \"\"\"\n",
        "    Represents the state of our graph.\n",
        "\n",
        "    Attributes:\n",
        "        question: question\n",
        "        finance_check: whether user question needs finance answer or generic answer\n",
        "        generic_response: generic answer\n",
        "        query_rerouter_check: whether user question needs web search or fra sources to answer\n",
        "        web_search: web answer\n",
        "        source_detector: List of fra sources applicable for answering the user question\n",
        "        ifrs_answer: ifrs answer\n",
        "        annual_reports_answer: annual reports answer\n",
        "        fm_answer: foundational model answer\n",
        "        unified_answer: consistency check and unified answer\n",
        "    \"\"\"\n",
        "\n",
        "    operation_id: int\n",
        "    question: str\n",
        "    final_answer: Annotated[str, operator.add]\n",
        "\n",
        "    finance_check: str\n",
        "    query_rerouter_check: str\n",
        "    source_detector_check: List[str]\n",
        "    overall_status_check: str\n",
        "\n",
        "    generic_response: str\n",
        "    human_response: str\n",
        "    web_response: str\n",
        "    ifrs_response: str\n",
        "    annual_reports_response: str\n",
        "    audit_response: str\n",
        "    intermediate_steps: Annotated[list[AnyMessage], operator.add]\n",
        "\n",
        "\n",
        "\n",
        "## Main Graph\n",
        "\n",
        "builder = StateGraph(GraphState)\n",
        "builder.add_node(\"finance_check_node\", finance_check_node)\n",
        "builder.add_node(\"generic_response_node\", generic_response_node)\n",
        "builder.add_node(\"query_rerouter_node\", query_rerouter_node)\n",
        "builder.add_node(\"human_check_node\", human_check_node)\n",
        "builder.add_node(\"web_search_node\", web_search_node)\n",
        "builder.add_node(\"source_detector_node\", source_detector_node)\n",
        "builder.add_node(\"ifrs_answer_node\", ifrs_answer_node)\n",
        "builder.add_node(\"annual_reports_answer_node\", annual_reports_answer_node)\n",
        "builder.add_node(\"auditor_guidance_answer_node\", auditor_guidance_answer_node)\n",
        "builder.add_node(\"overall_status_check_node\", overall_status_check_node)\n",
        "\n",
        "builder.set_entry_point(\"finance_check_node\")\n",
        "\n",
        "def finance_check_edge(state):\n",
        "    if state[\"finance_check\"] == \"Yes\":\n",
        "        print(\"------DECISION: INVOKE QUERY REROUTER NODE------\")\n",
        "        return \"query_rerouter_node\"\n",
        "    else:\n",
        "        print(\"------DECISION: INVOKE GENERIC RESPONSE NODE------\")\n",
        "        return \"generic_response_node\"\n",
        "\n",
        "\n",
        "finance_check_possible_nodes = [\"query_rerouter_node\", \"generic_response_node\"]\n",
        "builder.add_conditional_edges(\"finance_check_node\", finance_check_edge, finance_check_possible_nodes)\n",
        "builder.add_edge(\"generic_response_node\", \"overall_status_check_node\")\n",
        "\n",
        "\n",
        "def query_rerouter_edge(state):\n",
        "    if state[\"query_rerouter_check\"] == \"FINANCE\":\n",
        "        print(\"------DECISION: INVOKE SOURCE DETECTOR NODE------\")\n",
        "        return \"source_detector_node\"\n",
        "    else:\n",
        "        print(\"------DECISION: CHECK WITH USER TO INVOKE WEB SEARCH NODE------\")\n",
        "        return \"human_check_node\"\n",
        "\n",
        "\n",
        "query_rerouter_possible_nodes = [\"human_check_node\", \"source_detector_node\"]\n",
        "builder.add_conditional_edges(\"query_rerouter_node\", query_rerouter_edge, query_rerouter_possible_nodes)\n",
        "\n",
        "\n",
        "def human_check_edge(state):\n",
        "    if state['human_response'] == \"yes\":\n",
        "        print(\"------DECISION: INVOKE WEB SEARCH NODE------\")\n",
        "        return \"web_search_node\"\n",
        "    else:\n",
        "        print(\"------Your question cannot be answered due to lack of information from private data sources, please ask a different question!------\")\n",
        "        return \"overall_status_check_node\"\n",
        "\n",
        "\n",
        "builder.add_conditional_edges(\"human_check_node\", human_check_edge, [\"web_search_node\", \"overall_status_check_node\"])\n",
        "\n",
        "builder.add_edge(\"web_search_node\", \"overall_status_check_node\")\n",
        "\n",
        "\n",
        "def source_detector_edge(state) -> list:\n",
        "    return state[\"source_detector_check\"]\n",
        "\n",
        "\n",
        "individual_answer_nodes = [\"annual_reports_answer_node\", \"ifrs_answer_node\", \"auditor_guidance_answer_node\"]\n",
        "builder.add_conditional_edges(\"source_detector_node\", source_detector_edge, individual_answer_nodes)\n",
        "\n",
        "for node in individual_answer_nodes:\n",
        "    builder.add_edge(node, \"overall_status_check_node\")\n",
        "\n",
        "builder.set_finish_point(\"overall_status_check_node\")\n",
        "\n",
        "memory = SqliteSaver.from_conn_string(\":memory:\")\n",
        "graph = builder.compile()"
      ]
    },
    {
      "cell_type": "code",
      "execution_count": null,
      "id": "a04f9819-b5eb-4c89-9987-7907b712e951",
      "metadata": {
        "tags": [],
        "id": "a04f9819-b5eb-4c89-9987-7907b712e951",
        "outputId": "f5bf6e4a-91ee-4a5b-f73c-27e926b77adb",
        "colab": {
          "base_uri": "https://localhost:8080/",
          "height": 546
        }
      },
      "outputs": [
        {
          "output_type": "display_data",
          "data": {
            "image/jpeg": "[encoded data removed]",
            "text/plain": [
              "<IPython.core.display.Image object>"
            ]
          },
          "metadata": {}
        }
      ],
      "source": [
        "from IPython.display import Image, display\n",
        "\n",
        "display(Image(graph.get_graph().draw_mermaid_png()))"
      ]
    },
    {
      "cell_type": "code",
      "execution_count": null,
      "id": "969ea3bb-4b84-45a5-b1e5-41f2225e365e",
      "metadata": {
        "tags": [],
        "id": "969ea3bb-4b84-45a5-b1e5-41f2225e365e"
      },
      "outputs": [],
      "source": [
        "import time\n",
        "from simple_colors import *\n",
        "\n",
        "def run_answer(question, t):\n",
        "    inputs = {\"question\": question, \"operation_id\": 123456}\n",
        "    thread = {\"configurable\": {\"thread_id\": str(t)}}\n",
        "    start_time = time.time()\n",
        "    for output in graph.stream(inputs, thread, stream_mode='values'):\n",
        "#         print(blue(output, ['bold']))\n",
        "        pass\n",
        "    ex_time = time.time() - start_time\n",
        "    print(\"--------------------------------------------------------\")\n",
        "    print(red(f\"Total Time Taken - [{round(ex_time, 2)}]\", ['bold']))\n",
        "    print(\"--------------------------------------------------------\")\n",
        "    return"
      ]
    },
    {
      "cell_type": "code",
      "execution_count": null,
      "id": "093f9654-f3f0-4378-9930-7f87f6889470",
      "metadata": {
        "tags": [],
        "id": "093f9654-f3f0-4378-9930-7f87f6889470",
        "outputId": "1f62fd2d-b1ea-47b6-aca8-4792186464c8",
        "colab": {
          "base_uri": "https://localhost:8080/",
          "height": 282
        }
      },
      "outputs": [
        {
          "output_type": "stream",
          "name": "stdout",
          "text": [
            "------ENTERING: FINANCE CHECK NODE------\n",
            "------OBSERVATION: Yes------\n",
            "------DECISION: INVOKE QUERY REROUTER NODE------\n",
            "------ENTERING: QUERY REROUTER NODE------\n",
            "------OBSERVATION: WEB------\n",
            "------DECISION: CHECK WITH USER TO INVOKE WEB SEARCH NODE------\n",
            "The answer is not available from the private data sources! Do you want me to search over the internet to answer?\n",
            "------Your question cannot be answered due to lack of information from private data sources, please ask a different question!------\n",
            "------ENTERING: OVERALL STATUS CHECK NODE------\n",
            "-------------------------------- \u001b[1;31mFinal Answer\u001b[0m --------------------------------\n"
          ]
        },
        {
          "output_type": "display_data",
          "data": {
            "text/plain": [
              "<IPython.core.display.Markdown object>"
            ],
            "text/markdown": "**FINAL ANSWER:**\n\n <font color=\"red\"></font>"
          },
          "metadata": {}
        },
        {
          "output_type": "stream",
          "name": "stdout",
          "text": [
            "--------------------------------------------------------\n",
            "\u001b[1;31mTotal Time Taken - [2.97]\u001b[0m\n",
            "--------------------------------------------------------\n"
          ]
        }
      ],
      "source": [
        "question = \"What is the income of bayer in 2024 Q1?\"\n",
        "run_answer(question, 89)"
      ]
    },
    {
      "cell_type": "code",
      "execution_count": null,
      "id": "b02e06eb-1327-43c3-9108-d8cb1471bc4b",
      "metadata": {
        "tags": [],
        "id": "b02e06eb-1327-43c3-9108-d8cb1471bc4b",
        "outputId": "178136a9-9ffe-4359-be9a-55cec688c370",
        "colab": {
          "base_uri": "https://localhost:8080/",
          "height": 970
        }
      },
      "outputs": [
        {
          "output_type": "stream",
          "name": "stdout",
          "text": [
            "------ENTERING: FINANCE CHECK NODE------\n",
            "------OBSERVATION: Yes------\n",
            "------DECISION: INVOKE QUERY REROUTER NODE------\n",
            "------ENTERING: QUERY REROUTER NODE------\n",
            "------OBSERVATION: FINANCE------\n",
            "------DECISION: INVOKE SOURCE DETECTOR NODE------\n",
            "------ENTERING: SOURCE DETECTOR NODE------\n",
            "------SOURCES DETECTED: ['ifrs_answer_node']------\n",
            "------ENTERING: IFRS ANSWER NODE------\n"
          ]
        },
        {
          "output_type": "display_data",
          "data": {
            "text/plain": [
              "<IPython.core.display.Markdown object>"
            ],
            "text/markdown": "<font color=\"red\">**IFRS ANSWER:** As per IFRS 16, the guidance for identifying a lease is as follows:\n\n- **Assessment at Inception**: At the inception of a contract, an entity must assess whether the contract is, or contains, a lease. A contract is considered a lease if it conveys the right to control the use of an identified asset for a period of time in exchange for consideration (IFRS 16, paragraph 9).\n\n- **Right to Control**: To determine if a contract conveys the right to control the use of an identified asset, the entity must assess whether, throughout the period of use, the customer has both:\n  - The right to obtain substantially all of the economic benefits from the use of the identified asset (paragraphs B21-B23).\n  - The right to direct the use of the identified asset (paragraphs B24-B30) (IFRS 16, paragraph B9).\n\n- **Identified Asset**: An asset is typically identified by being explicitly specified in a contract. However, it can also be identified implicitly at the time the asset is made available for use by the customer (IFRS 16, paragraph B13).\n\n- **Reassessment**: An entity must reassess whether a contract is, or contains, a lease only if the terms and conditions of the contract are changed (IFRS 16, paragraph 11).\n\n- **Separating Components**: For a contract that is, or contains, a lease, an entity must account for each lease component within the contract separately from non-lease components, unless the practical expedient in paragraph 15 is applied (IFRS 16, paragraph 12).\n\n- **Flowchart for Assessment**: A flowchart is provided in IFRS 16 to assist entities in making the assessment of whether a contract is, or contains, a lease (IFRS 16, paragraph B31).\n\nThese steps ensure that entities correctly identify and account for leases in accordance with IFRS 16. \n\n</font>"
          },
          "metadata": {}
        },
        {
          "output_type": "stream",
          "name": "stdout",
          "text": [
            "------ENTERING: OVERALL STATUS CHECK NODE------\n",
            "-------------------------------- \u001b[1;31mFinal Answer\u001b[0m --------------------------------\n"
          ]
        },
        {
          "output_type": "display_data",
          "data": {
            "text/plain": [
              "<IPython.core.display.Markdown object>"
            ],
            "text/markdown": "**FINAL ANSWER:**\n\n <font color=\"red\">**IFRS ANSWER:** As per IFRS 16, the guidance for identifying a lease is as follows:\n\n- **Assessment at Inception**: At the inception of a contract, an entity must assess whether the contract is, or contains, a lease. A contract is considered a lease if it conveys the right to control the use of an identified asset for a period of time in exchange for consideration (IFRS 16, paragraph 9).\n\n- **Right to Control**: To determine if a contract conveys the right to control the use of an identified asset, the entity must assess whether, throughout the period of use, the customer has both:\n  - The right to obtain substantially all of the economic benefits from the use of the identified asset (paragraphs B21-B23).\n  - The right to direct the use of the identified asset (paragraphs B24-B30) (IFRS 16, paragraph B9).\n\n- **Identified Asset**: An asset is typically identified by being explicitly specified in a contract. However, it can also be identified implicitly at the time the asset is made available for use by the customer (IFRS 16, paragraph B13).\n\n- **Reassessment**: An entity must reassess whether a contract is, or contains, a lease only if the terms and conditions of the contract are changed (IFRS 16, paragraph 11).\n\n- **Separating Components**: For a contract that is, or contains, a lease, an entity must account for each lease component within the contract separately from non-lease components, unless the practical expedient in paragraph 15 is applied (IFRS 16, paragraph 12).\n\n- **Flowchart for Assessment**: A flowchart is provided in IFRS 16 to assist entities in making the assessment of whether a contract is, or contains, a lease (IFRS 16, paragraph B31).\n\nThese steps ensure that entities correctly identify and account for leases in accordance with IFRS 16. \n\n</font>"
          },
          "metadata": {}
        },
        {
          "output_type": "stream",
          "name": "stdout",
          "text": [
            "--------------------------------------------------------\n",
            "\u001b[1;31mTotal Time Taken - [10.95]\u001b[0m\n",
            "--------------------------------------------------------\n"
          ]
        }
      ],
      "source": [
        "question = \"What is the guidance for identifying a lease as per IFRS?\"\n",
        "run_answer(question, 89)"
      ]
    },
    {
      "cell_type": "code",
      "execution_count": null,
      "id": "6e9ceacb-acf1-42b5-84c3-fcc41409b9d3",
      "metadata": {
        "tags": [],
        "id": "6e9ceacb-acf1-42b5-84c3-fcc41409b9d3",
        "outputId": "543de40c-1434-4a82-f4c6-09b0f020ec04",
        "colab": {
          "base_uri": "https://localhost:8080/",
          "height": 1000
        }
      },
      "outputs": [
        {
          "output_type": "stream",
          "name": "stdout",
          "text": [
            "------ENTERING: FINANCE CHECK NODE------\n",
            "------OBSERVATION: Yes------\n",
            "------DECISION: INVOKE QUERY REROUTER NODE------\n",
            "------ENTERING: QUERY REROUTER NODE------\n",
            "------OBSERVATION: FINANCE------\n",
            "------DECISION: INVOKE SOURCE DETECTOR NODE------\n",
            "------ENTERING: SOURCE DETECTOR NODE------\n",
            "------SOURCES DETECTED: ['ifrs_answer_node', 'auditor_guidance_answer_node', 'annual_reports_answer_node']------\n",
            "------ENTERING: IFRS ANSWER NODE------------ENTERING: ANNUAL REPORTS ANSWER NODE------\n",
            "\n",
            "------ENTERING: AUDITOR GUIDANCE ANSWER NODE------\n"
          ]
        },
        {
          "output_type": "display_data",
          "data": {
            "text/plain": [
              "<IPython.core.display.Markdown object>"
            ],
            "text/markdown": "<font color=\"red\">**ANNUAL REPORTS ANSWER:** NO GUIDANCE \n\n</font>"
          },
          "metadata": {}
        },
        {
          "output_type": "display_data",
          "data": {
            "text/plain": [
              "<IPython.core.display.Markdown object>"
            ],
            "text/markdown": "<font color=\"red\">**IFRS ANSWER:** As per IAS 16, gains on the sale of fixed assets (property, plant, and equipment) should be accounted for as follows:\n\n- **Derecognition**: The carrying amount of the asset should be derecognized at the date of disposal (IAS 16, paragraph 67-72).\n- **Recognition of Gain**: Any gain or loss arising from the derecognition of an item of property, plant, and equipment should be included in profit or loss when the item is derecognized (IAS 16, paragraph 68).\n- **Measurement**: The gain or loss on disposal is determined as the difference between the net disposal proceeds and the carrying amount of the asset (IAS 16, paragraph 71).\n\nTherefore, the gain on the sale of fixed assets should be recognized in the profit or loss statement at the date of derecognition, calculated as the difference between the net disposal proceeds and the carrying amount of the asset. \n\n</font>"
          },
          "metadata": {}
        },
        {
          "output_type": "display_data",
          "data": {
            "text/plain": [
              "<IPython.core.display.Markdown object>"
            ],
            "text/markdown": "<font color=\"red\">**AUDITOR GUIDANCE ANSWER:** As per IAS 16:\n\n- When an item of property, plant, and equipment is disposed of or permanently withdrawn from use, a gain or loss is recognized for the difference between any net proceeds received and the carrying amount of the asset (IAS 16.71-72) [KPMG, page 29].\n- The gain or loss on derecognition is generally included in profit or loss but is not classified as revenue (IAS 16.67-68, 71) [KPMG, page 29].\n- In determining the net proceeds received, all directly attributable incremental costs of disposal should generally be deducted (KPMG, page 29).\n- If an item of property, plant, and equipment is disposed of as part of a sale-and-leaseback transaction, then an entity applies the requirements in IFRS 16 (KPMG, page 29).\n\nTherefore, the gain on the sale of fixed assets should be calculated as the difference between the net proceeds from the sale and the carrying amount of the asset, and this gain should be recognized in profit or loss. \n\n</font>"
          },
          "metadata": {}
        },
        {
          "output_type": "stream",
          "name": "stdout",
          "text": [
            "------ENTERING: OVERALL STATUS CHECK NODE------\n",
            "-------------------------------- \u001b[1;31mFinal Answer\u001b[0m --------------------------------\n"
          ]
        },
        {
          "output_type": "display_data",
          "data": {
            "text/plain": [
              "<IPython.core.display.Markdown object>"
            ],
            "text/markdown": "**FINAL ANSWER:**\n\n <font color=\"red\">**IFRS ANSWER:** As per IAS 16, gains on the sale of fixed assets (property, plant, and equipment) should be accounted for as follows:\n\n- **Derecognition**: The carrying amount of the asset should be derecognized at the date of disposal (IAS 16, paragraph 67-72).\n- **Recognition of Gain**: Any gain or loss arising from the derecognition of an item of property, plant, and equipment should be included in profit or loss when the item is derecognized (IAS 16, paragraph 68).\n- **Measurement**: The gain or loss on disposal is determined as the difference between the net disposal proceeds and the carrying amount of the asset (IAS 16, paragraph 71).\n\nTherefore, the gain on the sale of fixed assets should be recognized in the profit or loss statement at the date of derecognition, calculated as the difference between the net disposal proceeds and the carrying amount of the asset. \n\n**ANNUAL REPORTS ANSWER:** NO GUIDANCE \n\n**AUDITOR GUIDANCE ANSWER:** As per IAS 16:\n\n- When an item of property, plant, and equipment is disposed of or permanently withdrawn from use, a gain or loss is recognized for the difference between any net proceeds received and the carrying amount of the asset (IAS 16.71-72) [KPMG, page 29].\n- The gain or loss on derecognition is generally included in profit or loss but is not classified as revenue (IAS 16.67-68, 71) [KPMG, page 29].\n- In determining the net proceeds received, all directly attributable incremental costs of disposal should generally be deducted (KPMG, page 29).\n- If an item of property, plant, and equipment is disposed of as part of a sale-and-leaseback transaction, then an entity applies the requirements in IFRS 16 (KPMG, page 29).\n\nTherefore, the gain on the sale of fixed assets should be calculated as the difference between the net proceeds from the sale and the carrying amount of the asset, and this gain should be recognized in profit or loss. \n\n</font>"
          },
          "metadata": {}
        },
        {
          "output_type": "stream",
          "name": "stdout",
          "text": [
            "--------------------------------------------------------\n",
            "\u001b[1;31mTotal Time Taken - [7.97]\u001b[0m\n",
            "--------------------------------------------------------\n"
          ]
        }
      ],
      "source": [
        "question = \"How do I account for Gains on sales of fixed assets?\"\n",
        "run_answer(question, 89)"
      ]
    },
    {
      "cell_type": "code",
      "source": [
        "question = \"What is the revenue trend of GSK?\"\n",
        "run_answer(question, 19)"
      ],
      "metadata": {
        "colab": {
          "base_uri": "https://localhost:8080/",
          "height": 775
        },
        "id": "neu0gaO5hMW5",
        "outputId": "8304684d-558a-4ad3-93db-3fd04f1c3957"
      },
      "id": "neu0gaO5hMW5",
      "execution_count": null,
      "outputs": [
        {
          "output_type": "stream",
          "name": "stdout",
          "text": [
            "------ENTERING: FINANCE CHECK NODE------\n",
            "------OBSERVATION: Yes------\n",
            "------DECISION: INVOKE QUERY REROUTER NODE------\n",
            "------ENTERING: QUERY REROUTER NODE------\n",
            "------OBSERVATION: FINANCE------\n",
            "------DECISION: INVOKE SOURCE DETECTOR NODE------\n",
            "------ENTERING: SOURCE DETECTOR NODE------\n",
            "------SOURCES DETECTED: ['annual_reports_answer_node']------\n",
            "------ENTERING: ANNUAL REPORTS ANSWER NODE------\n"
          ]
        },
        {
          "output_type": "display_data",
          "data": {
            "text/plain": [
              "<IPython.core.display.Markdown object>"
            ],
            "text/markdown": "<font color=\"red\">**ANNUAL REPORTS ANSWER:** ### Revenue Trend of GSK (2020-2023)\n\n- **2020**: GSK reported total sales of £34.1 billion.\n- **2021**: GSK's total sales were £34.1 billion, showing no significant change from the previous year.\n- **2022**: GSK's total sales were £29.3 billion, indicating a decrease from the previous year.\n- **2023**: GSK's total sales increased to £30.3 billion, showing a growth of 3% in AER and 5% in CER.\n\n### Summary\n- **2020**: £34.1 billion\n- **2021**: £34.1 billion\n- **2022**: £29.3 billion\n- **2023**: £30.3 billion\n\nThe revenue trend shows a slight decline in 2022 followed by a recovery and growth in 2023. \n\n</font>"
          },
          "metadata": {}
        },
        {
          "output_type": "stream",
          "name": "stdout",
          "text": [
            "------ENTERING: OVERALL STATUS CHECK NODE------\n",
            "-------------------------------- \u001b[1;31mFinal Answer\u001b[0m --------------------------------\n"
          ]
        },
        {
          "output_type": "display_data",
          "data": {
            "text/plain": [
              "<IPython.core.display.Markdown object>"
            ],
            "text/markdown": "**FINAL ANSWER:**\n\n <font color=\"red\">**ANNUAL REPORTS ANSWER:** ### Revenue Trend of GSK (2020-2023)\n\n- **2020**: GSK reported total sales of £34.1 billion.\n- **2021**: GSK's total sales were £34.1 billion, showing no significant change from the previous year.\n- **2022**: GSK's total sales were £29.3 billion, indicating a decrease from the previous year.\n- **2023**: GSK's total sales increased to £30.3 billion, showing a growth of 3% in AER and 5% in CER.\n\n### Summary\n- **2020**: £34.1 billion\n- **2021**: £34.1 billion\n- **2022**: £29.3 billion\n- **2023**: £30.3 billion\n\nThe revenue trend shows a slight decline in 2022 followed by a recovery and growth in 2023. \n\n</font>"
          },
          "metadata": {}
        },
        {
          "output_type": "stream",
          "name": "stdout",
          "text": [
            "--------------------------------------------------------\n",
            "\u001b[1;31mTotal Time Taken - [5.62]\u001b[0m\n",
            "--------------------------------------------------------\n"
          ]
        }
      ]
    },
    {
      "cell_type": "code",
      "execution_count": null,
      "id": "1321e926-33d7-4d59-bf51-84c67411a440",
      "metadata": {
        "tags": [],
        "id": "1321e926-33d7-4d59-bf51-84c67411a440",
        "outputId": "57c16551-b9ab-4cc3-dd25-ae1ae45db427",
        "colab": {
          "base_uri": "https://localhost:8080/",
          "height": 530
        }
      },
      "outputs": [
        {
          "output_type": "stream",
          "name": "stdout",
          "text": [
            "------ENTERING: FINANCE CHECK NODE------\n",
            "------OBSERVATION: Yes------\n",
            "------DECISION: INVOKE QUERY REROUTER NODE------\n",
            "------ENTERING: QUERY REROUTER NODE------\n",
            "------OBSERVATION: FINANCE------\n",
            "------DECISION: INVOKE SOURCE DETECTOR NODE------\n",
            "------ENTERING: SOURCE DETECTOR NODE------\n",
            "------SOURCES DETECTED: ['ifrs_answer_node', 'auditor_guidance_answer_node', 'annual_reports_answer_node']------\n",
            "------ENTERING: IFRS ANSWER NODE------------ENTERING: ANNUAL REPORTS ANSWER NODE------\n",
            "------ENTERING: AUDITOR GUIDANCE ANSWER NODE------\n",
            "\n"
          ]
        },
        {
          "output_type": "display_data",
          "data": {
            "text/plain": [
              "<IPython.core.display.Markdown object>"
            ],
            "text/markdown": "<font color=\"red\">**IFRS ANSWER:** NO GUIDANCE \n\n</font>"
          },
          "metadata": {}
        },
        {
          "output_type": "display_data",
          "data": {
            "text/plain": [
              "<IPython.core.display.Markdown object>"
            ],
            "text/markdown": "<font color=\"red\">**AUDITOR GUIDANCE ANSWER:** No sufficient information \n\n</font>"
          },
          "metadata": {}
        },
        {
          "output_type": "display_data",
          "data": {
            "text/plain": [
              "<IPython.core.display.Markdown object>"
            ],
            "text/markdown": "<font color=\"red\">**ANNUAL REPORTS ANSWER:** You can find the company master data change request form on the Novartis Supplier Portal. Here is the link to access it:\n\n[Novartis Supplier Portal](https://www.novartis.com/supplier-portal) \n\n</font>"
          },
          "metadata": {}
        },
        {
          "output_type": "stream",
          "name": "stdout",
          "text": [
            "------ENTERING: OVERALL STATUS CHECK NODE------\n",
            "-------------------------------- \u001b[1;31mFinal Answer\u001b[0m --------------------------------\n"
          ]
        },
        {
          "output_type": "display_data",
          "data": {
            "text/plain": [
              "<IPython.core.display.Markdown object>"
            ],
            "text/markdown": "**FINAL ANSWER:**\n\n <font color=\"red\">**IFRS ANSWER:** NO GUIDANCE \n\n**ANNUAL REPORTS ANSWER:** You can find the company master data change request form on the Novartis Supplier Portal. Here is the link to access it:\n\n[Novartis Supplier Portal](https://www.novartis.com/supplier-portal) \n\n**AUDITOR GUIDANCE ANSWER:** No sufficient information \n\n</font>"
          },
          "metadata": {}
        },
        {
          "output_type": "stream",
          "name": "stdout",
          "text": [
            "--------------------------------------------------------\n",
            "\u001b[1;31mTotal Time Taken - [6.27]\u001b[0m\n",
            "--------------------------------------------------------\n"
          ]
        }
      ],
      "source": [
        "question = \"Where do i find company master data change request form?\"\n",
        "run_answer(question, 19)"
      ]
    },
    {
      "cell_type": "code",
      "execution_count": null,
      "id": "1abb0d42-6578-4fa6-a890-319cc4dad264",
      "metadata": {
        "id": "1abb0d42-6578-4fa6-a890-319cc4dad264"
      },
      "outputs": [],
      "source": []
    },
    {
      "cell_type": "code",
      "execution_count": null,
      "id": "0dfb77c9-3d6f-4ee2-90f0-65998f928dc8",
      "metadata": {
        "id": "0dfb77c9-3d6f-4ee2-90f0-65998f928dc8"
      },
      "outputs": [],
      "source": []
    },
    {
      "cell_type": "code",
      "execution_count": null,
      "id": "8ddce2de-0794-49bf-9cd3-fe6133e9fecc",
      "metadata": {
        "id": "8ddce2de-0794-49bf-9cd3-fe6133e9fecc"
      },
      "outputs": [],
      "source": []
    }
  ],
  "metadata": {
    "kernelspec": {
      "display_name": "Python 3",
      "name": "python3"
    },
    "language_info": {
      "name": "python"
    },
    "colab": {
      "provenance": [],
      "include_colab_link": true
    }
  },
  "nbformat": 4,
  "nbformat_minor": 5
}