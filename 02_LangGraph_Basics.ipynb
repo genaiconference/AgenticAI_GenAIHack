{
  "cells": [
    {
      "cell_type": "markdown",
      "metadata": {
        "id": "XfLeLYseAHdK"
      },
      "source": [
        "#Agentic AI\n",
        "\n",
        "* What is an agent?\n",
        "* Key components of Agentic Framework\n",
        "* Thinking framework : ReAct(CoT, ToT)\n",
        "* LangGraph"
      ]
    },
    {
      "cell_type": "code",
      "source": [
        "!git clone https://github.com/genaiconference/AgenticAI_GenAIHack.git"
      ],
      "metadata": {
        "id": "mzeM_PokFqxE",
        "outputId": "01142f82-6002-4bff-9b0c-385e20bbc5cc",
        "colab": {
          "base_uri": "https://localhost:8080/"
        }
      },
      "execution_count": 9,
      "outputs": [
        {
          "output_type": "stream",
          "name": "stdout",
          "text": [
            "Cloning into 'AgenticAI_GenAIHack'...\n",
            "remote: Enumerating objects: 110, done.\u001b[K\n",
            "remote: Counting objects: 100% (110/110), done.\u001b[K\n",
            "remote: Compressing objects: 100% (107/107), done.\u001b[K\n",
            "remote: Total 110 (delta 52), reused 0 (delta 0), pack-reused 0\u001b[K\n",
            "Receiving objects: 100% (110/110), 6.62 MiB | 5.45 MiB/s, done.\n",
            "Resolving deltas: 100% (52/52), done.\n"
          ]
        }
      ]
    },
    {
      "cell_type": "code",
      "execution_count": 34,
      "metadata": {
        "colab": {
          "base_uri": "https://localhost:8080/"
        },
        "collapsed": true,
        "id": "nxwnAfexKLFd",
        "jupyter": {
          "outputs_hidden": true
        },
        "outputId": "d2efd06d-bf29-4fbe-f5d5-5464875dec9c",
        "tags": []
      },
      "outputs": [
        {
          "output_type": "stream",
          "name": "stdout",
          "text": [
            "Requirement already satisfied: beautifulsoup4==4.12.2 in /usr/local/lib/python3.10/dist-packages (from -r /content/AgenticAI_GenAIHack/requirements_agenti_ai.txt (line 1)) (4.12.2)\n",
            "Requirement already satisfied: chromadb==0.4.15 in /usr/local/lib/python3.10/dist-packages (from -r /content/AgenticAI_GenAIHack/requirements_agenti_ai.txt (line 2)) (0.4.15)\n",
            "Requirement already satisfied: google-search-results==2.4.2 in /usr/local/lib/python3.10/dist-packages (from -r /content/AgenticAI_GenAIHack/requirements_agenti_ai.txt (line 3)) (2.4.2)\n",
            "Requirement already satisfied: langchain==0.2.9 in /usr/local/lib/python3.10/dist-packages (from -r /content/AgenticAI_GenAIHack/requirements_agenti_ai.txt (line 4)) (0.2.9)\n",
            "Requirement already satisfied: langchain-experimental==0.0.62 in /usr/local/lib/python3.10/dist-packages (from -r /content/AgenticAI_GenAIHack/requirements_agenti_ai.txt (line 5)) (0.0.62)\n",
            "Requirement already satisfied: langchain-postgres==0.0.6 in /usr/local/lib/python3.10/dist-packages (from -r /content/AgenticAI_GenAIHack/requirements_agenti_ai.txt (line 6)) (0.0.6)\n",
            "Requirement already satisfied: langchain-openai==0.1.7 in /usr/local/lib/python3.10/dist-packages (from -r /content/AgenticAI_GenAIHack/requirements_agenti_ai.txt (line 7)) (0.1.7)\n",
            "Requirement already satisfied: langgraph==0.0.55 in /usr/local/lib/python3.10/dist-packages (from -r /content/AgenticAI_GenAIHack/requirements_agenti_ai.txt (line 8)) (0.0.55)\n",
            "Requirement already satisfied: Markdown==3.5.2 in /usr/local/lib/python3.10/dist-packages (from -r /content/AgenticAI_GenAIHack/requirements_agenti_ai.txt (line 9)) (3.5.2)\n",
            "Requirement already satisfied: openai==1.30.5 in /usr/local/lib/python3.10/dist-packages (from -r /content/AgenticAI_GenAIHack/requirements_agenti_ai.txt (line 10)) (1.30.5)\n",
            "Requirement already satisfied: langchain-chroma==0.1.2 in /usr/local/lib/python3.10/dist-packages (from -r /content/AgenticAI_GenAIHack/requirements_agenti_ai.txt (line 11)) (0.1.2)\n",
            "Requirement already satisfied: tavily-python==0.3.5 in /usr/local/lib/python3.10/dist-packages (from -r /content/AgenticAI_GenAIHack/requirements_agenti_ai.txt (line 12)) (0.3.5)\n",
            "Requirement already satisfied: simple-colors==0.1.5 in /usr/local/lib/python3.10/dist-packages (from -r /content/AgenticAI_GenAIHack/requirements_agenti_ai.txt (line 13)) (0.1.5)\n",
            "Collecting duckduckgo_search==4.4.3 (from -r /content/AgenticAI_GenAIHack/requirements_agenti_ai.txt (line 14))\n",
            "  Downloading duckduckgo_search-4.4.3-py3-none-any.whl.metadata (19 kB)\n",
            "Requirement already satisfied: soupsieve>1.2 in /usr/local/lib/python3.10/dist-packages (from beautifulsoup4==4.12.2->-r /content/AgenticAI_GenAIHack/requirements_agenti_ai.txt (line 1)) (2.5)\n",
            "Requirement already satisfied: requests>=2.28 in /usr/local/lib/python3.10/dist-packages (from chromadb==0.4.15->-r /content/AgenticAI_GenAIHack/requirements_agenti_ai.txt (line 2)) (2.31.0)\n",
            "Requirement already satisfied: pydantic>=1.9 in /usr/local/lib/python3.10/dist-packages (from chromadb==0.4.15->-r /content/AgenticAI_GenAIHack/requirements_agenti_ai.txt (line 2)) (2.8.2)\n",
            "Requirement already satisfied: chroma-hnswlib==0.7.3 in /usr/local/lib/python3.10/dist-packages (from chromadb==0.4.15->-r /content/AgenticAI_GenAIHack/requirements_agenti_ai.txt (line 2)) (0.7.3)\n",
            "Requirement already satisfied: fastapi>=0.95.2 in /usr/local/lib/python3.10/dist-packages (from chromadb==0.4.15->-r /content/AgenticAI_GenAIHack/requirements_agenti_ai.txt (line 2)) (0.111.1)\n",
            "Requirement already satisfied: uvicorn>=0.18.3 in /usr/local/lib/python3.10/dist-packages (from uvicorn[standard]>=0.18.3->chromadb==0.4.15->-r /content/AgenticAI_GenAIHack/requirements_agenti_ai.txt (line 2)) (0.30.3)\n",
            "Requirement already satisfied: posthog>=2.4.0 in /usr/local/lib/python3.10/dist-packages (from chromadb==0.4.15->-r /content/AgenticAI_GenAIHack/requirements_agenti_ai.txt (line 2)) (3.5.0)\n",
            "Requirement already satisfied: typing-extensions>=4.5.0 in /usr/local/lib/python3.10/dist-packages (from chromadb==0.4.15->-r /content/AgenticAI_GenAIHack/requirements_agenti_ai.txt (line 2)) (4.12.2)\n",
            "Requirement already satisfied: pulsar-client>=3.1.0 in /usr/local/lib/python3.10/dist-packages (from chromadb==0.4.15->-r /content/AgenticAI_GenAIHack/requirements_agenti_ai.txt (line 2)) (3.5.0)\n",
            "Requirement already satisfied: onnxruntime>=1.14.1 in /usr/local/lib/python3.10/dist-packages (from chromadb==0.4.15->-r /content/AgenticAI_GenAIHack/requirements_agenti_ai.txt (line 2)) (1.18.1)\n",
            "Requirement already satisfied: opentelemetry-api>=1.2.0 in /usr/local/lib/python3.10/dist-packages (from chromadb==0.4.15->-r /content/AgenticAI_GenAIHack/requirements_agenti_ai.txt (line 2)) (1.26.0)\n",
            "Requirement already satisfied: opentelemetry-exporter-otlp-proto-grpc>=1.2.0 in /usr/local/lib/python3.10/dist-packages (from chromadb==0.4.15->-r /content/AgenticAI_GenAIHack/requirements_agenti_ai.txt (line 2)) (1.26.0)\n",
            "Requirement already satisfied: opentelemetry-sdk>=1.2.0 in /usr/local/lib/python3.10/dist-packages (from chromadb==0.4.15->-r /content/AgenticAI_GenAIHack/requirements_agenti_ai.txt (line 2)) (1.26.0)\n",
            "Requirement already satisfied: tokenizers>=0.13.2 in /usr/local/lib/python3.10/dist-packages (from chromadb==0.4.15->-r /content/AgenticAI_GenAIHack/requirements_agenti_ai.txt (line 2)) (0.19.1)\n",
            "Requirement already satisfied: pypika>=0.48.9 in /usr/local/lib/python3.10/dist-packages (from chromadb==0.4.15->-r /content/AgenticAI_GenAIHack/requirements_agenti_ai.txt (line 2)) (0.48.9)\n",
            "Requirement already satisfied: tqdm>=4.65.0 in /usr/local/lib/python3.10/dist-packages (from chromadb==0.4.15->-r /content/AgenticAI_GenAIHack/requirements_agenti_ai.txt (line 2)) (4.66.4)\n",
            "Requirement already satisfied: overrides>=7.3.1 in /usr/local/lib/python3.10/dist-packages (from chromadb==0.4.15->-r /content/AgenticAI_GenAIHack/requirements_agenti_ai.txt (line 2)) (7.7.0)\n",
            "Requirement already satisfied: importlib-resources in /usr/local/lib/python3.10/dist-packages (from chromadb==0.4.15->-r /content/AgenticAI_GenAIHack/requirements_agenti_ai.txt (line 2)) (6.4.0)\n",
            "Requirement already satisfied: grpcio>=1.58.0 in /usr/local/lib/python3.10/dist-packages (from chromadb==0.4.15->-r /content/AgenticAI_GenAIHack/requirements_agenti_ai.txt (line 2)) (1.64.1)\n",
            "Requirement already satisfied: bcrypt>=4.0.1 in /usr/local/lib/python3.10/dist-packages (from chromadb==0.4.15->-r /content/AgenticAI_GenAIHack/requirements_agenti_ai.txt (line 2)) (4.2.0)\n",
            "Requirement already satisfied: typer>=0.9.0 in /usr/local/lib/python3.10/dist-packages (from chromadb==0.4.15->-r /content/AgenticAI_GenAIHack/requirements_agenti_ai.txt (line 2)) (0.12.3)\n",
            "Requirement already satisfied: kubernetes>=28.1.0 in /usr/local/lib/python3.10/dist-packages (from chromadb==0.4.15->-r /content/AgenticAI_GenAIHack/requirements_agenti_ai.txt (line 2)) (30.1.0)\n",
            "Requirement already satisfied: tenacity>=8.2.3 in /usr/local/lib/python3.10/dist-packages (from chromadb==0.4.15->-r /content/AgenticAI_GenAIHack/requirements_agenti_ai.txt (line 2)) (8.5.0)\n",
            "Requirement already satisfied: numpy>=1.22.5 in /usr/local/lib/python3.10/dist-packages (from chromadb==0.4.15->-r /content/AgenticAI_GenAIHack/requirements_agenti_ai.txt (line 2)) (1.25.2)\n",
            "Requirement already satisfied: PyYAML>=5.3 in /usr/local/lib/python3.10/dist-packages (from langchain==0.2.9->-r /content/AgenticAI_GenAIHack/requirements_agenti_ai.txt (line 4)) (6.0.1)\n",
            "Requirement already satisfied: SQLAlchemy<3,>=1.4 in /usr/local/lib/python3.10/dist-packages (from langchain==0.2.9->-r /content/AgenticAI_GenAIHack/requirements_agenti_ai.txt (line 4)) (2.0.31)\n",
            "Requirement already satisfied: aiohttp<4.0.0,>=3.8.3 in /usr/local/lib/python3.10/dist-packages (from langchain==0.2.9->-r /content/AgenticAI_GenAIHack/requirements_agenti_ai.txt (line 4)) (3.9.5)\n",
            "Requirement already satisfied: async-timeout<5.0.0,>=4.0.0 in /usr/local/lib/python3.10/dist-packages (from langchain==0.2.9->-r /content/AgenticAI_GenAIHack/requirements_agenti_ai.txt (line 4)) (4.0.3)\n",
            "Requirement already satisfied: langchain-core<0.3.0,>=0.2.20 in /usr/local/lib/python3.10/dist-packages (from langchain==0.2.9->-r /content/AgenticAI_GenAIHack/requirements_agenti_ai.txt (line 4)) (0.2.24)\n",
            "Requirement already satisfied: langchain-text-splitters<0.3.0,>=0.2.0 in /usr/local/lib/python3.10/dist-packages (from langchain==0.2.9->-r /content/AgenticAI_GenAIHack/requirements_agenti_ai.txt (line 4)) (0.2.2)\n",
            "Requirement already satisfied: langsmith<0.2.0,>=0.1.17 in /usr/local/lib/python3.10/dist-packages (from langchain==0.2.9->-r /content/AgenticAI_GenAIHack/requirements_agenti_ai.txt (line 4)) (0.1.93)\n",
            "Requirement already satisfied: langchain-community<0.3.0,>=0.2.6 in /usr/local/lib/python3.10/dist-packages (from langchain-experimental==0.0.62->-r /content/AgenticAI_GenAIHack/requirements_agenti_ai.txt (line 5)) (0.2.10)\n",
            "Requirement already satisfied: pgvector<0.3.0,>=0.2.5 in /usr/local/lib/python3.10/dist-packages (from langchain-postgres==0.0.6->-r /content/AgenticAI_GenAIHack/requirements_agenti_ai.txt (line 6)) (0.2.5)\n",
            "Requirement already satisfied: psycopg<4,>=3 in /usr/local/lib/python3.10/dist-packages (from langchain-postgres==0.0.6->-r /content/AgenticAI_GenAIHack/requirements_agenti_ai.txt (line 6)) (3.2.1)\n",
            "Requirement already satisfied: psycopg-pool<4.0.0,>=3.2.1 in /usr/local/lib/python3.10/dist-packages (from langchain-postgres==0.0.6->-r /content/AgenticAI_GenAIHack/requirements_agenti_ai.txt (line 6)) (3.2.2)\n",
            "Requirement already satisfied: tiktoken<1,>=0.7 in /usr/local/lib/python3.10/dist-packages (from langchain-openai==0.1.7->-r /content/AgenticAI_GenAIHack/requirements_agenti_ai.txt (line 7)) (0.7.0)\n",
            "Requirement already satisfied: uuid6<2025.0.0,>=2024.1.12 in /usr/local/lib/python3.10/dist-packages (from langgraph==0.0.55->-r /content/AgenticAI_GenAIHack/requirements_agenti_ai.txt (line 8)) (2024.7.10)\n",
            "Requirement already satisfied: anyio<5,>=3.5.0 in /usr/local/lib/python3.10/dist-packages (from openai==1.30.5->-r /content/AgenticAI_GenAIHack/requirements_agenti_ai.txt (line 10)) (3.7.1)\n",
            "Requirement already satisfied: distro<2,>=1.7.0 in /usr/lib/python3/dist-packages (from openai==1.30.5->-r /content/AgenticAI_GenAIHack/requirements_agenti_ai.txt (line 10)) (1.7.0)\n",
            "Requirement already satisfied: httpx<1,>=0.23.0 in /usr/local/lib/python3.10/dist-packages (from openai==1.30.5->-r /content/AgenticAI_GenAIHack/requirements_agenti_ai.txt (line 10)) (0.27.0)\n",
            "Requirement already satisfied: sniffio in /usr/local/lib/python3.10/dist-packages (from openai==1.30.5->-r /content/AgenticAI_GenAIHack/requirements_agenti_ai.txt (line 10)) (1.3.1)\n",
            "Requirement already satisfied: click>=8.1.7 in /usr/local/lib/python3.10/dist-packages (from duckduckgo_search==4.4.3->-r /content/AgenticAI_GenAIHack/requirements_agenti_ai.txt (line 14)) (8.1.7)\n",
            "Collecting curl-cffi>=0.6.0b9 (from duckduckgo_search==4.4.3->-r /content/AgenticAI_GenAIHack/requirements_agenti_ai.txt (line 14))\n",
            "  Downloading curl_cffi-0.7.1-cp38-abi3-manylinux_2_17_x86_64.manylinux2014_x86_64.whl.metadata (13 kB)\n",
            "Collecting lxml>=5.1.0 (from duckduckgo_search==4.4.3->-r /content/AgenticAI_GenAIHack/requirements_agenti_ai.txt (line 14))\n",
            "  Downloading lxml-5.2.2-cp310-cp310-manylinux_2_28_x86_64.whl.metadata (3.4 kB)\n",
            "Requirement already satisfied: nest-asyncio>=1.6.0 in /usr/local/lib/python3.10/dist-packages (from duckduckgo_search==4.4.3->-r /content/AgenticAI_GenAIHack/requirements_agenti_ai.txt (line 14)) (1.6.0)\n",
            "Requirement already satisfied: aiosignal>=1.1.2 in /usr/local/lib/python3.10/dist-packages (from aiohttp<4.0.0,>=3.8.3->langchain==0.2.9->-r /content/AgenticAI_GenAIHack/requirements_agenti_ai.txt (line 4)) (1.3.1)\n",
            "Requirement already satisfied: attrs>=17.3.0 in /usr/local/lib/python3.10/dist-packages (from aiohttp<4.0.0,>=3.8.3->langchain==0.2.9->-r /content/AgenticAI_GenAIHack/requirements_agenti_ai.txt (line 4)) (23.2.0)\n",
            "Requirement already satisfied: frozenlist>=1.1.1 in /usr/local/lib/python3.10/dist-packages (from aiohttp<4.0.0,>=3.8.3->langchain==0.2.9->-r /content/AgenticAI_GenAIHack/requirements_agenti_ai.txt (line 4)) (1.4.1)\n",
            "Requirement already satisfied: multidict<7.0,>=4.5 in /usr/local/lib/python3.10/dist-packages (from aiohttp<4.0.0,>=3.8.3->langchain==0.2.9->-r /content/AgenticAI_GenAIHack/requirements_agenti_ai.txt (line 4)) (6.0.5)\n",
            "Requirement already satisfied: yarl<2.0,>=1.0 in /usr/local/lib/python3.10/dist-packages (from aiohttp<4.0.0,>=3.8.3->langchain==0.2.9->-r /content/AgenticAI_GenAIHack/requirements_agenti_ai.txt (line 4)) (1.9.4)\n",
            "Requirement already satisfied: idna>=2.8 in /usr/local/lib/python3.10/dist-packages (from anyio<5,>=3.5.0->openai==1.30.5->-r /content/AgenticAI_GenAIHack/requirements_agenti_ai.txt (line 10)) (3.7)\n",
            "Requirement already satisfied: exceptiongroup in /usr/local/lib/python3.10/dist-packages (from anyio<5,>=3.5.0->openai==1.30.5->-r /content/AgenticAI_GenAIHack/requirements_agenti_ai.txt (line 10)) (1.2.2)\n",
            "Requirement already satisfied: cffi>=1.12.0 in /usr/local/lib/python3.10/dist-packages (from curl-cffi>=0.6.0b9->duckduckgo_search==4.4.3->-r /content/AgenticAI_GenAIHack/requirements_agenti_ai.txt (line 14)) (1.16.0)\n",
            "Requirement already satisfied: certifi>=2024.2.2 in /usr/local/lib/python3.10/dist-packages (from curl-cffi>=0.6.0b9->duckduckgo_search==4.4.3->-r /content/AgenticAI_GenAIHack/requirements_agenti_ai.txt (line 14)) (2024.7.4)\n",
            "Requirement already satisfied: starlette<0.38.0,>=0.37.2 in /usr/local/lib/python3.10/dist-packages (from fastapi>=0.95.2->chromadb==0.4.15->-r /content/AgenticAI_GenAIHack/requirements_agenti_ai.txt (line 2)) (0.37.2)\n",
            "Requirement already satisfied: fastapi-cli>=0.0.2 in /usr/local/lib/python3.10/dist-packages (from fastapi>=0.95.2->chromadb==0.4.15->-r /content/AgenticAI_GenAIHack/requirements_agenti_ai.txt (line 2)) (0.0.4)\n",
            "Requirement already satisfied: jinja2>=2.11.2 in /usr/local/lib/python3.10/dist-packages (from fastapi>=0.95.2->chromadb==0.4.15->-r /content/AgenticAI_GenAIHack/requirements_agenti_ai.txt (line 2)) (3.1.4)\n",
            "Requirement already satisfied: python-multipart>=0.0.7 in /usr/local/lib/python3.10/dist-packages (from fastapi>=0.95.2->chromadb==0.4.15->-r /content/AgenticAI_GenAIHack/requirements_agenti_ai.txt (line 2)) (0.0.9)\n",
            "Requirement already satisfied: email_validator>=2.0.0 in /usr/local/lib/python3.10/dist-packages (from fastapi>=0.95.2->chromadb==0.4.15->-r /content/AgenticAI_GenAIHack/requirements_agenti_ai.txt (line 2)) (2.2.0)\n",
            "Requirement already satisfied: httpcore==1.* in /usr/local/lib/python3.10/dist-packages (from httpx<1,>=0.23.0->openai==1.30.5->-r /content/AgenticAI_GenAIHack/requirements_agenti_ai.txt (line 10)) (1.0.5)\n",
            "Requirement already satisfied: h11<0.15,>=0.13 in /usr/local/lib/python3.10/dist-packages (from httpcore==1.*->httpx<1,>=0.23.0->openai==1.30.5->-r /content/AgenticAI_GenAIHack/requirements_agenti_ai.txt (line 10)) (0.14.0)\n",
            "Requirement already satisfied: six>=1.9.0 in /usr/local/lib/python3.10/dist-packages (from kubernetes>=28.1.0->chromadb==0.4.15->-r /content/AgenticAI_GenAIHack/requirements_agenti_ai.txt (line 2)) (1.16.0)\n",
            "Requirement already satisfied: python-dateutil>=2.5.3 in /usr/local/lib/python3.10/dist-packages (from kubernetes>=28.1.0->chromadb==0.4.15->-r /content/AgenticAI_GenAIHack/requirements_agenti_ai.txt (line 2)) (2.8.2)\n",
            "Requirement already satisfied: google-auth>=1.0.1 in /usr/local/lib/python3.10/dist-packages (from kubernetes>=28.1.0->chromadb==0.4.15->-r /content/AgenticAI_GenAIHack/requirements_agenti_ai.txt (line 2)) (2.27.0)\n",
            "Requirement already satisfied: websocket-client!=0.40.0,!=0.41.*,!=0.42.*,>=0.32.0 in /usr/local/lib/python3.10/dist-packages (from kubernetes>=28.1.0->chromadb==0.4.15->-r /content/AgenticAI_GenAIHack/requirements_agenti_ai.txt (line 2)) (1.8.0)\n",
            "Requirement already satisfied: requests-oauthlib in /usr/local/lib/python3.10/dist-packages (from kubernetes>=28.1.0->chromadb==0.4.15->-r /content/AgenticAI_GenAIHack/requirements_agenti_ai.txt (line 2)) (1.3.1)\n",
            "Requirement already satisfied: oauthlib>=3.2.2 in /usr/local/lib/python3.10/dist-packages (from kubernetes>=28.1.0->chromadb==0.4.15->-r /content/AgenticAI_GenAIHack/requirements_agenti_ai.txt (line 2)) (3.2.2)\n",
            "Requirement already satisfied: urllib3>=1.24.2 in /usr/local/lib/python3.10/dist-packages (from kubernetes>=28.1.0->chromadb==0.4.15->-r /content/AgenticAI_GenAIHack/requirements_agenti_ai.txt (line 2)) (2.0.7)\n",
            "Requirement already satisfied: dataclasses-json<0.7,>=0.5.7 in /usr/local/lib/python3.10/dist-packages (from langchain-community<0.3.0,>=0.2.6->langchain-experimental==0.0.62->-r /content/AgenticAI_GenAIHack/requirements_agenti_ai.txt (line 5)) (0.6.7)\n",
            "Requirement already satisfied: jsonpatch<2.0,>=1.33 in /usr/local/lib/python3.10/dist-packages (from langchain-core<0.3.0,>=0.2.20->langchain==0.2.9->-r /content/AgenticAI_GenAIHack/requirements_agenti_ai.txt (line 4)) (1.33)\n",
            "Requirement already satisfied: packaging<25,>=23.2 in /usr/local/lib/python3.10/dist-packages (from langchain-core<0.3.0,>=0.2.20->langchain==0.2.9->-r /content/AgenticAI_GenAIHack/requirements_agenti_ai.txt (line 4)) (24.1)\n",
            "Requirement already satisfied: orjson<4.0.0,>=3.9.14 in /usr/local/lib/python3.10/dist-packages (from langsmith<0.2.0,>=0.1.17->langchain==0.2.9->-r /content/AgenticAI_GenAIHack/requirements_agenti_ai.txt (line 4)) (3.10.6)\n",
            "Requirement already satisfied: coloredlogs in /usr/local/lib/python3.10/dist-packages (from onnxruntime>=1.14.1->chromadb==0.4.15->-r /content/AgenticAI_GenAIHack/requirements_agenti_ai.txt (line 2)) (15.0.1)\n",
            "Requirement already satisfied: flatbuffers in /usr/local/lib/python3.10/dist-packages (from onnxruntime>=1.14.1->chromadb==0.4.15->-r /content/AgenticAI_GenAIHack/requirements_agenti_ai.txt (line 2)) (24.3.25)\n",
            "Requirement already satisfied: protobuf in /usr/local/lib/python3.10/dist-packages (from onnxruntime>=1.14.1->chromadb==0.4.15->-r /content/AgenticAI_GenAIHack/requirements_agenti_ai.txt (line 2)) (3.20.3)\n",
            "Requirement already satisfied: sympy in /usr/local/lib/python3.10/dist-packages (from onnxruntime>=1.14.1->chromadb==0.4.15->-r /content/AgenticAI_GenAIHack/requirements_agenti_ai.txt (line 2)) (1.13.1)\n",
            "Requirement already satisfied: deprecated>=1.2.6 in /usr/local/lib/python3.10/dist-packages (from opentelemetry-api>=1.2.0->chromadb==0.4.15->-r /content/AgenticAI_GenAIHack/requirements_agenti_ai.txt (line 2)) (1.2.14)\n",
            "Requirement already satisfied: importlib-metadata<=8.0.0,>=6.0 in /usr/local/lib/python3.10/dist-packages (from opentelemetry-api>=1.2.0->chromadb==0.4.15->-r /content/AgenticAI_GenAIHack/requirements_agenti_ai.txt (line 2)) (8.0.0)\n",
            "Requirement already satisfied: googleapis-common-protos~=1.52 in /usr/local/lib/python3.10/dist-packages (from opentelemetry-exporter-otlp-proto-grpc>=1.2.0->chromadb==0.4.15->-r /content/AgenticAI_GenAIHack/requirements_agenti_ai.txt (line 2)) (1.63.2)\n",
            "Requirement already satisfied: opentelemetry-exporter-otlp-proto-common==1.26.0 in /usr/local/lib/python3.10/dist-packages (from opentelemetry-exporter-otlp-proto-grpc>=1.2.0->chromadb==0.4.15->-r /content/AgenticAI_GenAIHack/requirements_agenti_ai.txt (line 2)) (1.26.0)\n",
            "Requirement already satisfied: opentelemetry-proto==1.26.0 in /usr/local/lib/python3.10/dist-packages (from opentelemetry-exporter-otlp-proto-grpc>=1.2.0->chromadb==0.4.15->-r /content/AgenticAI_GenAIHack/requirements_agenti_ai.txt (line 2)) (1.26.0)\n",
            "Requirement already satisfied: opentelemetry-semantic-conventions==0.47b0 in /usr/local/lib/python3.10/dist-packages (from opentelemetry-sdk>=1.2.0->chromadb==0.4.15->-r /content/AgenticAI_GenAIHack/requirements_agenti_ai.txt (line 2)) (0.47b0)\n",
            "Requirement already satisfied: monotonic>=1.5 in /usr/local/lib/python3.10/dist-packages (from posthog>=2.4.0->chromadb==0.4.15->-r /content/AgenticAI_GenAIHack/requirements_agenti_ai.txt (line 2)) (1.6)\n",
            "Requirement already satisfied: backoff>=1.10.0 in /usr/local/lib/python3.10/dist-packages (from posthog>=2.4.0->chromadb==0.4.15->-r /content/AgenticAI_GenAIHack/requirements_agenti_ai.txt (line 2)) (2.2.1)\n",
            "Requirement already satisfied: annotated-types>=0.4.0 in /usr/local/lib/python3.10/dist-packages (from pydantic>=1.9->chromadb==0.4.15->-r /content/AgenticAI_GenAIHack/requirements_agenti_ai.txt (line 2)) (0.7.0)\n",
            "Requirement already satisfied: pydantic-core==2.20.1 in /usr/local/lib/python3.10/dist-packages (from pydantic>=1.9->chromadb==0.4.15->-r /content/AgenticAI_GenAIHack/requirements_agenti_ai.txt (line 2)) (2.20.1)\n",
            "Requirement already satisfied: charset-normalizer<4,>=2 in /usr/local/lib/python3.10/dist-packages (from requests>=2.28->chromadb==0.4.15->-r /content/AgenticAI_GenAIHack/requirements_agenti_ai.txt (line 2)) (3.3.2)\n",
            "Requirement already satisfied: greenlet!=0.4.17 in /usr/local/lib/python3.10/dist-packages (from SQLAlchemy<3,>=1.4->langchain==0.2.9->-r /content/AgenticAI_GenAIHack/requirements_agenti_ai.txt (line 4)) (3.0.3)\n",
            "Requirement already satisfied: regex>=2022.1.18 in /usr/local/lib/python3.10/dist-packages (from tiktoken<1,>=0.7->langchain-openai==0.1.7->-r /content/AgenticAI_GenAIHack/requirements_agenti_ai.txt (line 7)) (2024.5.15)\n",
            "Requirement already satisfied: huggingface-hub<1.0,>=0.16.4 in /usr/local/lib/python3.10/dist-packages (from tokenizers>=0.13.2->chromadb==0.4.15->-r /content/AgenticAI_GenAIHack/requirements_agenti_ai.txt (line 2)) (0.23.5)\n",
            "Requirement already satisfied: shellingham>=1.3.0 in /usr/local/lib/python3.10/dist-packages (from typer>=0.9.0->chromadb==0.4.15->-r /content/AgenticAI_GenAIHack/requirements_agenti_ai.txt (line 2)) (1.5.4)\n",
            "Requirement already satisfied: rich>=10.11.0 in /usr/local/lib/python3.10/dist-packages (from typer>=0.9.0->chromadb==0.4.15->-r /content/AgenticAI_GenAIHack/requirements_agenti_ai.txt (line 2)) (13.7.1)\n",
            "Requirement already satisfied: httptools>=0.5.0 in /usr/local/lib/python3.10/dist-packages (from uvicorn[standard]>=0.18.3->chromadb==0.4.15->-r /content/AgenticAI_GenAIHack/requirements_agenti_ai.txt (line 2)) (0.6.1)\n",
            "Requirement already satisfied: python-dotenv>=0.13 in /usr/local/lib/python3.10/dist-packages (from uvicorn[standard]>=0.18.3->chromadb==0.4.15->-r /content/AgenticAI_GenAIHack/requirements_agenti_ai.txt (line 2)) (1.0.1)\n",
            "Requirement already satisfied: uvloop!=0.15.0,!=0.15.1,>=0.14.0 in /usr/local/lib/python3.10/dist-packages (from uvicorn[standard]>=0.18.3->chromadb==0.4.15->-r /content/AgenticAI_GenAIHack/requirements_agenti_ai.txt (line 2)) (0.19.0)\n",
            "Requirement already satisfied: watchfiles>=0.13 in /usr/local/lib/python3.10/dist-packages (from uvicorn[standard]>=0.18.3->chromadb==0.4.15->-r /content/AgenticAI_GenAIHack/requirements_agenti_ai.txt (line 2)) (0.22.0)\n",
            "Requirement already satisfied: websockets>=10.4 in /usr/local/lib/python3.10/dist-packages (from uvicorn[standard]>=0.18.3->chromadb==0.4.15->-r /content/AgenticAI_GenAIHack/requirements_agenti_ai.txt (line 2)) (12.0)\n",
            "Requirement already satisfied: pycparser in /usr/local/lib/python3.10/dist-packages (from cffi>=1.12.0->curl-cffi>=0.6.0b9->duckduckgo_search==4.4.3->-r /content/AgenticAI_GenAIHack/requirements_agenti_ai.txt (line 14)) (2.22)\n",
            "Requirement already satisfied: marshmallow<4.0.0,>=3.18.0 in /usr/local/lib/python3.10/dist-packages (from dataclasses-json<0.7,>=0.5.7->langchain-community<0.3.0,>=0.2.6->langchain-experimental==0.0.62->-r /content/AgenticAI_GenAIHack/requirements_agenti_ai.txt (line 5)) (3.21.3)\n",
            "Requirement already satisfied: typing-inspect<1,>=0.4.0 in /usr/local/lib/python3.10/dist-packages (from dataclasses-json<0.7,>=0.5.7->langchain-community<0.3.0,>=0.2.6->langchain-experimental==0.0.62->-r /content/AgenticAI_GenAIHack/requirements_agenti_ai.txt (line 5)) (0.9.0)\n",
            "Requirement already satisfied: wrapt<2,>=1.10 in /usr/local/lib/python3.10/dist-packages (from deprecated>=1.2.6->opentelemetry-api>=1.2.0->chromadb==0.4.15->-r /content/AgenticAI_GenAIHack/requirements_agenti_ai.txt (line 2)) (1.14.1)\n",
            "Requirement already satisfied: dnspython>=2.0.0 in /usr/local/lib/python3.10/dist-packages (from email_validator>=2.0.0->fastapi>=0.95.2->chromadb==0.4.15->-r /content/AgenticAI_GenAIHack/requirements_agenti_ai.txt (line 2)) (2.6.1)\n",
            "Requirement already satisfied: cachetools<6.0,>=2.0.0 in /usr/local/lib/python3.10/dist-packages (from google-auth>=1.0.1->kubernetes>=28.1.0->chromadb==0.4.15->-r /content/AgenticAI_GenAIHack/requirements_agenti_ai.txt (line 2)) (5.4.0)\n",
            "Requirement already satisfied: pyasn1-modules>=0.2.1 in /usr/local/lib/python3.10/dist-packages (from google-auth>=1.0.1->kubernetes>=28.1.0->chromadb==0.4.15->-r /content/AgenticAI_GenAIHack/requirements_agenti_ai.txt (line 2)) (0.4.0)\n",
            "Requirement already satisfied: rsa<5,>=3.1.4 in /usr/local/lib/python3.10/dist-packages (from google-auth>=1.0.1->kubernetes>=28.1.0->chromadb==0.4.15->-r /content/AgenticAI_GenAIHack/requirements_agenti_ai.txt (line 2)) (4.9)\n",
            "Requirement already satisfied: filelock in /usr/local/lib/python3.10/dist-packages (from huggingface-hub<1.0,>=0.16.4->tokenizers>=0.13.2->chromadb==0.4.15->-r /content/AgenticAI_GenAIHack/requirements_agenti_ai.txt (line 2)) (3.15.4)\n",
            "Requirement already satisfied: fsspec>=2023.5.0 in /usr/local/lib/python3.10/dist-packages (from huggingface-hub<1.0,>=0.16.4->tokenizers>=0.13.2->chromadb==0.4.15->-r /content/AgenticAI_GenAIHack/requirements_agenti_ai.txt (line 2)) (2024.6.1)\n",
            "Requirement already satisfied: zipp>=0.5 in /usr/local/lib/python3.10/dist-packages (from importlib-metadata<=8.0.0,>=6.0->opentelemetry-api>=1.2.0->chromadb==0.4.15->-r /content/AgenticAI_GenAIHack/requirements_agenti_ai.txt (line 2)) (3.19.2)\n",
            "Requirement already satisfied: MarkupSafe>=2.0 in /usr/local/lib/python3.10/dist-packages (from jinja2>=2.11.2->fastapi>=0.95.2->chromadb==0.4.15->-r /content/AgenticAI_GenAIHack/requirements_agenti_ai.txt (line 2)) (2.1.5)\n",
            "Requirement already satisfied: jsonpointer>=1.9 in /usr/local/lib/python3.10/dist-packages (from jsonpatch<2.0,>=1.33->langchain-core<0.3.0,>=0.2.20->langchain==0.2.9->-r /content/AgenticAI_GenAIHack/requirements_agenti_ai.txt (line 4)) (3.0.0)\n",
            "Requirement already satisfied: markdown-it-py>=2.2.0 in /usr/local/lib/python3.10/dist-packages (from rich>=10.11.0->typer>=0.9.0->chromadb==0.4.15->-r /content/AgenticAI_GenAIHack/requirements_agenti_ai.txt (line 2)) (3.0.0)\n",
            "Requirement already satisfied: pygments<3.0.0,>=2.13.0 in /usr/local/lib/python3.10/dist-packages (from rich>=10.11.0->typer>=0.9.0->chromadb==0.4.15->-r /content/AgenticAI_GenAIHack/requirements_agenti_ai.txt (line 2)) (2.16.1)\n",
            "Requirement already satisfied: humanfriendly>=9.1 in /usr/local/lib/python3.10/dist-packages (from coloredlogs->onnxruntime>=1.14.1->chromadb==0.4.15->-r /content/AgenticAI_GenAIHack/requirements_agenti_ai.txt (line 2)) (10.0)\n",
            "Requirement already satisfied: mpmath<1.4,>=1.1.0 in /usr/local/lib/python3.10/dist-packages (from sympy->onnxruntime>=1.14.1->chromadb==0.4.15->-r /content/AgenticAI_GenAIHack/requirements_agenti_ai.txt (line 2)) (1.3.0)\n",
            "Requirement already satisfied: mdurl~=0.1 in /usr/local/lib/python3.10/dist-packages (from markdown-it-py>=2.2.0->rich>=10.11.0->typer>=0.9.0->chromadb==0.4.15->-r /content/AgenticAI_GenAIHack/requirements_agenti_ai.txt (line 2)) (0.1.2)\n",
            "Requirement already satisfied: pyasn1<0.7.0,>=0.4.6 in /usr/local/lib/python3.10/dist-packages (from pyasn1-modules>=0.2.1->google-auth>=1.0.1->kubernetes>=28.1.0->chromadb==0.4.15->-r /content/AgenticAI_GenAIHack/requirements_agenti_ai.txt (line 2)) (0.6.0)\n",
            "Requirement already satisfied: mypy-extensions>=0.3.0 in /usr/local/lib/python3.10/dist-packages (from typing-inspect<1,>=0.4.0->dataclasses-json<0.7,>=0.5.7->langchain-community<0.3.0,>=0.2.6->langchain-experimental==0.0.62->-r /content/AgenticAI_GenAIHack/requirements_agenti_ai.txt (line 5)) (1.0.0)\n",
            "Downloading duckduckgo_search-4.4.3-py3-none-any.whl (20 kB)\n",
            "Downloading curl_cffi-0.7.1-cp38-abi3-manylinux_2_17_x86_64.manylinux2014_x86_64.whl (6.1 MB)\n",
            "\u001b[2K   \u001b[90m━━━━━━━━━━━━━━━━━━━━━━━━━━━━━━━━━━━━━━━━\u001b[0m \u001b[32m6.1/6.1 MB\u001b[0m \u001b[31m37.0 MB/s\u001b[0m eta \u001b[36m0:00:00\u001b[0m\n",
            "\u001b[?25hDownloading lxml-5.2.2-cp310-cp310-manylinux_2_28_x86_64.whl (5.0 MB)\n",
            "\u001b[2K   \u001b[90m━━━━━━━━━━━━━━━━━━━━━━━━━━━━━━━━━━━━━━━━\u001b[0m \u001b[32m5.0/5.0 MB\u001b[0m \u001b[31m88.3 MB/s\u001b[0m eta \u001b[36m0:00:00\u001b[0m\n",
            "\u001b[?25hInstalling collected packages: lxml, curl-cffi, duckduckgo_search\n",
            "  Attempting uninstall: lxml\n",
            "    Found existing installation: lxml 4.9.4\n",
            "    Uninstalling lxml-4.9.4:\n",
            "      Successfully uninstalled lxml-4.9.4\n",
            "Successfully installed curl-cffi-0.7.1 duckduckgo_search-4.4.3 lxml-5.2.2\n"
          ]
        }
      ],
      "source": [
        "!pip install -r /content/AgenticAI_GenAIHack/requirements_agenti_ai.txt"
      ]
    },
    {
      "cell_type": "code",
      "execution_count": 2,
      "metadata": {
        "colab": {
          "base_uri": "https://localhost:8080/"
        },
        "collapsed": true,
        "id": "O1Q69jO5KZa9",
        "jupyter": {
          "outputs_hidden": true
        },
        "outputId": "1782ba3e-e0a6-4cd1-a156-070733ebf990",
        "tags": []
      },
      "outputs": [
        {
          "output_type": "stream",
          "name": "stdout",
          "text": [
            "Collecting langchain_openai==0.1.16\n",
            "  Downloading langchain_openai-0.1.16-py3-none-any.whl.metadata (2.5 kB)\n",
            "Requirement already satisfied: langchain-core<0.3.0,>=0.2.17 in /usr/local/lib/python3.10/dist-packages (from langchain_openai==0.1.16) (0.2.24)\n",
            "Collecting openai<2.0.0,>=1.32.0 (from langchain_openai==0.1.16)\n",
            "  Downloading openai-1.37.1-py3-none-any.whl.metadata (22 kB)\n",
            "Collecting tiktoken<1,>=0.7 (from langchain_openai==0.1.16)\n",
            "  Downloading tiktoken-0.7.0-cp310-cp310-manylinux_2_17_x86_64.manylinux2014_x86_64.whl.metadata (6.6 kB)\n",
            "Requirement already satisfied: PyYAML>=5.3 in /usr/local/lib/python3.10/dist-packages (from langchain-core<0.3.0,>=0.2.17->langchain_openai==0.1.16) (6.0.1)\n",
            "Requirement already satisfied: jsonpatch<2.0,>=1.33 in /usr/local/lib/python3.10/dist-packages (from langchain-core<0.3.0,>=0.2.17->langchain_openai==0.1.16) (1.33)\n",
            "Requirement already satisfied: langsmith<0.2.0,>=0.1.75 in /usr/local/lib/python3.10/dist-packages (from langchain-core<0.3.0,>=0.2.17->langchain_openai==0.1.16) (0.1.93)\n",
            "Requirement already satisfied: packaging<25,>=23.2 in /usr/local/lib/python3.10/dist-packages (from langchain-core<0.3.0,>=0.2.17->langchain_openai==0.1.16) (24.1)\n",
            "Requirement already satisfied: pydantic<3,>=1 in /usr/local/lib/python3.10/dist-packages (from langchain-core<0.3.0,>=0.2.17->langchain_openai==0.1.16) (2.8.2)\n",
            "Requirement already satisfied: tenacity!=8.4.0,<9.0.0,>=8.1.0 in /usr/local/lib/python3.10/dist-packages (from langchain-core<0.3.0,>=0.2.17->langchain_openai==0.1.16) (8.5.0)\n",
            "Requirement already satisfied: anyio<5,>=3.5.0 in /usr/local/lib/python3.10/dist-packages (from openai<2.0.0,>=1.32.0->langchain_openai==0.1.16) (3.7.1)\n",
            "Requirement already satisfied: distro<2,>=1.7.0 in /usr/lib/python3/dist-packages (from openai<2.0.0,>=1.32.0->langchain_openai==0.1.16) (1.7.0)\n",
            "Collecting httpx<1,>=0.23.0 (from openai<2.0.0,>=1.32.0->langchain_openai==0.1.16)\n",
            "  Downloading httpx-0.27.0-py3-none-any.whl.metadata (7.2 kB)\n",
            "Requirement already satisfied: sniffio in /usr/local/lib/python3.10/dist-packages (from openai<2.0.0,>=1.32.0->langchain_openai==0.1.16) (1.3.1)\n",
            "Requirement already satisfied: tqdm>4 in /usr/local/lib/python3.10/dist-packages (from openai<2.0.0,>=1.32.0->langchain_openai==0.1.16) (4.66.4)\n",
            "Requirement already satisfied: typing-extensions<5,>=4.7 in /usr/local/lib/python3.10/dist-packages (from openai<2.0.0,>=1.32.0->langchain_openai==0.1.16) (4.12.2)\n",
            "Requirement already satisfied: regex>=2022.1.18 in /usr/local/lib/python3.10/dist-packages (from tiktoken<1,>=0.7->langchain_openai==0.1.16) (2024.5.15)\n",
            "Requirement already satisfied: requests>=2.26.0 in /usr/local/lib/python3.10/dist-packages (from tiktoken<1,>=0.7->langchain_openai==0.1.16) (2.31.0)\n",
            "Requirement already satisfied: idna>=2.8 in /usr/local/lib/python3.10/dist-packages (from anyio<5,>=3.5.0->openai<2.0.0,>=1.32.0->langchain_openai==0.1.16) (3.7)\n",
            "Requirement already satisfied: exceptiongroup in /usr/local/lib/python3.10/dist-packages (from anyio<5,>=3.5.0->openai<2.0.0,>=1.32.0->langchain_openai==0.1.16) (1.2.2)\n",
            "Requirement already satisfied: certifi in /usr/local/lib/python3.10/dist-packages (from httpx<1,>=0.23.0->openai<2.0.0,>=1.32.0->langchain_openai==0.1.16) (2024.7.4)\n",
            "Collecting httpcore==1.* (from httpx<1,>=0.23.0->openai<2.0.0,>=1.32.0->langchain_openai==0.1.16)\n",
            "  Downloading httpcore-1.0.5-py3-none-any.whl.metadata (20 kB)\n",
            "Collecting h11<0.15,>=0.13 (from httpcore==1.*->httpx<1,>=0.23.0->openai<2.0.0,>=1.32.0->langchain_openai==0.1.16)\n",
            "  Downloading h11-0.14.0-py3-none-any.whl.metadata (8.2 kB)\n",
            "Requirement already satisfied: jsonpointer>=1.9 in /usr/local/lib/python3.10/dist-packages (from jsonpatch<2.0,>=1.33->langchain-core<0.3.0,>=0.2.17->langchain_openai==0.1.16) (3.0.0)\n",
            "Requirement already satisfied: orjson<4.0.0,>=3.9.14 in /usr/local/lib/python3.10/dist-packages (from langsmith<0.2.0,>=0.1.75->langchain-core<0.3.0,>=0.2.17->langchain_openai==0.1.16) (3.10.6)\n",
            "Requirement already satisfied: annotated-types>=0.4.0 in /usr/local/lib/python3.10/dist-packages (from pydantic<3,>=1->langchain-core<0.3.0,>=0.2.17->langchain_openai==0.1.16) (0.7.0)\n",
            "Requirement already satisfied: pydantic-core==2.20.1 in /usr/local/lib/python3.10/dist-packages (from pydantic<3,>=1->langchain-core<0.3.0,>=0.2.17->langchain_openai==0.1.16) (2.20.1)\n",
            "Requirement already satisfied: charset-normalizer<4,>=2 in /usr/local/lib/python3.10/dist-packages (from requests>=2.26.0->tiktoken<1,>=0.7->langchain_openai==0.1.16) (3.3.2)\n",
            "Requirement already satisfied: urllib3<3,>=1.21.1 in /usr/local/lib/python3.10/dist-packages (from requests>=2.26.0->tiktoken<1,>=0.7->langchain_openai==0.1.16) (2.0.7)\n",
            "Downloading langchain_openai-0.1.16-py3-none-any.whl (46 kB)\n",
            "\u001b[2K   \u001b[90m━━━━━━━━━━━━━━━━━━━━━━━━━━━━━━━━━━━━━━━━\u001b[0m \u001b[32m46.1/46.1 kB\u001b[0m \u001b[31m3.8 MB/s\u001b[0m eta \u001b[36m0:00:00\u001b[0m\n",
            "\u001b[?25hDownloading openai-1.37.1-py3-none-any.whl (337 kB)\n",
            "\u001b[2K   \u001b[90m━━━━━━━━━━━━━━━━━━━━━━━━━━━━━━━━━━━━━━━━\u001b[0m \u001b[32m337.0/337.0 kB\u001b[0m \u001b[31m9.1 MB/s\u001b[0m eta \u001b[36m0:00:00\u001b[0m\n",
            "\u001b[?25hDownloading tiktoken-0.7.0-cp310-cp310-manylinux_2_17_x86_64.manylinux2014_x86_64.whl (1.1 MB)\n",
            "\u001b[2K   \u001b[90m━━━━━━━━━━━━━━━━━━━━━━━━━━━━━━━━━━━━━━━━\u001b[0m \u001b[32m1.1/1.1 MB\u001b[0m \u001b[31m32.0 MB/s\u001b[0m eta \u001b[36m0:00:00\u001b[0m\n",
            "\u001b[?25hDownloading httpx-0.27.0-py3-none-any.whl (75 kB)\n",
            "\u001b[2K   \u001b[90m━━━━━━━━━━━━━━━━━━━━━━━━━━━━━━━━━━━━━━━━\u001b[0m \u001b[32m75.6/75.6 kB\u001b[0m \u001b[31m6.1 MB/s\u001b[0m eta \u001b[36m0:00:00\u001b[0m\n",
            "\u001b[?25hDownloading httpcore-1.0.5-py3-none-any.whl (77 kB)\n",
            "\u001b[2K   \u001b[90m━━━━━━━━━━━━━━━━━━━━━━━━━━━━━━━━━━━━━━━━\u001b[0m \u001b[32m77.9/77.9 kB\u001b[0m \u001b[31m5.3 MB/s\u001b[0m eta \u001b[36m0:00:00\u001b[0m\n",
            "\u001b[?25hDownloading h11-0.14.0-py3-none-any.whl (58 kB)\n",
            "\u001b[2K   \u001b[90m━━━━━━━━━━━━━━━━━━━━━━━━━━━━━━━━━━━━━━━━\u001b[0m \u001b[32m58.3/58.3 kB\u001b[0m \u001b[31m4.7 MB/s\u001b[0m eta \u001b[36m0:00:00\u001b[0m\n",
            "\u001b[?25hInstalling collected packages: h11, tiktoken, httpcore, httpx, openai, langchain_openai\n",
            "Successfully installed h11-0.14.0 httpcore-1.0.5 httpx-0.27.0 langchain_openai-0.1.16 openai-1.37.1 tiktoken-0.7.0\n"
          ]
        }
      ],
      "source": [
        "!pip install langchain_openai==0.1.16"
      ]
    },
    {
      "cell_type": "code",
      "execution_count": 14,
      "metadata": {
        "id": "Nm1ett0gFIG8"
      },
      "outputs": [],
      "source": [
        "import os\n",
        "from dotenv import load_dotenv\n",
        "load_dotenv(dotenv_path=\"/content/.env\")\n",
        "\n",
        "GPT4o_DEPLOYMENT_NAME = os.getenv('GPT4o_DEPLOYMENT_NAME')\n",
        "API_KEY = os.getenv('east_us2_API_KEY')\n",
        "API_BASE = os.getenv('east_us2_API_BASE')\n",
        "API_TYPE = os.getenv('API_TYPE')\n",
        "API_VERSION = os.getenv('API_VERSION')\n",
        "\n",
        "from langchain_openai import AzureChatOpenAI\n",
        "\n",
        "llm = AzureChatOpenAI(\n",
        "        azure_endpoint=API_BASE,\n",
        "        openai_api_version=API_VERSION,\n",
        "        azure_deployment=GPT4o_DEPLOYMENT_NAME,\n",
        "        openai_api_key=API_KEY,\n",
        "        openai_api_type=API_TYPE,\n",
        "        temperature=0)"
      ]
    },
    {
      "cell_type": "code",
      "execution_count": null,
      "metadata": {
        "id": "VhliNAg4WUBa"
      },
      "outputs": [],
      "source": [
        "# Add open ai style"
      ]
    },
    {
      "cell_type": "markdown",
      "metadata": {
        "id": "pR84e87bNyU4"
      },
      "source": [
        "#Simple LangGraph\n",
        "2 Nodes connected by an edge"
      ]
    },
    {
      "cell_type": "code",
      "execution_count": 15,
      "metadata": {
        "id": "nSr8P0fKFIG-",
        "outputId": "223ab6b4-8591-4783-d80c-3eff51c3a97d",
        "colab": {
          "base_uri": "https://localhost:8080/"
        }
      },
      "outputs": [
        {
          "output_type": "execute_result",
          "data": {
            "text/plain": [
              "AIMessage(content=\"Sure, here's a classic ant joke for you:\\n\\nWhy did the ant bring a suitcase to work?\\n\\nBecause it wanted to be a little buggier!\", response_metadata={'token_usage': {'completion_tokens': 31, 'prompt_tokens': 12, 'total_tokens': 43}, 'model_name': 'gpt-4o-2024-05-13', 'system_fingerprint': 'fp_abc28019ad', 'finish_reason': 'stop', 'logprobs': None, 'content_filter_results': {}}, id='run-ce352057-94af-4f6f-9633-cfc8f2774d3d-0')"
            ]
          },
          "metadata": {},
          "execution_count": 15
        }
      ],
      "source": [
        "llm.invoke(\"Tell me an ant joke\")"
      ]
    },
    {
      "cell_type": "markdown",
      "metadata": {
        "id": "0VbTDPGPOGlJ"
      },
      "source": [
        "Now let's make each Node is a **function**"
      ]
    },
    {
      "cell_type": "code",
      "execution_count": 11,
      "metadata": {
        "id": "GUSU61hTK1C5"
      },
      "outputs": [],
      "source": [
        "def func_1(input_1):\n",
        "    return input_1 + \" First Function\"\n",
        "\n",
        "def func_2(input_2):\n",
        "    return input_2 + \" to Second Function\""
      ]
    },
    {
      "cell_type": "markdown",
      "metadata": {
        "id": "XjqwWWZSQ_Mx"
      },
      "source": [
        "![image.png](data:image/png;base64,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)"
      ]
    },
    {
      "cell_type": "code",
      "execution_count": 12,
      "metadata": {
        "id": "VDnBA9-ZK254"
      },
      "outputs": [],
      "source": [
        "from langgraph.graph import Graph\n",
        "\n",
        "# Define a graph\n",
        "workflow = Graph()\n",
        "\n",
        "# Add nodes to the graph\n",
        "workflow.add_node(\"node_1\",func_1)\n",
        "workflow.add_node(\"node_2\",func_2)\n",
        "\n",
        "# Time to add edge\n",
        "workflow.add_edge(\"node_1\", \"node_2\")"
      ]
    },
    {
      "cell_type": "markdown",
      "metadata": {
        "id": "GpGmwf60Sk-f"
      },
      "source": [
        "![image.png](data:image/png;base64,iVBORw0KGgoAAAANSUhEUgAAAncAAAGpCAYAAADvFhCgAAAAAXNSR0IArs4c6QAAAARnQU1BAACxjwv8YQUAAAAJcEhZcwAADsMAAA7DAcdvqGQAADqRSURBVHhe7d0HYBzVtfDxIzdZLpJcccFGLjTjim0wYINtTO95oSWBOCGdJCTvJSQkXx4h7aW8FwghEEiBEGoKHeJQDRgwzTYGTHG3cW+S3Jv0zZm5I63WI2kl7Wpn7v3/zPHMvXN3JbO6e87cnV0VVHsEAAAAVmhjtgAAALAAxR0AAIBFKO4AAAAsQnEHAABgEYo7AAAAi1DcAQAAWITiDgAAwCIUdwAAABahuAMAALAIxR0AAIBFKO4AAAAsQnEHAABgEYo7AAAAi1DcAQAAWITiDgAAwCIUdwAAABahuAMAALAIxR0AAIBFKO4AAAAsQnEHAABgEYo7AAAAi1DcAQAAWKSg2mP2kW97KkR2bAi2eypF9u82210i+7x9pX2p2hYG23betkNJ0G5fHLSLeosUevvaDwCwE7kDaSju8kUn2tYV3oRcL1KxWGS3NynTJ182lQ71Jqs3UbscbCYukxYAEofcgQxQ3LUWnXw71nmTcZE3MVcGEzOf9Cyt26EiJd7ELfW2AID4IXegGSjuckknZaV3hrX+zWBy5vLsqqXCydpzhOkAAOQFuQMtRHGXC7pkXr5QZOPb8Z6U9dHJ2nucSNeBpgMAkHPkDmQJxV226IWrWz70zrTeCM60bKAX0/ab6J2RjTQdAICsIncgByjuWkon5trXRNZ5E1P3bdXnGJEB00wDANAi5A7kEMVdc+lkXP2iyIb5dk/MdP5EPcU0AABNQu5AK6C4ayqdjJs/CCbn7nLT6aBB54j0GmUaAIAGkTsC5I5WQXHXFJXLRVY8KbJjrelwXKc+IgNPFSk+xHQAAA5A7qiL3JFzFHeZ2Oedca16QWTDPLeW0TPVZ4LIId5EBQDUInc0jNyRMxR3jalcJrLkYbeX0TPRtqPI4PNEuh9hOgDAYeSOzJA7coLirj7+Gdfz3hnX3GAfmel7nHcmdpppAIBjyB3NQ+7IKoq7KNvXiiyf4Z15LTUdaJLOfUUOu0SksNR0AIADyB0tQ+7IGoq7dDopP7jPO+PaaTrQLO2KRIacL9L9SNMBABYjd2QHuSMrKO5SrXlZ5KPnWErPprIzRPoebxoAYCFyR/aRO1qE4k7phPzoWZHV3gRF9vXzJmjZmaYBAJYgd+QWuaPZKO50ci57XGT9HNOBnCgZJHLU50wDABKO3NE6yB3N4nZxp5Nz0T9ENi8wHcipksFMUgDJR+5oXeSOJnO3uNOLXnVybmJytip9N9Tor5sGACQMuSM/yB1N4mZxVzM53zUdaFV6Fjb8C6YBAAlB7sgvckfG3CvudHIufUxk3RumA3mhk3TEF00DAGKO3BEP5I6MuFfcLX1UZNWLpoG86nGUyJGfNg0AiDFyR3yQOxrlVnGnE3PJI6aBWDjsIpGDxpsGAMQQuSN+yB0Ncqe42/SOyIf3B0vriJdh070zseGmAQAxQu6IL3JHvdwo7nZtFpnzayZnXOmvmxn5ZZEu/U0HAMQAuSPeyB31amO29tJJ+aH+vr8dXkPrWCJ2oY/Ngtu9fQCICXJH/IPcUS/7V+6WzRBZ8W/TQKz1HCEy7LOmAQB5RO5IDnLHAewu7ja+LfLun0wDiXDUFcFEBYB8IXckD7mjDntfltUl9eX/8nZSlnCJ+McHdwePHQDkA7kjmUHuqMPelbtFD4h8NNM0kCg9R4oM5/cIAsgDckdykTtq2LlyV77Qm5zPeTtplT2RjNj4VvAYAkBrInckO8gdNexcuZv7Gx7gpOvYQ+S460wDAFoBuSP5yB0++1buVj7rTc4PvZ20ip5IVuzaKLJmtrcPAK2A3GFHkDt8dhV3ejHlsse9nYgHnEheLPq7N1E3efsAkEPkDruC3GHZy7JLHjMTFNYoO0tk8NmmAQA5QO6wj+O5w56VO/2k6o+e8XbSKngi2aGPKat3AHKF3GFnOJ477Fm5W/KoyFLv7Av26Xu8yLBPmwYAZBG5w14O5w47Vu70zGvNy95OWuVO2BEb5npbAMgycofd4XDusGPlbvVLIgvuMA1Y6bCLRQZOMw0AyAJyh/0czR12rNytfNr7K61iJ+yKJY94WwDIInKH/eFo7kj+yt36uSJv3WQasNpRnxXpd4JpAEALkDvc4WDuSP7K3ZqXvL/SKnXCzuDaOwDZQu5wJxzMHcleudOLYV/8tshebws3TPqVSFFP0wCAZiB3uMex3JHslbvN73uTc7u3k1alE/bG+jneFgBagNzhXjiWO5K9cjfvNyLr3jQNOKH7kSLjrzENAGgGcod7HMsdyV250+X0Te95O2nVOWF3bF4gsnOjtw8AzUDucDMcyx3JLe42e5Nz7zbvMfMeNMKt0EkKAM1B7nA3HModyS3u1uuSuvdgEe6F/9gDQDOQO9wNh3JHglfu3vX+injwCPuDlTsAzUXucDdYuYu5yuUiOzZEPnaEA7Fnu8hO7/EHgKYgd7gdDuWOZBZ3O9d7f0U9coQzse51bwsATUDuIBzJHcks7ta94T1G3oNEuBv+u90AoAnIHYQjuSOZxR0fPklsfsfbAkATkDsIR3JHMou7iqXeY+Q9SITDYX4WACBT5A7C+88FySvuKpeJ7Fzn7VQRLsfercHPAgBkgtxBaDiSO5JX3OmHT6YusRLuhp6FA0AmyB1EGA7kjuQVdyyrE2H4T9YAkAFyBxGGA7kjgSt3XBBLmNjKy7IAMkTuIMJwIHck8Jq7GJ19nf1gEGVnRR/XGHdN42OaG1N+F9x31LFsxonXB18r6lg+Yw8rdwAyFKfckRoTrhM5477gufzUO6PHJCk69gz+HZr7oo7HIRzIHckr7nzegxOLMA67WKSol7fTwJjIYy2NUNSxLMXwz4sUl3n7KuJ4PsP/QFIAyFTE80g+Q59fe44U2b9HZO1rIqteiB6XpBj7LZEOXb19FXE8DuFA7khecbdjnffYeA9OHCKkP8ijv9rwGBV1vCURijqWjRj+BZFBZ5kv4okak89g5Q5ApuKUO8LwFwU8y54Qee0nIm/fGj0uKTHxlyLdDg/+TSpqTByClbsYitU7njw7N3pnXbu9s69RIv0nmv6IcZH9LY1Q1LEWhD7hTL4xKOz031cjYmw+gzdUAMhUbN8t69lTYfYTGpr7TvlzUNjV5IyIcXEJB3JHQbXH7CfDU1cEZ2BxcN5jIttXi3z0gsjhlwQ/1E9ONweNY38g0udY74zsNpElj5hOT6feIuOuFikeJNK2MCgQ9ZqQd28X2fSuGWSkj9Wv+d5fRY68TKRzP5GHzzYDjSM+JXLwicExpd/XiqdF3r8raDcm/J63vC/yhncmppNWv+bTXzADYqJ9F5Ez7zMNAGhAnHKH0vyRTvNEr1HROUNN8/pSn/MHnysywnteXvuq9zy/wSuyTgpeSQrziT5/70h7CbL/pOBSovBymz1bg1/LNuf/gnZzhN/XyudEyhfWfk+v/tgMiBkHcgcrdy0K432v0NKJVNQzKIyixqT29RgmMvUW7yzniKBo0kmgt9f2cT8KJl84tlMvs9TtHdu1KRirxnzDe/Q6BPup9z3yi0Gh2bGHyIZ5wXgtCLXv+J/UHVtf7N0hsvRRkRf+K+3JMGJsPkM/jBIAMhG3lTt9btbnf6Un0tquWBS0fRG3qZHW193LKYO8gm/7quB+NFdozkh/zh98jsi473iFWN/ar6kGTInIXU0ILSD1JeU5/2v6Qmnj4hIO5I7kFXfVVV54D04cwv9+NLy/3vKKNT1b0jOu7keljDHjVNg32ivMtOBa4hVQz14pMvs6kef/M2hr/xGX1Y4d4RVrWjSune2deX4uGKvbDXOD/tT71a87yJu8ulL3jHe7l74XjH/CO0vb5j2J9Bot0s8rHMPx9cWbvwr+PWHb/xopXydOAQCZiFPu0NDn5q0rgu/to+eD9kb9vafesdABt0vrD+lq3es/D/JImCP2VAaraan56PBLg/Fzrq8dO/NrwVjNXXpJTji2KaG5ZvHDwX6NtDFxC8sl8N2y+qDEJZTZ3/S2yOqXgq4xVwV9NWOUaffwJloXb8JpATb/5tp+DW1v88689LiO076Sod7WM98rtlLH6qTUYtJn+g79WNBc8aRZcUsZv9Qs75edHrSbFCqqPw4BAJmIev7Id4Qa60sNldbWvLHKKxBT+zcv0CMipYOD9pBzvSKw2Ot/v+5YzRX6sqwWeH0n1Pa3KEJRx+ISdktgcaeiHqh8RMi03/ylKc76i4z9tukPmTH+RPP4y++mLzW2rfS2nnBC6uqc3md6saahBaLPtLsMCJq9jhaZcG3d0FU7Ve9HtjQUoahj+Q4AyFTUc0g+I9RYX0PHPHq9XZ0+0+8z7dLDgqb/UnDqOC80dz1xkcjihw481qwIRR2LS9gtgS/Leg9KXCKU2vfeX4K+fifULnEr3fhjgmad26SHf9yMCaWPiToW6n6ESB/vDCw9Qqn3kUmEoo7lOwAgE1HPH3EI/3tL+/6i+sJ+VdNn2vt2pvSlhNKN7rcrCtpbPqg7JusRfJnoYzEKyyWvuGvXKfqBykeEUvtWzhRZ80pw7Zx+8ngodUwota++Y6HUMfUdC824TOSBU6Pjyc/UvY9MIhR1LJ9R1Nt8YwDQiDjljjBCjfU1dCyU2hfVr2+UU7qClzouFxGKOhaHcCB3JK64q27f2TsxiMefUGqf/+eV/w6uXygZ7E2k4Jo5He0fC98N5fWb0XX+SNeB/uHq3VuCti63d+kv1Z16mxG1f8I3VNS0w7e8H/rxmr6aP0POFznvUZHjrkvtzehPKLUvLn8AIBNxyh3hn5DupfdJYXFNX/jHv+THk9JTo7Yv+BOquW9dsVNd+gXt1D9hfhh1ZWpvM//USu2N2x/bJW/lTieoV3nHIUJRx6r1c+hU+Ank+uOk/RvmB9fQab9OpJTbaNufvN7x6pXPBf3mTRoFx3y/7lh9O7uuDnrCvqr37vTb+rb2au/MpGa8t19w2IX++Or1c2r7M4xQ1LF8hv4sAEBGYpQ7aqKmyEjpK18cdPUeW2es/5xv1PSZ23utOmP9MMdq7nvRA7WLDv1PqjO2QN9op/lh49t1+psTDX5PMQkXckfyirtOB3k/Nd6DE4cIRRyrXviAX0jV0OHmWNUbv/Lf6VrgnS21mXabFBz3I2kz5Ua/rf3V7/659n7m/jZYvet+pLQ57S/BWN0OnBbcrzJjxSscq/XDijsUS5tT/ywFk34ZjD/5lqCY3LzA/75qxmcaoahj+Yx2FHcAMhSn3FET5nvTremrXvpE8EkI6c/5+vmnWpz54+u/fUPHqhf81S/iCsZ9uzY/nHlvUPBpftAPIa5zH82J4MtGf08xCQdyRwJX7rp4j01Qfec7AtHHNKpeD4o4M6r2mFeEVb1wtVRvWuCv1BX0O96bXEP8tvZXrTCrdib2P/t1qV79sv9ZRv5Yb1u9/CmRbR8F950yturVnwUT2CsIC3ofHYzXMd7t9z/z1TpjM41A9LF8RviSNwA0Kka5I4yQ16rt3742yA8VS2rzg3e86vVf1hR3NWO9P6GaPhMhf5Tpq1r4T6ma/WOp3raqNj/oip2XT5qbHw6IBr6nuIQLuSNxv36saukM74f8F6YFl7UZ9mlpMzzt170BQARyB0Iu5I7krdx16OydDugnjRPOR7ch5ocCABpB7iDCcCB3JG7lTvZsk70PnGkacFm7c/4mBZ37mBYANIDcAcOF3JG84s6z959nSLU3UeG2Dv/xL++vLqYFAA0jdzSs3Yn/I236TzStxu25d5LZSxYXckcyi7t/fUaqtyw0LbiooNuh0v6M200LABpH7mhYQe9R0qab+TVlGdj/wd/NXnK4kjsSWdztm3Oj7H//ftOCi9oOPlPaTfi+aQFA48gdcCV3JO8NFZ6CXqMj395MuBP6MwAATUHuIFzJHYlcuaves1V2/+1U04KLCs9/QAq69DUtAGgcuQOu5I5EFndq14MXSPW21aYFlxR06CodL37atAAgc+QOd7mUOxL5sqxqO+BEswfXtDnoaLMHAE1D7nCXS7kjscVdm95jIl9PJ+yPNgfz5Aygecgd7oZLuSOxL8vqtRM77p1qWnBJ0X88LG269DMtAMgcucNdLuWOxBZ3avez/yX7Vsw0LbigTffDpejce0wLAJqO3OEe13JHYl+WVW0GnBS59ErYG224XgZAC5E73AvXckeiV+50eX3bXSR7l3S+6HFekgXQIuQO97iWOxK9cqdva24/9Bxvpnr1KWF9tBs4mcIOQIuRO9wKF3NHolfu1L41r8uOxz9nWrBZ0bTrpX0ZF0IDaDlyhztczB2JL+7U1vtOl6qtfCilzfRMu+ulM/wtAGQDucN+ruaORL8sGyo8+kve31qjErZGh+GfpLADkFXkDvvD1dxhxcqdXhxbec+p3rbS9MAmBR2KpfgTT1LcAcgqcofdXM4dbX/oMfuJVdC2UKp3bJR9694yPbBJ4ejPSfsBE00LALKD3GE3l3OHFSt3qnr3Vim//RjTgi0KCr0zr48/IG269jc9AJA95A47uZ47rFi5UwXtvDMwr0zdt/o10wMbFI7+vHQYNM20ACC7yB12cj13WLNyp6p3V0r5XSdLlbdF8rXxzrxKLnqIVTsAOUXusAu5w5J3y4Z0GbbohGu8merVq0Tio3DEZRR2AHKO3GFXkDssW7kLbblzsuzfusq0kERtvYlZevEj/pMuALQGckfykTsCVhZ3e1e9KhUPftK0kERdz7xFCgefYloAkHvkjuQjdwSsLO5U5eNfkt1LnjItJIlOzOKzfm9aANB6yB3JRe6oZW1xpxfIbr73bNlf+ZHpQRLoUnrP6S/wciyAvCB3JBO5oy5rizu156PZUv7PS00LSVBy9q1SOORU0wKA1kfuSB5yR11WF3eq8qlvyc4FfzctxFmnMVdI1xP/27QAIH/IHclB7jiQ9cWd2nT3GbJ3w7umhThqW3yw9PjkDP/ziQAgDsgd8UfuiOZEcbe/cqVs+NPxpoW40UlZes4fpcOA40wPAOQfuSPeyB31c6K4U7tXviKb/36haSFOSk77tXQ66iLTAoD4IHfEF7mjfs4Ud2rbm3+QyplW/Cpda3QZ+3kpnsxjAiC+yB3xQ+5omFPFnSqf8U3Z8c79poV88ifnlOtMCwDii9wRH+SOxjlX3KmN9/+H7F7xsmkhH9r3Pkp6XvJPaVNYYnoAIN7IHflH7siMk8Wd2nDfx5ikedLhoOFMTgCJRO7IH3JH5pwt7qp2V8iGey+QveveMT1oDe29ydnr0geZnAASidyRH+SOpnG2uAutv/d87yzsJdNCLnXoPSKYnB2ZnACSjdzResgdTed8cafW33O+7Foxy7SQCx0HTpSeH/sLkxOANcgduUfuaB6KO2Pz41+TbfPvMS1kU/H4L0nxxKuZnACsQ+7IHXJH81HcpSh/4edSMeuXpoVsKD7my9Jt2k9NCwDsQ+7IPnJHy1Dcpdm1fJasu/sc00Jz6UWv3U75mXQZ+QnTAwD2IndkB7kjOyjuIuxZ97ZsfPQr/hZN1+GgEdLznJv9LQC4gtzRMuSO7KG4a8Dmp66RildvNi1kouuoT0r3U/6HayQAOIvc0XTkjuyiuGvEzmUvyvq/f0KqdlWYHkTRCdn91J/7ExQAXEfuyAy5Izco7jKgk3PTk9+RrfPuNj1IVVQ2SXqde4u0Kz3E9AAAyB0NI3fkDsVdE+xeO1/W3n+p7CtfbnrcVthnpHQ76RrpfAQXEQNAfcgddZE7co/irhnKZ98km2ZcbVru0WX0bpO/L8WjL+P6CADIELmD3NFaKO5aoPyVm2TjjG+blv3adCyVkglXSvGYy6Q9y+gA0CzkDuQaxV0LVe0ql83P/VS2vPJb02Mff2J6k7LkuK8yMQEgC8gdyCWKuyzSSVrhxV5LrqvQidl9yv/zJ6fuAwCyj9yBbKO4y4Ft7z0i272omHun6UkOnYgd+46S0uO+Jp0GncjEBIBWQu5AtlDc5diWl2/0J+yOpc+bnnjqNOgkKSo7UUqOvlzadyszvQCAfCB3oCUo7lrJ/l3lsm3Bw7Jz6QtSMecvpjd/9Kyq0+CTpMuR50ph39H+GRcAIF7IHWgOirs82bFkpuxa85b/uUc7lnr7q+eZI9nXtqjUP6NqX1omRd5Zlk5Mbbdl2RwAEoXcgUxQ3MXIrjXzZO+WZf5k1Ymr+0q3eva2f2e5306lk8/fepOtjZmIHbwoKCzx9zv2G81kBACLkTuQjuIuYQYNGmT2AkuXLjV7AABEI3e4pY3ZAgAAwAIUdwAAABahuAMAALAIxR0AAIBFKO4AAAAsQnEHAABgEYo7AAAAi1DcAQAAWITiDgAAwCIUdwAAABahuAMAALAIxR0AAIBFKO4AAAAsQnEHAABgEYo7AAAAi1DcAQAAWITiDgAAwCIUdwAAABahuAMAALAIxR0AAIBFKO4AAAAsQnEHAABgEYo7AAAAi1DcAUAruPPOO80eAOQWxR0AtIIvfvGLFHgAWgXFHQC0Ego8AK2B4g4AWhEFHoBco7gDgFZGgQcglyjuACAPKPAA5ArFHQDkCQUegFyguAOAPKLAA5BtFHcAkGcUeACyieIOAGKAAg9AtlDcAUAelJSUmL1aFHgAsoHiDgDyoFOnThR4AHKC4g4A8oQCD0AuFFR7zD4SYNCgQWYvsHTpUrMHxEdRUZHZQ3369u1r9kR27NghFRUVplXr1ltvlcsvv9y0gOYjd7iFlTsAyDNW8ABkE8UdAMQABR6AbKG4A4CYoMADkA1cc5cwrXHdREFBgdlr3C9+8Qu5+uqrTat+v/zlL+U73/lOxuORbOnX3KVeX4bGcQ0eso3c4RZW7lCv0047rdEYOHCgGQ0gW1jBQ5JF5Yr0IHfkFit3CdOaZ1/Z/NHg7MstrNxlByt4yBZyh1tYuQOAmGIFD0BzUNwhq5YsWSJf+cpXpHv37v5Z3Pjx4+Wtt94yRw+0adMm/8xs6NCh/ni9nd5e+7V9+umnm5G1Zs2aJZdccknN19Db6n3obQDbUODBBeSO7KK4Q9boRBw3bpzccsstcswxx/jL6EOGDJHRo0fLnDlzzKi6dALqkrvS8Trx7rvvvsiJqfTYpEmT5P777/fH6m10gup96G0o8GAjCjzYjNyRfRR3yBqdJFu2bJHf//73MmPGDP/6CJ1Q9957rz+h0ukZ0xtvvCEXX3yxLFq0yB9/8803y3PPPSeLFy82o2rpmd2ll17q7z/++OP+WL2Nfi39mnpfV155pX8csA0FHmxF7sg+ijvUS5etG4rUMySdPP/+97/9sy1NNqn0LEnPytLddttt/vZnP/uZvw2NGjVKvvvd75pWrT/96U/+9stf/rKceeaZ/n5Iv6Z+bX0i0O8FsBEFHpIgKl+kBrkj9yjuUK+ot6+nxtixY81Ikddee83f6plUlAsvvNDsBXQZXs+wdOIOHjzY9NbS+0/35ptv+tuzzz7b36YLv/ZTTz3lbwEArS89V6QHuSP3KO5QL12ybih++tOfmpEiK1as8LdRqwoq/TONtm7d6m979Ojhb9PpGVg6PbtTjz32mL8snx7hBI766AjABnw0CpIgKl+kBrkj9yju0CqKi4vNXsvpRbd6jUZ6hBMYsBGFHVxE7mgeijtkRXh2tWzZMn+b7p133jF7ga5du/rb+t6hFPUW+PDai40bN/ofkllf6IWygE0o7GArckduUNwhK/Tt6+rJJ5/0t+meffZZsxfQpfNu3br571KKuoh19uzZZq+Wfu6R4po6uITCDjYjd+QGxR2yQi9s1Xci6YWu+kGSqfQt7VHL3uG7mr73ve/525CeeV1zzTWmVetb3/qWv9X7Tz8707M4ncD64ZT6QZWADSjsYDtyR27wu2UTpjV/P2DUu47S6buewotjdZLoW9z1jEpvO3XqVH+pXa9z0DMt/Rwj/eDI1KVvnVQ6Xt+K/oUvfMFPZDpe6Xi9H70AN6STXT+vSO9P3yZfVlZWcxsdr08S+hlGyC9+t2zLUdghm8gdbuUOiruEac0Jmon0CaST9Ac/+IE/kXTChBNP6YWr6RNUx+tnEOnnFumZWzjx9C3rZ5111gH3r/Ts6qabbvKX8fVrKB03ffp0/7bIP4q7lqGwQ7aRO9zKHRR3CdMaEzQOnnjiCX+C6rJ76tvmkQzpxR0OVF/BS2GHXCB3uIVr7pA3+nv9dGldz8DS3Xjjjf72jDPO8LeACyjsgMaROxrHyl3C2HT2pR8eqcvtupyu1zvoh1hqYtNfA6PL7Fw/l1ys3DUufeWOwg65RO5wC8Vdwti2tK7XV9xxxx113hHF9XPJR3HXuNTijsIOuUbucAvFXcK4ct0EYJv63mRCYYfWQO5wC9fcAUCeUNgByAWKOwDIAwo7ALlCcQcAeUBhByBXKO4AIAYo7ABkC8UdAOQZhR2AbKK4A4A8orADkG0UdwCQJxR2AHKB4g4A8oDCDkCuUNwBQCujsAOQSxR3ANCKKOwA5BrFHQC0Ego7AK2B4g4AWgGFHYDWQnEHAK2Awg5Aa6G4AwAAsAjFHQAAgEUo7gAAACxCcQcAAGARijsAAACLUNwBAABYhOIOAADAIhR3AAAAFqG4AwAAsAjFHQAAgEUo7gAAACxCcQcAAGARijsAAACLUNwBAABYhOIOAADAIhR3AAAAFqG4AwAAsAjFHQAAgEUo7gAAACxCcQcAAGARijsAAACLUNwBAABYhOIOAADAIhR3AAAAFimo9ph9xNBZZ50lCxYsMK2GTZgwQe69917TAgC4itzhNlbuYu5Xv/qV2WvcVVddZfYAAC4jd7iN4i7mhg0b5kdj9MxLAwAAcofbKO4SIJMzMM68AACpyB3uorhLgMbOwDjzAgCkI3e4i+IuIRo6A+PMCwAQhdzhJoq7hKjvDIwzLwBAfcgdbqK4S5CoMzDOvAAADSF3uIfiLkHSz8A48wIANIbc4R6Ku4RJPQPjzAsAkAlyh1v4DRUJpJ88XlxczCeKAwAyRu5wB8VdAumvlKmsrGRZHQCQMXKHOyjuYmT1fpEP9nnbqmpZU1UgW71HRvt0u7UqGKP7qboWmG0bkX5e6LZvQbW/Pbxdgd/Xr20wBgBgH3IH0lHc5YlOtDf2VPsTcuae2omYK1MKdQIXyNj21cHEZdICQOKQO5AJirtWomdPH+yrlud2hxMzv//b9axtSscCmdLBC28LAIgfcgeag+Iuh3RSvrGnSu7eEUzIcHk8jqZ0bOOfoZ1b1Mb0AADygdyBlqK4y4HXd1fJzN3V8vDOqlhPyvpM9SbrJzoVyPhCJisAtBZyB7KF4i5LdCI+u2u/3L29St7fa8f/0n5tC+TLXdvIeZ24yAIAcoHcgVyguGuhrVXV8tdt++Wu7fsTeaaVqcu6tJWrS9qZFgCgJcgdyCWKu2bSiXnL1v3ykD8x3flfeFnXdkxUAGgmcgdaA8VdE+lkfGbnfrmlcq+syvO7lvLpJ907yPmdmagAkAlyR4Dc0Too7prg9V375efle+T9PRavoTfBER3ayHdLO8j4jlxXAQD1IXfURe7IPYq7DOgZ1+8q9spDW/dKpUPL6Jm6vKSDfLdbB9MCAChyR8PIHblDcdeI13btk+9v2C2r9nHG1ZCubQrkZz07yskstwMAuSND5I7coLirh55l/W7LHnlw6x6nLnptqctLCuWaHoWmBQBuIXc0D7kjuyjuIry3e7/8z6ad8trOfaYHTXFkYVu5qU9n6d+OD7IE4A5yR8uQO7KH4i6NTsqvrt0mlfv539ISxW0L5Ge9O8m0zlxPAcB+5I7sIHdkB8Vdir9s2SU3bd4llVVcI5Et3+vZST7draNpAYB9yB3ZR+5oGYo7j14jcdOmnXLHlp2mB9k0vVuRfK9XJ9MCADuQO3KL3NF8zhd3uoT+sw3b5YGKXaYHuXBMp/Zy14AS0wKAZCN3tA5yR/M4Xdzp5Pzu2q3y1Nbdpge5dKxO0oGlpgUAyUTuaF3kjqZztrjTyfmdNZVMzlZ2ZMd28uig7qYFAMlC7sgPckfTOFncVe6vkqtXMznz5djOHeSeQ7qZFgAkA7kjv8gdmXOuuNPJ+ZO1W+Wf5VwAm0/+JC3jLAxAMpA74oHckRnnirufrKmUP2/cblrIp1OLO8rvOQsDkADkjvggdzTOqeLuzxu2yY/XVJgW4uBXB5fKx7t3Ni0AiB9yR/yQOxrmTHH3ZMVO+fbKLf7SOuLl1rIecmpJkWkBQHyQO+KL3FE/J4q7j/bskzM/WMfkjKnitm3kvqG9ZFgRv24GQHyQO+KN3FE/64s7nZSfX7pRZm/lgybj7OAO7eSlo/qZFgDkF7kjGcgd0awv7q5fXS7Xr+VaiSQ4rbST/GFwL9MCgPwhdyQHueNAVhd3/y7fLp9fvN60kAR/GNLbm6hcJAsgf8gdyUPuqMva4k6X1C/6YI28u4MPm0wSvYbilZED/S0AtDZyRzKRO+qytrj74YpN8se15aaFJDm9W2f546F9TAsAWg+5I7nIHbWsLO5eqdwpH39vlWkhif5xZH85rpi3uANoPeSO5CN3BKws7j7+3kfySgW/IibJBnRsL7NHl5kWAOQeuSP5yB0B64q7P6zZItcu32BaSLLrBx8kF/cuMS0AyB1yhz3IHZYVd5X79ssxc5bwgZOW0AtjnxpVJgMK25seAMg+coddyB2WFXf/u2KD/N/KTaYFG/zXgB7yrYF8fhGA3CF32Mf13GFNcVehZ15vLPK2nHnZpKRdG3l69GD/OgoAyDZyh51czx3WFHe/Wr7eO/vaaFqwySUHlcpvDuPXywDIPnKHvVzOHVYUd3rmdfKcxbJy1x7TA5sUt2srC48/0rQAIDvIHXZzOXe0/aHH7CfWQ+sr5L61W0wLttldVeVP0nHFnUwPALQcucNuLucOK1bupryxUN7ZxmcT2azEm6CLJh5lWgDQcuQO+7maOxJf3D2xoUIuf2eZacFmvz1igFzat7tpAUDzkTvc4WLuSPxv2L1v7WYRrU8J6+NfGyvMow4ALUPucCdczB2JXrnTi2HHzHrH38INc08YLgOLOpgWADQducM9ruWORK/czdq8Vcr37vMK82rCkXhiPRc/A2gZcod74VruSPTK3afmLZbHSfZOmdi9qzw67nDTAoCmI3e4x7XckdjiTpfTR70wXyq8sy+45a0TR8rAokLTAoDMkTvc5VLuSOzLsrM2VUr5nr2Ry6+E3TFrc6X5KQCApiF3uBsu5Y7EFne6pB714BH2x+PreDkFQPOQO9wNl3JHYl+WHfHcXFm+c5dpwSWl7dvJilPGmxYAZI7c4S6XckciV+7mV26X5Tu8yallKeFclO/ZJyt27PYaAJA5cofb4VLuSGRxt8KbnKlLrYR78ejaTeanAQAyQ+4gXMkdiSzuHuOTxZ0PvSgaAJqC3EG4kjsSec3dpa8vkEfXsHLjspL27WTVGceZFgA0jtwBV3JHIou7YU+9Flw3AWfpBF195vGmBQCNI3fAldyRuOJufsU2mfDsm6YFl82eOlZGlnQxLQCoH7kDIRdyR+KuudN3u0S9jk64F2+VbzM/FQDQMHIHEYYLuSNxxd1b5Vu9xyb6XTCEW6GfMg8AmSB3EGG4kDsSV9xV7NVfG1NFEP7LLACQCXIHEYYLuSNx19xd+PJ8eWTVetPKr90XTvO3/znvA/ndwpX+frp/njBKzu7Xq8ExzfXuGcfL0C6dpPDvT5ue7BjYqaPcNn6YjCztKj06tPf7Fm3bITcvWpn1f0NLnNu/t/z9+JGmBQD1i1PuSDXjpKPl2B4l0qltW9m0Z6/0e/h5cyQ5LhxwkHzt0IEyorSL/+/YsX+/LN62U74x532ZtbHcjIoPF3JH8j7nTmvRuITx/WGDZWBRYYNjgk/ITjvW0ghFHWtm6L9j5tRxMqV3d9niPdE8tnqDPLdus/Tz+n89+nC5YczhkbfLRyz3Ck4AyEjEc0i+Q59P9bl25/4q/7n2byvWRo6Lc1x48EH+YoAWqG+Xb/P/HbodUdJFHj1xjH886nb5DBdyR+KKu2Xeg5L62nk+I6SrW7eOPyp6TM2wA4+1NML7jjrW3Lh+zBHSv6ij3LN8jQx7fJZ87MW5ctrMN+Tzr73rn419elC/yNvlI7T4BIBMxCl3hDHAe65Vv1+40n+uverN9yLHxTl+OHyIv1r3yVfmy6SnX/X/Hbq9eeEKv/87R5ZF3i6f4ULuSOC7ZfW6iegHrLVDfbRjl1/0TD2ou780fcA4U4Hp8AOOtTBCUceaG706Bi/D/vf8hXX6/+YVe7M3lvuT9cpDB9Y5lq8o37PH/14BoDFxyh01YfLDxt17oo8nILp1aO/nQc0Rqf1aqGr/iNKudfrjEC7kjsQVd/rASFVMwrNrf5Vc/94yf/8Xow8/cEwwLKjuUvoP8c7YZk07Vio+Pk32XnKav9X2xJ6ldcZFjX3vrEly0YA+5o49aeN/OHyoP0bHaiw99yS/L31cVEz892xpf88MWb51xwHHtu/dH3y92DwGwbcDAI2JVe7wQp+bz+nf2//erj/6CL/9Ve/E+YGJY2r2028TPq+HbR2jbb3Nb44+UtZeMNVvh/lEc0fq7TU0d8w5/Xh/nIbe5o4JIw4Yl2n0+eczMuihmZHHND/6Io7lN4Jvy2bJW7nzz3Ci3wHT2qG88wC59q0P5O3yrXJwp47ywIlj0sZ4P0j+QD1jCPpO6FUq88+aKMd6hdzibTvk0Y/W+bfX9uOTx8mFA3UFMBg7sFOhzDzlWP/Yqp27/LH6Nf9w7HDp2DZ4+MKxGjeMPVK+P3yIf43cs2s3+eOLvHHa9++p4+uMbWoc733f6pGVayOPt3Zs2b3b/34AoDFxyh0a+ty8cOt2/3t7dWO53567ucJrHZgzasIcC9veX35bn5u/cthAWeTdn96P5grNGf+aOq72tl581Rtz9wmjZEiXTjVfU7/eJ8v6HZC7Whqa54Z27eSv3kUdz2e4kDsSuXIXlwjp/tdee0d27Nsv5xx8kEzs1e3AMfrH9P3BO0vq1K6t/O6DZTL6sRfk/JlvyPEzXvLb2n/dqMNqxt4wbphfNOokPOLhmf5Y3T6zdqPf79+3Gatf98rDD/En0/BHn5dTnp7tj+/996f8J5GpfXp4hWPfmvFNib8cP0p6FHbwX5qN43WPANCQqOePfIY+N79fEXwkx73LVvntF9fV/t5bb9QBtwnV9Hl/lD43X/riXD+PhDlik1fMHtq1c5189P9GDPXHX/HK/Jqx45+Y5Y/V3KWflFBz3y2MG73cpR72FwOix+QzbJfMl2Vj6MX1m+VB74dY/eG4+t9iPal3d3/CaQH29dffNb0BbWsRpsd1nBrTvcTfXpU2VielFpOp/mvYYH97x+KVsnz7Tn8/pIWj+vyhA/xtU9w4/ij55KD+/hPAJ16cY3oBIDlsTuiaN/62fLVpBV7esMXfju5e7G+/dkRZzQl66ljNFTNWb/Cf388dcJDpbZmXTj9BRnYrlvlbKg/Ic2gdiSvuvBkq1VXxiOD78f4z7cu8M6eFlUFx9pfjRwf94fOJGTfa+4FXczZV1NwuNd4zvxZFx2lbV+f0Ppdt3XHA2FVegajC9hHFwe/Km9anpzx40rg6MfWgnv6xAZ2K6txHY/GbcUfJlYeX+YXkV199J/L7yGcAQEZilDtqIi0/1NtnwizUHdBesW1nnXF+mGPh/YzrHlxWs8jLJ+ljNXf1uv9JuXHB0gOONTVeOu14mdCz1F/AOO/Z1yPHxCFsl9CXZaNfR2/tCKX2/WDu+37fxwb2kYGdC/Wo3679vmtnXOrtwkgfH0ofF3UsNKFXN/8MLD1CqffRUDw0ZZx81Tvb0zO6z740T+5b+lHkuHwGAGQiTrkjDO+7OuB7i+qrPRao7QvGbt+3L6UvHFv3forbt/Xbr2/cUmdctkLz3bxzTvTzjy5ITPzXi7Jsm1dIRoyNQ9guccVdaft2+tMajwil9N3vFUD6hgO9du6RqceaAZ6UMTVS++o7FkodU98xo+wfT0nBHQ9HxmEPPF33PuqJV86c5BWEfeSj7Ttl7KPP+/+uqHH5jLLOReZfDAANi1XuCCPUWF9Dx0KpfRH9leaz3cb3KKk7LgtxiPdcPOv0if5LsbM3bPHzjP+JCxFj4xAu5A6Ku5aE78D+856e7a926Q/60eaaOZ93bO6m4Fex+P1pt9M4siR4aXXdzl1+W4urQ4s7+5MnfWx/84aKsL1ie/Cp2986akidcRpfP3KwbP/U2fKwFpxpx9LjlbMm+Wdf+rUnPvGiN0m3R46LRQBABmJZ3Hn/1Ujr61nYIaUvCM0FvrAvpLsp44IIDvm89usbg9wzVO8jbWyYH3577IgDjjUWfmF3xkQ52NvO3rBZjnvs+chxsQvLJa+46xDvlbswfmRentUfeJ/pf3HtRllYuc3v/+2xI+vcRtuHFnfxj9+/JFgpe2j5Gv/m9500rs7Yv5441l8d9Jm+6+a85zcvHXxwnWJQ9789fKg//pnV62v6o+JHY47wCrvuQWH3+AuxLuz8nwUAyECsckcYYQWW0vfW5qAIO6Vfrzr9+pxfI6XfdNTt8/s1dBO0b3x3kVl0KJGLy/rXjvPiikMH+vlh1tpNdfoziT+dMCYo7NZ7hd2jySjsXMgdiSvuyjp3inyw8hKhiGM6kfxCqkbtsStenBO8QWHYYHnr/Kny8LQJ8srZJ/lt7f/Bmwtqxn7tlXl+oTWhd3f58OOn+GN1+6khKe96NWO1cLxr0Qr/HVELPjZNnj79BH/8m+dNqZl8+n2F46PiK94ZXOgp7/b6tdLj4kF1nxjyFaXtg9+mAQCNiVXuCKNGbd+fPljm54H05/yPHdLPL86C4eHtU+4j7Ks5Fqrt+9Hc9/wi7s+Tjq7JDysvPl1Gdi/x88P9S1bW3j6DmHRQDzm5n1eEenp07FAnT6RG1G3zGS7kjgSu3HkPSsSDlZdQuok65sUVL7xZ+3ElXlfY/+KaDXL6jFn+ZBpa3EXOHdi3ZnJp//2L606wiY/OlEeWr5HuXtGmY3WrRdxC8xlJqWMvm/m6/NibwKu8gvDkfr398Upvf9wjz9UZmx46UbUwVFoM6ipiVBzUsTDy9q0do1Nf8gaABsQqd9SE+eZ0a/r01RLNA/M3V/jPt/5zuHfosy+8IZt3pRV3eju/rRH2hREcSj124zuL5JJnX5VFldtq8kORV+xpPmksP0TFRXqib6TnidSIum0+w4XcUVAdvt0mIe74cJl8xvshB64dM0x+ODb4oEwAaAi5AyEXcgcrd0RiY7S+6wsAMkDuIMJwIXckrrib3K935INFuBejewQfygkAjSF3EGG4kDsS97Ks6nb7A1JuPrMH7toy/QIpNdcIAkBjyB0Ne/i0iXKuvpM2QwW33m/2ksWF3JHI4m7MP/4t8zYGvzcPbhrds5vM/fhppgUAjSN3NGxS314yxntuzdSNb39o9pLDldyRyOLumy/NkRvmf2BacNH0IwbL7VNSfgMIADSC3AFXckfirrlTJ3HthPNxkneGCQBNQe4gXMkdiSzuuDCW8H8GAKAJyB2EK7kjkcWdXghZ1vXA349HuBH6kQZl+sGYANAE5A63w6XckcjiTp0/6ODIB4+wP1i1A9Bc5A53w6Xckdjijmsn3I3z9MkZAJqB3OFuuJQ7ElvcTT64T+SDR9gf/mMPAM1A7nA3XModiS3u9NqJ8wcPiHwACXtDP6OI6+0ANBe5w81wLXcktrhT5w3xJqh4DxzhTJynT8oA0ALkDvfCtdyRyA8xDpXv3iPdbr7LtOCCpVdcxModgBYhd7jHtdyR6JU7XV6fPmyoV5R79SlhfZw/ZCCFHYAWI3e4FS7mjkQXd+rTww6NfDAJ++LT+mQMAFlA7nAnXMwdiS/uJg/oG1TkEQ8oYU/oh09OHtDPPOoA0DLkDjfC1dyR+OJOXXvcGO9BrCIsjquOPsp/KQUAsoXcYX+4mjsS/YaKUPnu3TLo9/f4W9intLBQln7pE/4WALKF3GE3l3OHFSt3+sBNH364V6UfuCRLJD+uGjucwg5A1pE77A6Xc4cVK3eqfNdu6XbDn0wLtijtWChzP3ORlJV0NT0AkD3kDju5njusWLlT+kBee8K4yOqdSG5cNXYEhR2AnCF32Bmu5w5rVu6UnoENuvlOf4vk88+8rrjYm6DFpgcAso/cYRdyh0Urd0of0OtPnhhZxRPJi6vGjaSwA5Bz5A67gtxh2cpdaNBNd8iy8q2mhSQqK+0qcz93qf+kCwCtgdyRfOSOgFUrd6Hbz5nm/a01K5HUuP6USRR2AFoVuSP5Qe4IWLlypy7426Py0AeLTQtJcv7hQ+TBi84xLQBoPeSO5CJ31LK2uNMLY8fcdpcsK680PUgCPeNa+vUrOPMCkBfkjmQid9Rl5cuySh/g2889VaIutiTiG/qYMTkB5Au5I5lB7qjL2uJOTS4bINNHDYv8QSDiF9849mg5/4ih5tEDgPwgdyQryB0HsvZl2VRjbrlT5q1db1qIo7LSEpn75cs58wIQG+SO+CN3RHOiuFtWXiGDfn2baSFudFI+eOn5MnnQQNMDAPlH7og3ckf9nCju1MylK2TKn+8zLcTJ7RecIdOPHmFaABAf5I74InfUz5niTt3w8hvyzSeeMS3EwTeOHy/XnznVtAAgfsgd8UPuaJhTxZ36zD8flzvmvG1ayKdvnKCT82TTAoD4InfEB7mjcc4Vd2rKH++WmUtWmBbyYXTfg+S5z39CSjt2ND0AEG/kjvwjd2TGyeJOTfmDTtLlpoXWFEzOT0ppEZMTQLKQO/KH3JE5Z4u78p27vEl6l8xbvc70oDWM7qeT81NMTgCJRO7ID3JH0zhb3IWm3PZXmbmYs7DW4E/OL1zG5ASQeOSO1kPuaDrnizs15dY7maQ5NnnIIfLg5RcxOQFYg9yRe+SO5qG4Mz7zt0fkjtfnmRay6RsnTpBrp53I5ARgHXJH7pA7mo/iLsUPn5wp1z31vGkhG74xaYJcf+5ppgUA9iF3ZB+5o2Uo7tLMXLxMptxyh2mhufRt6tefd7pMHz/a9ACAvcgd2UHuyA6KuwjzVq2Vz9z3oMxbvdb0oClG9+sjt19ygYzu38f0AID9yB0tQ+7IHoq7BnzzoX/JDS+8YlrIxPTxY+T688/gGgkAziJ3NB25I7so7hoxc9FSueDP9/ifbYT66YTUiTn9mKNNDwC4i9yRGXJHblDcZUAn5zcffELueG2O6UGqyUMHye2f+JiUde9megAA5I6GkTtyh+KuCeatWiMX/PFuWbZ5i+lx2+j+feXa06fK+SOHmR4AQDpyR13kjtyjuGuGG2a+JN984HHTco8uo197xsky/dixXB8BABkid5A7WgvFXQvc8NwspyaqTsarJp/gT8yyHiyjA0BzkDuQaxR3LVS+c6dc98Qz/mS1VWlRkUyfMNafnExMAGg5cgdyieIui254dpb8ZuYsWbbJjusqSjsVybVnTJPpx+kSepHpBQBkE7kD2UZxlwMPvfWOPDx/gdzxyuumJzl0Uo4+uJ9cNWWiTD5sCBMTAFoJuQPZQnGXYzc8+4I8/Na7MvPDxaYnnnQynnToEO9Ma5yU9ehuegEA+UDuQEtQ3LWS8h07/bOy5xculjtezv9ZmZ5lTT5sqJw36ij/bGv0gP7mCAAgLsgdaA6KuzyZ+eEimbdytSzfvEVmfqD7q8yR7NPJqGdUGid5Z1l6pqX72g8ASA5yBzJBcRcjOkmXbdrsb5dv2uLvK93q2ZtGunCS6VavcSjrGUzEkqKO/lbPqpiMAGAvcgfSUdwBAABYpI3ZAgAAwAIUdwAAABahuAMAALAIxR0AAIBFKO4AAAAsQnEHAABgEYo7AAAAi1DcAQAAWITiDgAAwCIUdwAAABahuAMAALAIxR0AAIBFKO4AAAAsQnEHAABgEYo7AAAAi1DcAQAAWITiDgAAwCIUdwAAABahuAMAALAIxR0AAIBFKO4AAAAsQnEHAABgEYo7AAAAi1DcAQAAWITiDgAAwCIUdwAAANYQ+f8h2HrrK1WElgAAAABJRU5ErkJggg==)"
      ]
    },
    {
      "cell_type": "code",
      "execution_count": 13,
      "metadata": {
        "id": "ZYpBKBUeQiuW"
      },
      "outputs": [],
      "source": [
        "#Set Entry and Exit points\n",
        "workflow.set_entry_point(\"node_1\")\n",
        "workflow.set_finish_point(\"node_2\")\n",
        "\n",
        "app = workflow.compile()"
      ]
    },
    {
      "cell_type": "markdown",
      "metadata": {
        "id": "mwTdgr8dS8H_"
      },
      "source": [
        "![image.png](data:image/png;base64,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)"
      ]
    },
    {
      "cell_type": "code",
      "execution_count": 6,
      "metadata": {
        "colab": {
          "base_uri": "https://localhost:8080/",
          "height": 35
        },
        "id": "CHhPKaQyLnzH",
        "outputId": "75d50ae7-91c4-45e7-9004-4ea50001791a"
      },
      "outputs": [
        {
          "output_type": "execute_result",
          "data": {
            "text/plain": [
              "'I move from First Function to Second Function'"
            ],
            "application/vnd.google.colaboratory.intrinsic+json": {
              "type": "string"
            }
          },
          "metadata": {},
          "execution_count": 6
        }
      ],
      "source": [
        "app.invoke(\"I move from\")"
      ]
    },
    {
      "cell_type": "markdown",
      "metadata": {
        "id": "LOl__FZCM5DO"
      },
      "source": [
        "**Streaming output from LangGraph**\n",
        "\n",
        "stream() method outputs dictionary of the format\n",
        "\n",
        "```\n",
        "{node_name : output_from_the_node}\n",
        "```\n",
        "\n"
      ]
    },
    {
      "cell_type": "code",
      "execution_count": 7,
      "metadata": {
        "colab": {
          "base_uri": "https://localhost:8080/"
        },
        "id": "b7sJiErTMAcp",
        "outputId": "90d97add-a6ad-44b1-a3a1-0001348db780"
      },
      "outputs": [
        {
          "output_type": "stream",
          "name": "stdout",
          "text": [
            "Output from node 'node_1':\n",
            "---\n",
            "I am moving from First Function\n",
            "---\n",
            "\n",
            "Output from node 'node_2':\n",
            "---\n",
            "I am moving from First Function to Second Function\n",
            "---\n",
            "\n"
          ]
        }
      ],
      "source": [
        "graph_input = 'I am moving from'\n",
        "for output in app.stream(graph_input):\n",
        "    # stream() yields dictionaries with output keyed by node name\n",
        "    for key, value in output.items():\n",
        "        print(f\"Output from node '{key}':\")\n",
        "        print(\"---\")\n",
        "        print(value)\n",
        "    print(\"---\\n\")"
      ]
    },
    {
      "cell_type": "markdown",
      "metadata": {
        "id": "qRdINK1AVLNa"
      },
      "source": [
        "# Sentiment Analysis using LangGraph"
      ]
    },
    {
      "cell_type": "code",
      "execution_count": 16,
      "metadata": {
        "id": "vOz4lSA2VRju"
      },
      "outputs": [],
      "source": [
        "def sentiment_analysis(input_1):\n",
        "    SA_prompt = f\"\"\"You are an expert at performing sentiment analysis.\n",
        "    Your task is identify the sentiment of the provided input.\n",
        "    Provide only the sentiment based on the user input.\n",
        "    Don't include reasoning.\n",
        "\n",
        "    User input: {input_1}\"\"\"\n",
        "\n",
        "    response = llm.invoke(SA_prompt)\n",
        "    return response.content\n",
        "\n",
        "def convert_to_upper(input_2):\n",
        "    Sentiment_UPPER = input_2.upper()\n",
        "    response = f\"Here is the SENTIMENT in UPPER case: {Sentiment_UPPER}\"\n",
        "    return response"
      ]
    },
    {
      "cell_type": "code",
      "execution_count": 17,
      "metadata": {
        "id": "BcdtZwc8XjZL"
      },
      "outputs": [],
      "source": [
        "# Define a Langchain graph\n",
        "workflow = Graph()\n",
        "\n",
        "workflow.add_node(\"sentiment_analysis\", sentiment_analysis)\n",
        "workflow.add_node(\"convert_to_upper\", convert_to_upper)\n",
        "\n",
        "workflow.add_edge('sentiment_analysis', 'convert_to_upper')\n",
        "\n",
        "workflow.set_entry_point(\"sentiment_analysis\")\n",
        "workflow.set_finish_point(\"convert_to_upper\")\n",
        "\n",
        "app = workflow.compile()"
      ]
    },
    {
      "cell_type": "markdown",
      "metadata": {
        "id": "mry4x6yuFIHI"
      },
      "source": [
        "### Visulize the Graph"
      ]
    },
    {
      "cell_type": "code",
      "execution_count": 18,
      "metadata": {
        "id": "Ii-TlN2FFIHJ",
        "outputId": "cf71b8df-5c00-4cc4-a700-b3e2434b255c",
        "colab": {
          "base_uri": "https://localhost:8080/",
          "height": 320
        }
      },
      "outputs": [
        {
          "output_type": "display_data",
          "data": {
            "image/jpeg": "[encoded data removed]",
            "text/plain": [
              "<IPython.core.display.Image object>"
            ]
          },
          "metadata": {}
        }
      ],
      "source": [
        "from IPython.display import Image, display\n",
        "\n",
        "display(Image(app.get_graph().draw_mermaid_png()))"
      ]
    },
    {
      "cell_type": "code",
      "execution_count": 19,
      "metadata": {
        "colab": {
          "base_uri": "https://localhost:8080/",
          "height": 35
        },
        "id": "3nBUCBkmXqkN",
        "outputId": "4f3ff13f-d5cd-4097-b6a1-00da0a56823f"
      },
      "outputs": [
        {
          "output_type": "execute_result",
          "data": {
            "text/plain": [
              "'Here is the SENTIMENT in UPPER case: NEGATIVE'"
            ],
            "application/vnd.google.colaboratory.intrinsic+json": {
              "type": "string"
            }
          },
          "metadata": {},
          "execution_count": 19
        }
      ],
      "source": [
        "tweet = \"The movie was so nice that I walked out in 2 min\"\n",
        "app.invoke(tweet)"
      ]
    },
    {
      "cell_type": "code",
      "execution_count": 20,
      "metadata": {
        "colab": {
          "base_uri": "https://localhost:8080/",
          "height": 35
        },
        "id": "Os8LiDo0Xw5w",
        "outputId": "ea570175-f338-4990-f59a-e200babb0373"
      },
      "outputs": [
        {
          "output_type": "execute_result",
          "data": {
            "text/plain": [
              "'Here is the SENTIMENT in UPPER case: POSITIVE'"
            ],
            "application/vnd.google.colaboratory.intrinsic+json": {
              "type": "string"
            }
          },
          "metadata": {},
          "execution_count": 20
        }
      ],
      "source": [
        "tweet = \"Wish the movie was nice. But it was extraordinary\"\n",
        "app.invoke(tweet)"
      ]
    },
    {
      "cell_type": "markdown",
      "metadata": {
        "id": "ZK9skW-jFIHO"
      },
      "source": [
        "### Streaming"
      ]
    },
    {
      "cell_type": "code",
      "execution_count": 21,
      "metadata": {
        "colab": {
          "base_uri": "https://localhost:8080/"
        },
        "id": "LOwwT5AQX0Ad",
        "outputId": "d771057f-0690-49c6-f365-47e1fdeae6dc"
      },
      "outputs": [
        {
          "output_type": "stream",
          "name": "stdout",
          "text": [
            "Output from node 'sentiment_analysis':\n",
            "---\n",
            "Positive\n",
            "---\n",
            "\n",
            "Output from node 'convert_to_upper':\n",
            "---\n",
            "Here is the SENTIMENT in UPPER case: POSITIVE\n",
            "---\n",
            "\n"
          ]
        }
      ],
      "source": [
        "for output in app.stream(tweet):\n",
        "    # stream() yields dictionaries with output keyed by node name\n",
        "    for key, value in output.items():\n",
        "        print(f\"Output from node '{key}':\")\n",
        "        print(\"---\")\n",
        "        print(value)\n",
        "    print(\"---\\n\")"
      ]
    },
    {
      "cell_type": "markdown",
      "metadata": {
        "id": "t38gbzRlfN77"
      },
      "source": [
        "# State\n",
        "\n",
        "Now Let's introduce the state to the Graph.\n",
        "\n",
        "One of the central concepts of LangGraph is state. Each graph execution creates a state that is passed between nodes in the graph as they execute, and each node updates this internal state with its return value after it executes.\n",
        "\n",
        "\n",
        "## Benefits\n",
        "\n",
        "-Enables stateful applications that can maintain context over multiple interactions\n",
        "\n",
        "-Allows for coordination between multiple agents or components\n",
        "\n",
        "-Facilitates error handling and recovery via checkpointing\n",
        "\n",
        "-Simplifies the development of complex workflows"
      ]
    },
    {
      "cell_type": "code",
      "execution_count": 22,
      "metadata": {
        "id": "xG1q5OChFIHR"
      },
      "outputs": [],
      "source": [
        "import torch\n",
        "from transformers import pipeline\n",
        "\n",
        "from typing import Annotated\n",
        "from typing_extensions import TypedDict\n",
        "from langgraph.graph import StateGraph, START, END\n",
        "from langgraph.graph.message import add_messages\n",
        "\n",
        "\n",
        "class State(TypedDict):\n",
        "    user_review: str\n",
        "    sentiment_label: str\n",
        "    sentiment_label_in_upper: str\n",
        "\n",
        "\n",
        "def sentiment_analysis(state):\n",
        "    print(\"------ENTERING: SENTIMENT ANALYSIS NODE------\")\n",
        "    print(state)\n",
        "    SA_prompt = f\"\"\"You are an expert at performing sentiment analysis.\n",
        "    Your task is identify the sentiment of the provided input.\n",
        "    Provide only the sentiment based on the user input.\n",
        "    Don't include reasoning.\n",
        "\n",
        "    User input: {state['user_review']}\"\"\"\n",
        "\n",
        "    response = llm.invoke(SA_prompt)\n",
        "\n",
        "    return {\"sentiment_label\": response.content}\n",
        "\n",
        "\n",
        "def convert_to_upper(state):\n",
        "    print(\"------ENTERING: CONVERT_TO_UPPER NODE------\")\n",
        "    print(state)\n",
        "    Sentiment_UPPER = state['sentiment_label'].upper()\n",
        "    return {\"sentiment_label_in_upper\": Sentiment_UPPER}\n",
        "\n",
        "\n",
        "\n",
        "# Define a graph\n",
        "workflow = StateGraph(State)\n",
        "\n",
        "workflow.add_node(\"sentiment_analysis\", sentiment_analysis)\n",
        "workflow.add_node(\"convert_to_upper\", convert_to_upper)\n",
        "\n",
        "workflow.add_edge('sentiment_analysis', 'convert_to_upper')\n",
        "\n",
        "workflow.set_entry_point(\"sentiment_analysis\")\n",
        "workflow.set_finish_point(\"convert_to_upper\")\n",
        "\n",
        "app = workflow.compile()"
      ]
    },
    {
      "cell_type": "markdown",
      "metadata": {
        "id": "ndyIcsBTFIHS"
      },
      "source": [
        "### Visualize the Graph"
      ]
    },
    {
      "cell_type": "code",
      "execution_count": 23,
      "metadata": {
        "id": "4irrzKztFIHT",
        "outputId": "d0df6e7f-6507-4f5a-e950-50dfd6d93c49",
        "colab": {
          "base_uri": "https://localhost:8080/",
          "height": 320
        }
      },
      "outputs": [
        {
          "output_type": "display_data",
          "data": {
            "image/jpeg": "[encoded data removed]",
            "text/plain": [
              "<IPython.core.display.Image object>"
            ]
          },
          "metadata": {}
        }
      ],
      "source": [
        "from IPython.display import Image, display\n",
        "\n",
        "display(Image(app.get_graph().draw_mermaid_png()))"
      ]
    },
    {
      "cell_type": "code",
      "execution_count": 24,
      "metadata": {
        "id": "rPaLnsvhFIHU",
        "outputId": "5e338881-e630-43e8-be11-361c95201e84",
        "colab": {
          "base_uri": "https://localhost:8080/"
        }
      },
      "outputs": [
        {
          "output_type": "stream",
          "name": "stdout",
          "text": [
            "\u001b[1;34m{'user_review': 'The movie was so nice that I walked out in 2 min'}\u001b[0m\n",
            "------ENTERING: SENTIMENT ANALYSIS NODE------\n",
            "{'user_review': 'The movie was so nice that I walked out in 2 min', 'sentiment_label': None, 'sentiment_label_in_upper': None}\n",
            "\u001b[1;34m{'user_review': 'The movie was so nice that I walked out in 2 min', 'sentiment_label': 'Negative'}\u001b[0m\n",
            "------ENTERING: CONVERT_TO_UPPER NODE------\n",
            "{'user_review': 'The movie was so nice that I walked out in 2 min', 'sentiment_label': 'Negative', 'sentiment_label_in_upper': None}\n",
            "\u001b[1;34m{'user_review': 'The movie was so nice that I walked out in 2 min', 'sentiment_label': 'Negative', 'sentiment_label_in_upper': 'NEGATIVE'}\u001b[0m\n"
          ]
        }
      ],
      "source": [
        "from simple_colors import *\n",
        "\n",
        "review = \"The movie was so nice that I walked out in 2 min\"\n",
        "input_review = {\"user_review\": review}\n",
        "\n",
        "# Thread\n",
        "thread = {\"configurable\": {\"thread_id\": \"1\"}}\n",
        "\n",
        "# Run the graph until the first interruption\n",
        "for output in app.stream(input_review, thread, stream_mode=\"values\"):\n",
        "    print(blue(output, ['bold']))"
      ]
    },
    {
      "cell_type": "code",
      "execution_count": 25,
      "metadata": {
        "id": "JxgPsW6dFIHW",
        "outputId": "befb8cdc-6295-469a-ce82-e853c23edaa2",
        "colab": {
          "base_uri": "https://localhost:8080/"
        }
      },
      "outputs": [
        {
          "output_type": "stream",
          "name": "stdout",
          "text": [
            "\u001b[1;34m{'user_review': 'Wish the movie was nice. But it was extraordinary'}\u001b[0m\n",
            "------ENTERING: SENTIMENT ANALYSIS NODE------\n",
            "{'user_review': 'Wish the movie was nice. But it was extraordinary', 'sentiment_label': None, 'sentiment_label_in_upper': None}\n",
            "\u001b[1;34m{'user_review': 'Wish the movie was nice. But it was extraordinary', 'sentiment_label': 'Positive'}\u001b[0m\n",
            "------ENTERING: CONVERT_TO_UPPER NODE------\n",
            "{'user_review': 'Wish the movie was nice. But it was extraordinary', 'sentiment_label': 'Positive', 'sentiment_label_in_upper': None}\n",
            "\u001b[1;34m{'user_review': 'Wish the movie was nice. But it was extraordinary', 'sentiment_label': 'Positive', 'sentiment_label_in_upper': 'POSITIVE'}\u001b[0m\n"
          ]
        }
      ],
      "source": [
        "from simple_colors import *\n",
        "\n",
        "review = \"Wish the movie was nice. But it was extraordinary\"\n",
        "input_review = {\"user_review\": review}\n",
        "\n",
        "# Thread\n",
        "thread = {\"configurable\": {\"thread_id\": \"1\"}}\n",
        "\n",
        "# Run the graph until the first interruption\n",
        "for output in app.stream(input_review, thread, stream_mode=\"values\"):\n",
        "    print(blue(output, ['bold']))"
      ]
    },
    {
      "cell_type": "code",
      "execution_count": null,
      "metadata": {
        "id": "47bOd3zZFIHZ"
      },
      "outputs": [],
      "source": [
        "# Brandan -> Read write operator from the tutorial"
      ]
    },
    {
      "cell_type": "markdown",
      "metadata": {
        "id": "rfGsnu68FIHe"
      },
      "source": [
        "## Conditional Edge"
      ]
    },
    {
      "cell_type": "code",
      "execution_count": 26,
      "metadata": {
        "id": "Ew5BWVY_FIHe"
      },
      "outputs": [],
      "source": [
        "import functools, operator\n",
        "from typing import Annotated\n",
        "from IPython.display import Markdown\n",
        "from typing_extensions import TypedDict\n",
        "from langgraph.graph import StateGraph, START, END\n",
        "from langgraph.graph.message import add_messages\n",
        "\n",
        "\n",
        "class State(TypedDict):\n",
        "    user_review: str\n",
        "    sentiment_label: str\n",
        "    feedback_analysis: str\n",
        "    overall_status: Annotated[str, operator.add]\n",
        "\n",
        "\n",
        "def sentiment_analysis(state):\n",
        "    print(\"------ENTERING: SENTIMENT ANALYSIS NODE------\")\n",
        "    print(state)\n",
        "    SA_prompt = f\"\"\"You are an expert at performing sentiment analysis.\n",
        "    Your task is identify the sentiment of the provided input.\n",
        "    Provide only the sentiment based on the user input.\n",
        "    Don't include reasoning.\n",
        "\n",
        "    User input: {state['user_review']}\"\"\"\n",
        "\n",
        "    response = llm.invoke(SA_prompt)\n",
        "\n",
        "    print(\"--------\")\n",
        "    print(red(f\"Sentiment Identified: [{response.content}]\", ['bold']))\n",
        "    print(\"--------\")\n",
        "\n",
        "    return {\"sentiment_label\": response.content}\n",
        "\n",
        "\n",
        "\n",
        "def user_review_analysis(state):\n",
        "    print(\"------ENTERING: USER REVIEW ANALYSIS NODE------\")\n",
        "    print(state)\n",
        "    feedback_analysis_prompt = f\"\"\"You are an expert at performing analysis on the user review. The review can be about a movie or a product.\n",
        "    Your task is to carefully analyze the user review and give top reasons of what did not work for the user.\n",
        "    Make the answer readable.\n",
        "    Note: Provide your analysis only using the user review and justify the sentiment\n",
        "\n",
        "    User review: {state['user_review']}\n",
        "    Sentiment Identified: {state['sentiment_label']}\"\"\"\n",
        "\n",
        "    response = llm.invoke(feedback_analysis_prompt)\n",
        "\n",
        "    display(Markdown(response.content))\n",
        "\n",
        "    return {\"feedback_analysis\": response.content}\n",
        "\n",
        "\n",
        "# Define a graph\n",
        "workflow = StateGraph(State)\n",
        "\n",
        "workflow.add_node(\"sentiment_analysis\", sentiment_analysis)\n",
        "workflow.add_node(\"user_review_analysis\", user_review_analysis)\n",
        "\n",
        "workflow.set_entry_point(\"sentiment_analysis\")\n",
        "\n",
        "def where_to_go(state):\n",
        "    if state[\"sentiment_label\"].lower() == \"positive\":\n",
        "        return END\n",
        "    else:\n",
        "        return \"user_review_analysis\"\n",
        "\n",
        "workflow.add_conditional_edges(\"sentiment_analysis\", where_to_go, [\"user_review_analysis\", END])\n",
        "\n",
        "workflow.add_edge('user_review_analysis', END)\n",
        "\n",
        "app = workflow.compile()"
      ]
    },
    {
      "cell_type": "code",
      "execution_count": 27,
      "metadata": {
        "id": "QThexmuuFIHg",
        "outputId": "96b80fec-f662-47e7-a1d8-1724c620216a",
        "colab": {
          "base_uri": "https://localhost:8080/",
          "height": 320
        }
      },
      "outputs": [
        {
          "output_type": "display_data",
          "data": {
            "image/jpeg": "[encoded data removed]",
            "text/plain": [
              "<IPython.core.display.Image object>"
            ]
          },
          "metadata": {}
        }
      ],
      "source": [
        "from IPython.display import Image, display\n",
        "\n",
        "display(Image(app.get_graph().draw_mermaid_png()))"
      ]
    },
    {
      "cell_type": "code",
      "execution_count": 28,
      "metadata": {
        "id": "OxkZmEb2FIHh",
        "outputId": "978d82a2-62da-434e-e592-a72492e6195f",
        "colab": {
          "base_uri": "https://localhost:8080/",
          "height": 891
        }
      },
      "outputs": [
        {
          "output_type": "stream",
          "name": "stdout",
          "text": [
            "\u001b[1;34m{'user_review': \"Buckle up for a roller-coaster ride through cinematic chaos! The story idea is an absolute gem, brimming with potential, and the characters are nothing short of a casting director's dream-each one brimming with pizzazz and personality. But alas, their development seems to have been left in the microwave a bit too long, coming out half-baked.\\n\\nThe screenplay? It's flatter than a week-old soda. Though, I must admit, it does have its fizz in a few key moments, like the interval and the climax.\\n\\nDialogues? Let's just say they won't be winning any literary awards.\\n\\nNow, onto the comedy-it's the kind that instead of tickling your funny bone, it goes straight for the jugular, and not in a good way. The world-building feels like it was put together with duct tape and imagination, lacking the immersive magic we hoped for.\\n\\nBut let's talk about the legendary Amitabh Bachchan, who is stellar as always.\\n\\nPrabhas gives it his all, bless his heart.\\n\\nKamal Hassan makes a brief yet dazzling appearance, hinting at more brilliance in the next instalment.\\n\\nSaswata Chatterjee? He brings his A-game, no doubt about it.\\n\\nDeepika Padukone looks fine and delivers a decent performance, and her Telugu dubbing is better than that in the trailer.\\n\\nDisha Patani is scorching enough to set the screen on fire in her limited screen time.\\n\\nThe rest of the cast, including Pashupati, Shobhana and Rajendra Prasad put in decent efforts. However, the film is sprinkled with cameos like confetti at a surprise party-most of which are more of a head-scratcher than a treat.\\n\\nThe action scenes? They're as disappointing as a soggy French fry.\\n\\nCinematography is serviceable, background music hits the right notes, but the songs miss the mark.\\n\\nProduction values are respectable, but direction sails somewhere in the middling seas of mediocrity.\\n\\nSome VFX are eye-poppingly good, though.\\n\\nOverall, it's a mixed bag of delights and letdowns-a cinematic hotpot where the ingredients are only half-cooked. Enjoy it for what it is, but don't be surprised if you leave the theater feeling a little unsatisfied\", 'overall_status': ''}\u001b[0m\n",
            "------ENTERING: SENTIMENT ANALYSIS NODE------\n",
            "{'user_review': \"Buckle up for a roller-coaster ride through cinematic chaos! The story idea is an absolute gem, brimming with potential, and the characters are nothing short of a casting director's dream-each one brimming with pizzazz and personality. But alas, their development seems to have been left in the microwave a bit too long, coming out half-baked.\\n\\nThe screenplay? It's flatter than a week-old soda. Though, I must admit, it does have its fizz in a few key moments, like the interval and the climax.\\n\\nDialogues? Let's just say they won't be winning any literary awards.\\n\\nNow, onto the comedy-it's the kind that instead of tickling your funny bone, it goes straight for the jugular, and not in a good way. The world-building feels like it was put together with duct tape and imagination, lacking the immersive magic we hoped for.\\n\\nBut let's talk about the legendary Amitabh Bachchan, who is stellar as always.\\n\\nPrabhas gives it his all, bless his heart.\\n\\nKamal Hassan makes a brief yet dazzling appearance, hinting at more brilliance in the next instalment.\\n\\nSaswata Chatterjee? He brings his A-game, no doubt about it.\\n\\nDeepika Padukone looks fine and delivers a decent performance, and her Telugu dubbing is better than that in the trailer.\\n\\nDisha Patani is scorching enough to set the screen on fire in her limited screen time.\\n\\nThe rest of the cast, including Pashupati, Shobhana and Rajendra Prasad put in decent efforts. However, the film is sprinkled with cameos like confetti at a surprise party-most of which are more of a head-scratcher than a treat.\\n\\nThe action scenes? They're as disappointing as a soggy French fry.\\n\\nCinematography is serviceable, background music hits the right notes, but the songs miss the mark.\\n\\nProduction values are respectable, but direction sails somewhere in the middling seas of mediocrity.\\n\\nSome VFX are eye-poppingly good, though.\\n\\nOverall, it's a mixed bag of delights and letdowns-a cinematic hotpot where the ingredients are only half-cooked. Enjoy it for what it is, but don't be surprised if you leave the theater feeling a little unsatisfied\", 'sentiment_label': None, 'feedback_analysis': None, 'overall_status': ''}\n",
            "--------\n",
            "\u001b[1;31mSentiment Identified: [Mixed]\u001b[0m\n",
            "--------\n",
            "\u001b[1;34m{'user_review': \"Buckle up for a roller-coaster ride through cinematic chaos! The story idea is an absolute gem, brimming with potential, and the characters are nothing short of a casting director's dream-each one brimming with pizzazz and personality. But alas, their development seems to have been left in the microwave a bit too long, coming out half-baked.\\n\\nThe screenplay? It's flatter than a week-old soda. Though, I must admit, it does have its fizz in a few key moments, like the interval and the climax.\\n\\nDialogues? Let's just say they won't be winning any literary awards.\\n\\nNow, onto the comedy-it's the kind that instead of tickling your funny bone, it goes straight for the jugular, and not in a good way. The world-building feels like it was put together with duct tape and imagination, lacking the immersive magic we hoped for.\\n\\nBut let's talk about the legendary Amitabh Bachchan, who is stellar as always.\\n\\nPrabhas gives it his all, bless his heart.\\n\\nKamal Hassan makes a brief yet dazzling appearance, hinting at more brilliance in the next instalment.\\n\\nSaswata Chatterjee? He brings his A-game, no doubt about it.\\n\\nDeepika Padukone looks fine and delivers a decent performance, and her Telugu dubbing is better than that in the trailer.\\n\\nDisha Patani is scorching enough to set the screen on fire in her limited screen time.\\n\\nThe rest of the cast, including Pashupati, Shobhana and Rajendra Prasad put in decent efforts. However, the film is sprinkled with cameos like confetti at a surprise party-most of which are more of a head-scratcher than a treat.\\n\\nThe action scenes? They're as disappointing as a soggy French fry.\\n\\nCinematography is serviceable, background music hits the right notes, but the songs miss the mark.\\n\\nProduction values are respectable, but direction sails somewhere in the middling seas of mediocrity.\\n\\nSome VFX are eye-poppingly good, though.\\n\\nOverall, it's a mixed bag of delights and letdowns-a cinematic hotpot where the ingredients are only half-cooked. Enjoy it for what it is, but don't be surprised if you leave the theater feeling a little unsatisfied\", 'sentiment_label': 'Mixed', 'overall_status': ''}\u001b[0m\n",
            "------ENTERING: USER REVIEW ANALYSIS NODE------\n",
            "{'user_review': \"Buckle up for a roller-coaster ride through cinematic chaos! The story idea is an absolute gem, brimming with potential, and the characters are nothing short of a casting director's dream-each one brimming with pizzazz and personality. But alas, their development seems to have been left in the microwave a bit too long, coming out half-baked.\\n\\nThe screenplay? It's flatter than a week-old soda. Though, I must admit, it does have its fizz in a few key moments, like the interval and the climax.\\n\\nDialogues? Let's just say they won't be winning any literary awards.\\n\\nNow, onto the comedy-it's the kind that instead of tickling your funny bone, it goes straight for the jugular, and not in a good way. The world-building feels like it was put together with duct tape and imagination, lacking the immersive magic we hoped for.\\n\\nBut let's talk about the legendary Amitabh Bachchan, who is stellar as always.\\n\\nPrabhas gives it his all, bless his heart.\\n\\nKamal Hassan makes a brief yet dazzling appearance, hinting at more brilliance in the next instalment.\\n\\nSaswata Chatterjee? He brings his A-game, no doubt about it.\\n\\nDeepika Padukone looks fine and delivers a decent performance, and her Telugu dubbing is better than that in the trailer.\\n\\nDisha Patani is scorching enough to set the screen on fire in her limited screen time.\\n\\nThe rest of the cast, including Pashupati, Shobhana and Rajendra Prasad put in decent efforts. However, the film is sprinkled with cameos like confetti at a surprise party-most of which are more of a head-scratcher than a treat.\\n\\nThe action scenes? They're as disappointing as a soggy French fry.\\n\\nCinematography is serviceable, background music hits the right notes, but the songs miss the mark.\\n\\nProduction values are respectable, but direction sails somewhere in the middling seas of mediocrity.\\n\\nSome VFX are eye-poppingly good, though.\\n\\nOverall, it's a mixed bag of delights and letdowns-a cinematic hotpot where the ingredients are only half-cooked. Enjoy it for what it is, but don't be surprised if you leave the theater feeling a little unsatisfied\", 'sentiment_label': 'Mixed', 'feedback_analysis': None, 'overall_status': ''}\n"
          ]
        },
        {
          "output_type": "display_data",
          "data": {
            "text/plain": [
              "<IPython.core.display.Markdown object>"
            ],
            "text/markdown": "Based on the user review, here are the top reasons why the movie did not work for the user:\n\n1. **Character Development**:\n   - The characters, despite having great potential and being well-cast, were described as \"half-baked.\" This suggests that the characters were not fully developed, leaving the audience wanting more depth and growth.\n\n2. **Screenplay**:\n   - The screenplay was criticized for being \"flatter than a week-old soda,\" indicating that it lacked engagement and excitement. Although there were a few key moments that stood out, the overall narrative failed to maintain a consistent level of interest.\n\n3. **Dialogues**:\n   - The dialogues were deemed unremarkable and not memorable, with the user explicitly stating that they \"won't be winning any literary awards.\" This implies that the writing did not resonate or leave a lasting impact.\n\n4. **Comedy**:\n   - The comedy was described as aggressive and ineffective, failing to elicit the intended humor. Instead of being funny, it was perceived as overbearing and unpleasant.\n\n5. **World-Building**:\n   - The world-building was seen as lacking, described as being \"put together with duct tape and imagination.\" This suggests that the setting and environment of the movie did not feel immersive or well-crafted.\n\n6. **Action Scenes**:\n   - The action scenes were compared to \"a soggy French fry,\" indicating that they were underwhelming and failed to deliver the excitement and intensity expected from action sequences.\n\n7. **Songs**:\n   - While the background music was appreciated, the songs themselves \"miss the mark,\" suggesting that they did not enhance the movie or leave a memorable impression.\n\n8. **Direction**:\n   - The direction was described as \"middling,\" implying that it was average and did not stand out in any significant way. This lack of strong direction likely contributed to the overall feeling of mediocrity.\n\n9. **Cameos**:\n   - The numerous cameos were seen as more confusing than enjoyable, likened to \"confetti at a surprise party\" but ultimately being \"head-scratchers.\" This suggests that the cameos did not add value to the movie and may have detracted from the main narrative.\n\nDespite these criticisms, the user did acknowledge some positive aspects, such as the performances of certain actors (e.g., Amitabh Bachchan, Prabhas, Kamal Hassan, Saswata Chatterjee, Deepika Padukone, and Disha Patani) and some impressive VFX. However, the overall sentiment remains mixed due to the significant shortcomings highlighted above."
          },
          "metadata": {}
        },
        {
          "output_type": "stream",
          "name": "stdout",
          "text": [
            "\u001b[1;34m{'user_review': \"Buckle up for a roller-coaster ride through cinematic chaos! The story idea is an absolute gem, brimming with potential, and the characters are nothing short of a casting director's dream-each one brimming with pizzazz and personality. But alas, their development seems to have been left in the microwave a bit too long, coming out half-baked.\\n\\nThe screenplay? It's flatter than a week-old soda. Though, I must admit, it does have its fizz in a few key moments, like the interval and the climax.\\n\\nDialogues? Let's just say they won't be winning any literary awards.\\n\\nNow, onto the comedy-it's the kind that instead of tickling your funny bone, it goes straight for the jugular, and not in a good way. The world-building feels like it was put together with duct tape and imagination, lacking the immersive magic we hoped for.\\n\\nBut let's talk about the legendary Amitabh Bachchan, who is stellar as always.\\n\\nPrabhas gives it his all, bless his heart.\\n\\nKamal Hassan makes a brief yet dazzling appearance, hinting at more brilliance in the next instalment.\\n\\nSaswata Chatterjee? He brings his A-game, no doubt about it.\\n\\nDeepika Padukone looks fine and delivers a decent performance, and her Telugu dubbing is better than that in the trailer.\\n\\nDisha Patani is scorching enough to set the screen on fire in her limited screen time.\\n\\nThe rest of the cast, including Pashupati, Shobhana and Rajendra Prasad put in decent efforts. However, the film is sprinkled with cameos like confetti at a surprise party-most of which are more of a head-scratcher than a treat.\\n\\nThe action scenes? They're as disappointing as a soggy French fry.\\n\\nCinematography is serviceable, background music hits the right notes, but the songs miss the mark.\\n\\nProduction values are respectable, but direction sails somewhere in the middling seas of mediocrity.\\n\\nSome VFX are eye-poppingly good, though.\\n\\nOverall, it's a mixed bag of delights and letdowns-a cinematic hotpot where the ingredients are only half-cooked. Enjoy it for what it is, but don't be surprised if you leave the theater feeling a little unsatisfied\", 'sentiment_label': 'Mixed', 'feedback_analysis': 'Based on the user review, here are the top reasons why the movie did not work for the user:\\n\\n1. **Character Development**:\\n   - The characters, despite having great potential and being well-cast, were described as \"half-baked.\" This suggests that the characters were not fully developed, leaving the audience wanting more depth and growth.\\n\\n2. **Screenplay**:\\n   - The screenplay was criticized for being \"flatter than a week-old soda,\" indicating that it lacked engagement and excitement. Although there were a few key moments that stood out, the overall narrative failed to maintain a consistent level of interest.\\n\\n3. **Dialogues**:\\n   - The dialogues were deemed unremarkable and not memorable, with the user explicitly stating that they \"won\\'t be winning any literary awards.\" This implies that the writing did not resonate or leave a lasting impact.\\n\\n4. **Comedy**:\\n   - The comedy was described as aggressive and ineffective, failing to elicit the intended humor. Instead of being funny, it was perceived as overbearing and unpleasant.\\n\\n5. **World-Building**:\\n   - The world-building was seen as lacking, described as being \"put together with duct tape and imagination.\" This suggests that the setting and environment of the movie did not feel immersive or well-crafted.\\n\\n6. **Action Scenes**:\\n   - The action scenes were compared to \"a soggy French fry,\" indicating that they were underwhelming and failed to deliver the excitement and intensity expected from action sequences.\\n\\n7. **Songs**:\\n   - While the background music was appreciated, the songs themselves \"miss the mark,\" suggesting that they did not enhance the movie or leave a memorable impression.\\n\\n8. **Direction**:\\n   - The direction was described as \"middling,\" implying that it was average and did not stand out in any significant way. This lack of strong direction likely contributed to the overall feeling of mediocrity.\\n\\n9. **Cameos**:\\n   - The numerous cameos were seen as more confusing than enjoyable, likened to \"confetti at a surprise party\" but ultimately being \"head-scratchers.\" This suggests that the cameos did not add value to the movie and may have detracted from the main narrative.\\n\\nDespite these criticisms, the user did acknowledge some positive aspects, such as the performances of certain actors (e.g., Amitabh Bachchan, Prabhas, Kamal Hassan, Saswata Chatterjee, Deepika Padukone, and Disha Patani) and some impressive VFX. However, the overall sentiment remains mixed due to the significant shortcomings highlighted above.', 'overall_status': ''}\u001b[0m\n"
          ]
        }
      ],
      "source": [
        "from simple_colors import *\n",
        "\n",
        "review = \"\"\"Buckle up for a roller-coaster ride through cinematic chaos! The story idea is an absolute gem, brimming with potential, and the characters are nothing short of a casting director's dream-each one brimming with pizzazz and personality. But alas, their development seems to have been left in the microwave a bit too long, coming out half-baked.\n",
        "\n",
        "The screenplay? It's flatter than a week-old soda. Though, I must admit, it does have its fizz in a few key moments, like the interval and the climax.\n",
        "\n",
        "Dialogues? Let's just say they won't be winning any literary awards.\n",
        "\n",
        "Now, onto the comedy-it's the kind that instead of tickling your funny bone, it goes straight for the jugular, and not in a good way. The world-building feels like it was put together with duct tape and imagination, lacking the immersive magic we hoped for.\n",
        "\n",
        "But let's talk about the legendary Amitabh Bachchan, who is stellar as always.\n",
        "\n",
        "Prabhas gives it his all, bless his heart.\n",
        "\n",
        "Kamal Hassan makes a brief yet dazzling appearance, hinting at more brilliance in the next instalment.\n",
        "\n",
        "Saswata Chatterjee? He brings his A-game, no doubt about it.\n",
        "\n",
        "Deepika Padukone looks fine and delivers a decent performance, and her Telugu dubbing is better than that in the trailer.\n",
        "\n",
        "Disha Patani is scorching enough to set the screen on fire in her limited screen time.\n",
        "\n",
        "The rest of the cast, including Pashupati, Shobhana and Rajendra Prasad put in decent efforts. However, the film is sprinkled with cameos like confetti at a surprise party-most of which are more of a head-scratcher than a treat.\n",
        "\n",
        "The action scenes? They're as disappointing as a soggy French fry.\n",
        "\n",
        "Cinematography is serviceable, background music hits the right notes, but the songs miss the mark.\n",
        "\n",
        "Production values are respectable, but direction sails somewhere in the middling seas of mediocrity.\n",
        "\n",
        "Some VFX are eye-poppingly good, though.\n",
        "\n",
        "Overall, it's a mixed bag of delights and letdowns-a cinematic hotpot where the ingredients are only half-cooked. Enjoy it for what it is, but don't be surprised if you leave the theater feeling a little unsatisfied\"\"\"\n",
        "\n",
        "user_input = {\"user_review\": review}\n",
        "\n",
        "# Thread\n",
        "thread = {\"configurable\": {\"thread_id\": \"1\"}}\n",
        "\n",
        "# Run the graph until the first interruption\n",
        "for output in app.stream(user_input, thread, stream_mode=\"values\"):\n",
        "    print(blue(output, ['bold']))"
      ]
    },
    {
      "cell_type": "markdown",
      "metadata": {
        "id": "4_i6bpylFIHi"
      },
      "source": [
        "# Branching"
      ]
    },
    {
      "cell_type": "code",
      "execution_count": 35,
      "metadata": {
        "id": "vGokjbgnFIHi"
      },
      "outputs": [],
      "source": [
        "from langchain.agents import AgentType\n",
        "from langchain.chat_models import ChatOpenAI\n",
        "from langchain_core.prompts import ChatPromptTemplate, MessagesPlaceholder\n",
        "from langchain.agents import Tool, AgentExecutor, create_openai_tools_agent\n",
        "from duckduckgo_search import DDGS\n",
        "\n",
        "\n",
        "\n",
        "def create_web_search_agent(llm: ChatOpenAI, tools: list, system_prompt: str, verbose=False):\n",
        "    \"\"\"Helper function for creating agent executor\"\"\"\n",
        "    prompt = ChatPromptTemplate.from_messages([\n",
        "        (\"system\", system_prompt),\n",
        "        MessagesPlaceholder(variable_name=\"input\"),\n",
        "        MessagesPlaceholder(variable_name=\"agent_scratchpad\"),\n",
        "    ])\n",
        "    agent = create_openai_tools_agent(llm, tools, prompt)\n",
        "    executor = AgentExecutor(agent=agent, tools=tools, verbose=verbose)\n",
        "    return executor\n",
        "\n",
        "\n",
        "def create_evaluation_agent(llm, prompt):\n",
        "    tester_prompt = ChatPromptTemplate.from_messages(\n",
        "    [\n",
        "        (\"system\", prompt,),\n",
        "        MessagesPlaceholder(variable_name=\"messages\"),\n",
        "    ]\n",
        "    )\n",
        "    tester_agent = tester_prompt | llm\n",
        "    return tester_agent"
      ]
    },
    {
      "cell_type": "code",
      "execution_count": 45,
      "metadata": {
        "id": "yyfOtLf-FIHm"
      },
      "outputs": [],
      "source": [
        "import functools, operator\n",
        "from typing import Annotated\n",
        "from langchain.tools import tool\n",
        "from IPython.display import Markdown\n",
        "from typing_extensions import TypedDict\n",
        "from langgraph.graph import StateGraph, START, END\n",
        "from langchain_core.messages import AIMessage, BaseMessage, HumanMessage, AnyMessage\n",
        "\n",
        "\n",
        "class State(TypedDict):\n",
        "    theme: str\n",
        "    concept_1: str\n",
        "    concept_2: str\n",
        "    concept_winner: str\n",
        "    screenplay_1: str\n",
        "    screenplay_2: str\n",
        "    screenplay_winner: str\n",
        "    overall_status: Annotated[str, operator.add]\n",
        "\n",
        "\n",
        "# Create a tool to search the internet using DuckDuckGo.\n",
        "@tool(\"internet_search\", return_direct=False)\n",
        "def internet_search(query: str) -> str:\n",
        "    \"\"\"Use this tool when you need to answer questions related to current events and latest happenings\"\"\"\n",
        "    with DDGS() as ddgs:\n",
        "        results = [r for r in ddgs.text(query, max_results=5)]\n",
        "        return results if results else \"No results found.\"\n",
        "\n",
        "\n",
        "def topic_modelling_node(state):\n",
        "    print(\"------ENTERING: TOPIC MODELLING NODE------\")\n",
        "    return {\"topic\": \"DUMMY TOPIC\"}\n",
        "\n",
        "\n",
        "def ad_concept_creation_node_1(state):\n",
        "    print(\"------ENTERING: CONCEPT CREATION NODE 1------\")\n",
        "    writer_prompt = \"\"\"You are an intelligent advertisement concept creator for any given theme.\n",
        "                        Your job is to generate a concept for the given theme and justify it.\n",
        "                        Note: You can search over internet for the references but make sure the concept is fresh and novel.\n",
        "                        You are a big fan of director SS Rajamouli and your screenplay will be mostly influenced by his past work and follow similar style.\n",
        "                        Output will be restricted to 100 words\n",
        "\"\"\"\n",
        "    # Tool to run python codes in\n",
        "    tools = [internet_search]\n",
        "    developer_agent = create_web_search_agent(llm, tools, writer_prompt, verbose = False)\n",
        "    concept = developer_agent.invoke({\"input\": [HumanMessage(content=state['theme'])]})\n",
        "    display(Markdown(f\"\"\"**CONCEPT 1:** <font color=\"blue\">{concept['output']}</font>\"\"\"))\n",
        "\n",
        "    return {\"concept_1\": concept['output']}\n",
        "\n",
        "\n",
        "\n",
        "def ad_concept_creation_node_2(state):\n",
        "    print(\"------ENTERING: CONCEPT CREATION NODE 2------\")\n",
        "    writer_prompt = \"\"\"You are an intelligent advertisement concept creator for any given theme.\n",
        "                        Your job is to generate a concept for the given theme and justify it.\n",
        "                        Note: You can search over internet for the references but make sure the concept is fresh and novel.\n",
        "                        You are a big fan of director Shankar Shanmugam and your screenplay will be mostly influenced by his past work and follow similar style.\n",
        "                        Output will be restricted to 100 words\n",
        "\"\"\"\n",
        "    # Tool to run python codes in\n",
        "    tools = [internet_search]\n",
        "    developer_agent = create_web_search_agent(llm, tools, writer_prompt, verbose = False)\n",
        "    concept = developer_agent.invoke({\"input\": [HumanMessage(content=state['theme'])]})\n",
        "    display(Markdown(f\"\"\"**CONCEPT 2:** <font color=\"green\">{concept['output']}</font>\"\"\"))\n",
        "\n",
        "    return {\"concept_2\": concept['output']}\n",
        "\n",
        "\n",
        "def concept_evaluation_node(state):\n",
        "    user_input = input(\"Which concept did you like and proceed with? Is it concept_1 aor concept_2?\")\n",
        "\n",
        "    display(Markdown(f\"\"\"**CONCEPT WINNER:** <font color=\"red\">[{user_input}]</font>\"\"\"))\n",
        "    display(Markdown(f\"\"\"**CONCEPT:** <font color=\"red\">[{state[user_input]}]</font>\"\"\"))\n",
        "\n",
        "    return {\"concept_winner\": user_input}\n",
        "\n",
        "\n",
        "def screen_play_creation_node_1(state):\n",
        "    print(\"------ENTERING: SCREEN PLAY CREATION NODE 1------\")\n",
        "    writer_prompt = f\"\"\"You are an intelligent screenplay writer for any given theme and concept for an advertisement.\n",
        "                        Your job is to generate a detailed screenfor a 10 second advertisement for the given theme and concept.\n",
        "                        You are a big fan of director SS Rajamouli and your screenplay will be mostly influenced by his past work and follow similar style.\n",
        "\n",
        "                        Given Theme: {state['theme']}\n",
        "                        Given Concept: {state[state['concept_winner']]}\"\"\"\n",
        "\n",
        "    tools = [internet_search]\n",
        "    developer_agent = create_web_search_agent(llm, tools, writer_prompt, verbose = False)\n",
        "    screenplay = developer_agent.invoke({\"input\": [HumanMessage(content=state['theme'])]})\n",
        "    display(Markdown(f\"\"\"**SCREENPLAY 1:** <font color=\"blue\">{screenplay['output']}</font>\"\"\"))\n",
        "    return {\"screenplay_1\": screenplay['output']}\n",
        "\n",
        "\n",
        "def screen_play_creation_node_2(state):\n",
        "    print(\"------ENTERING: SCREENN PLAY CREATION NODE 2------\")\n",
        "    writer_prompt = f\"\"\"You are an intelligent screenplay writer for any given theme and concept for an advertisement.\n",
        "                        Your job is to generate a detailed screenfor a 10 second advertisement for the given theme and concept.\n",
        "                        You are a big fan of director Shankar Shanmugam and your screenplay will be mostly influenced by his past work and follow similar style.\n",
        "\n",
        "                        Given Theme: {state['theme']}\n",
        "                        Given Concept: {state[state['concept_winner']]}\"\"\"\n",
        "\n",
        "    tools = [internet_search]\n",
        "    developer_agent = create_web_search_agent(llm, tools, writer_prompt, verbose = False)\n",
        "    screenplay = developer_agent.invoke({\"input\": [HumanMessage(content=state['theme'])]})\n",
        "    display(Markdown(f\"\"\"**SCREENPLAY 2:** <font color=\"green\">{screenplay['output']}</font>\"\"\"))\n",
        "    return {\"screenplay_2\": screenplay['output']}\n",
        "\n",
        "\n",
        "def screenplay_evaluation_node(state):\n",
        "    user_input = input(\"Which screenplay did you like and proceed with? Is it screenplay_1 aor screenplay_2?\")\n",
        "    display(Markdown(f\"\"\"**CONCEPT WINNER:** <font color=\"red\">[{user_input}]</font>\"\"\"))\n",
        "    display(Markdown(f\"\"\"**CONCEPT:** <font color=\"red\">[{state[user_input]}]</font>\"\"\"))\n",
        "    return {\"screenplay_winner\": user_input}\n",
        "\n",
        "\n",
        "# Define a graph\n",
        "workflow = StateGraph(State)\n",
        "\n",
        "# workflow.add_node(\"topic_modelling_node\", topic_modelling_node)\n",
        "workflow.add_node(\"ad_concept_creation_node_1\", ad_concept_creation_node_1)\n",
        "workflow.add_node(\"ad_concept_creation_node_2\", ad_concept_creation_node_2)\n",
        "workflow.add_node(\"concept_evaluation_node\", concept_evaluation_node)\n",
        "workflow.add_node(\"screen_play_creation_node_1\", screen_play_creation_node_1)\n",
        "workflow.add_node(\"screen_play_creation_node_2\", screen_play_creation_node_2)\n",
        "workflow.add_node(\"screenplay_evaluation_node\", screenplay_evaluation_node)\n",
        "\n",
        "\n",
        "# workflow.set_entry_point(\"topic_modelling_node\")\n",
        "\n",
        "workflow.add_edge(START, \"ad_concept_creation_node_1\")\n",
        "workflow.add_edge(START, \"ad_concept_creation_node_2\")\n",
        "\n",
        "workflow.add_edge(\"ad_concept_creation_node_1\", \"concept_evaluation_node\")\n",
        "workflow.add_edge(\"ad_concept_creation_node_2\", \"concept_evaluation_node\")\n",
        "\n",
        "workflow.add_edge(\"concept_evaluation_node\", \"screen_play_creation_node_1\")\n",
        "workflow.add_edge(\"concept_evaluation_node\", \"screen_play_creation_node_2\")\n",
        "\n",
        "workflow.add_edge(\"screen_play_creation_node_1\", \"screenplay_evaluation_node\")\n",
        "workflow.add_edge(\"screen_play_creation_node_2\", \"screenplay_evaluation_node\")\n",
        "\n",
        "workflow.set_finish_point(\"screenplay_evaluation_node\")\n",
        "\n",
        "app = workflow.compile()"
      ]
    },
    {
      "cell_type": "code",
      "execution_count": 37,
      "metadata": {
        "id": "ss8im6RxFIHn",
        "outputId": "04d0b738-0629-4a46-ceb0-4f0b9bacb7e4",
        "colab": {
          "base_uri": "https://localhost:8080/",
          "height": 488
        }
      },
      "outputs": [
        {
          "output_type": "display_data",
          "data": {
            "image/jpeg": "[encoded data removed]",
            "text/plain": [
              "<IPython.core.display.Image object>"
            ]
          },
          "metadata": {}
        }
      ],
      "source": [
        "from IPython.display import Image, display\n",
        "\n",
        "display(Image(app.get_graph().draw_mermaid_png()))"
      ]
    },
    {
      "cell_type": "code",
      "execution_count": null,
      "metadata": {
        "id": "jRpeihsHFIHo"
      },
      "outputs": [],
      "source": [
        "# Advertisement Theme -> Input\n",
        "# Based on theme create a concept (Two agents)\n",
        "# Pick a concept as winne\n",
        "# Based on the concept picked elaboarte screenplay"
      ]
    },
    {
      "cell_type": "code",
      "execution_count": null,
      "metadata": {
        "id": "Y3-Pmdc-FIHp"
      },
      "outputs": [],
      "source": [
        "# 30 seconds -> ad"
      ]
    },
    {
      "cell_type": "code",
      "source": [
        "!"
      ],
      "metadata": {
        "id": "7nQAxWYKHlib"
      },
      "execution_count": null,
      "outputs": []
    },
    {
      "cell_type": "code",
      "execution_count": null,
      "metadata": {
        "id": "Bnl2kXX_FIHp"
      },
      "outputs": [],
      "source": [
        "from simple_colors import *\n",
        "\n",
        "graph_input = {\"theme\": \"Actor Vijay Political Party\"}\n",
        "\n",
        "# Thread\n",
        "thread = {\"configurable\": {\"thread_id\": \"1\"}}\n",
        "\n",
        "# Run the graph until the first interruption\n",
        "for output in app.stream(graph_input, thread, stream_mode=\"values\"):\n",
        "    print(cyan(output, ['bold']))"
      ]
    },
    {
      "cell_type": "code",
      "execution_count": null,
      "metadata": {
        "id": "hfpEWJSJFIHq"
      },
      "outputs": [],
      "source": []
    }
  ],
  "metadata": {
    "colab": {
      "provenance": []
    },
    "kernelspec": {
      "display_name": "gen.ai_venv_39",
      "language": "python",
      "name": "gen.ai_venv_39"
    },
    "language_info": {
      "codemirror_mode": {
        "name": "ipython",
        "version": 3
      },
      "file_extension": ".py",
      "mimetype": "text/x-python",
      "name": "python",
      "nbconvert_exporter": "python",
      "pygments_lexer": "ipython3",
      "version": "3.9.12"
    }
  },
  "nbformat": 4,
  "nbformat_minor": 0
}